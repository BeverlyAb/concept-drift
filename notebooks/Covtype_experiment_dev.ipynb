{
 "cells": [
  {
   "cell_type": "markdown",
   "id": "7bd1c43b",
   "metadata": {},
   "source": [
    "# Notebook for Developing Experiments on CovType Data Set"
   ]
  },
  {
   "cell_type": "code",
   "execution_count": 1,
   "id": "8d54aa78",
   "metadata": {},
   "outputs": [
    {
     "data": {
      "application/javascript": [
       "\n",
       "            setTimeout(function() {\n",
       "                var nbb_cell_id = 1;\n",
       "                var nbb_unformatted_code = \"import os\\nimport sys\\n\\nsys.path.append(os.path.dirname(os.getcwd()))\\n\\nimport pickle\\nimport pandas as pd\\nimport seaborn as sns\\nfrom sklearn.ensemble import RandomForestClassifier\\n\\n\\nfrom test_harness.datasets.dataset import Dataset\\nfrom test_harness.experiments.baseline_experiment import BaselineExperiment\\nfrom test_harness.experiments.topline_experiment import ToplineExperiment\\nfrom test_harness.experiments.sqsi_experiment import SQSI_MRExperiment\\nfrom test_harness.utils.utils import (\\n    plot_experiment_error,\\n    plot_multiple_experiments,\\n    aggregate_experiment_metrics,\\n    plot_response_distributions_bysplit,\\n    format_experimental_scores,\\n)\\n\\n%load_ext nb_black\\n%load_ext autoreload\\n%autoreload 2\";\n",
       "                var nbb_formatted_code = \"import os\\nimport sys\\n\\nsys.path.append(os.path.dirname(os.getcwd()))\\n\\nimport pickle\\nimport pandas as pd\\nimport seaborn as sns\\nfrom sklearn.ensemble import RandomForestClassifier\\n\\n\\nfrom test_harness.datasets.dataset import Dataset\\nfrom test_harness.experiments.baseline_experiment import BaselineExperiment\\nfrom test_harness.experiments.topline_experiment import ToplineExperiment\\nfrom test_harness.experiments.sqsi_experiment import SQSI_MRExperiment\\nfrom test_harness.utils.utils import (\\n    plot_experiment_error,\\n    plot_multiple_experiments,\\n    aggregate_experiment_metrics,\\n    plot_response_distributions_bysplit,\\n    format_experimental_scores,\\n)\\n\\n%load_ext nb_black\\n%load_ext autoreload\\n%autoreload 2\";\n",
       "                var nbb_cells = Jupyter.notebook.get_cells();\n",
       "                for (var i = 0; i < nbb_cells.length; ++i) {\n",
       "                    if (nbb_cells[i].input_prompt_number == nbb_cell_id) {\n",
       "                        if (nbb_cells[i].get_text() == nbb_unformatted_code) {\n",
       "                             nbb_cells[i].set_text(nbb_formatted_code);\n",
       "                        }\n",
       "                        break;\n",
       "                    }\n",
       "                }\n",
       "            }, 500);\n",
       "            "
      ],
      "text/plain": [
       "<IPython.core.display.Javascript object>"
      ]
     },
     "metadata": {},
     "output_type": "display_data"
    }
   ],
   "source": [
    "import os\n",
    "import sys\n",
    "\n",
    "sys.path.append(os.path.dirname(os.getcwd()))\n",
    "\n",
    "import pickle\n",
    "import pandas as pd\n",
    "import seaborn as sns\n",
    "from sklearn.ensemble import RandomForestClassifier\n",
    "\n",
    "\n",
    "from test_harness.datasets.dataset import Dataset\n",
    "from test_harness.experiments.baseline_experiment import BaselineExperiment\n",
    "from test_harness.experiments.topline_experiment import ToplineExperiment\n",
    "from test_harness.experiments.sqsi_experiment import SQSI_MRExperiment\n",
    "from test_harness.utils.utils import (\n",
    "    plot_experiment_error,\n",
    "    plot_multiple_experiments,\n",
    "    aggregate_experiment_metrics,\n",
    "    plot_response_distributions_bysplit,\n",
    "    format_experimental_scores,\n",
    ")\n",
    "\n",
    "%load_ext nb_black\n",
    "%load_ext autoreload\n",
    "%autoreload 2"
   ]
  },
  {
   "cell_type": "markdown",
   "id": "e5bfe878",
   "metadata": {},
   "source": [
    "## Load Data"
   ]
  },
  {
   "cell_type": "code",
   "execution_count": 2,
   "id": "8d264f77",
   "metadata": {},
   "outputs": [
    {
     "data": {
      "application/javascript": [
       "\n",
       "            setTimeout(function() {\n",
       "                var nbb_cell_id = 2;\n",
       "                var nbb_unformatted_code = \"with open(\\\"../data/covtype_induced_drift_forward.pkl\\\", \\\"rb\\\") as f:\\n    drift_df, change_points = pickle.load(f)\";\n",
       "                var nbb_formatted_code = \"with open(\\\"../data/covtype_induced_drift_forward.pkl\\\", \\\"rb\\\") as f:\\n    drift_df, change_points = pickle.load(f)\";\n",
       "                var nbb_cells = Jupyter.notebook.get_cells();\n",
       "                for (var i = 0; i < nbb_cells.length; ++i) {\n",
       "                    if (nbb_cells[i].input_prompt_number == nbb_cell_id) {\n",
       "                        if (nbb_cells[i].get_text() == nbb_unformatted_code) {\n",
       "                             nbb_cells[i].set_text(nbb_formatted_code);\n",
       "                        }\n",
       "                        break;\n",
       "                    }\n",
       "                }\n",
       "            }, 500);\n",
       "            "
      ],
      "text/plain": [
       "<IPython.core.display.Javascript object>"
      ]
     },
     "metadata": {},
     "output_type": "display_data"
    }
   ],
   "source": [
    "with open(\"../data/covtype_induced_drift_forward.pkl\", \"rb\") as f:\n",
    "    drift_df, change_points = pickle.load(f)"
   ]
  },
  {
   "cell_type": "code",
   "execution_count": 3,
   "id": "ed945c3e",
   "metadata": {},
   "outputs": [
    {
     "data": {
      "text/html": [
       "<div>\n",
       "<style scoped>\n",
       "    .dataframe tbody tr th:only-of-type {\n",
       "        vertical-align: middle;\n",
       "    }\n",
       "\n",
       "    .dataframe tbody tr th {\n",
       "        vertical-align: top;\n",
       "    }\n",
       "\n",
       "    .dataframe thead th {\n",
       "        text-align: right;\n",
       "    }\n",
       "</style>\n",
       "<table border=\"1\" class=\"dataframe\">\n",
       "  <thead>\n",
       "    <tr style=\"text-align: right;\">\n",
       "      <th></th>\n",
       "      <th>elevation</th>\n",
       "      <th>aspect</th>\n",
       "      <th>slope</th>\n",
       "      <th>horizontal_dist_to_hydrology</th>\n",
       "      <th>vertical_dist_to_hydrology</th>\n",
       "      <th>horizontal_dist_to_roadways</th>\n",
       "      <th>hillshade_9am</th>\n",
       "      <th>hillshade_noon</th>\n",
       "      <th>hillshade_3pm</th>\n",
       "      <th>horizontal_dist_to_fire_points</th>\n",
       "      <th>wilderness_area_1</th>\n",
       "      <th>wilderness_area_2</th>\n",
       "      <th>wilderness_area_3</th>\n",
       "      <th>wilderness_area_4</th>\n",
       "      <th>cover_type</th>\n",
       "    </tr>\n",
       "  </thead>\n",
       "  <tbody>\n",
       "    <tr>\n",
       "      <th>0</th>\n",
       "      <td>2836</td>\n",
       "      <td>343</td>\n",
       "      <td>15</td>\n",
       "      <td>190</td>\n",
       "      <td>3</td>\n",
       "      <td>700</td>\n",
       "      <td>188</td>\n",
       "      <td>216</td>\n",
       "      <td>166</td>\n",
       "      <td>1181</td>\n",
       "      <td>0</td>\n",
       "      <td>0</td>\n",
       "      <td>1</td>\n",
       "      <td>0</td>\n",
       "      <td>1</td>\n",
       "    </tr>\n",
       "    <tr>\n",
       "      <th>1</th>\n",
       "      <td>2939</td>\n",
       "      <td>174</td>\n",
       "      <td>14</td>\n",
       "      <td>182</td>\n",
       "      <td>27</td>\n",
       "      <td>4590</td>\n",
       "      <td>227</td>\n",
       "      <td>246</td>\n",
       "      <td>148</td>\n",
       "      <td>2665</td>\n",
       "      <td>1</td>\n",
       "      <td>0</td>\n",
       "      <td>0</td>\n",
       "      <td>0</td>\n",
       "      <td>1</td>\n",
       "    </tr>\n",
       "    <tr>\n",
       "      <th>2</th>\n",
       "      <td>3181</td>\n",
       "      <td>46</td>\n",
       "      <td>28</td>\n",
       "      <td>582</td>\n",
       "      <td>15</td>\n",
       "      <td>812</td>\n",
       "      <td>216</td>\n",
       "      <td>168</td>\n",
       "      <td>71</td>\n",
       "      <td>1681</td>\n",
       "      <td>0</td>\n",
       "      <td>1</td>\n",
       "      <td>0</td>\n",
       "      <td>0</td>\n",
       "      <td>0</td>\n",
       "    </tr>\n",
       "    <tr>\n",
       "      <th>3</th>\n",
       "      <td>3233</td>\n",
       "      <td>123</td>\n",
       "      <td>12</td>\n",
       "      <td>661</td>\n",
       "      <td>29</td>\n",
       "      <td>3030</td>\n",
       "      <td>240</td>\n",
       "      <td>231</td>\n",
       "      <td>120</td>\n",
       "      <td>3024</td>\n",
       "      <td>0</td>\n",
       "      <td>0</td>\n",
       "      <td>1</td>\n",
       "      <td>0</td>\n",
       "      <td>1</td>\n",
       "    </tr>\n",
       "    <tr>\n",
       "      <th>4</th>\n",
       "      <td>3023</td>\n",
       "      <td>24</td>\n",
       "      <td>8</td>\n",
       "      <td>531</td>\n",
       "      <td>43</td>\n",
       "      <td>1207</td>\n",
       "      <td>216</td>\n",
       "      <td>222</td>\n",
       "      <td>143</td>\n",
       "      <td>2347</td>\n",
       "      <td>1</td>\n",
       "      <td>0</td>\n",
       "      <td>0</td>\n",
       "      <td>0</td>\n",
       "      <td>1</td>\n",
       "    </tr>\n",
       "    <tr>\n",
       "      <th>...</th>\n",
       "      <td>...</td>\n",
       "      <td>...</td>\n",
       "      <td>...</td>\n",
       "      <td>...</td>\n",
       "      <td>...</td>\n",
       "      <td>...</td>\n",
       "      <td>...</td>\n",
       "      <td>...</td>\n",
       "      <td>...</td>\n",
       "      <td>...</td>\n",
       "      <td>...</td>\n",
       "      <td>...</td>\n",
       "      <td>...</td>\n",
       "      <td>...</td>\n",
       "      <td>...</td>\n",
       "    </tr>\n",
       "    <tr>\n",
       "      <th>495136</th>\n",
       "      <td>150</td>\n",
       "      <td>187</td>\n",
       "      <td>33</td>\n",
       "      <td>2963</td>\n",
       "      <td>194</td>\n",
       "      <td>470</td>\n",
       "      <td>241</td>\n",
       "      <td>9</td>\n",
       "      <td>280</td>\n",
       "      <td>2683</td>\n",
       "      <td>1</td>\n",
       "      <td>0</td>\n",
       "      <td>0</td>\n",
       "      <td>0</td>\n",
       "      <td>1</td>\n",
       "    </tr>\n",
       "    <tr>\n",
       "      <th>495137</th>\n",
       "      <td>120</td>\n",
       "      <td>201</td>\n",
       "      <td>19</td>\n",
       "      <td>3049</td>\n",
       "      <td>186</td>\n",
       "      <td>871</td>\n",
       "      <td>251</td>\n",
       "      <td>16</td>\n",
       "      <td>244</td>\n",
       "      <td>3129</td>\n",
       "      <td>1</td>\n",
       "      <td>0</td>\n",
       "      <td>0</td>\n",
       "      <td>0</td>\n",
       "      <td>1</td>\n",
       "    </tr>\n",
       "    <tr>\n",
       "      <th>495138</th>\n",
       "      <td>283</td>\n",
       "      <td>151</td>\n",
       "      <td>58</td>\n",
       "      <td>3140</td>\n",
       "      <td>208</td>\n",
       "      <td>446</td>\n",
       "      <td>222</td>\n",
       "      <td>9</td>\n",
       "      <td>4</td>\n",
       "      <td>5030</td>\n",
       "      <td>0</td>\n",
       "      <td>1</td>\n",
       "      <td>0</td>\n",
       "      <td>0</td>\n",
       "      <td>1</td>\n",
       "    </tr>\n",
       "    <tr>\n",
       "      <th>495139</th>\n",
       "      <td>30</td>\n",
       "      <td>110</td>\n",
       "      <td>3</td>\n",
       "      <td>2939</td>\n",
       "      <td>238</td>\n",
       "      <td>2656</td>\n",
       "      <td>220</td>\n",
       "      <td>12</td>\n",
       "      <td>88</td>\n",
       "      <td>3625</td>\n",
       "      <td>0</td>\n",
       "      <td>1</td>\n",
       "      <td>0</td>\n",
       "      <td>0</td>\n",
       "      <td>1</td>\n",
       "    </tr>\n",
       "    <tr>\n",
       "      <th>495140</th>\n",
       "      <td>242</td>\n",
       "      <td>85</td>\n",
       "      <td>45</td>\n",
       "      <td>3090</td>\n",
       "      <td>219</td>\n",
       "      <td>870</td>\n",
       "      <td>182</td>\n",
       "      <td>24</td>\n",
       "      <td>46</td>\n",
       "      <td>4668</td>\n",
       "      <td>0</td>\n",
       "      <td>1</td>\n",
       "      <td>0</td>\n",
       "      <td>0</td>\n",
       "      <td>1</td>\n",
       "    </tr>\n",
       "  </tbody>\n",
       "</table>\n",
       "<p>495141 rows × 15 columns</p>\n",
       "</div>"
      ],
      "text/plain": [
       "        elevation  aspect  slope  horizontal_dist_to_hydrology  \\\n",
       "0            2836     343     15                           190   \n",
       "1            2939     174     14                           182   \n",
       "2            3181      46     28                           582   \n",
       "3            3233     123     12                           661   \n",
       "4            3023      24      8                           531   \n",
       "...           ...     ...    ...                           ...   \n",
       "495136        150     187     33                          2963   \n",
       "495137        120     201     19                          3049   \n",
       "495138        283     151     58                          3140   \n",
       "495139         30     110      3                          2939   \n",
       "495140        242      85     45                          3090   \n",
       "\n",
       "        vertical_dist_to_hydrology  horizontal_dist_to_roadways  \\\n",
       "0                                3                          700   \n",
       "1                               27                         4590   \n",
       "2                               15                          812   \n",
       "3                               29                         3030   \n",
       "4                               43                         1207   \n",
       "...                            ...                          ...   \n",
       "495136                         194                          470   \n",
       "495137                         186                          871   \n",
       "495138                         208                          446   \n",
       "495139                         238                         2656   \n",
       "495140                         219                          870   \n",
       "\n",
       "        hillshade_9am  hillshade_noon  hillshade_3pm  \\\n",
       "0                 188             216            166   \n",
       "1                 227             246            148   \n",
       "2                 216             168             71   \n",
       "3                 240             231            120   \n",
       "4                 216             222            143   \n",
       "...               ...             ...            ...   \n",
       "495136            241               9            280   \n",
       "495137            251              16            244   \n",
       "495138            222               9              4   \n",
       "495139            220              12             88   \n",
       "495140            182              24             46   \n",
       "\n",
       "        horizontal_dist_to_fire_points wilderness_area_1 wilderness_area_2  \\\n",
       "0                                 1181                 0                 0   \n",
       "1                                 2665                 1                 0   \n",
       "2                                 1681                 0                 1   \n",
       "3                                 3024                 0                 0   \n",
       "4                                 2347                 1                 0   \n",
       "...                                ...               ...               ...   \n",
       "495136                            2683                 1                 0   \n",
       "495137                            3129                 1                 0   \n",
       "495138                            5030                 0                 1   \n",
       "495139                            3625                 0                 1   \n",
       "495140                            4668                 0                 1   \n",
       "\n",
       "       wilderness_area_3 wilderness_area_4 cover_type  \n",
       "0                      1                 0          1  \n",
       "1                      0                 0          1  \n",
       "2                      0                 0          0  \n",
       "3                      1                 0          1  \n",
       "4                      0                 0          1  \n",
       "...                  ...               ...        ...  \n",
       "495136                 0                 0          1  \n",
       "495137                 0                 0          1  \n",
       "495138                 0                 0          1  \n",
       "495139                 0                 0          1  \n",
       "495140                 0                 0          1  \n",
       "\n",
       "[495141 rows x 15 columns]"
      ]
     },
     "execution_count": 3,
     "metadata": {},
     "output_type": "execute_result"
    },
    {
     "data": {
      "application/javascript": [
       "\n",
       "            setTimeout(function() {\n",
       "                var nbb_cell_id = 3;\n",
       "                var nbb_unformatted_code = \"drift_df\";\n",
       "                var nbb_formatted_code = \"drift_df\";\n",
       "                var nbb_cells = Jupyter.notebook.get_cells();\n",
       "                for (var i = 0; i < nbb_cells.length; ++i) {\n",
       "                    if (nbb_cells[i].input_prompt_number == nbb_cell_id) {\n",
       "                        if (nbb_cells[i].get_text() == nbb_unformatted_code) {\n",
       "                             nbb_cells[i].set_text(nbb_formatted_code);\n",
       "                        }\n",
       "                        break;\n",
       "                    }\n",
       "                }\n",
       "            }, 500);\n",
       "            "
      ],
      "text/plain": [
       "<IPython.core.display.Javascript object>"
      ]
     },
     "metadata": {},
     "output_type": "display_data"
    }
   ],
   "source": [
    "drift_df"
   ]
  },
  {
   "cell_type": "markdown",
   "id": "15154c3e",
   "metadata": {},
   "source": [
    "**NEED TO**\n",
    " - Check distribution of class labels in each \"concept\" that I've created..."
   ]
  },
  {
   "cell_type": "markdown",
   "id": "4e48e0c2",
   "metadata": {},
   "source": [
    "## Experiments"
   ]
  },
  {
   "cell_type": "markdown",
   "id": "8dfb6f78",
   "metadata": {},
   "source": [
    "### Prepare Test Harness"
   ]
  },
  {
   "cell_type": "code",
   "execution_count": 4,
   "id": "909ed6d0",
   "metadata": {},
   "outputs": [
    {
     "data": {
      "application/javascript": [
       "\n",
       "            setTimeout(function() {\n",
       "                var nbb_cell_id = 4;\n",
       "                var nbb_unformatted_code = \"# specify columns and if categorical\\ncol_names = [\\n    (\\\"elevation\\\", False),\\n    (\\\"aspect\\\", False),\\n    (\\\"slope\\\", False),\\n    (\\\"horizontal_dist_to_hydrology\\\", False),\\n    (\\\"vertical_dist_to_hydrology\\\", False),\\n    (\\\"horizontal_dist_to_roadways\\\", False),\\n    (\\\"hillshade_9am\\\", False),\\n    (\\\"hillshade_noon\\\", False),\\n    (\\\"hillshade_3pm\\\", False),\\n    (\\\"horizontal_dist_to_fire_points\\\", False),\\n]\\nwilderness_area_cols = [(f\\\"wilderness_area_{i+1}\\\", True) for i in range(4)]\\ncol_names = col_names + wilderness_area_cols + [(\\\"cover_type\\\", True)]\";\n",
       "                var nbb_formatted_code = \"# specify columns and if categorical\\ncol_names = [\\n    (\\\"elevation\\\", False),\\n    (\\\"aspect\\\", False),\\n    (\\\"slope\\\", False),\\n    (\\\"horizontal_dist_to_hydrology\\\", False),\\n    (\\\"vertical_dist_to_hydrology\\\", False),\\n    (\\\"horizontal_dist_to_roadways\\\", False),\\n    (\\\"hillshade_9am\\\", False),\\n    (\\\"hillshade_noon\\\", False),\\n    (\\\"hillshade_3pm\\\", False),\\n    (\\\"horizontal_dist_to_fire_points\\\", False),\\n]\\nwilderness_area_cols = [(f\\\"wilderness_area_{i+1}\\\", True) for i in range(4)]\\ncol_names = col_names + wilderness_area_cols + [(\\\"cover_type\\\", True)]\";\n",
       "                var nbb_cells = Jupyter.notebook.get_cells();\n",
       "                for (var i = 0; i < nbb_cells.length; ++i) {\n",
       "                    if (nbb_cells[i].input_prompt_number == nbb_cell_id) {\n",
       "                        if (nbb_cells[i].get_text() == nbb_unformatted_code) {\n",
       "                             nbb_cells[i].set_text(nbb_formatted_code);\n",
       "                        }\n",
       "                        break;\n",
       "                    }\n",
       "                }\n",
       "            }, 500);\n",
       "            "
      ],
      "text/plain": [
       "<IPython.core.display.Javascript object>"
      ]
     },
     "metadata": {},
     "output_type": "display_data"
    }
   ],
   "source": [
    "# specify columns and if categorical\n",
    "col_names = [\n",
    "    (\"elevation\", False),\n",
    "    (\"aspect\", False),\n",
    "    (\"slope\", False),\n",
    "    (\"horizontal_dist_to_hydrology\", False),\n",
    "    (\"vertical_dist_to_hydrology\", False),\n",
    "    (\"horizontal_dist_to_roadways\", False),\n",
    "    (\"hillshade_9am\", False),\n",
    "    (\"hillshade_noon\", False),\n",
    "    (\"hillshade_3pm\", False),\n",
    "    (\"horizontal_dist_to_fire_points\", False),\n",
    "]\n",
    "wilderness_area_cols = [(f\"wilderness_area_{i+1}\", True) for i in range(4)]\n",
    "col_names = col_names + wilderness_area_cols + [(\"cover_type\", True)]"
   ]
  },
  {
   "cell_type": "code",
   "execution_count": 5,
   "id": "37c26a7c",
   "metadata": {},
   "outputs": [
    {
     "data": {
      "application/javascript": [
       "\n",
       "            setTimeout(function() {\n",
       "                var nbb_cell_id = 5;\n",
       "                var nbb_unformatted_code = \"column_mapping = {\\n    \\\"target\\\": \\\"cover_type\\\",\\n    \\\"numerical_features\\\": [col for col, iscat in col_names if not iscat],\\n    \\\"categorical_features\\\": [col for col, iscat in col_names if iscat][:-1],\\n}\\n\\n# 17500\\nCT_dataset = Dataset(\\n    full_df=drift_df, column_mapping=column_mapping, window_size=17500 * 2\\n)\\n\\nmodel = RandomForestClassifier(n_estimators=5, random_state=42, max_depth=5)\\nparam_grid = {\\\"clf__n_estimators\\\": [3, 5], \\\"clf__max_depth\\\": [3, 5]}\";\n",
       "                var nbb_formatted_code = \"column_mapping = {\\n    \\\"target\\\": \\\"cover_type\\\",\\n    \\\"numerical_features\\\": [col for col, iscat in col_names if not iscat],\\n    \\\"categorical_features\\\": [col for col, iscat in col_names if iscat][:-1],\\n}\\n\\n# 17500\\nCT_dataset = Dataset(\\n    full_df=drift_df, column_mapping=column_mapping, window_size=17500 * 2\\n)\\n\\nmodel = RandomForestClassifier(n_estimators=5, random_state=42, max_depth=5)\\nparam_grid = {\\\"clf__n_estimators\\\": [3, 5], \\\"clf__max_depth\\\": [3, 5]}\";\n",
       "                var nbb_cells = Jupyter.notebook.get_cells();\n",
       "                for (var i = 0; i < nbb_cells.length; ++i) {\n",
       "                    if (nbb_cells[i].input_prompt_number == nbb_cell_id) {\n",
       "                        if (nbb_cells[i].get_text() == nbb_unformatted_code) {\n",
       "                             nbb_cells[i].set_text(nbb_formatted_code);\n",
       "                        }\n",
       "                        break;\n",
       "                    }\n",
       "                }\n",
       "            }, 500);\n",
       "            "
      ],
      "text/plain": [
       "<IPython.core.display.Javascript object>"
      ]
     },
     "metadata": {},
     "output_type": "display_data"
    }
   ],
   "source": [
    "column_mapping = {\n",
    "    \"target\": \"cover_type\",\n",
    "    \"numerical_features\": [col for col, iscat in col_names if not iscat],\n",
    "    \"categorical_features\": [col for col, iscat in col_names if iscat][:-1],\n",
    "}\n",
    "\n",
    "# 17500\n",
    "CT_dataset = Dataset(\n",
    "    full_df=drift_df, column_mapping=column_mapping, window_size=17500 * 2\n",
    ")\n",
    "\n",
    "model = RandomForestClassifier(n_estimators=5, random_state=42, max_depth=5)\n",
    "param_grid = {\"clf__n_estimators\": [3, 5], \"clf__max_depth\": [3, 5]}"
   ]
  },
  {
   "cell_type": "code",
   "execution_count": 6,
   "id": "e9b97232",
   "metadata": {},
   "outputs": [
    {
     "data": {
      "text/plain": [
       "52500"
      ]
     },
     "execution_count": 6,
     "metadata": {},
     "output_type": "execute_result"
    },
    {
     "data": {
      "application/javascript": [
       "\n",
       "            setTimeout(function() {\n",
       "                var nbb_cell_id = 6;\n",
       "                var nbb_unformatted_code = \"17500 * 3\";\n",
       "                var nbb_formatted_code = \"17500 * 3\";\n",
       "                var nbb_cells = Jupyter.notebook.get_cells();\n",
       "                for (var i = 0; i < nbb_cells.length; ++i) {\n",
       "                    if (nbb_cells[i].input_prompt_number == nbb_cell_id) {\n",
       "                        if (nbb_cells[i].get_text() == nbb_unformatted_code) {\n",
       "                             nbb_cells[i].set_text(nbb_formatted_code);\n",
       "                        }\n",
       "                        break;\n",
       "                    }\n",
       "                }\n",
       "            }, 500);\n",
       "            "
      ],
      "text/plain": [
       "<IPython.core.display.Javascript object>"
      ]
     },
     "metadata": {},
     "output_type": "display_data"
    }
   ],
   "source": [
    "17500 * 3"
   ]
  },
  {
   "cell_type": "markdown",
   "id": "7e51f099",
   "metadata": {},
   "source": [
    "### Run"
   ]
  },
  {
   "cell_type": "code",
   "execution_count": 7,
   "id": "b1c4ad0b",
   "metadata": {},
   "outputs": [
    {
     "name": "stdout",
     "output_type": "stream",
     "text": [
      "Dataset index of split end: 70000\n",
      "GETTING REFERENCE DISTRIBUTION FOR WINDOW: 0\n",
      "Shape of k-fold preds: (0,)\n",
      "Shape of k-fold preds: (3500,)\n",
      "Shape of k-fold preds: (7000,)\n",
      "Shape of k-fold preds: (10500,)\n",
      "Shape of k-fold preds: (14000,)\n",
      "Shape of k-fold preds: (17500,)\n",
      "Shape of k-fold preds: (21000,)\n",
      "Shape of k-fold preds: (24500,)\n",
      "Shape of k-fold preds: (28000,)\n",
      "Shape of k-fold preds: (31500,)\n",
      "FINAL SHAPE kfold preds: (35000,)\n",
      "GETTING DETECTION DISTRIBUTION FOR WINDOW: 1\n",
      "Dataset Split: 1\n",
      "REFERENCE STATS: DescribeResult(nobs=35000, minmax=(0.06082224396406262, 0.9553130970093671), mean=0.5716289170237232, variance=0.04525515353122736, skewness=-0.25525888209036446, kurtosis=-1.4490534568632096)\n",
      "DETECTION STATS: DescribeResult(nobs=35000, minmax=(0.05469761266328168, 0.9364889657412903), mean=0.5724333380906863, variance=0.044133682976263786, skewness=-0.23621441674553992, kurtosis=-1.3691861900180926)\n",
      "KS Test Result: FAILED | KstestResult(statistic=0.039085714285714335, pvalue=1.1500322764772724e-23)\n",
      "\n",
      "Dataset index of split end: 105000\n",
      "GETTING REFERENCE DISTRIBUTION FOR WINDOW: 1\n",
      "Shape of k-fold preds: (0,)\n",
      "Shape of k-fold preds: (3500,)\n",
      "Shape of k-fold preds: (7000,)\n",
      "Shape of k-fold preds: (10500,)\n",
      "Shape of k-fold preds: (14000,)\n",
      "Shape of k-fold preds: (17500,)\n",
      "Shape of k-fold preds: (21000,)\n",
      "Shape of k-fold preds: (24500,)\n",
      "Shape of k-fold preds: (28000,)\n",
      "Shape of k-fold preds: (31500,)\n",
      "FINAL SHAPE kfold preds: (35000,)\n",
      "GETTING DETECTION DISTRIBUTION FOR WINDOW: 2\n",
      "Dataset Split: 2\n",
      "REFERENCE STATS: DescribeResult(nobs=35000, minmax=(0.0816121163559665, 0.9527778656011489), mean=0.5692619706470071, variance=0.04405457077220757, skewness=-0.27349713949162585, kurtosis=-1.3962229871496274)\n",
      "DETECTION STATS: DescribeResult(nobs=35000, minmax=(0.10851720863658243, 0.9126180190095148), mean=0.5705951485466643, variance=0.03719153261517884, skewness=-0.21817996301371925, kurtosis=-1.4495576058119335)\n",
      "KS Test Result: FAILED | KstestResult(statistic=0.05802857142857143, pvalue=1.154169492473275e-51)\n",
      "\n",
      "Dataset index of split end: 140000\n",
      "GETTING REFERENCE DISTRIBUTION FOR WINDOW: 2\n",
      "Shape of k-fold preds: (0,)\n",
      "Shape of k-fold preds: (3500,)\n",
      "Shape of k-fold preds: (7000,)\n",
      "Shape of k-fold preds: (10500,)\n",
      "Shape of k-fold preds: (14000,)\n",
      "Shape of k-fold preds: (17500,)\n",
      "Shape of k-fold preds: (21000,)\n",
      "Shape of k-fold preds: (24500,)\n",
      "Shape of k-fold preds: (28000,)\n",
      "Shape of k-fold preds: (31500,)\n",
      "FINAL SHAPE kfold preds: (35000,)\n",
      "GETTING DETECTION DISTRIBUTION FOR WINDOW: 3\n",
      "Dataset Split: 3\n",
      "REFERENCE STATS: DescribeResult(nobs=35000, minmax=(0.06771383322548996, 0.9499272375551213), mean=0.5709770980552168, variance=0.04412533468067644, skewness=-0.23124434449513473, kurtosis=-1.429341312764223)\n",
      "DETECTION STATS: DescribeResult(nobs=35000, minmax=(0.07346135133491455, 0.9729484425349086), mean=0.6695050795101212, variance=0.03028981094019481, skewness=-0.8698387118143669, kurtosis=-0.41867254969395873)\n",
      "KS Test Result: FAILED | KstestResult(statistic=0.2067714285714286, pvalue=0.0)\n",
      "\n",
      "Dataset index of split end: 175000\n",
      "GETTING REFERENCE DISTRIBUTION FOR WINDOW: 3\n",
      "Shape of k-fold preds: (0,)\n",
      "Shape of k-fold preds: (3500,)\n",
      "Shape of k-fold preds: (7000,)\n",
      "Shape of k-fold preds: (10500,)\n",
      "Shape of k-fold preds: (14000,)\n",
      "Shape of k-fold preds: (17500,)\n",
      "Shape of k-fold preds: (21000,)\n",
      "Shape of k-fold preds: (24500,)\n",
      "Shape of k-fold preds: (28000,)\n",
      "Shape of k-fold preds: (31500,)\n",
      "FINAL SHAPE kfold preds: (35000,)\n",
      "GETTING DETECTION DISTRIBUTION FOR WINDOW: 4\n",
      "Dataset Split: 4\n",
      "REFERENCE STATS: DescribeResult(nobs=35000, minmax=(0.07044797606176849, 0.9077603789218086), mean=0.5740469338919653, variance=0.02705524910082042, skewness=-0.5565795713227126, kurtosis=-0.996517772715261)\n",
      "DETECTION STATS: DescribeResult(nobs=35000, minmax=(0.08766505390323631, 0.900637999586505), mean=0.5711996731807887, variance=0.015525799091093077, skewness=-0.6281089892493641, kurtosis=-0.24405403230610467)\n",
      "KS Test Result: FAILED | KstestResult(statistic=0.22588571428571436, pvalue=0.0)\n",
      "\n",
      "Dataset index of split end: 210000\n",
      "GETTING REFERENCE DISTRIBUTION FOR WINDOW: 4\n",
      "Shape of k-fold preds: (0,)\n",
      "Shape of k-fold preds: (3500,)\n",
      "Shape of k-fold preds: (7000,)\n",
      "Shape of k-fold preds: (10500,)\n",
      "Shape of k-fold preds: (14000,)\n",
      "Shape of k-fold preds: (17500,)\n",
      "Shape of k-fold preds: (21000,)\n",
      "Shape of k-fold preds: (24500,)\n",
      "Shape of k-fold preds: (28000,)\n",
      "Shape of k-fold preds: (31500,)\n",
      "FINAL SHAPE kfold preds: (35000,)\n",
      "GETTING DETECTION DISTRIBUTION FOR WINDOW: 5\n",
      "Dataset Split: 5\n",
      "REFERENCE STATS: DescribeResult(nobs=35000, minmax=(0.09861274248448784, 0.9319469792670381), mean=0.5767797940722476, variance=0.019235121254615368, skewness=-0.0998959358439165, kurtosis=-0.2659654840683445)\n",
      "DETECTION STATS: DescribeResult(nobs=35000, minmax=(0.08761164765268008, 0.9084012686631289), mean=0.5765214002869344, variance=0.025865244846969282, skewness=0.012859767956985861, kurtosis=-0.9802092647559832)\n",
      "KS Test Result: FAILED | KstestResult(statistic=0.1358, pvalue=6.113078585230617e-282)\n",
      "\n",
      "Dataset index of split end: 245000\n",
      "GETTING REFERENCE DISTRIBUTION FOR WINDOW: 5\n",
      "Shape of k-fold preds: (0,)\n",
      "Shape of k-fold preds: (3500,)\n",
      "Shape of k-fold preds: (7000,)\n",
      "Shape of k-fold preds: (10500,)\n",
      "Shape of k-fold preds: (14000,)\n",
      "Shape of k-fold preds: (17500,)\n",
      "Shape of k-fold preds: (21000,)\n",
      "Shape of k-fold preds: (24500,)\n",
      "Shape of k-fold preds: (28000,)\n",
      "Shape of k-fold preds: (31500,)\n",
      "FINAL SHAPE kfold preds: (35000,)\n",
      "GETTING DETECTION DISTRIBUTION FOR WINDOW: 6\n",
      "Dataset Split: 6\n",
      "REFERENCE STATS: DescribeResult(nobs=35000, minmax=(0.05814613302948298, 0.9552551896136023), mean=0.5743331638115295, variance=0.019435770075722412, skewness=0.00032739144438673846, kurtosis=-0.7113656413945426)\n",
      "DETECTION STATS: DescribeResult(nobs=35000, minmax=(0.18050247595581653, 0.8525834974775037), mean=0.5746782208754497, variance=0.025371708603731367, skewness=-0.05848299171943567, kurtosis=-1.6305256185016312)\n",
      "KS Test Result: FAILED | KstestResult(statistic=0.2014571428571429, pvalue=0.0)\n",
      "\n",
      "Dataset index of split end: 280000\n",
      "GETTING REFERENCE DISTRIBUTION FOR WINDOW: 6\n",
      "Shape of k-fold preds: (0,)\n",
      "Shape of k-fold preds: (3500,)\n",
      "Shape of k-fold preds: (7000,)\n",
      "Shape of k-fold preds: (10500,)\n",
      "Shape of k-fold preds: (14000,)\n",
      "Shape of k-fold preds: (17500,)\n",
      "Shape of k-fold preds: (21000,)\n",
      "Shape of k-fold preds: (24500,)\n",
      "Shape of k-fold preds: (28000,)\n",
      "Shape of k-fold preds: (31500,)\n",
      "FINAL SHAPE kfold preds: (35000,)\n",
      "GETTING DETECTION DISTRIBUTION FOR WINDOW: 7\n",
      "Dataset Split: 7\n",
      "REFERENCE STATS: DescribeResult(nobs=35000, minmax=(0.07463224887289224, 0.9647953431985113), mean=0.5736178131041297, variance=0.026790994707757348, skewness=-0.06558725712740601, kurtosis=-1.1270814645508016)\n",
      "DETECTION STATS: DescribeResult(nobs=35000, minmax=(0.168545513949307, 0.927809352119979), mean=0.5840689765153058, variance=0.03166280662282352, skewness=0.015636729206092524, kurtosis=-1.3949478840951488)\n",
      "KS Test Result: FAILED | KstestResult(statistic=0.09034285714285717, pvalue=9.728308448647813e-125)\n",
      "\n",
      "Dataset index of split end: 315000\n",
      "GETTING REFERENCE DISTRIBUTION FOR WINDOW: 7\n",
      "Shape of k-fold preds: (0,)\n",
      "Shape of k-fold preds: (3500,)\n",
      "Shape of k-fold preds: (7000,)\n",
      "Shape of k-fold preds: (10500,)\n",
      "Shape of k-fold preds: (14000,)\n",
      "Shape of k-fold preds: (17500,)\n",
      "Shape of k-fold preds: (21000,)\n",
      "Shape of k-fold preds: (24500,)\n",
      "Shape of k-fold preds: (28000,)\n",
      "Shape of k-fold preds: (31500,)\n",
      "FINAL SHAPE kfold preds: (35000,)\n",
      "GETTING DETECTION DISTRIBUTION FOR WINDOW: 8\n",
      "Dataset Split: 8\n",
      "REFERENCE STATS: DescribeResult(nobs=35000, minmax=(0.09310674128957648, 0.9269132814664915), mean=0.5749272184887609, variance=0.022503855171502954, skewness=-0.06299943470103199, kurtosis=-0.855432603899438)\n",
      "DETECTION STATS: DescribeResult(nobs=35000, minmax=(0.22424586088269832, 0.8391560297851436), mean=0.5728179663166141, variance=0.029628688268043955, skewness=0.0032247558265647673, kurtosis=-1.6621398986054963)\n",
      "KS Test Result: FAILED | KstestResult(statistic=0.20408571428571426, pvalue=0.0)\n",
      "\n",
      "Dataset index of split end: 350000\n",
      "GETTING REFERENCE DISTRIBUTION FOR WINDOW: 8\n",
      "Shape of k-fold preds: (0,)\n",
      "Shape of k-fold preds: (3500,)\n",
      "Shape of k-fold preds: (7000,)\n",
      "Shape of k-fold preds: (10500,)\n",
      "Shape of k-fold preds: (14000,)\n"
     ]
    },
    {
     "name": "stdout",
     "output_type": "stream",
     "text": [
      "Shape of k-fold preds: (17500,)\n",
      "Shape of k-fold preds: (21000,)\n",
      "Shape of k-fold preds: (24500,)\n",
      "Shape of k-fold preds: (28000,)\n",
      "Shape of k-fold preds: (31500,)\n",
      "FINAL SHAPE kfold preds: (35000,)\n",
      "GETTING DETECTION DISTRIBUTION FOR WINDOW: 9\n",
      "Dataset Split: 9\n",
      "REFERENCE STATS: DescribeResult(nobs=35000, minmax=(0.07842966668371384, 0.9198120473267084), mean=0.5700476064945157, variance=0.019014046372067165, skewness=-0.1826292792273725, kurtosis=-0.3701980652311243)\n",
      "DETECTION STATS: DescribeResult(nobs=35000, minmax=(0.10769287910880401, 0.9030526082735811), mean=0.5705991559579316, variance=0.018434476470900383, skewness=-0.2235907135997959, kurtosis=-0.3804614444108476)\n",
      "KS Test Result: FAILED | KstestResult(statistic=0.022771428571428554, pvalue=2.580426288931747e-08)\n",
      "\n",
      "Dataset index of split end: 385000\n",
      "GETTING REFERENCE DISTRIBUTION FOR WINDOW: 9\n",
      "Shape of k-fold preds: (0,)\n",
      "Shape of k-fold preds: (3500,)\n",
      "Shape of k-fold preds: (7000,)\n",
      "Shape of k-fold preds: (10500,)\n",
      "Shape of k-fold preds: (14000,)\n",
      "Shape of k-fold preds: (17500,)\n",
      "Shape of k-fold preds: (21000,)\n",
      "Shape of k-fold preds: (24500,)\n",
      "Shape of k-fold preds: (28000,)\n",
      "Shape of k-fold preds: (31500,)\n",
      "FINAL SHAPE kfold preds: (35000,)\n",
      "GETTING DETECTION DISTRIBUTION FOR WINDOW: 10\n",
      "Dataset Split: 10\n",
      "REFERENCE STATS: DescribeResult(nobs=35000, minmax=(0.0985266970098693, 0.9312828763722469), mean=0.5673589458223092, variance=0.015527603337258849, skewness=-0.08538294910109522, kurtosis=0.10457416373455075)\n",
      "DETECTION STATS: DescribeResult(nobs=35000, minmax=(0.2369598328674928, 0.8105816091028892), mean=0.5460602001408982, variance=0.016606479014292016, skewness=0.11188302817243383, kurtosis=-1.2121137783348161)\n",
      "KS Test Result: FAILED | KstestResult(statistic=0.19645714285714289, pvalue=0.0)\n",
      "\n",
      "Dataset index of split end: 420000\n",
      "GETTING REFERENCE DISTRIBUTION FOR WINDOW: 10\n",
      "Shape of k-fold preds: (0,)\n",
      "Shape of k-fold preds: (3500,)\n",
      "Shape of k-fold preds: (7000,)\n",
      "Shape of k-fold preds: (10500,)\n",
      "Shape of k-fold preds: (14000,)\n",
      "Shape of k-fold preds: (17500,)\n",
      "Shape of k-fold preds: (21000,)\n",
      "Shape of k-fold preds: (24500,)\n",
      "Shape of k-fold preds: (28000,)\n",
      "Shape of k-fold preds: (31500,)\n",
      "FINAL SHAPE kfold preds: (35000,)\n",
      "GETTING DETECTION DISTRIBUTION FOR WINDOW: 11\n",
      "Dataset Split: 11\n",
      "REFERENCE STATS: DescribeResult(nobs=35000, minmax=(0.15842837480383548, 0.9597060191068314), mean=0.5711150112088611, variance=0.030286476981198795, skewness=-0.1855757185711945, kurtosis=-1.222414838562865)\n",
      "DETECTION STATS: DescribeResult(nobs=35000, minmax=(0.1254687491119057, 0.9240651064334491), mean=0.5719045354971275, variance=0.04433673001200497, skewness=-0.15724740947841623, kurtosis=-1.4981167581555443)\n",
      "KS Test Result: FAILED | KstestResult(statistic=0.13680000000000003, pvalue=4.0521433628819494e-286)\n",
      "\n",
      "Dataset index of split end: 455000\n",
      "GETTING REFERENCE DISTRIBUTION FOR WINDOW: 11\n",
      "Shape of k-fold preds: (0,)\n",
      "Shape of k-fold preds: (3500,)\n",
      "Shape of k-fold preds: (7000,)\n",
      "Shape of k-fold preds: (10500,)\n",
      "Shape of k-fold preds: (14000,)\n",
      "Shape of k-fold preds: (17500,)\n",
      "Shape of k-fold preds: (21000,)\n",
      "Shape of k-fold preds: (24500,)\n",
      "Shape of k-fold preds: (28000,)\n",
      "Shape of k-fold preds: (31500,)\n",
      "FINAL SHAPE kfold preds: (35000,)\n",
      "GETTING DETECTION DISTRIBUTION FOR WINDOW: 12\n",
      "Dataset Split: 12\n",
      "REFERENCE STATS: DescribeResult(nobs=35000, minmax=(0.08549433851300281, 0.9700222516385386), mean=0.5741208610230499, variance=0.02320917712316298, skewness=0.03241663840048956, kurtosis=-0.9301028071544115)\n",
      "DETECTION STATS: DescribeResult(nobs=35000, minmax=(0.1597462481504239, 0.9334867377321826), mean=0.5753549626677489, variance=0.021239983018531913, skewness=0.19482912597734808, kurtosis=-0.7707330780672672)\n",
      "KS Test Result: FAILED | KstestResult(statistic=0.06960000000000002, pvalue=3.7119068293672895e-74)\n",
      "\n",
      "Dataset index of split end: 490000\n",
      "GETTING REFERENCE DISTRIBUTION FOR WINDOW: 12\n",
      "Shape of k-fold preds: (0,)\n",
      "Shape of k-fold preds: (3500,)\n",
      "Shape of k-fold preds: (7000,)\n",
      "Shape of k-fold preds: (10500,)\n",
      "Shape of k-fold preds: (14000,)\n",
      "Shape of k-fold preds: (17500,)\n",
      "Shape of k-fold preds: (21000,)\n",
      "Shape of k-fold preds: (24500,)\n",
      "Shape of k-fold preds: (28000,)\n",
      "Shape of k-fold preds: (31500,)\n",
      "FINAL SHAPE kfold preds: (35000,)\n",
      "GETTING DETECTION DISTRIBUTION FOR WINDOW: 13\n",
      "Dataset Split: 13\n",
      "REFERENCE STATS: DescribeResult(nobs=35000, minmax=(0.08175576589788028, 0.9721144967682364), mean=0.575644617288539, variance=0.025285620544941538, skewness=-0.04836984896902623, kurtosis=-0.9373451408050486)\n",
      "DETECTION STATS: DescribeResult(nobs=35000, minmax=(0.09250014125355842, 0.9830423940149625), mean=0.5725838387527556, variance=0.021451293659612305, skewness=-0.03606790880124762, kurtosis=-0.4771487172860285)\n",
      "KS Test Result: FAILED | KstestResult(statistic=0.06882857142857143, pvalue=1.5720879828083769e-72)\n",
      "\n",
      "CPU times: user 46.5 s, sys: 1.59 s, total: 48.1 s\n",
      "Wall time: 1min 11s\n"
     ]
    },
    {
     "data": {
      "application/javascript": [
       "\n",
       "            setTimeout(function() {\n",
       "                var nbb_cell_id = 7;\n",
       "                var nbb_unformatted_code = \"%%time\\n\\nbaseline = BaselineExperiment(model=model, dataset=CT_dataset, param_grid=param_grid)\\nbaseline.run()\\n\\ntopline = ToplineExperiment(model=model, dataset=CT_dataset, param_grid=param_grid)\\ntopline.run()\\n\\nsqsi_mr = SQSI_MRExperiment(model=model, dataset=CT_dataset, param_grid=param_grid,  k=10, significance_thresh=0.001)\\nsqsi_mr.run()\";\n",
       "                var nbb_formatted_code = \"%%time\\n\\nbaseline = BaselineExperiment(model=model, dataset=CT_dataset, param_grid=param_grid)\\nbaseline.run()\\n\\ntopline = ToplineExperiment(model=model, dataset=CT_dataset, param_grid=param_grid)\\ntopline.run()\\n\\nsqsi_mr = SQSI_MRExperiment(model=model, dataset=CT_dataset, param_grid=param_grid,  k=10, significance_thresh=0.001)\\nsqsi_mr.run()\";\n",
       "                var nbb_cells = Jupyter.notebook.get_cells();\n",
       "                for (var i = 0; i < nbb_cells.length; ++i) {\n",
       "                    if (nbb_cells[i].input_prompt_number == nbb_cell_id) {\n",
       "                        if (nbb_cells[i].get_text() == nbb_unformatted_code) {\n",
       "                             nbb_cells[i].set_text(nbb_formatted_code);\n",
       "                        }\n",
       "                        break;\n",
       "                    }\n",
       "                }\n",
       "            }, 500);\n",
       "            "
      ],
      "text/plain": [
       "<IPython.core.display.Javascript object>"
      ]
     },
     "metadata": {},
     "output_type": "display_data"
    }
   ],
   "source": [
    "%%time\n",
    "\n",
    "baseline = BaselineExperiment(model=model, dataset=CT_dataset, param_grid=param_grid)\n",
    "baseline.run()\n",
    "\n",
    "topline = ToplineExperiment(model=model, dataset=CT_dataset, param_grid=param_grid)\n",
    "topline.run()\n",
    "\n",
    "sqsi_mr = SQSI_MRExperiment(model=model, dataset=CT_dataset, param_grid=param_grid,  k=10, significance_thresh=0.001)\n",
    "sqsi_mr.run()"
   ]
  },
  {
   "cell_type": "code",
   "execution_count": 8,
   "id": "6dd34882",
   "metadata": {},
   "outputs": [
    {
     "data": {
      "image/png": "[encoded data removed]",
      "text/plain": [
       "<Figure size 1080x504 with 1 Axes>"
      ]
     },
     "metadata": {
      "needs_background": "light"
     },
     "output_type": "display_data"
    },
    {
     "data": {
      "text/html": [
       "<div>\n",
       "<style scoped>\n",
       "    .dataframe tbody tr th:only-of-type {\n",
       "        vertical-align: middle;\n",
       "    }\n",
       "\n",
       "    .dataframe tbody tr th {\n",
       "        vertical-align: top;\n",
       "    }\n",
       "\n",
       "    .dataframe thead th {\n",
       "        text-align: right;\n",
       "    }\n",
       "</style>\n",
       "<table border=\"1\" class=\"dataframe\">\n",
       "  <thead>\n",
       "    <tr style=\"text-align: right;\">\n",
       "      <th></th>\n",
       "      <th>times_retrained</th>\n",
       "      <th>percent_total_labels</th>\n",
       "      <th>total_train_time</th>\n",
       "    </tr>\n",
       "    <tr>\n",
       "      <th>experiment</th>\n",
       "      <th></th>\n",
       "      <th></th>\n",
       "      <th></th>\n",
       "    </tr>\n",
       "  </thead>\n",
       "  <tbody>\n",
       "    <tr>\n",
       "      <th>baseline</th>\n",
       "      <td>1</td>\n",
       "      <td>0.0707</td>\n",
       "      <td>0.16</td>\n",
       "    </tr>\n",
       "    <tr>\n",
       "      <th>topline</th>\n",
       "      <td>14</td>\n",
       "      <td>0.9896</td>\n",
       "      <td>1.98</td>\n",
       "    </tr>\n",
       "    <tr>\n",
       "      <th>sqsi-mr</th>\n",
       "      <td>14</td>\n",
       "      <td>0.9896</td>\n",
       "      <td>1.95</td>\n",
       "    </tr>\n",
       "  </tbody>\n",
       "</table>\n",
       "</div>"
      ],
      "text/plain": [
       "            times_retrained  percent_total_labels  total_train_time\n",
       "experiment                                                         \n",
       "baseline                  1                0.0707              0.16\n",
       "topline                  14                0.9896              1.98\n",
       "sqsi-mr                  14                0.9896              1.95"
      ]
     },
     "execution_count": 8,
     "metadata": {},
     "output_type": "execute_result"
    },
    {
     "data": {
      "application/javascript": [
       "\n",
       "            setTimeout(function() {\n",
       "                var nbb_cell_id = 8;\n",
       "                var nbb_unformatted_code = \"exps = [baseline, topline, sqsi_mr]\\nplot_multiple_experiments(exps, change_points)\\naggregate_experiment_metrics(exps)\";\n",
       "                var nbb_formatted_code = \"exps = [baseline, topline, sqsi_mr]\\nplot_multiple_experiments(exps, change_points)\\naggregate_experiment_metrics(exps)\";\n",
       "                var nbb_cells = Jupyter.notebook.get_cells();\n",
       "                for (var i = 0; i < nbb_cells.length; ++i) {\n",
       "                    if (nbb_cells[i].input_prompt_number == nbb_cell_id) {\n",
       "                        if (nbb_cells[i].get_text() == nbb_unformatted_code) {\n",
       "                             nbb_cells[i].set_text(nbb_formatted_code);\n",
       "                        }\n",
       "                        break;\n",
       "                    }\n",
       "                }\n",
       "            }, 500);\n",
       "            "
      ],
      "text/plain": [
       "<IPython.core.display.Javascript object>"
      ]
     },
     "metadata": {},
     "output_type": "display_data"
    }
   ],
   "source": [
    "exps = [baseline, topline, sqsi_mr]\n",
    "plot_multiple_experiments(exps, change_points)\n",
    "aggregate_experiment_metrics(exps)"
   ]
  },
  {
   "cell_type": "markdown",
   "id": "d1ff6872",
   "metadata": {},
   "source": [
    "## SQSI Debug"
   ]
  },
  {
   "cell_type": "code",
   "execution_count": 9,
   "id": "eeda31b7",
   "metadata": {},
   "outputs": [
    {
     "data": {
      "image/png": "[encoded data removed]",
      "text/plain": [
       "<Figure size 950.25x864 with 13 Axes>"
      ]
     },
     "metadata": {
      "needs_background": "light"
     },
     "output_type": "display_data"
    },
    {
     "data": {
      "application/javascript": [
       "\n",
       "            setTimeout(function() {\n",
       "                var nbb_cell_id = 9;\n",
       "                var nbb_unformatted_code = \"# @ k = 5\\nplot_response_distributions_bysplit(sqsi_mr)\";\n",
       "                var nbb_formatted_code = \"# @ k = 5\\nplot_response_distributions_bysplit(sqsi_mr)\";\n",
       "                var nbb_cells = Jupyter.notebook.get_cells();\n",
       "                for (var i = 0; i < nbb_cells.length; ++i) {\n",
       "                    if (nbb_cells[i].input_prompt_number == nbb_cell_id) {\n",
       "                        if (nbb_cells[i].get_text() == nbb_unformatted_code) {\n",
       "                             nbb_cells[i].set_text(nbb_formatted_code);\n",
       "                        }\n",
       "                        break;\n",
       "                    }\n",
       "                }\n",
       "            }, 500);\n",
       "            "
      ],
      "text/plain": [
       "<IPython.core.display.Javascript object>"
      ]
     },
     "metadata": {},
     "output_type": "display_data"
    }
   ],
   "source": [
    "# @ k = 5\n",
    "plot_response_distributions_bysplit(sqsi_mr)"
   ]
  },
  {
   "cell_type": "code",
   "execution_count": 31,
   "id": "4b6898e0",
   "metadata": {
    "scrolled": false
   },
   "outputs": [
    {
     "data": {
      "image/png": "[encoded data removed]",
      "text/plain": [
       "<Figure size 950.25x864 with 13 Axes>"
      ]
     },
     "metadata": {
      "needs_background": "light"
     },
     "output_type": "display_data"
    },
    {
     "data": {
      "application/javascript": [
       "\n",
       "            setTimeout(function() {\n",
       "                var nbb_cell_id = 31;\n",
       "                var nbb_unformatted_code = \"# @ k = 5\\nplot_response_distributions_bysplit(sqsi_mr)\";\n",
       "                var nbb_formatted_code = \"# @ k = 5\\nplot_response_distributions_bysplit(sqsi_mr)\";\n",
       "                var nbb_cells = Jupyter.notebook.get_cells();\n",
       "                for (var i = 0; i < nbb_cells.length; ++i) {\n",
       "                    if (nbb_cells[i].input_prompt_number == nbb_cell_id) {\n",
       "                        if (nbb_cells[i].get_text() == nbb_unformatted_code) {\n",
       "                             nbb_cells[i].set_text(nbb_formatted_code);\n",
       "                        }\n",
       "                        break;\n",
       "                    }\n",
       "                }\n",
       "            }, 500);\n",
       "            "
      ],
      "text/plain": [
       "<IPython.core.display.Javascript object>"
      ]
     },
     "metadata": {},
     "output_type": "display_data"
    }
   ],
   "source": [
    "# @ k = 5\n",
    "plot_response_distributions_bysplit(sqsi_mr)"
   ]
  },
  {
   "cell_type": "code",
   "execution_count": 34,
   "id": "f976a8d2",
   "metadata": {},
   "outputs": [
    {
     "data": {
      "text/html": [
       "<div>\n",
       "<style scoped>\n",
       "    .dataframe tbody tr th:only-of-type {\n",
       "        vertical-align: middle;\n",
       "    }\n",
       "\n",
       "    .dataframe tbody tr th {\n",
       "        vertical-align: top;\n",
       "    }\n",
       "\n",
       "    .dataframe thead th {\n",
       "        text-align: right;\n",
       "    }\n",
       "</style>\n",
       "<table border=\"1\" class=\"dataframe\">\n",
       "  <thead>\n",
       "    <tr style=\"text-align: right;\">\n",
       "      <th></th>\n",
       "      <th>Split</th>\n",
       "      <th>Distance</th>\n",
       "    </tr>\n",
       "  </thead>\n",
       "  <tbody>\n",
       "    <tr>\n",
       "      <th>0</th>\n",
       "      <td>0</td>\n",
       "      <td>0.157516</td>\n",
       "    </tr>\n",
       "    <tr>\n",
       "      <th>1</th>\n",
       "      <td>1</td>\n",
       "      <td>0.139466</td>\n",
       "    </tr>\n",
       "    <tr>\n",
       "      <th>2</th>\n",
       "      <td>2</td>\n",
       "      <td>0.116900</td>\n",
       "    </tr>\n",
       "    <tr>\n",
       "      <th>3</th>\n",
       "      <td>3</td>\n",
       "      <td>0.073200</td>\n",
       "    </tr>\n",
       "    <tr>\n",
       "      <th>4</th>\n",
       "      <td>4</td>\n",
       "      <td>0.072692</td>\n",
       "    </tr>\n",
       "    <tr>\n",
       "      <th>5</th>\n",
       "      <td>5</td>\n",
       "      <td>0.071443</td>\n",
       "    </tr>\n",
       "    <tr>\n",
       "      <th>6</th>\n",
       "      <td>6</td>\n",
       "      <td>0.093299</td>\n",
       "    </tr>\n",
       "    <tr>\n",
       "      <th>7</th>\n",
       "      <td>7</td>\n",
       "      <td>0.083039</td>\n",
       "    </tr>\n",
       "    <tr>\n",
       "      <th>8</th>\n",
       "      <td>8</td>\n",
       "      <td>0.063572</td>\n",
       "    </tr>\n",
       "    <tr>\n",
       "      <th>9</th>\n",
       "      <td>9</td>\n",
       "      <td>0.054215</td>\n",
       "    </tr>\n",
       "    <tr>\n",
       "      <th>10</th>\n",
       "      <td>10</td>\n",
       "      <td>0.129053</td>\n",
       "    </tr>\n",
       "    <tr>\n",
       "      <th>11</th>\n",
       "      <td>11</td>\n",
       "      <td>0.070147</td>\n",
       "    </tr>\n",
       "    <tr>\n",
       "      <th>12</th>\n",
       "      <td>12</td>\n",
       "      <td>0.076467</td>\n",
       "    </tr>\n",
       "  </tbody>\n",
       "</table>\n",
       "</div>"
      ],
      "text/plain": [
       "    Split  Distance\n",
       "0       0  0.157516\n",
       "1       1  0.139466\n",
       "2       2  0.116900\n",
       "3       3  0.073200\n",
       "4       4  0.072692\n",
       "5       5  0.071443\n",
       "6       6  0.093299\n",
       "7       7  0.083039\n",
       "8       8  0.063572\n",
       "9       9  0.054215\n",
       "10     10  0.129053\n",
       "11     11  0.070147\n",
       "12     12  0.076467"
      ]
     },
     "execution_count": 34,
     "metadata": {},
     "output_type": "execute_result"
    },
    {
     "data": {
      "application/javascript": [
       "\n",
       "            setTimeout(function() {\n",
       "                var nbb_cell_id = 34;\n",
       "                var nbb_unformatted_code = \"calculate_distances_window_distances(sqsi_mr, scipy.stats.entropy)\";\n",
       "                var nbb_formatted_code = \"calculate_distances_window_distances(sqsi_mr, scipy.stats.entropy)\";\n",
       "                var nbb_cells = Jupyter.notebook.get_cells();\n",
       "                for (var i = 0; i < nbb_cells.length; ++i) {\n",
       "                    if (nbb_cells[i].input_prompt_number == nbb_cell_id) {\n",
       "                        if (nbb_cells[i].get_text() == nbb_unformatted_code) {\n",
       "                             nbb_cells[i].set_text(nbb_formatted_code);\n",
       "                        }\n",
       "                        break;\n",
       "                    }\n",
       "                }\n",
       "            }, 500);\n",
       "            "
      ],
      "text/plain": [
       "<IPython.core.display.Javascript object>"
      ]
     },
     "metadata": {},
     "output_type": "display_data"
    }
   ],
   "source": [
    "calculate_distances_window_distances(sqsi_mr, scipy.stats.entropy)"
   ]
  },
  {
   "cell_type": "code",
   "execution_count": 33,
   "id": "5c9b7d61",
   "metadata": {},
   "outputs": [
    {
     "data": {
      "text/html": [
       "<div>\n",
       "<style scoped>\n",
       "    .dataframe tbody tr th:only-of-type {\n",
       "        vertical-align: middle;\n",
       "    }\n",
       "\n",
       "    .dataframe tbody tr th {\n",
       "        vertical-align: top;\n",
       "    }\n",
       "\n",
       "    .dataframe thead th {\n",
       "        text-align: right;\n",
       "    }\n",
       "</style>\n",
       "<table border=\"1\" class=\"dataframe\">\n",
       "  <thead>\n",
       "    <tr style=\"text-align: right;\">\n",
       "      <th></th>\n",
       "      <th>Split</th>\n",
       "      <th>Distance</th>\n",
       "    </tr>\n",
       "  </thead>\n",
       "  <tbody>\n",
       "    <tr>\n",
       "      <th>0</th>\n",
       "      <td>0</td>\n",
       "      <td>0.009110</td>\n",
       "    </tr>\n",
       "    <tr>\n",
       "      <th>1</th>\n",
       "      <td>1</td>\n",
       "      <td>0.014873</td>\n",
       "    </tr>\n",
       "    <tr>\n",
       "      <th>2</th>\n",
       "      <td>2</td>\n",
       "      <td>0.098546</td>\n",
       "    </tr>\n",
       "    <tr>\n",
       "      <th>3</th>\n",
       "      <td>3</td>\n",
       "      <td>0.041194</td>\n",
       "    </tr>\n",
       "    <tr>\n",
       "      <th>4</th>\n",
       "      <td>4</td>\n",
       "      <td>0.026446</td>\n",
       "    </tr>\n",
       "    <tr>\n",
       "      <th>5</th>\n",
       "      <td>5</td>\n",
       "      <td>0.041569</td>\n",
       "    </tr>\n",
       "    <tr>\n",
       "      <th>6</th>\n",
       "      <td>6</td>\n",
       "      <td>0.020963</td>\n",
       "    </tr>\n",
       "    <tr>\n",
       "      <th>7</th>\n",
       "      <td>7</td>\n",
       "      <td>0.040058</td>\n",
       "    </tr>\n",
       "    <tr>\n",
       "      <th>8</th>\n",
       "      <td>8</td>\n",
       "      <td>0.004096</td>\n",
       "    </tr>\n",
       "    <tr>\n",
       "      <th>9</th>\n",
       "      <td>9</td>\n",
       "      <td>0.031281</td>\n",
       "    </tr>\n",
       "    <tr>\n",
       "      <th>10</th>\n",
       "      <td>10</td>\n",
       "      <td>0.038906</td>\n",
       "    </tr>\n",
       "    <tr>\n",
       "      <th>11</th>\n",
       "      <td>11</td>\n",
       "      <td>0.011287</td>\n",
       "    </tr>\n",
       "    <tr>\n",
       "      <th>12</th>\n",
       "      <td>12</td>\n",
       "      <td>0.015810</td>\n",
       "    </tr>\n",
       "  </tbody>\n",
       "</table>\n",
       "</div>"
      ],
      "text/plain": [
       "    Split  Distance\n",
       "0       0  0.009110\n",
       "1       1  0.014873\n",
       "2       2  0.098546\n",
       "3       3  0.041194\n",
       "4       4  0.026446\n",
       "5       5  0.041569\n",
       "6       6  0.020963\n",
       "7       7  0.040058\n",
       "8       8  0.004096\n",
       "9       9  0.031281\n",
       "10     10  0.038906\n",
       "11     11  0.011287\n",
       "12     12  0.015810"
      ]
     },
     "execution_count": 33,
     "metadata": {},
     "output_type": "execute_result"
    },
    {
     "data": {
      "application/javascript": [
       "\n",
       "            setTimeout(function() {\n",
       "                var nbb_cell_id = 33;\n",
       "                var nbb_unformatted_code = \"calculate_distances_window_distances(sqsi_mr, scipy.stats.wasserstein_distance)\";\n",
       "                var nbb_formatted_code = \"calculate_distances_window_distances(sqsi_mr, scipy.stats.wasserstein_distance)\";\n",
       "                var nbb_cells = Jupyter.notebook.get_cells();\n",
       "                for (var i = 0; i < nbb_cells.length; ++i) {\n",
       "                    if (nbb_cells[i].input_prompt_number == nbb_cell_id) {\n",
       "                        if (nbb_cells[i].get_text() == nbb_unformatted_code) {\n",
       "                             nbb_cells[i].set_text(nbb_formatted_code);\n",
       "                        }\n",
       "                        break;\n",
       "                    }\n",
       "                }\n",
       "            }, 500);\n",
       "            "
      ],
      "text/plain": [
       "<IPython.core.display.Javascript object>"
      ]
     },
     "metadata": {},
     "output_type": "display_data"
    }
   ],
   "source": [
    "calculate_distances_window_distances(sqsi_mr, scipy.stats.wasserstein_distance)"
   ]
  },
  {
   "cell_type": "code",
   "execution_count": 32,
   "id": "0e302e39",
   "metadata": {
    "scrolled": false
   },
   "outputs": [
    {
     "data": {
      "text/html": [
       "<div>\n",
       "<style scoped>\n",
       "    .dataframe tbody tr th:only-of-type {\n",
       "        vertical-align: middle;\n",
       "    }\n",
       "\n",
       "    .dataframe tbody tr th {\n",
       "        vertical-align: top;\n",
       "    }\n",
       "\n",
       "    .dataframe thead th {\n",
       "        text-align: right;\n",
       "    }\n",
       "</style>\n",
       "<table border=\"1\" class=\"dataframe\">\n",
       "  <thead>\n",
       "    <tr style=\"text-align: right;\">\n",
       "      <th></th>\n",
       "      <th>Split</th>\n",
       "      <th>Distance</th>\n",
       "    </tr>\n",
       "  </thead>\n",
       "  <tbody>\n",
       "    <tr>\n",
       "      <th>0</th>\n",
       "      <td>0</td>\n",
       "      <td>0.194725</td>\n",
       "    </tr>\n",
       "    <tr>\n",
       "      <th>1</th>\n",
       "      <td>1</td>\n",
       "      <td>0.185078</td>\n",
       "    </tr>\n",
       "    <tr>\n",
       "      <th>2</th>\n",
       "      <td>2</td>\n",
       "      <td>0.169473</td>\n",
       "    </tr>\n",
       "    <tr>\n",
       "      <th>3</th>\n",
       "      <td>3</td>\n",
       "      <td>0.135201</td>\n",
       "    </tr>\n",
       "    <tr>\n",
       "      <th>4</th>\n",
       "      <td>4</td>\n",
       "      <td>0.133278</td>\n",
       "    </tr>\n",
       "    <tr>\n",
       "      <th>5</th>\n",
       "      <td>5</td>\n",
       "      <td>0.132565</td>\n",
       "    </tr>\n",
       "    <tr>\n",
       "      <th>6</th>\n",
       "      <td>6</td>\n",
       "      <td>0.151304</td>\n",
       "    </tr>\n",
       "    <tr>\n",
       "      <th>7</th>\n",
       "      <td>7</td>\n",
       "      <td>0.142964</td>\n",
       "    </tr>\n",
       "    <tr>\n",
       "      <th>8</th>\n",
       "      <td>8</td>\n",
       "      <td>0.124812</td>\n",
       "    </tr>\n",
       "    <tr>\n",
       "      <th>9</th>\n",
       "      <td>9</td>\n",
       "      <td>0.116194</td>\n",
       "    </tr>\n",
       "    <tr>\n",
       "      <th>10</th>\n",
       "      <td>10</td>\n",
       "      <td>0.175855</td>\n",
       "    </tr>\n",
       "    <tr>\n",
       "      <th>11</th>\n",
       "      <td>11</td>\n",
       "      <td>0.131688</td>\n",
       "    </tr>\n",
       "    <tr>\n",
       "      <th>12</th>\n",
       "      <td>12</td>\n",
       "      <td>0.136780</td>\n",
       "    </tr>\n",
       "  </tbody>\n",
       "</table>\n",
       "</div>"
      ],
      "text/plain": [
       "    Split  Distance\n",
       "0       0  0.194725\n",
       "1       1  0.185078\n",
       "2       2  0.169473\n",
       "3       3  0.135201\n",
       "4       4  0.133278\n",
       "5       5  0.132565\n",
       "6       6  0.151304\n",
       "7       7  0.142964\n",
       "8       8  0.124812\n",
       "9       9  0.116194\n",
       "10     10  0.175855\n",
       "11     11  0.131688\n",
       "12     12  0.136780"
      ]
     },
     "execution_count": 32,
     "metadata": {},
     "output_type": "execute_result"
    },
    {
     "data": {
      "application/javascript": [
       "\n",
       "            setTimeout(function() {\n",
       "                var nbb_cell_id = 32;\n",
       "                var nbb_unformatted_code = \"calculate_distances_window_distances(sqsi_mr, scipy.spatial.distance.jensenshannon)\";\n",
       "                var nbb_formatted_code = \"calculate_distances_window_distances(sqsi_mr, scipy.spatial.distance.jensenshannon)\";\n",
       "                var nbb_cells = Jupyter.notebook.get_cells();\n",
       "                for (var i = 0; i < nbb_cells.length; ++i) {\n",
       "                    if (nbb_cells[i].input_prompt_number == nbb_cell_id) {\n",
       "                        if (nbb_cells[i].get_text() == nbb_unformatted_code) {\n",
       "                             nbb_cells[i].set_text(nbb_formatted_code);\n",
       "                        }\n",
       "                        break;\n",
       "                    }\n",
       "                }\n",
       "            }, 500);\n",
       "            "
      ],
      "text/plain": [
       "<IPython.core.display.Javascript object>"
      ]
     },
     "metadata": {},
     "output_type": "display_data"
    }
   ],
   "source": [
    "calculate_distances_window_distances(sqsi_mr, scipy.spatial.distance.jensenshannon)"
   ]
  },
  {
   "cell_type": "code",
   "execution_count": null,
   "id": "6415cf0a",
   "metadata": {},
   "outputs": [],
   "source": []
  },
  {
   "cell_type": "code",
   "execution_count": null,
   "id": "d704d306",
   "metadata": {},
   "outputs": [],
   "source": [
    "scipy.spatial.distance.jensenshannon()"
   ]
  },
  {
   "cell_type": "code",
   "execution_count": 26,
   "id": "ab121038",
   "metadata": {},
   "outputs": [
    {
     "data": {
      "text/html": [
       "<div>\n",
       "<style scoped>\n",
       "    .dataframe tbody tr th:only-of-type {\n",
       "        vertical-align: middle;\n",
       "    }\n",
       "\n",
       "    .dataframe tbody tr th {\n",
       "        vertical-align: top;\n",
       "    }\n",
       "\n",
       "    .dataframe thead th {\n",
       "        text-align: right;\n",
       "    }\n",
       "</style>\n",
       "<table border=\"1\" class=\"dataframe\">\n",
       "  <thead>\n",
       "    <tr style=\"text-align: right;\">\n",
       "      <th></th>\n",
       "      <th>a</th>\n",
       "      <th>b</th>\n",
       "      <th>0</th>\n",
       "    </tr>\n",
       "  </thead>\n",
       "  <tbody>\n",
       "    <tr>\n",
       "      <th>0</th>\n",
       "      <td>NaN</td>\n",
       "      <td>NaN</td>\n",
       "      <td>1.0</td>\n",
       "    </tr>\n",
       "    <tr>\n",
       "      <th>1</th>\n",
       "      <td>NaN</td>\n",
       "      <td>NaN</td>\n",
       "      <td>2.0</td>\n",
       "    </tr>\n",
       "  </tbody>\n",
       "</table>\n",
       "</div>"
      ],
      "text/plain": [
       "     a    b    0\n",
       "0  NaN  NaN  1.0\n",
       "1  NaN  NaN  2.0"
      ]
     },
     "execution_count": 26,
     "metadata": {},
     "output_type": "execute_result"
    },
    {
     "data": {
      "application/javascript": [
       "\n",
       "            setTimeout(function() {\n",
       "                var nbb_cell_id = 26;\n",
       "                var nbb_unformatted_code = \"pd.DataFrame(columns=[\\\"a\\\", \\\"b\\\"]).append(pd.DataFrame((1, 2)))\";\n",
       "                var nbb_formatted_code = \"pd.DataFrame(columns=[\\\"a\\\", \\\"b\\\"]).append(pd.DataFrame((1, 2)))\";\n",
       "                var nbb_cells = Jupyter.notebook.get_cells();\n",
       "                for (var i = 0; i < nbb_cells.length; ++i) {\n",
       "                    if (nbb_cells[i].input_prompt_number == nbb_cell_id) {\n",
       "                        if (nbb_cells[i].get_text() == nbb_unformatted_code) {\n",
       "                             nbb_cells[i].set_text(nbb_formatted_code);\n",
       "                        }\n",
       "                        break;\n",
       "                    }\n",
       "                }\n",
       "            }, 500);\n",
       "            "
      ],
      "text/plain": [
       "<IPython.core.display.Javascript object>"
      ]
     },
     "metadata": {},
     "output_type": "display_data"
    }
   ],
   "source": [
    "pd.DataFrame(columns=[\"a\", \"b\"]).append(pd.DataFrame((1, 2)))"
   ]
  },
  {
   "cell_type": "code",
   "execution_count": null,
   "id": "21449abf",
   "metadata": {},
   "outputs": [],
   "source": [
    "pd.DataFrame()"
   ]
  },
  {
   "cell_type": "markdown",
   "id": "058ccaf1",
   "metadata": {},
   "source": [
    "### Applying Linear Transformation aka standardizing"
   ]
  },
  {
   "cell_type": "code",
   "execution_count": 38,
   "id": "055ce329",
   "metadata": {},
   "outputs": [
    {
     "data": {
      "application/javascript": [
       "\n",
       "            setTimeout(function() {\n",
       "                var nbb_cell_id = 38;\n",
       "                var nbb_unformatted_code = \"# pull a consequtive reference/detection window pair\\nref_features, ref_labels = ED_dataset.get_window_data(window_idx=0)\\ndet_features, det_labels = ED_dataset.get_window_data(window_idx=1)\";\n",
       "                var nbb_formatted_code = \"# pull a consequtive reference/detection window pair\\nref_features, ref_labels = ED_dataset.get_window_data(window_idx=0)\\ndet_features, det_labels = ED_dataset.get_window_data(window_idx=1)\";\n",
       "                var nbb_cells = Jupyter.notebook.get_cells();\n",
       "                for (var i = 0; i < nbb_cells.length; ++i) {\n",
       "                    if (nbb_cells[i].input_prompt_number == nbb_cell_id) {\n",
       "                        if (nbb_cells[i].get_text() == nbb_unformatted_code) {\n",
       "                             nbb_cells[i].set_text(nbb_formatted_code);\n",
       "                        }\n",
       "                        break;\n",
       "                    }\n",
       "                }\n",
       "            }, 500);\n",
       "            "
      ],
      "text/plain": [
       "<IPython.core.display.Javascript object>"
      ]
     },
     "metadata": {},
     "output_type": "display_data"
    }
   ],
   "source": [
    "# pull a consequtive reference/detection window pair\n",
    "ref_features, ref_labels = ED_dataset.get_window_data(window_idx=0)\n",
    "det_features, det_labels = ED_dataset.get_window_data(window_idx=1)"
   ]
  },
  {
   "cell_type": "code",
   "execution_count": 31,
   "id": "04a7fd03",
   "metadata": {},
   "outputs": [
    {
     "data": {
      "text/html": [
       "<div>\n",
       "<style scoped>\n",
       "    .dataframe tbody tr th:only-of-type {\n",
       "        vertical-align: middle;\n",
       "    }\n",
       "\n",
       "    .dataframe tbody tr th {\n",
       "        vertical-align: top;\n",
       "    }\n",
       "\n",
       "    .dataframe thead th {\n",
       "        text-align: right;\n",
       "    }\n",
       "</style>\n",
       "<table border=\"1\" class=\"dataframe\">\n",
       "  <thead>\n",
       "    <tr style=\"text-align: right;\">\n",
       "      <th></th>\n",
       "      <th>elevation</th>\n",
       "      <th>aspect</th>\n",
       "      <th>slope</th>\n",
       "      <th>horizontal_dist_to_hydrology</th>\n",
       "      <th>vertical_dist_to_hydrology</th>\n",
       "      <th>horizontal_dist_to_roadways</th>\n",
       "      <th>hillshade_9am</th>\n",
       "      <th>hillshade_noon</th>\n",
       "      <th>hillshade_3pm</th>\n",
       "      <th>horizontal_dist_to_fire_points</th>\n",
       "      <th>wilderness_area_1</th>\n",
       "      <th>wilderness_area_2</th>\n",
       "      <th>wilderness_area_3</th>\n",
       "      <th>wilderness_area_4</th>\n",
       "    </tr>\n",
       "  </thead>\n",
       "  <tbody>\n",
       "    <tr>\n",
       "      <th>0</th>\n",
       "      <td>2836</td>\n",
       "      <td>343</td>\n",
       "      <td>15</td>\n",
       "      <td>190</td>\n",
       "      <td>3</td>\n",
       "      <td>700</td>\n",
       "      <td>188</td>\n",
       "      <td>216</td>\n",
       "      <td>166</td>\n",
       "      <td>1181</td>\n",
       "      <td>0</td>\n",
       "      <td>0</td>\n",
       "      <td>1</td>\n",
       "      <td>0</td>\n",
       "    </tr>\n",
       "    <tr>\n",
       "      <th>1</th>\n",
       "      <td>2939</td>\n",
       "      <td>174</td>\n",
       "      <td>14</td>\n",
       "      <td>182</td>\n",
       "      <td>27</td>\n",
       "      <td>4590</td>\n",
       "      <td>227</td>\n",
       "      <td>246</td>\n",
       "      <td>148</td>\n",
       "      <td>2665</td>\n",
       "      <td>1</td>\n",
       "      <td>0</td>\n",
       "      <td>0</td>\n",
       "      <td>0</td>\n",
       "    </tr>\n",
       "    <tr>\n",
       "      <th>2</th>\n",
       "      <td>3181</td>\n",
       "      <td>46</td>\n",
       "      <td>28</td>\n",
       "      <td>582</td>\n",
       "      <td>15</td>\n",
       "      <td>812</td>\n",
       "      <td>216</td>\n",
       "      <td>168</td>\n",
       "      <td>71</td>\n",
       "      <td>1681</td>\n",
       "      <td>0</td>\n",
       "      <td>1</td>\n",
       "      <td>0</td>\n",
       "      <td>0</td>\n",
       "    </tr>\n",
       "    <tr>\n",
       "      <th>3</th>\n",
       "      <td>3233</td>\n",
       "      <td>123</td>\n",
       "      <td>12</td>\n",
       "      <td>661</td>\n",
       "      <td>29</td>\n",
       "      <td>3030</td>\n",
       "      <td>240</td>\n",
       "      <td>231</td>\n",
       "      <td>120</td>\n",
       "      <td>3024</td>\n",
       "      <td>0</td>\n",
       "      <td>0</td>\n",
       "      <td>1</td>\n",
       "      <td>0</td>\n",
       "    </tr>\n",
       "    <tr>\n",
       "      <th>4</th>\n",
       "      <td>3023</td>\n",
       "      <td>24</td>\n",
       "      <td>8</td>\n",
       "      <td>531</td>\n",
       "      <td>43</td>\n",
       "      <td>1207</td>\n",
       "      <td>216</td>\n",
       "      <td>222</td>\n",
       "      <td>143</td>\n",
       "      <td>2347</td>\n",
       "      <td>1</td>\n",
       "      <td>0</td>\n",
       "      <td>0</td>\n",
       "      <td>0</td>\n",
       "    </tr>\n",
       "    <tr>\n",
       "      <th>...</th>\n",
       "      <td>...</td>\n",
       "      <td>...</td>\n",
       "      <td>...</td>\n",
       "      <td>...</td>\n",
       "      <td>...</td>\n",
       "      <td>...</td>\n",
       "      <td>...</td>\n",
       "      <td>...</td>\n",
       "      <td>...</td>\n",
       "      <td>...</td>\n",
       "      <td>...</td>\n",
       "      <td>...</td>\n",
       "      <td>...</td>\n",
       "      <td>...</td>\n",
       "    </tr>\n",
       "    <tr>\n",
       "      <th>34995</th>\n",
       "      <td>3061</td>\n",
       "      <td>285</td>\n",
       "      <td>14</td>\n",
       "      <td>124</td>\n",
       "      <td>25</td>\n",
       "      <td>1321</td>\n",
       "      <td>181</td>\n",
       "      <td>239</td>\n",
       "      <td>198</td>\n",
       "      <td>2583</td>\n",
       "      <td>0</td>\n",
       "      <td>0</td>\n",
       "      <td>1</td>\n",
       "      <td>0</td>\n",
       "    </tr>\n",
       "    <tr>\n",
       "      <th>34996</th>\n",
       "      <td>3189</td>\n",
       "      <td>148</td>\n",
       "      <td>4</td>\n",
       "      <td>85</td>\n",
       "      <td>8</td>\n",
       "      <td>4234</td>\n",
       "      <td>226</td>\n",
       "      <td>239</td>\n",
       "      <td>148</td>\n",
       "      <td>858</td>\n",
       "      <td>0</td>\n",
       "      <td>0</td>\n",
       "      <td>1</td>\n",
       "      <td>0</td>\n",
       "    </tr>\n",
       "    <tr>\n",
       "      <th>34997</th>\n",
       "      <td>2298</td>\n",
       "      <td>316</td>\n",
       "      <td>17</td>\n",
       "      <td>192</td>\n",
       "      <td>79</td>\n",
       "      <td>277</td>\n",
       "      <td>174</td>\n",
       "      <td>224</td>\n",
       "      <td>189</td>\n",
       "      <td>618</td>\n",
       "      <td>0</td>\n",
       "      <td>0</td>\n",
       "      <td>0</td>\n",
       "      <td>1</td>\n",
       "    </tr>\n",
       "    <tr>\n",
       "      <th>34998</th>\n",
       "      <td>3318</td>\n",
       "      <td>255</td>\n",
       "      <td>20</td>\n",
       "      <td>1057</td>\n",
       "      <td>319</td>\n",
       "      <td>3503</td>\n",
       "      <td>171</td>\n",
       "      <td>248</td>\n",
       "      <td>213</td>\n",
       "      <td>2676</td>\n",
       "      <td>0</td>\n",
       "      <td>0</td>\n",
       "      <td>1</td>\n",
       "      <td>0</td>\n",
       "    </tr>\n",
       "    <tr>\n",
       "      <th>34999</th>\n",
       "      <td>2843</td>\n",
       "      <td>127</td>\n",
       "      <td>12</td>\n",
       "      <td>30</td>\n",
       "      <td>6</td>\n",
       "      <td>2532</td>\n",
       "      <td>240</td>\n",
       "      <td>232</td>\n",
       "      <td>121</td>\n",
       "      <td>2556</td>\n",
       "      <td>1</td>\n",
       "      <td>0</td>\n",
       "      <td>0</td>\n",
       "      <td>0</td>\n",
       "    </tr>\n",
       "  </tbody>\n",
       "</table>\n",
       "<p>35000 rows × 14 columns</p>\n",
       "</div>"
      ],
      "text/plain": [
       "       elevation  aspect  slope  horizontal_dist_to_hydrology  \\\n",
       "0           2836     343     15                           190   \n",
       "1           2939     174     14                           182   \n",
       "2           3181      46     28                           582   \n",
       "3           3233     123     12                           661   \n",
       "4           3023      24      8                           531   \n",
       "...          ...     ...    ...                           ...   \n",
       "34995       3061     285     14                           124   \n",
       "34996       3189     148      4                            85   \n",
       "34997       2298     316     17                           192   \n",
       "34998       3318     255     20                          1057   \n",
       "34999       2843     127     12                            30   \n",
       "\n",
       "       vertical_dist_to_hydrology  horizontal_dist_to_roadways  hillshade_9am  \\\n",
       "0                               3                          700            188   \n",
       "1                              27                         4590            227   \n",
       "2                              15                          812            216   \n",
       "3                              29                         3030            240   \n",
       "4                              43                         1207            216   \n",
       "...                           ...                          ...            ...   \n",
       "34995                          25                         1321            181   \n",
       "34996                           8                         4234            226   \n",
       "34997                          79                          277            174   \n",
       "34998                         319                         3503            171   \n",
       "34999                           6                         2532            240   \n",
       "\n",
       "       hillshade_noon  hillshade_3pm  horizontal_dist_to_fire_points  \\\n",
       "0                 216            166                            1181   \n",
       "1                 246            148                            2665   \n",
       "2                 168             71                            1681   \n",
       "3                 231            120                            3024   \n",
       "4                 222            143                            2347   \n",
       "...               ...            ...                             ...   \n",
       "34995             239            198                            2583   \n",
       "34996             239            148                             858   \n",
       "34997             224            189                             618   \n",
       "34998             248            213                            2676   \n",
       "34999             232            121                            2556   \n",
       "\n",
       "      wilderness_area_1 wilderness_area_2 wilderness_area_3 wilderness_area_4  \n",
       "0                     0                 0                 1                 0  \n",
       "1                     1                 0                 0                 0  \n",
       "2                     0                 1                 0                 0  \n",
       "3                     0                 0                 1                 0  \n",
       "4                     1                 0                 0                 0  \n",
       "...                 ...               ...               ...               ...  \n",
       "34995                 0                 0                 1                 0  \n",
       "34996                 0                 0                 1                 0  \n",
       "34997                 0                 0                 0                 1  \n",
       "34998                 0                 0                 1                 0  \n",
       "34999                 1                 0                 0                 0  \n",
       "\n",
       "[35000 rows x 14 columns]"
      ]
     },
     "execution_count": 31,
     "metadata": {},
     "output_type": "execute_result"
    },
    {
     "data": {
      "application/javascript": [
       "\n",
       "            setTimeout(function() {\n",
       "                var nbb_cell_id = 31;\n",
       "                var nbb_unformatted_code = \"ref_features\";\n",
       "                var nbb_formatted_code = \"ref_features\";\n",
       "                var nbb_cells = Jupyter.notebook.get_cells();\n",
       "                for (var i = 0; i < nbb_cells.length; ++i) {\n",
       "                    if (nbb_cells[i].input_prompt_number == nbb_cell_id) {\n",
       "                        if (nbb_cells[i].get_text() == nbb_unformatted_code) {\n",
       "                             nbb_cells[i].set_text(nbb_formatted_code);\n",
       "                        }\n",
       "                        break;\n",
       "                    }\n",
       "                }\n",
       "            }, 500);\n",
       "            "
      ],
      "text/plain": [
       "<IPython.core.display.Javascript object>"
      ]
     },
     "metadata": {},
     "output_type": "display_data"
    }
   ],
   "source": [
    "ref_features"
   ]
  },
  {
   "cell_type": "code",
   "execution_count": 32,
   "id": "8088a403",
   "metadata": {},
   "outputs": [
    {
     "data": {
      "application/javascript": [
       "\n",
       "            setTimeout(function() {\n",
       "                var nbb_cell_id = 32;\n",
       "                var nbb_unformatted_code = \"from sklearn.preprocessing import StandardScaler\\nfrom sklearn.compose import ColumnTransformer\";\n",
       "                var nbb_formatted_code = \"from sklearn.preprocessing import StandardScaler\\nfrom sklearn.compose import ColumnTransformer\";\n",
       "                var nbb_cells = Jupyter.notebook.get_cells();\n",
       "                for (var i = 0; i < nbb_cells.length; ++i) {\n",
       "                    if (nbb_cells[i].input_prompt_number == nbb_cell_id) {\n",
       "                        if (nbb_cells[i].get_text() == nbb_unformatted_code) {\n",
       "                             nbb_cells[i].set_text(nbb_formatted_code);\n",
       "                        }\n",
       "                        break;\n",
       "                    }\n",
       "                }\n",
       "            }, 500);\n",
       "            "
      ],
      "text/plain": [
       "<IPython.core.display.Javascript object>"
      ]
     },
     "metadata": {},
     "output_type": "display_data"
    }
   ],
   "source": [
    "from sklearn.preprocessing import StandardScaler\n",
    "from sklearn.compose import ColumnTransformer"
   ]
  },
  {
   "cell_type": "code",
   "execution_count": 35,
   "id": "cbac63ec",
   "metadata": {},
   "outputs": [
    {
     "data": {
      "text/plain": [
       "(array([3.00896254e+03, 1.54399971e+02, 1.33951714e+01, 2.75971886e+02,\n",
       "        4.43293429e+01, 2.51180057e+03, 2.13063171e+02, 2.24557143e+02,\n",
       "        1.43379029e+02, 2.09797937e+03, 5.08314286e-01, 5.58285714e-02,\n",
       "        4.29428571e-01, 6.42857143e-03]),\n",
       " array([4.11198635e+04, 1.24385546e+04, 4.87240395e+01, 4.63084910e+04,\n",
       "        3.33659128e+03, 2.47446387e+06, 6.22573809e+02, 3.39087306e+02,\n",
       "        1.33082994e+03, 1.82213469e+06, 2.49930873e-01, 5.27117420e-02,\n",
       "        2.45019673e-01, 6.38724490e-03]))"
      ]
     },
     "execution_count": 35,
     "metadata": {},
     "output_type": "execute_result"
    },
    {
     "data": {
      "application/javascript": [
       "\n",
       "            setTimeout(function() {\n",
       "                var nbb_cell_id = 35;\n",
       "                var nbb_unformatted_code = \"ref_ss = StandardScaler()\\nref_ss.fit_transform(ref_features)\\nref_ss.mean_, ref_ss.var_\";\n",
       "                var nbb_formatted_code = \"ref_ss = StandardScaler()\\nref_ss.fit_transform(ref_features)\\nref_ss.mean_, ref_ss.var_\";\n",
       "                var nbb_cells = Jupyter.notebook.get_cells();\n",
       "                for (var i = 0; i < nbb_cells.length; ++i) {\n",
       "                    if (nbb_cells[i].input_prompt_number == nbb_cell_id) {\n",
       "                        if (nbb_cells[i].get_text() == nbb_unformatted_code) {\n",
       "                             nbb_cells[i].set_text(nbb_formatted_code);\n",
       "                        }\n",
       "                        break;\n",
       "                    }\n",
       "                }\n",
       "            }, 500);\n",
       "            "
      ],
      "text/plain": [
       "<IPython.core.display.Javascript object>"
      ]
     },
     "metadata": {},
     "output_type": "display_data"
    }
   ],
   "source": [
    "ref_ss = StandardScaler()\n",
    "ref_ss.fit_transform(ref_features)\n",
    "ref_ss.mean_, ref_ss.var_"
   ]
  },
  {
   "cell_type": "code",
   "execution_count": 121,
   "id": "5851977a",
   "metadata": {},
   "outputs": [
    {
     "data": {
      "application/javascript": [
       "\n",
       "            setTimeout(function() {\n",
       "                var nbb_cell_id = 121;\n",
       "                var nbb_unformatted_code = \"transformed_det_features = ref_ss.transform(det_features)\\ntransformed_det_ss = StandardScaler().fit(transformed_det_features)\";\n",
       "                var nbb_formatted_code = \"transformed_det_features = ref_ss.transform(det_features)\\ntransformed_det_ss = StandardScaler().fit(transformed_det_features)\";\n",
       "                var nbb_cells = Jupyter.notebook.get_cells();\n",
       "                for (var i = 0; i < nbb_cells.length; ++i) {\n",
       "                    if (nbb_cells[i].input_prompt_number == nbb_cell_id) {\n",
       "                        if (nbb_cells[i].get_text() == nbb_unformatted_code) {\n",
       "                             nbb_cells[i].set_text(nbb_formatted_code);\n",
       "                        }\n",
       "                        break;\n",
       "                    }\n",
       "                }\n",
       "            }, 500);\n",
       "            "
      ],
      "text/plain": [
       "<IPython.core.display.Javascript object>"
      ]
     },
     "metadata": {},
     "output_type": "display_data"
    }
   ],
   "source": [
    "transformed_det_features = ref_ss.transform(det_features)\n",
    "transformed_det_ss = StandardScaler().fit(transformed_det_features)"
   ]
  },
  {
   "cell_type": "code",
   "execution_count": 122,
   "id": "075f9bb1",
   "metadata": {},
   "outputs": [
    {
     "data": {
      "text/plain": [
       "(array([ 0.00897751,  0.00738827, -0.02538643,  0.00314849,  0.01058155,\n",
       "         0.00424083, -0.01170245,  0.01246092,  0.01920807, -0.01688354,\n",
       "         0.00800034,  0.00087428, -0.00907994,  0.00382187]),\n",
       " array([1.02855763, 1.01197278, 0.98789416, 1.02550675, 1.07287191,\n",
       "        1.02505903, 0.97589156, 0.99522024, 0.98367774, 0.99094778,\n",
       "        0.99978878, 1.00339761, 0.99749183, 1.04807062]))"
      ]
     },
     "execution_count": 122,
     "metadata": {},
     "output_type": "execute_result"
    },
    {
     "data": {
      "application/javascript": [
       "\n",
       "            setTimeout(function() {\n",
       "                var nbb_cell_id = 122;\n",
       "                var nbb_unformatted_code = \"transformed_det_ss.mean_, transformed_det_ss.var_\";\n",
       "                var nbb_formatted_code = \"transformed_det_ss.mean_, transformed_det_ss.var_\";\n",
       "                var nbb_cells = Jupyter.notebook.get_cells();\n",
       "                for (var i = 0; i < nbb_cells.length; ++i) {\n",
       "                    if (nbb_cells[i].input_prompt_number == nbb_cell_id) {\n",
       "                        if (nbb_cells[i].get_text() == nbb_unformatted_code) {\n",
       "                             nbb_cells[i].set_text(nbb_formatted_code);\n",
       "                        }\n",
       "                        break;\n",
       "                    }\n",
       "                }\n",
       "            }, 500);\n",
       "            "
      ],
      "text/plain": [
       "<IPython.core.display.Javascript object>"
      ]
     },
     "metadata": {},
     "output_type": "display_data"
    }
   ],
   "source": [
    "transformed_det_ss.mean_, transformed_det_ss.var_"
   ]
  },
  {
   "cell_type": "code",
   "execution_count": null,
   "id": "d61a3379",
   "metadata": {},
   "outputs": [],
   "source": []
  },
  {
   "cell_type": "code",
   "execution_count": 118,
   "id": "736ac786",
   "metadata": {},
   "outputs": [
    {
     "data": {
      "text/plain": [
       "(array([3.0098933e+03, 1.5471940e+02, 1.3320300e+01, 2.7732960e+02,\n",
       "        4.4692300e+01, 2.5059952e+03, 2.1289910e+02, 2.2464850e+02,\n",
       "        1.4369940e+02, 2.0815653e+03, 5.0860000e-01, 5.5600000e-02,\n",
       "        4.2930000e-01, 6.5000000e-03]),\n",
       " array([4.14268807e+04, 1.25142323e+04, 4.85131079e+01, 4.74847086e+04,\n",
       "        3.55839322e+03, 2.49828164e+06, 6.22247519e+02, 3.32019348e+02,\n",
       "        1.32476944e+03, 1.80784389e+06, 2.49926040e-01, 5.25086400e-02,\n",
       "        2.45001510e-01, 6.45775000e-03]))"
      ]
     },
     "execution_count": 118,
     "metadata": {},
     "output_type": "execute_result"
    },
    {
     "data": {
      "application/javascript": [
       "\n",
       "            setTimeout(function() {\n",
       "                var nbb_cell_id = 118;\n",
       "                var nbb_unformatted_code = \"det_ss = StandardScaler().fit(det_features)\\ndet_ss.mean_, det_ss.var_\";\n",
       "                var nbb_formatted_code = \"det_ss = StandardScaler().fit(det_features)\\ndet_ss.mean_, det_ss.var_\";\n",
       "                var nbb_cells = Jupyter.notebook.get_cells();\n",
       "                for (var i = 0; i < nbb_cells.length; ++i) {\n",
       "                    if (nbb_cells[i].input_prompt_number == nbb_cell_id) {\n",
       "                        if (nbb_cells[i].get_text() == nbb_unformatted_code) {\n",
       "                             nbb_cells[i].set_text(nbb_formatted_code);\n",
       "                        }\n",
       "                        break;\n",
       "                    }\n",
       "                }\n",
       "            }, 500);\n",
       "            "
      ],
      "text/plain": [
       "<IPython.core.display.Javascript object>"
      ]
     },
     "metadata": {},
     "output_type": "display_data"
    }
   ],
   "source": [
    "det_ss = StandardScaler().fit(det_features)\n",
    "det_ss.mean_, det_ss.var_"
   ]
  },
  {
   "cell_type": "markdown",
   "id": "01f35095",
   "metadata": {},
   "source": [
    "#### column transformer"
   ]
  },
  {
   "cell_type": "code",
   "execution_count": 39,
   "id": "2cbd0f5f",
   "metadata": {},
   "outputs": [
    {
     "data": {
      "application/javascript": [
       "\n",
       "            setTimeout(function() {\n",
       "                var nbb_cell_id = 39;\n",
       "                var nbb_unformatted_code = \"column_transformer = ColumnTransformer(\\n    [\\n        (\\\"continuous\\\", StandardScaler(), column_mapping[\\\"numerical_features\\\"]),\\n        (\\\"categorical\\\", \\\"passthrough\\\", column_mapping[\\\"categorical_features\\\"]),\\n    ]\\n)\";\n",
       "                var nbb_formatted_code = \"column_transformer = ColumnTransformer(\\n    [\\n        (\\\"continuous\\\", StandardScaler(), column_mapping[\\\"numerical_features\\\"]),\\n        (\\\"categorical\\\", \\\"passthrough\\\", column_mapping[\\\"categorical_features\\\"]),\\n    ]\\n)\";\n",
       "                var nbb_cells = Jupyter.notebook.get_cells();\n",
       "                for (var i = 0; i < nbb_cells.length; ++i) {\n",
       "                    if (nbb_cells[i].input_prompt_number == nbb_cell_id) {\n",
       "                        if (nbb_cells[i].get_text() == nbb_unformatted_code) {\n",
       "                             nbb_cells[i].set_text(nbb_formatted_code);\n",
       "                        }\n",
       "                        break;\n",
       "                    }\n",
       "                }\n",
       "            }, 500);\n",
       "            "
      ],
      "text/plain": [
       "<IPython.core.display.Javascript object>"
      ]
     },
     "metadata": {},
     "output_type": "display_data"
    }
   ],
   "source": [
    "column_transformer = ColumnTransformer(\n",
    "    [\n",
    "        (\"continuous\", StandardScaler(), column_mapping[\"numerical_features\"]),\n",
    "        (\"categorical\", \"passthrough\", column_mapping[\"categorical_features\"]),\n",
    "    ]\n",
    ")"
   ]
  },
  {
   "cell_type": "code",
   "execution_count": 40,
   "id": "aa398d34",
   "metadata": {},
   "outputs": [
    {
     "data": {
      "text/plain": [
       "ColumnTransformer(transformers=[('continuous', StandardScaler(),\n",
       "                                 ['elevation', 'aspect', 'slope',\n",
       "                                  'horizontal_dist_to_hydrology',\n",
       "                                  'vertical_dist_to_hydrology',\n",
       "                                  'horizontal_dist_to_roadways',\n",
       "                                  'hillshade_9am', 'hillshade_noon',\n",
       "                                  'hillshade_3pm',\n",
       "                                  'horizontal_dist_to_fire_points']),\n",
       "                                ('categorical', 'passthrough',\n",
       "                                 ['wilderness_area_1', 'wilderness_area_2',\n",
       "                                  'wilderness_area_3', 'wilderness_area_4'])])"
      ]
     },
     "execution_count": 40,
     "metadata": {},
     "output_type": "execute_result"
    },
    {
     "data": {
      "application/javascript": [
       "\n",
       "            setTimeout(function() {\n",
       "                var nbb_cell_id = 40;\n",
       "                var nbb_unformatted_code = \"column_transformer.fit(ref_features)\";\n",
       "                var nbb_formatted_code = \"column_transformer.fit(ref_features)\";\n",
       "                var nbb_cells = Jupyter.notebook.get_cells();\n",
       "                for (var i = 0; i < nbb_cells.length; ++i) {\n",
       "                    if (nbb_cells[i].input_prompt_number == nbb_cell_id) {\n",
       "                        if (nbb_cells[i].get_text() == nbb_unformatted_code) {\n",
       "                             nbb_cells[i].set_text(nbb_formatted_code);\n",
       "                        }\n",
       "                        break;\n",
       "                    }\n",
       "                }\n",
       "            }, 500);\n",
       "            "
      ],
      "text/plain": [
       "<IPython.core.display.Javascript object>"
      ]
     },
     "metadata": {},
     "output_type": "display_data"
    }
   ],
   "source": [
    "column_transformer.fit(ref_features)"
   ]
  },
  {
   "cell_type": "code",
   "execution_count": 73,
   "id": "63129e15",
   "metadata": {},
   "outputs": [
    {
     "data": {
      "application/javascript": [
       "\n",
       "            setTimeout(function() {\n",
       "                var nbb_cell_id = 73;\n",
       "                var nbb_unformatted_code = \"transformed_ref_features = column_transformer.transform(ref_features)\";\n",
       "                var nbb_formatted_code = \"transformed_ref_features = column_transformer.transform(ref_features)\";\n",
       "                var nbb_cells = Jupyter.notebook.get_cells();\n",
       "                for (var i = 0; i < nbb_cells.length; ++i) {\n",
       "                    if (nbb_cells[i].input_prompt_number == nbb_cell_id) {\n",
       "                        if (nbb_cells[i].get_text() == nbb_unformatted_code) {\n",
       "                             nbb_cells[i].set_text(nbb_formatted_code);\n",
       "                        }\n",
       "                        break;\n",
       "                    }\n",
       "                }\n",
       "            }, 500);\n",
       "            "
      ],
      "text/plain": [
       "<IPython.core.display.Javascript object>"
      ]
     },
     "metadata": {},
     "output_type": "display_data"
    }
   ],
   "source": [
    "transformed_ref_features = column_transformer.transform(ref_features)"
   ]
  },
  {
   "cell_type": "code",
   "execution_count": 74,
   "id": "1063ad53",
   "metadata": {},
   "outputs": [
    {
     "data": {
      "application/javascript": [
       "\n",
       "            setTimeout(function() {\n",
       "                var nbb_cell_id = 74;\n",
       "                var nbb_unformatted_code = \"transformed_det_features = column_transformer.transform(det_features)\";\n",
       "                var nbb_formatted_code = \"transformed_det_features = column_transformer.transform(det_features)\";\n",
       "                var nbb_cells = Jupyter.notebook.get_cells();\n",
       "                for (var i = 0; i < nbb_cells.length; ++i) {\n",
       "                    if (nbb_cells[i].input_prompt_number == nbb_cell_id) {\n",
       "                        if (nbb_cells[i].get_text() == nbb_unformatted_code) {\n",
       "                             nbb_cells[i].set_text(nbb_formatted_code);\n",
       "                        }\n",
       "                        break;\n",
       "                    }\n",
       "                }\n",
       "            }, 500);\n",
       "            "
      ],
      "text/plain": [
       "<IPython.core.display.Javascript object>"
      ]
     },
     "metadata": {},
     "output_type": "display_data"
    }
   ],
   "source": [
    "transformed_det_features = column_transformer.transform(det_features)"
   ]
  },
  {
   "cell_type": "code",
   "execution_count": 61,
   "id": "4700a2ff",
   "metadata": {},
   "outputs": [
    {
     "data": {
      "application/javascript": [
       "\n",
       "            setTimeout(function() {\n",
       "                var nbb_cell_id = 61;\n",
       "                var nbb_unformatted_code = \"import seaborn as sns\\nimport numpy as np\";\n",
       "                var nbb_formatted_code = \"import seaborn as sns\\nimport numpy as np\";\n",
       "                var nbb_cells = Jupyter.notebook.get_cells();\n",
       "                for (var i = 0; i < nbb_cells.length; ++i) {\n",
       "                    if (nbb_cells[i].input_prompt_number == nbb_cell_id) {\n",
       "                        if (nbb_cells[i].get_text() == nbb_unformatted_code) {\n",
       "                             nbb_cells[i].set_text(nbb_formatted_code);\n",
       "                        }\n",
       "                        break;\n",
       "                    }\n",
       "                }\n",
       "            }, 500);\n",
       "            "
      ],
      "text/plain": [
       "<IPython.core.display.Javascript object>"
      ]
     },
     "metadata": {},
     "output_type": "display_data"
    }
   ],
   "source": [
    "import seaborn as sns\n",
    "import numpy as np"
   ]
  },
  {
   "cell_type": "code",
   "execution_count": 94,
   "id": "01e32411",
   "metadata": {},
   "outputs": [
    {
     "data": {
      "text/plain": [
       "(35000,)"
      ]
     },
     "execution_count": 94,
     "metadata": {},
     "output_type": "execute_result"
    },
    {
     "data": {
      "application/javascript": [
       "\n",
       "            setTimeout(function() {\n",
       "                var nbb_cell_id = 94;\n",
       "                var nbb_unformatted_code = \"transformed_ref_features[:, 0].shape\";\n",
       "                var nbb_formatted_code = \"transformed_ref_features[:, 0].shape\";\n",
       "                var nbb_cells = Jupyter.notebook.get_cells();\n",
       "                for (var i = 0; i < nbb_cells.length; ++i) {\n",
       "                    if (nbb_cells[i].input_prompt_number == nbb_cell_id) {\n",
       "                        if (nbb_cells[i].get_text() == nbb_unformatted_code) {\n",
       "                             nbb_cells[i].set_text(nbb_formatted_code);\n",
       "                        }\n",
       "                        break;\n",
       "                    }\n",
       "                }\n",
       "            }, 500);\n",
       "            "
      ],
      "text/plain": [
       "<IPython.core.display.Javascript object>"
      ]
     },
     "metadata": {},
     "output_type": "display_data"
    }
   ],
   "source": [
    "transformed_ref_features[:, 0].shape"
   ]
  },
  {
   "cell_type": "code",
   "execution_count": 143,
   "id": "2c5a6369",
   "metadata": {},
   "outputs": [
    {
     "data": {
      "text/plain": [
       "0        2836\n",
       "1        2939\n",
       "2        3181\n",
       "3        3233\n",
       "4        3023\n",
       "         ... \n",
       "34995    3061\n",
       "34996    3189\n",
       "34997    2298\n",
       "34998    3318\n",
       "34999    2843\n",
       "Name: elevation, Length: 35000, dtype: int64"
      ]
     },
     "execution_count": 143,
     "metadata": {},
     "output_type": "execute_result"
    },
    {
     "data": {
      "application/javascript": [
       "\n",
       "            setTimeout(function() {\n",
       "                var nbb_cell_id = 143;\n",
       "                var nbb_unformatted_code = \"ref_features.iloc[:, 0]\";\n",
       "                var nbb_formatted_code = \"ref_features.iloc[:, 0]\";\n",
       "                var nbb_cells = Jupyter.notebook.get_cells();\n",
       "                for (var i = 0; i < nbb_cells.length; ++i) {\n",
       "                    if (nbb_cells[i].input_prompt_number == nbb_cell_id) {\n",
       "                        if (nbb_cells[i].get_text() == nbb_unformatted_code) {\n",
       "                             nbb_cells[i].set_text(nbb_formatted_code);\n",
       "                        }\n",
       "                        break;\n",
       "                    }\n",
       "                }\n",
       "            }, 500);\n",
       "            "
      ],
      "text/plain": [
       "<IPython.core.display.Javascript object>"
      ]
     },
     "metadata": {},
     "output_type": "display_data"
    }
   ],
   "source": [
    "ref_features.iloc[:, 0]"
   ]
  },
  {
   "cell_type": "code",
   "execution_count": 140,
   "id": "2cf94d1a",
   "metadata": {},
   "outputs": [
    {
     "data": {
      "text/plain": [
       "<seaborn.axisgrid.FacetGrid at 0x13dbf2a00>"
      ]
     },
     "execution_count": 140,
     "metadata": {},
     "output_type": "execute_result"
    },
    {
     "data": {
      "image/png": "[encoded data removed]",
      "text/plain": [
       "<Figure size 446.25x360 with 1 Axes>"
      ]
     },
     "metadata": {
      "needs_background": "light"
     },
     "output_type": "display_data"
    },
    {
     "data": {
      "application/javascript": [
       "\n",
       "            setTimeout(function() {\n",
       "                var nbb_cell_id = 140;\n",
       "                var nbb_unformatted_code = \"# original distribution\\n# transformed distribution\\ndf = pd.DataFrame(\\n    np.stack(\\n        [ref_features.iloc[:, 0].to_numpy(), det_features.iloc[:, 0].to_numpy()]\\n    ).T,\\n    columns=[\\\"Reference\\\", \\\"Detection\\\"],\\n).melt()\\n\\ndf.value = df.value.astype(\\\"float\\\")\\n\\nsns.displot(data=df, kind=\\\"kde\\\", x=\\\"value\\\", hue=\\\"variable\\\")\";\n",
       "                var nbb_formatted_code = \"# original distribution\\n# transformed distribution\\ndf = pd.DataFrame(\\n    np.stack(\\n        [ref_features.iloc[:, 0].to_numpy(), det_features.iloc[:, 0].to_numpy()]\\n    ).T,\\n    columns=[\\\"Reference\\\", \\\"Detection\\\"],\\n).melt()\\n\\ndf.value = df.value.astype(\\\"float\\\")\\n\\nsns.displot(data=df, kind=\\\"kde\\\", x=\\\"value\\\", hue=\\\"variable\\\")\";\n",
       "                var nbb_cells = Jupyter.notebook.get_cells();\n",
       "                for (var i = 0; i < nbb_cells.length; ++i) {\n",
       "                    if (nbb_cells[i].input_prompt_number == nbb_cell_id) {\n",
       "                        if (nbb_cells[i].get_text() == nbb_unformatted_code) {\n",
       "                             nbb_cells[i].set_text(nbb_formatted_code);\n",
       "                        }\n",
       "                        break;\n",
       "                    }\n",
       "                }\n",
       "            }, 500);\n",
       "            "
      ],
      "text/plain": [
       "<IPython.core.display.Javascript object>"
      ]
     },
     "metadata": {},
     "output_type": "display_data"
    }
   ],
   "source": [
    "# original distribution\n",
    "# transformed distribution\n",
    "df = pd.DataFrame(\n",
    "    np.stack(\n",
    "        [ref_features.iloc[:, 0].to_numpy(), det_features.iloc[:, 0].to_numpy()]\n",
    "    ).T,\n",
    "    columns=[\"Reference\", \"Detection\"],\n",
    ").melt()\n",
    "\n",
    "df.value = df.value.astype(\"float\")\n",
    "\n",
    "sns.displot(data=df, kind=\"kde\", x=\"value\", hue=\"variable\")"
   ]
  },
  {
   "cell_type": "code",
   "execution_count": 141,
   "id": "da891808",
   "metadata": {},
   "outputs": [
    {
     "data": {
      "text/plain": [
       "(35000,)"
      ]
     },
     "execution_count": 141,
     "metadata": {},
     "output_type": "execute_result"
    },
    {
     "data": {
      "application/javascript": [
       "\n",
       "            setTimeout(function() {\n",
       "                var nbb_cell_id = 141;\n",
       "                var nbb_unformatted_code = \"ref_features.iloc[:, 0].to_numpy().shape\";\n",
       "                var nbb_formatted_code = \"ref_features.iloc[:, 0].to_numpy().shape\";\n",
       "                var nbb_cells = Jupyter.notebook.get_cells();\n",
       "                for (var i = 0; i < nbb_cells.length; ++i) {\n",
       "                    if (nbb_cells[i].input_prompt_number == nbb_cell_id) {\n",
       "                        if (nbb_cells[i].get_text() == nbb_unformatted_code) {\n",
       "                             nbb_cells[i].set_text(nbb_formatted_code);\n",
       "                        }\n",
       "                        break;\n",
       "                    }\n",
       "                }\n",
       "            }, 500);\n",
       "            "
      ],
      "text/plain": [
       "<IPython.core.display.Javascript object>"
      ]
     },
     "metadata": {},
     "output_type": "display_data"
    }
   ],
   "source": [
    "ref_features.iloc[:, 0].to_numpy().shape"
   ]
  },
  {
   "cell_type": "code",
   "execution_count": 142,
   "id": "fb7f6e7d",
   "metadata": {},
   "outputs": [
    {
     "data": {
      "text/plain": [
       "<seaborn.axisgrid.FacetGrid at 0x141e78040>"
      ]
     },
     "execution_count": 142,
     "metadata": {},
     "output_type": "execute_result"
    },
    {
     "data": {
      "image/png": "[encoded data removed]",
      "text/plain": [
       "<Figure size 446.25x360 with 1 Axes>"
      ]
     },
     "metadata": {
      "needs_background": "light"
     },
     "output_type": "display_data"
    },
    {
     "data": {
      "application/javascript": [
       "\n",
       "            setTimeout(function() {\n",
       "                var nbb_cell_id = 142;\n",
       "                var nbb_unformatted_code = \"# transformed distribution\\ndf = pd.DataFrame(\\n    np.stack([transformed_ref_features[:, 0], transformed_det_features[:, 0]]).T,\\n    columns=[\\\"Reference\\\", \\\"Detection\\\"],\\n).melt()\\n\\ndf.value = df.value.astype(\\\"float\\\")\\n\\nsns.displot(data=df, kind=\\\"kde\\\", x=\\\"value\\\", hue=\\\"variable\\\")\";\n",
       "                var nbb_formatted_code = \"# transformed distribution\\ndf = pd.DataFrame(\\n    np.stack([transformed_ref_features[:, 0], transformed_det_features[:, 0]]).T,\\n    columns=[\\\"Reference\\\", \\\"Detection\\\"],\\n).melt()\\n\\ndf.value = df.value.astype(\\\"float\\\")\\n\\nsns.displot(data=df, kind=\\\"kde\\\", x=\\\"value\\\", hue=\\\"variable\\\")\";\n",
       "                var nbb_cells = Jupyter.notebook.get_cells();\n",
       "                for (var i = 0; i < nbb_cells.length; ++i) {\n",
       "                    if (nbb_cells[i].input_prompt_number == nbb_cell_id) {\n",
       "                        if (nbb_cells[i].get_text() == nbb_unformatted_code) {\n",
       "                             nbb_cells[i].set_text(nbb_formatted_code);\n",
       "                        }\n",
       "                        break;\n",
       "                    }\n",
       "                }\n",
       "            }, 500);\n",
       "            "
      ],
      "text/plain": [
       "<IPython.core.display.Javascript object>"
      ]
     },
     "metadata": {},
     "output_type": "display_data"
    }
   ],
   "source": [
    "# transformed distribution\n",
    "df = pd.DataFrame(\n",
    "    np.stack([transformed_ref_features[:, 0], transformed_det_features[:, 0]]).T,\n",
    "    columns=[\"Reference\", \"Detection\"],\n",
    ").melt()\n",
    "\n",
    "df.value = df.value.astype(\"float\")\n",
    "\n",
    "sns.displot(data=df, kind=\"kde\", x=\"value\", hue=\"variable\")"
   ]
  },
  {
   "cell_type": "code",
   "execution_count": null,
   "id": "54ae719d",
   "metadata": {},
   "outputs": [],
   "source": []
  },
  {
   "cell_type": "markdown",
   "id": "70e78908",
   "metadata": {},
   "source": [
    "## What is minimum reference window size for passing KS test?"
   ]
  },
  {
   "cell_type": "code",
   "execution_count": 12,
   "id": "7bc82082",
   "metadata": {},
   "outputs": [
    {
     "data": {
      "application/javascript": [
       "\n",
       "            setTimeout(function() {\n",
       "                var nbb_cell_id = 12;\n",
       "                var nbb_unformatted_code = \"with open(\\\"../data/covtype_nodrift.pkl\\\", \\\"rb\\\") as f:\\n    nodrift_df = pickle.load(f)\\n\\nnodrift_df = nodrift_df.reset_index(drop=True)\";\n",
       "                var nbb_formatted_code = \"with open(\\\"../data/covtype_nodrift.pkl\\\", \\\"rb\\\") as f:\\n    nodrift_df = pickle.load(f)\\n\\nnodrift_df = nodrift_df.reset_index(drop=True)\";\n",
       "                var nbb_cells = Jupyter.notebook.get_cells();\n",
       "                for (var i = 0; i < nbb_cells.length; ++i) {\n",
       "                    if (nbb_cells[i].input_prompt_number == nbb_cell_id) {\n",
       "                        if (nbb_cells[i].get_text() == nbb_unformatted_code) {\n",
       "                             nbb_cells[i].set_text(nbb_formatted_code);\n",
       "                        }\n",
       "                        break;\n",
       "                    }\n",
       "                }\n",
       "            }, 500);\n",
       "            "
      ],
      "text/plain": [
       "<IPython.core.display.Javascript object>"
      ]
     },
     "metadata": {},
     "output_type": "display_data"
    }
   ],
   "source": [
    "with open(\"../data/covtype_nodrift.pkl\", \"rb\") as f:\n",
    "    nodrift_df = pickle.load(f)\n",
    "\n",
    "nodrift_df = nodrift_df.reset_index(drop=True)"
   ]
  },
  {
   "cell_type": "code",
   "execution_count": 13,
   "id": "3b12ed27",
   "metadata": {},
   "outputs": [
    {
     "data": {
      "application/javascript": [
       "\n",
       "            setTimeout(function() {\n",
       "                var nbb_cell_id = 13;\n",
       "                var nbb_unformatted_code = \"CT_nodrift_dataset = Dataset(\\n    full_df=nodrift_df, column_mapping=column_mapping, window_size=17500 * 5\\n)\";\n",
       "                var nbb_formatted_code = \"CT_nodrift_dataset = Dataset(\\n    full_df=nodrift_df, column_mapping=column_mapping, window_size=17500 * 5\\n)\";\n",
       "                var nbb_cells = Jupyter.notebook.get_cells();\n",
       "                for (var i = 0; i < nbb_cells.length; ++i) {\n",
       "                    if (nbb_cells[i].input_prompt_number == nbb_cell_id) {\n",
       "                        if (nbb_cells[i].get_text() == nbb_unformatted_code) {\n",
       "                             nbb_cells[i].set_text(nbb_formatted_code);\n",
       "                        }\n",
       "                        break;\n",
       "                    }\n",
       "                }\n",
       "            }, 500);\n",
       "            "
      ],
      "text/plain": [
       "<IPython.core.display.Javascript object>"
      ]
     },
     "metadata": {},
     "output_type": "display_data"
    }
   ],
   "source": [
    "CT_nodrift_dataset = Dataset(\n",
    "    full_df=nodrift_df, column_mapping=column_mapping, window_size=17500 * 5\n",
    ")"
   ]
  },
  {
   "cell_type": "code",
   "execution_count": 14,
   "id": "01548385",
   "metadata": {
    "scrolled": true
   },
   "outputs": [
    {
     "name": "stdout",
     "output_type": "stream",
     "text": [
      "Dataset index of split end: 175000\n",
      "GETTING REFERENCE DISTRIBUTION FOR WINDOW: 0\n",
      "Shape of k-fold preds: (0,)\n",
      "Shape of k-fold preds: (8750,)\n",
      "Shape of k-fold preds: (17500,)\n",
      "Shape of k-fold preds: (26250,)\n",
      "Shape of k-fold preds: (35000,)\n",
      "Shape of k-fold preds: (43750,)\n",
      "Shape of k-fold preds: (52500,)\n",
      "Shape of k-fold preds: (61250,)\n",
      "Shape of k-fold preds: (70000,)\n",
      "Shape of k-fold preds: (78750,)\n",
      "FINAL SHAPE kfold preds: (87500,)\n",
      "GETTING DETECTION DISTRIBUTION FOR WINDOW: 1\n",
      "Dataset Split: 1\n",
      "REFERENCE STATS: DescribeResult(nobs=87500, minmax=(0.0687480431472266, 0.9661232413232493), mean=0.5716694540600071, variance=0.044276716703953035, skewness=-0.23478936056525296, kurtosis=-1.4388729888553327)\n",
      "DETECTION STATS: DescribeResult(nobs=87500, minmax=(0.10440688772904749, 0.9429497475121849), mean=0.5733204625044183, variance=0.04164176792823418, skewness=-0.21044955749902566, kurtosis=-1.4150780727217487)\n",
      "KS Test Result: FAILED | KstestResult(statistic=0.03832000000000002, pvalue=2.9567380202285962e-56)\n",
      "\n",
      "Dataset index of split end: 262500\n",
      "GETTING REFERENCE DISTRIBUTION FOR WINDOW: 1\n",
      "Shape of k-fold preds: (0,)\n",
      "Shape of k-fold preds: (8750,)\n",
      "Shape of k-fold preds: (17500,)\n",
      "Shape of k-fold preds: (26250,)\n",
      "Shape of k-fold preds: (35000,)\n",
      "Shape of k-fold preds: (43750,)\n",
      "Shape of k-fold preds: (52500,)\n",
      "Shape of k-fold preds: (61250,)\n",
      "Shape of k-fold preds: (70000,)\n",
      "Shape of k-fold preds: (78750,)\n",
      "FINAL SHAPE kfold preds: (87500,)\n",
      "GETTING DETECTION DISTRIBUTION FOR WINDOW: 2\n",
      "Dataset Split: 2\n",
      "REFERENCE STATS: DescribeResult(nobs=87500, minmax=(0.059054246828814994, 0.9498744482654058), mean=0.5735075705717345, variance=0.041235005616254594, skewness=-0.2720251893228709, kurtosis=-1.381878138872906)\n",
      "DETECTION STATS: DescribeResult(nobs=87500, minmax=(0.08182023073618121, 0.9415005887647034), mean=0.5732493505756691, variance=0.04084904348522986, skewness=-0.2655060177306449, kurtosis=-1.4038918065746893)\n",
      "KS Test Result: FAILED | KstestResult(statistic=0.02572571428571424, pvalue=1.3823876846584186e-25)\n",
      "\n",
      "Dataset index of split end: 350000\n",
      "GETTING REFERENCE DISTRIBUTION FOR WINDOW: 2\n",
      "Shape of k-fold preds: (0,)\n",
      "Shape of k-fold preds: (8750,)\n",
      "Shape of k-fold preds: (17500,)\n",
      "Shape of k-fold preds: (26250,)\n",
      "Shape of k-fold preds: (35000,)\n",
      "Shape of k-fold preds: (43750,)\n",
      "Shape of k-fold preds: (52500,)\n",
      "Shape of k-fold preds: (61250,)\n",
      "Shape of k-fold preds: (70000,)\n",
      "Shape of k-fold preds: (78750,)\n",
      "FINAL SHAPE kfold preds: (87500,)\n",
      "GETTING DETECTION DISTRIBUTION FOR WINDOW: 3\n",
      "Dataset Split: 3\n",
      "REFERENCE STATS: DescribeResult(nobs=87500, minmax=(0.03448985439615436, 0.9568463715428674), mean=0.5746473316283923, variance=0.04503958346968419, skewness=-0.2266026305959664, kurtosis=-1.4514259549649977)\n",
      "DETECTION STATS: DescribeResult(nobs=87500, minmax=(0.07135651822974712, 0.9325840444862553), mean=0.5731700819648117, variance=0.042332805287912646, skewness=-0.2923818216579115, kurtosis=-1.3907699058351768)\n",
      "KS Test Result: FAILED | KstestResult(statistic=0.04850285714285707, pvalue=6.963059172080775e-90)\n",
      "\n",
      "Dataset index of split end: 437500\n",
      "GETTING REFERENCE DISTRIBUTION FOR WINDOW: 3\n",
      "Shape of k-fold preds: (0,)\n",
      "Shape of k-fold preds: (8750,)\n",
      "Shape of k-fold preds: (17500,)\n",
      "Shape of k-fold preds: (26250,)\n",
      "Shape of k-fold preds: (35000,)\n",
      "Shape of k-fold preds: (43750,)\n",
      "Shape of k-fold preds: (52500,)\n",
      "Shape of k-fold preds: (61250,)\n",
      "Shape of k-fold preds: (70000,)\n",
      "Shape of k-fold preds: (78750,)\n",
      "FINAL SHAPE kfold preds: (87500,)\n",
      "GETTING DETECTION DISTRIBUTION FOR WINDOW: 4\n",
      "Dataset Split: 4\n",
      "REFERENCE STATS: DescribeResult(nobs=87500, minmax=(0.031858729739624655, 0.9663630639992515), mean=0.5695529844411492, variance=0.04114315030340821, skewness=-0.26122520052809345, kurtosis=-1.3771882824365054)\n",
      "DETECTION STATS: DescribeResult(nobs=87500, minmax=(0.08284638879048425, 0.9321175805490232), mean=0.571461109244956, variance=0.040544126063041135, skewness=-0.2795585624026245, kurtosis=-1.3614424056853431)\n",
      "KS Test Result: FAILED | KstestResult(statistic=0.023942857142857155, pvalue=3.214370778385961e-22)\n",
      "\n"
     ]
    },
    {
     "data": {
      "application/javascript": [
       "\n",
       "            setTimeout(function() {\n",
       "                var nbb_cell_id = 14;\n",
       "                var nbb_unformatted_code = \"sqsi_mr_nodrift = SQSI_MRExperiment(\\n    model=model,\\n    dataset=CT_nodrift_dataset,\\n    param_grid=param_grid,\\n    k=10,\\n    significance_thresh=0.001,\\n)\\nsqsi_mr_nodrift.run()\";\n",
       "                var nbb_formatted_code = \"sqsi_mr_nodrift = SQSI_MRExperiment(\\n    model=model,\\n    dataset=CT_nodrift_dataset,\\n    param_grid=param_grid,\\n    k=10,\\n    significance_thresh=0.001,\\n)\\nsqsi_mr_nodrift.run()\";\n",
       "                var nbb_cells = Jupyter.notebook.get_cells();\n",
       "                for (var i = 0; i < nbb_cells.length; ++i) {\n",
       "                    if (nbb_cells[i].input_prompt_number == nbb_cell_id) {\n",
       "                        if (nbb_cells[i].get_text() == nbb_unformatted_code) {\n",
       "                             nbb_cells[i].set_text(nbb_formatted_code);\n",
       "                        }\n",
       "                        break;\n",
       "                    }\n",
       "                }\n",
       "            }, 500);\n",
       "            "
      ],
      "text/plain": [
       "<IPython.core.display.Javascript object>"
      ]
     },
     "metadata": {},
     "output_type": "display_data"
    }
   ],
   "source": [
    "sqsi_mr_nodrift = SQSI_MRExperiment(\n",
    "    model=model,\n",
    "    dataset=CT_nodrift_dataset,\n",
    "    param_grid=param_grid,\n",
    "    k=10,\n",
    "    significance_thresh=0.001,\n",
    ")\n",
    "sqsi_mr_nodrift.run()"
   ]
  },
  {
   "cell_type": "code",
   "execution_count": 15,
   "id": "cbcb052e",
   "metadata": {},
   "outputs": [
    {
     "data": {
      "image/png": "[encoded data removed]",
      "text/plain": [
       "<Figure size 950.25x216 with 4 Axes>"
      ]
     },
     "metadata": {
      "needs_background": "light"
     },
     "output_type": "display_data"
    },
    {
     "data": {
      "application/javascript": [
       "\n",
       "            setTimeout(function() {\n",
       "                var nbb_cell_id = 15;\n",
       "                var nbb_unformatted_code = \"plot_response_distributions_bysplit(sqsi_mr_nodrift)\";\n",
       "                var nbb_formatted_code = \"plot_response_distributions_bysplit(sqsi_mr_nodrift)\";\n",
       "                var nbb_cells = Jupyter.notebook.get_cells();\n",
       "                for (var i = 0; i < nbb_cells.length; ++i) {\n",
       "                    if (nbb_cells[i].input_prompt_number == nbb_cell_id) {\n",
       "                        if (nbb_cells[i].get_text() == nbb_unformatted_code) {\n",
       "                             nbb_cells[i].set_text(nbb_formatted_code);\n",
       "                        }\n",
       "                        break;\n",
       "                    }\n",
       "                }\n",
       "            }, 500);\n",
       "            "
      ],
      "text/plain": [
       "<IPython.core.display.Javascript object>"
      ]
     },
     "metadata": {},
     "output_type": "display_data"
    }
   ],
   "source": [
    "plot_response_distributions_bysplit(sqsi_mr_nodrift)"
   ]
  },
  {
   "cell_type": "code",
   "execution_count": 16,
   "id": "93b55cfc",
   "metadata": {},
   "outputs": [
    {
     "name": "stdout",
     "output_type": "stream",
     "text": [
      "<function ks_2samp at 0x1286493a0>\n",
      "TEST: 0 | RESULT: KstestResult(statistic=0.03832000000000002, pvalue=2.9567380202285962e-56)\n",
      "\n",
      "TEST: 1 | RESULT: KstestResult(statistic=0.02572571428571424, pvalue=1.3823876846584186e-25)\n",
      "\n",
      "TEST: 2 | RESULT: KstestResult(statistic=0.04850285714285707, pvalue=6.963059172080775e-90)\n",
      "\n",
      "TEST: 3 | RESULT: KstestResult(statistic=0.023942857142857155, pvalue=3.214370778385961e-22)\n",
      "\n",
      "<function cramervonmises_2samp at 0x12862a940>\n",
      "TEST: 0 | RESULT: CramerVonMisesResult(statistic=14.221517444933852, pvalue=7.633721432753759e-10)\n",
      "\n",
      "TEST: 1 | RESULT: CramerVonMisesResult(statistic=2.5656891260405246, pvalue=6.957841539589893e-07)\n",
      "\n",
      "TEST: 2 | RESULT: CramerVonMisesResult(statistic=17.650736465500813, pvalue=1.580650610399914e-09)\n",
      "\n",
      "TEST: 3 | RESULT: CramerVonMisesResult(statistic=2.978069244087237, pvalue=8.462349765370192e-08)\n",
      "\n"
     ]
    },
    {
     "data": {
      "application/javascript": [
       "\n",
       "            setTimeout(function() {\n",
       "                var nbb_cell_id = 16;\n",
       "                var nbb_unformatted_code = \"tests = [st.ks_2samp, st.cramervonmises_2samp]\\n\\nfor test in tests:\\n    print(test)\\n\\n    for i in range(len(sqsi_mr_nodrift.ref_distributions)):\\n\\n        ref_dist = sqsi_mr_nodrift.ref_distributions[i]\\n        det_dist = sqsi_mr_nodrift.det_distributions[i]\\n\\n        res = test(ref_dist, det_dist)\\n\\n        print(f\\\"TEST: {i} | RESULT: {res}\\\")\\n        print()\";\n",
       "                var nbb_formatted_code = \"tests = [st.ks_2samp, st.cramervonmises_2samp]\\n\\nfor test in tests:\\n    print(test)\\n\\n    for i in range(len(sqsi_mr_nodrift.ref_distributions)):\\n\\n        ref_dist = sqsi_mr_nodrift.ref_distributions[i]\\n        det_dist = sqsi_mr_nodrift.det_distributions[i]\\n\\n        res = test(ref_dist, det_dist)\\n\\n        print(f\\\"TEST: {i} | RESULT: {res}\\\")\\n        print()\";\n",
       "                var nbb_cells = Jupyter.notebook.get_cells();\n",
       "                for (var i = 0; i < nbb_cells.length; ++i) {\n",
       "                    if (nbb_cells[i].input_prompt_number == nbb_cell_id) {\n",
       "                        if (nbb_cells[i].get_text() == nbb_unformatted_code) {\n",
       "                             nbb_cells[i].set_text(nbb_formatted_code);\n",
       "                        }\n",
       "                        break;\n",
       "                    }\n",
       "                }\n",
       "            }, 500);\n",
       "            "
      ],
      "text/plain": [
       "<IPython.core.display.Javascript object>"
      ]
     },
     "metadata": {},
     "output_type": "display_data"
    }
   ],
   "source": [
    "tests = [st.ks_2samp, st.cramervonmises_2samp]\n",
    "\n",
    "for test in tests:\n",
    "    print(test)\n",
    "\n",
    "    for i in range(len(sqsi_mr_nodrift.ref_distributions)):\n",
    "\n",
    "        ref_dist = sqsi_mr_nodrift.ref_distributions[i]\n",
    "        det_dist = sqsi_mr_nodrift.det_distributions[i]\n",
    "\n",
    "        res = test(ref_dist, det_dist)\n",
    "\n",
    "        print(f\"TEST: {i} | RESULT: {res}\")\n",
    "        print()"
   ]
  },
  {
   "cell_type": "code",
   "execution_count": 18,
   "id": "7e818fed",
   "metadata": {},
   "outputs": [
    {
     "name": "stdout",
     "output_type": "stream",
     "text": [
      "TEST: 0 | RESULT: 0.1894512044789658\n",
      "\n",
      "TEST: 1 | RESULT: 0.18520725355566742\n",
      "\n",
      "TEST: 2 | RESULT: 0.19148075683690122\n",
      "\n",
      "TEST: 3 | RESULT: 0.1862519246527628\n",
      "\n"
     ]
    },
    {
     "data": {
      "application/javascript": [
       "\n",
       "            setTimeout(function() {\n",
       "                var nbb_cell_id = 18;\n",
       "                var nbb_unformatted_code = \"for i in range(len(sqsi_mr_nodrift.ref_distributions)):\\n\\n        ref_dist = sqsi_mr_nodrift.ref_distributions[i]\\n        det_dist = sqsi_mr_nodrift.det_distributions[i]\\n\\n        res = scipy.spatial.distance.jensenshannon(ref_dist, det_dist)\\n\\n        print(f\\\"TEST: {i} | RESULT: {res}\\\")\\n        print()\";\n",
       "                var nbb_formatted_code = \"for i in range(len(sqsi_mr_nodrift.ref_distributions)):\\n\\n    ref_dist = sqsi_mr_nodrift.ref_distributions[i]\\n    det_dist = sqsi_mr_nodrift.det_distributions[i]\\n\\n    res = scipy.spatial.distance.jensenshannon(ref_dist, det_dist)\\n\\n    print(f\\\"TEST: {i} | RESULT: {res}\\\")\\n    print()\";\n",
       "                var nbb_cells = Jupyter.notebook.get_cells();\n",
       "                for (var i = 0; i < nbb_cells.length; ++i) {\n",
       "                    if (nbb_cells[i].input_prompt_number == nbb_cell_id) {\n",
       "                        if (nbb_cells[i].get_text() == nbb_unformatted_code) {\n",
       "                             nbb_cells[i].set_text(nbb_formatted_code);\n",
       "                        }\n",
       "                        break;\n",
       "                    }\n",
       "                }\n",
       "            }, 500);\n",
       "            "
      ],
      "text/plain": [
       "<IPython.core.display.Javascript object>"
      ]
     },
     "metadata": {},
     "output_type": "display_data"
    }
   ],
   "source": [
    "for i in range(len(sqsi_mr_nodrift.ref_distributions)):\n",
    "\n",
    "    ref_dist = sqsi_mr_nodrift.ref_distributions[i]\n",
    "    det_dist = sqsi_mr_nodrift.det_distributions[i]\n",
    "\n",
    "    res = scipy.spatial.distance.jensenshannon(ref_dist, det_dist)\n",
    "\n",
    "    print(f\"TEST: {i} | RESULT: {res}\")\n",
    "    print()"
   ]
  },
  {
   "cell_type": "markdown",
   "id": "c8c8529e",
   "metadata": {},
   "source": [
    "**It looks like Kologorov-Smirnov is too sensitive/strict for our use case**\n",
    "\n",
    "\"A test has told you that two samples aren't from literally identical populations, but that's not what you actually care about. What you actually care about is up to you; it sounds like you care about how different the populations are. The solution is not to try to transform 𝑝-values (\"when all you have is a hammer\", etc.) but to use a more appropriate technique.\""
   ]
  },
  {
   "cell_type": "code",
   "execution_count": 106,
   "id": "7664b8a1",
   "metadata": {},
   "outputs": [
    {
     "data": {
      "text/plain": [
       "0.023942857142857155"
      ]
     },
     "execution_count": 106,
     "metadata": {},
     "output_type": "execute_result"
    },
    {
     "data": {
      "application/javascript": [
       "\n",
       "            setTimeout(function() {\n",
       "                var nbb_cell_id = 106;\n",
       "                var nbb_unformatted_code = \"res.statistic\";\n",
       "                var nbb_formatted_code = \"res.statistic\";\n",
       "                var nbb_cells = Jupyter.notebook.get_cells();\n",
       "                for (var i = 0; i < nbb_cells.length; ++i) {\n",
       "                    if (nbb_cells[i].input_prompt_number == nbb_cell_id) {\n",
       "                        if (nbb_cells[i].get_text() == nbb_unformatted_code) {\n",
       "                             nbb_cells[i].set_text(nbb_formatted_code);\n",
       "                        }\n",
       "                        break;\n",
       "                    }\n",
       "                }\n",
       "            }, 500);\n",
       "            "
      ],
      "text/plain": [
       "<IPython.core.display.Javascript object>"
      ]
     },
     "metadata": {},
     "output_type": "display_data"
    }
   ],
   "source": [
    "res.statistic"
   ]
  },
  {
   "cell_type": "code",
   "execution_count": 10,
   "id": "cc9a500c",
   "metadata": {},
   "outputs": [
    {
     "ename": "NameError",
     "evalue": "name 'sqsi_mr_nodrift' is not defined",
     "output_type": "error",
     "traceback": [
      "\u001b[0;31m---------------------------------------------------------------------------\u001b[0m",
      "\u001b[0;31mNameError\u001b[0m                                 Traceback (most recent call last)",
      "\u001b[0;32m/var/folders/th/1h5q6p_17090jywv1223brsc0000gp/T/ipykernel_91439/958291831.py\u001b[0m in \u001b[0;36m<module>\u001b[0;34m\u001b[0m\n\u001b[1;32m      4\u001b[0m \u001b[0;34m\u001b[0m\u001b[0m\n\u001b[1;32m      5\u001b[0m \u001b[0;31m#generate random aray\u001b[0m\u001b[0;34m\u001b[0m\u001b[0;34m\u001b[0m\u001b[0;34m\u001b[0m\u001b[0m\n\u001b[0;32m----> 6\u001b[0;31m \u001b[0msamp_a\u001b[0m \u001b[0;34m=\u001b[0m \u001b[0msqsi_mr_nodrift\u001b[0m\u001b[0;34m.\u001b[0m\u001b[0mref_distributions\u001b[0m\u001b[0;34m[\u001b[0m\u001b[0;36m1\u001b[0m\u001b[0;34m]\u001b[0m\u001b[0;34m\u001b[0m\u001b[0;34m\u001b[0m\u001b[0m\n\u001b[0m\u001b[1;32m      7\u001b[0m \u001b[0;34m\u001b[0m\u001b[0m\n\u001b[1;32m      8\u001b[0m \u001b[0;34m\u001b[0m\u001b[0m\n",
      "\u001b[0;31mNameError\u001b[0m: name 'sqsi_mr_nodrift' is not defined"
     ]
    },
    {
     "data": {
      "application/javascript": [
       "\n",
       "            setTimeout(function() {\n",
       "                var nbb_cell_id = 10;\n",
       "                var nbb_unformatted_code = \"import numpy as np\\nimport scipy.stats as st\\nimport scipy\\n\\n#generate random aray\\nsamp_a = sqsi_mr_nodrift.ref_distributions[1]\\n\\n\\n#generate random samples from lognormal and sort\\nsamp_b = sqsi_mr_nodrift.det_distributions[1]\\n\\n\\n#concatenate and sort\\nsamp_conc = np.sort(np.concatenate((samp_a, samp_b)))\\n\\n\\n#cdf of sample a\\nsamp_a_cdf = [np.round(st.percentileofscore(samp_a, value)/100, 1) for value in samp_conc]\\n\\n\\n#cdf of sample b\\nsamp_b_cdf = [np.round(st.percentileofscore(samp_b, value)/100, 1) for value in samp_conc]\\n\\n\\n#compute absolute difference\\nsamp_diff = np.abs(np.subtract(samp_a_cdf, samp_b_cdf))\";\n",
       "                var nbb_formatted_code = \"import numpy as np\\nimport scipy.stats as st\\nimport scipy\\n\\n# generate random aray\\nsamp_a = sqsi_mr_nodrift.ref_distributions[1]\\n\\n\\n# generate random samples from lognormal and sort\\nsamp_b = sqsi_mr_nodrift.det_distributions[1]\\n\\n\\n# concatenate and sort\\nsamp_conc = np.sort(np.concatenate((samp_a, samp_b)))\\n\\n\\n# cdf of sample a\\nsamp_a_cdf = [\\n    np.round(st.percentileofscore(samp_a, value) / 100, 1) for value in samp_conc\\n]\\n\\n\\n# cdf of sample b\\nsamp_b_cdf = [\\n    np.round(st.percentileofscore(samp_b, value) / 100, 1) for value in samp_conc\\n]\\n\\n\\n# compute absolute difference\\nsamp_diff = np.abs(np.subtract(samp_a_cdf, samp_b_cdf))\";\n",
       "                var nbb_cells = Jupyter.notebook.get_cells();\n",
       "                for (var i = 0; i < nbb_cells.length; ++i) {\n",
       "                    if (nbb_cells[i].input_prompt_number == nbb_cell_id) {\n",
       "                        if (nbb_cells[i].get_text() == nbb_unformatted_code) {\n",
       "                             nbb_cells[i].set_text(nbb_formatted_code);\n",
       "                        }\n",
       "                        break;\n",
       "                    }\n",
       "                }\n",
       "            }, 500);\n",
       "            "
      ],
      "text/plain": [
       "<IPython.core.display.Javascript object>"
      ]
     },
     "metadata": {},
     "output_type": "display_data"
    }
   ],
   "source": [
    "import numpy as np\n",
    "import scipy.stats as st\n",
    "import scipy\n",
    "\n",
    "#generate random aray\n",
    "samp_a = sqsi_mr_nodrift.ref_distributions[1]\n",
    "\n",
    "\n",
    "#generate random samples from lognormal and sort\n",
    "samp_b = sqsi_mr_nodrift.det_distributions[1]\n",
    "\n",
    "\n",
    "#concatenate and sort\n",
    "samp_conc = np.sort(np.concatenate((samp_a, samp_b)))\n",
    "\n",
    "\n",
    "#cdf of sample a\n",
    "samp_a_cdf = [np.round(st.percentileofscore(samp_a, value)/100, 1) for value in samp_conc]\n",
    "\n",
    "\n",
    "#cdf of sample b\n",
    "samp_b_cdf = [np.round(st.percentileofscore(samp_b, value)/100, 1) for value in samp_conc]\n",
    "\n",
    "\n",
    "#compute absolute difference\n",
    "samp_diff = np.abs(np.subtract(samp_a_cdf, samp_b_cdf))\n"
   ]
  },
  {
   "cell_type": "code",
   "execution_count": 118,
   "id": "29933765",
   "metadata": {},
   "outputs": [
    {
     "data": {
      "text/plain": [
       "array([0.72742698, 0.60192602, 0.71006694, ..., 0.86829782, 0.48057593,\n",
       "       0.2780656 ])"
      ]
     },
     "execution_count": 118,
     "metadata": {},
     "output_type": "execute_result"
    },
    {
     "data": {
      "application/javascript": [
       "\n",
       "            setTimeout(function() {\n",
       "                var nbb_cell_id = 118;\n",
       "                var nbb_unformatted_code = \"samp_a\";\n",
       "                var nbb_formatted_code = \"samp_a\";\n",
       "                var nbb_cells = Jupyter.notebook.get_cells();\n",
       "                for (var i = 0; i < nbb_cells.length; ++i) {\n",
       "                    if (nbb_cells[i].input_prompt_number == nbb_cell_id) {\n",
       "                        if (nbb_cells[i].get_text() == nbb_unformatted_code) {\n",
       "                             nbb_cells[i].set_text(nbb_formatted_code);\n",
       "                        }\n",
       "                        break;\n",
       "                    }\n",
       "                }\n",
       "            }, 500);\n",
       "            "
      ],
      "text/plain": [
       "<IPython.core.display.Javascript object>"
      ]
     },
     "metadata": {},
     "output_type": "display_data"
    }
   ],
   "source": [
    "samp_a"
   ]
  },
  {
   "cell_type": "code",
   "execution_count": 116,
   "id": "80d96650",
   "metadata": {},
   "outputs": [
    {
     "data": {
      "text/plain": [
       "[<matplotlib.lines.Line2D at 0x12bf371c0>]"
      ]
     },
     "execution_count": 116,
     "metadata": {},
     "output_type": "execute_result"
    },
    {
     "data": {
      "image/png": "[encoded data removed]",
      "text/plain": [
       "<Figure size 432x288 with 1 Axes>"
      ]
     },
     "metadata": {
      "needs_background": "light"
     },
     "output_type": "display_data"
    },
    {
     "data": {
      "application/javascript": [
       "\n",
       "            setTimeout(function() {\n",
       "                var nbb_cell_id = 116;\n",
       "                var nbb_unformatted_code = \"plt.plot(samp_a_cdf)\\nplt.plot(samp_b_cdf)\";\n",
       "                var nbb_formatted_code = \"plt.plot(samp_a_cdf)\\nplt.plot(samp_b_cdf)\";\n",
       "                var nbb_cells = Jupyter.notebook.get_cells();\n",
       "                for (var i = 0; i < nbb_cells.length; ++i) {\n",
       "                    if (nbb_cells[i].input_prompt_number == nbb_cell_id) {\n",
       "                        if (nbb_cells[i].get_text() == nbb_unformatted_code) {\n",
       "                             nbb_cells[i].set_text(nbb_formatted_code);\n",
       "                        }\n",
       "                        break;\n",
       "                    }\n",
       "                }\n",
       "            }, 500);\n",
       "            "
      ],
      "text/plain": [
       "<IPython.core.display.Javascript object>"
      ]
     },
     "metadata": {},
     "output_type": "display_data"
    }
   ],
   "source": [
    "plt.plot(samp_a_cdf)\n",
    "plt.plot(samp_b_cdf)"
   ]
  },
  {
   "cell_type": "code",
   "execution_count": 104,
   "id": "0c2ffce5",
   "metadata": {},
   "outputs": [
    {
     "data": {
      "text/plain": [
       "[<matplotlib.lines.Line2D at 0x12bd7c3a0>]"
      ]
     },
     "execution_count": 104,
     "metadata": {},
     "output_type": "execute_result"
    },
    {
     "data": {
      "image/png": "[encoded data removed]",
      "text/plain": [
       "<Figure size 432x288 with 1 Axes>"
      ]
     },
     "metadata": {
      "needs_background": "light"
     },
     "output_type": "display_data"
    },
    {
     "data": {
      "application/javascript": [
       "\n",
       "            setTimeout(function() {\n",
       "                var nbb_cell_id = 104;\n",
       "                var nbb_unformatted_code = \"plt.plot(samp_diff)\";\n",
       "                var nbb_formatted_code = \"plt.plot(samp_diff)\";\n",
       "                var nbb_cells = Jupyter.notebook.get_cells();\n",
       "                for (var i = 0; i < nbb_cells.length; ++i) {\n",
       "                    if (nbb_cells[i].input_prompt_number == nbb_cell_id) {\n",
       "                        if (nbb_cells[i].get_text() == nbb_unformatted_code) {\n",
       "                             nbb_cells[i].set_text(nbb_formatted_code);\n",
       "                        }\n",
       "                        break;\n",
       "                    }\n",
       "                }\n",
       "            }, 500);\n",
       "            "
      ],
      "text/plain": [
       "<IPython.core.display.Javascript object>"
      ]
     },
     "metadata": {},
     "output_type": "display_data"
    }
   ],
   "source": [
    "plt.plot(samp_diff)"
   ]
  },
  {
   "cell_type": "code",
   "execution_count": null,
   "id": "ae390b73",
   "metadata": {},
   "outputs": [],
   "source": [
    "1.36"
   ]
  }
 ],
 "metadata": {
  "kernelspec": {
   "display_name": "Python 3 (ipykernel)",
   "language": "python",
   "name": "python3"
  },
  "language_info": {
   "codemirror_mode": {
    "name": "ipython",
    "version": 3
   },
   "file_extension": ".py",
   "mimetype": "text/x-python",
   "name": "python",
   "nbconvert_exporter": "python",
   "pygments_lexer": "ipython3",
   "version": "3.8.8"
  }
 },
 "nbformat": 4,
 "nbformat_minor": 5
}
