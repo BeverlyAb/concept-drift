{
 "cells": [
  {
   "cell_type": "markdown",
   "id": "997ef447",
   "metadata": {},
   "source": [
    "# Notebook for Developing Experiments on CovType Data Set"
   ]
  },
  {
   "cell_type": "code",
   "execution_count": 1,
   "id": "59e7f2c7",
   "metadata": {
    "pycharm": {
     "name": "#%%\n"
    }
   },
   "outputs": [
    {
     "data": {
      "application/javascript": [
       "\n",
       "            setTimeout(function() {\n",
       "                var nbb_cell_id = 1;\n",
       "                var nbb_unformatted_code = \"import os\\nimport sys\\n\\nsys.path.append(os.path.dirname(os.getcwd()))\\n\\nimport scipy\\nimport pickle\\nimport numpy as np\\nimport pandas as pd\\nimport seaborn as sns\\nfrom sklearn.ensemble import RandomForestClassifier\\n\\n\\nfrom test_harness.datasets.dataset import Dataset\\nfrom test_harness.experiments.baseline_experiment import BaselineExperiment\\nfrom test_harness.experiments.topline_experiment import ToplineExperiment\\nfrom test_harness.experiments.response_uncertainty_experiment import (\\n    UncertaintyKSExperiment,\\n)\\nfrom test_harness.experiments.margin_uncertainty_experiment import (\\n    UncertaintyX2Experiment,\\n)\\nfrom test_harness.experiments.margin_threshold_experiment import (\\n    MarginThresholdExperiment,\\n)\\nfrom test_harness.utils.utils import (\\n    plot_experiment_error,\\n    plot_multiple_experiments,\\n    aggregate_experiment_metrics,\\n    plot_response_distributions_bysplit,\\n    plot_margin_distributions_bysplit,\\n    format_experimental_scores,\\n    calculate_split_window_distances,\\n)\\n\\n%load_ext nb_black\\n%load_ext autoreload\\n%autoreload 2\";\n",
       "                var nbb_formatted_code = \"import os\\nimport sys\\n\\nsys.path.append(os.path.dirname(os.getcwd()))\\n\\nimport scipy\\nimport pickle\\nimport numpy as np\\nimport pandas as pd\\nimport seaborn as sns\\nfrom sklearn.ensemble import RandomForestClassifier\\n\\n\\nfrom test_harness.datasets.dataset import Dataset\\nfrom test_harness.experiments.baseline_experiment import BaselineExperiment\\nfrom test_harness.experiments.topline_experiment import ToplineExperiment\\nfrom test_harness.experiments.response_uncertainty_experiment import (\\n    UncertaintyKSExperiment,\\n)\\nfrom test_harness.experiments.margin_uncertainty_experiment import (\\n    UncertaintyX2Experiment,\\n)\\nfrom test_harness.experiments.margin_threshold_experiment import (\\n    MarginThresholdExperiment,\\n)\\nfrom test_harness.utils.utils import (\\n    plot_experiment_error,\\n    plot_multiple_experiments,\\n    aggregate_experiment_metrics,\\n    plot_response_distributions_bysplit,\\n    plot_margin_distributions_bysplit,\\n    format_experimental_scores,\\n    calculate_split_window_distances,\\n)\\n\\n%load_ext nb_black\\n%load_ext autoreload\\n%autoreload 2\";\n",
       "                var nbb_cells = Jupyter.notebook.get_cells();\n",
       "                for (var i = 0; i < nbb_cells.length; ++i) {\n",
       "                    if (nbb_cells[i].input_prompt_number == nbb_cell_id) {\n",
       "                        if (nbb_cells[i].get_text() == nbb_unformatted_code) {\n",
       "                             nbb_cells[i].set_text(nbb_formatted_code);\n",
       "                        }\n",
       "                        break;\n",
       "                    }\n",
       "                }\n",
       "            }, 500);\n",
       "            "
      ],
      "text/plain": [
       "<IPython.core.display.Javascript object>"
      ]
     },
     "metadata": {},
     "output_type": "display_data"
    }
   ],
   "source": [
    "import os\n",
    "import sys\n",
    "\n",
    "sys.path.append(os.path.dirname(os.getcwd()))\n",
    "\n",
    "import scipy\n",
    "import pickle\n",
    "import numpy as np\n",
    "import pandas as pd\n",
    "import seaborn as sns\n",
    "from sklearn.ensemble import RandomForestClassifier\n",
    "\n",
    "\n",
    "from test_harness.datasets.dataset import Dataset\n",
    "from test_harness.experiments.baseline_experiment import BaselineExperiment\n",
    "from test_harness.experiments.topline_experiment import ToplineExperiment\n",
    "from test_harness.experiments.response_uncertainty_experiment import (\n",
    "    UncertaintyKSExperiment,\n",
    ")\n",
    "from test_harness.experiments.margin_uncertainty_experiment import (\n",
    "    UncertaintyX2Experiment,\n",
    ")\n",
    "from test_harness.experiments.margin_threshold_experiment import (\n",
    "    MarginThresholdExperiment,\n",
    ")\n",
    "from test_harness.utils.utils import (\n",
    "    plot_experiment_error,\n",
    "    plot_multiple_experiments,\n",
    "    aggregate_experiment_metrics,\n",
    "    plot_response_distributions_bysplit,\n",
    "    plot_margin_distributions_bysplit,\n",
    "    format_experimental_scores,\n",
    "    calculate_split_window_distances,\n",
    ")\n",
    "\n",
    "%load_ext nb_black\n",
    "%load_ext autoreload\n",
    "%autoreload 2"
   ]
  },
  {
   "cell_type": "markdown",
   "id": "00e2fb3d",
   "metadata": {},
   "source": [
    "## Load Data"
   ]
  },
  {
   "cell_type": "code",
   "execution_count": 2,
   "id": "d61f3c47",
   "metadata": {
    "pycharm": {
     "name": "#%%\n"
    }
   },
   "outputs": [
    {
     "data": {
      "application/javascript": [
       "\n",
       "            setTimeout(function() {\n",
       "                var nbb_cell_id = 2;\n",
       "                var nbb_unformatted_code = \"with open(\\\"../data/covtype_induced_drift_forward_norm.pkl\\\", \\\"rb\\\") as f:\\n    drift_df, change_points = pickle.load(f)\\n\\nwith open(\\\"../data/covtype_induced_drift_forward_norm_reverse.pkl\\\", \\\"rb\\\") as f:\\n    drift_df_reverse, change_points = pickle.load(f)\";\n",
       "                var nbb_formatted_code = \"with open(\\\"../data/covtype_induced_drift_forward_norm.pkl\\\", \\\"rb\\\") as f:\\n    drift_df, change_points = pickle.load(f)\\n\\nwith open(\\\"../data/covtype_induced_drift_forward_norm_reverse.pkl\\\", \\\"rb\\\") as f:\\n    drift_df_reverse, change_points = pickle.load(f)\";\n",
       "                var nbb_cells = Jupyter.notebook.get_cells();\n",
       "                for (var i = 0; i < nbb_cells.length; ++i) {\n",
       "                    if (nbb_cells[i].input_prompt_number == nbb_cell_id) {\n",
       "                        if (nbb_cells[i].get_text() == nbb_unformatted_code) {\n",
       "                             nbb_cells[i].set_text(nbb_formatted_code);\n",
       "                        }\n",
       "                        break;\n",
       "                    }\n",
       "                }\n",
       "            }, 500);\n",
       "            "
      ],
      "text/plain": [
       "<IPython.core.display.Javascript object>"
      ]
     },
     "metadata": {},
     "output_type": "display_data"
    }
   ],
   "source": [
    "with open(\"../data/covtype_induced_drift_forward_norm.pkl\", \"rb\") as f:\n",
    "    drift_df, change_points = pickle.load(f)\n",
    "\n",
    "with open(\"../data/covtype_induced_drift_forward_norm_reverse.pkl\", \"rb\") as f:\n",
    "    drift_df_reverse, change_points = pickle.load(f)"
   ]
  },
  {
   "cell_type": "markdown",
   "id": "5b8629e9",
   "metadata": {},
   "source": [
    "**NEED TO**\n",
    " - Check distribution of class labels in each \"concept\" that I've created..."
   ]
  },
  {
   "cell_type": "markdown",
   "id": "05cfe622",
   "metadata": {},
   "source": [
    "## Experiments"
   ]
  },
  {
   "cell_type": "markdown",
   "id": "b54bb8c7",
   "metadata": {},
   "source": [
    "### Prepare Test Harness"
   ]
  },
  {
   "cell_type": "code",
   "execution_count": 3,
   "id": "46c927ad",
   "metadata": {
    "pycharm": {
     "name": "#%%\n"
    }
   },
   "outputs": [
    {
     "data": {
      "application/javascript": [
       "\n",
       "            setTimeout(function() {\n",
       "                var nbb_cell_id = 3;\n",
       "                var nbb_unformatted_code = \"# specify columns and if categorical\\ncol_names = [\\n    (\\\"elevation\\\", False),\\n    (\\\"aspect\\\", False),\\n    (\\\"slope\\\", False),\\n    (\\\"horizontal_dist_to_hydrology\\\", False),\\n    (\\\"vertical_dist_to_hydrology\\\", False),\\n    (\\\"horizontal_dist_to_roadways\\\", False),\\n    (\\\"hillshade_9am\\\", False),\\n    (\\\"hillshade_noon\\\", False),\\n    (\\\"hillshade_3pm\\\", False),\\n    (\\\"horizontal_dist_to_fire_points\\\", False),\\n]\\nwilderness_area_cols = [(f\\\"wilderness_area_{i+1}\\\", True) for i in range(4)]\\ncol_names = col_names + wilderness_area_cols + [(\\\"cover_type\\\", True)]\";\n",
       "                var nbb_formatted_code = \"# specify columns and if categorical\\ncol_names = [\\n    (\\\"elevation\\\", False),\\n    (\\\"aspect\\\", False),\\n    (\\\"slope\\\", False),\\n    (\\\"horizontal_dist_to_hydrology\\\", False),\\n    (\\\"vertical_dist_to_hydrology\\\", False),\\n    (\\\"horizontal_dist_to_roadways\\\", False),\\n    (\\\"hillshade_9am\\\", False),\\n    (\\\"hillshade_noon\\\", False),\\n    (\\\"hillshade_3pm\\\", False),\\n    (\\\"horizontal_dist_to_fire_points\\\", False),\\n]\\nwilderness_area_cols = [(f\\\"wilderness_area_{i+1}\\\", True) for i in range(4)]\\ncol_names = col_names + wilderness_area_cols + [(\\\"cover_type\\\", True)]\";\n",
       "                var nbb_cells = Jupyter.notebook.get_cells();\n",
       "                for (var i = 0; i < nbb_cells.length; ++i) {\n",
       "                    if (nbb_cells[i].input_prompt_number == nbb_cell_id) {\n",
       "                        if (nbb_cells[i].get_text() == nbb_unformatted_code) {\n",
       "                             nbb_cells[i].set_text(nbb_formatted_code);\n",
       "                        }\n",
       "                        break;\n",
       "                    }\n",
       "                }\n",
       "            }, 500);\n",
       "            "
      ],
      "text/plain": [
       "<IPython.core.display.Javascript object>"
      ]
     },
     "metadata": {},
     "output_type": "display_data"
    }
   ],
   "source": [
    "# specify columns and if categorical\n",
    "col_names = [\n",
    "    (\"elevation\", False),\n",
    "    (\"aspect\", False),\n",
    "    (\"slope\", False),\n",
    "    (\"horizontal_dist_to_hydrology\", False),\n",
    "    (\"vertical_dist_to_hydrology\", False),\n",
    "    (\"horizontal_dist_to_roadways\", False),\n",
    "    (\"hillshade_9am\", False),\n",
    "    (\"hillshade_noon\", False),\n",
    "    (\"hillshade_3pm\", False),\n",
    "    (\"horizontal_dist_to_fire_points\", False),\n",
    "]\n",
    "wilderness_area_cols = [(f\"wilderness_area_{i+1}\", True) for i in range(4)]\n",
    "col_names = col_names + wilderness_area_cols + [(\"cover_type\", True)]"
   ]
  },
  {
   "cell_type": "code",
   "execution_count": 103,
   "id": "3ba4f68a",
   "metadata": {
    "pycharm": {
     "name": "#%%\n"
    }
   },
   "outputs": [
    {
     "data": {
      "application/javascript": [
       "\n",
       "            setTimeout(function() {\n",
       "                var nbb_cell_id = 103;\n",
       "                var nbb_unformatted_code = \"column_mapping = {\\n    \\\"target\\\": \\\"cover_type\\\",\\n    \\\"numerical_features\\\": [col for col, iscat in col_names if not iscat],\\n    \\\"categorical_features\\\": [col for col, iscat in col_names if iscat][:-1],\\n}\\n\\n# 17500\\nCT_dataset = Dataset(\\n    full_df=drift_df, column_mapping=column_mapping, window_size=17500 * 1\\n)\\n\\nmodel = RandomForestClassifier(n_estimators=5, random_state=42, max_depth=3)\\n# model = RandomForestClassifier(random_state=42)\\nparam_grid = {\\\"clf__n_estimators\\\": [5], \\\"clf__max_depth\\\": [3]}\";\n",
       "                var nbb_formatted_code = \"column_mapping = {\\n    \\\"target\\\": \\\"cover_type\\\",\\n    \\\"numerical_features\\\": [col for col, iscat in col_names if not iscat],\\n    \\\"categorical_features\\\": [col for col, iscat in col_names if iscat][:-1],\\n}\\n\\n# 17500\\nCT_dataset = Dataset(\\n    full_df=drift_df, column_mapping=column_mapping, window_size=17500 * 1\\n)\\n\\nmodel = RandomForestClassifier(n_estimators=5, random_state=42, max_depth=3)\\n# model = RandomForestClassifier(random_state=42)\\nparam_grid = {\\\"clf__n_estimators\\\": [5], \\\"clf__max_depth\\\": [3]}\";\n",
       "                var nbb_cells = Jupyter.notebook.get_cells();\n",
       "                for (var i = 0; i < nbb_cells.length; ++i) {\n",
       "                    if (nbb_cells[i].input_prompt_number == nbb_cell_id) {\n",
       "                        if (nbb_cells[i].get_text() == nbb_unformatted_code) {\n",
       "                             nbb_cells[i].set_text(nbb_formatted_code);\n",
       "                        }\n",
       "                        break;\n",
       "                    }\n",
       "                }\n",
       "            }, 500);\n",
       "            "
      ],
      "text/plain": [
       "<IPython.core.display.Javascript object>"
      ]
     },
     "metadata": {},
     "output_type": "display_data"
    }
   ],
   "source": [
    "column_mapping = {\n",
    "    \"target\": \"cover_type\",\n",
    "    \"numerical_features\": [col for col, iscat in col_names if not iscat],\n",
    "    \"categorical_features\": [col for col, iscat in col_names if iscat][:-1],\n",
    "}\n",
    "\n",
    "# 17500\n",
    "CT_dataset = Dataset(\n",
    "    full_df=drift_df, column_mapping=column_mapping, window_size=17500 * 1\n",
    ")\n",
    "\n",
    "model = RandomForestClassifier(n_estimators=5, random_state=42, max_depth=3)\n",
    "# model = RandomForestClassifier(random_state=42)\n",
    "param_grid = {\"clf__n_estimators\": [5], \"clf__max_depth\": [3]}"
   ]
  },
  {
   "cell_type": "code",
   "execution_count": 104,
   "id": "c6f9404f",
   "metadata": {
    "pycharm": {
     "name": "#%%\n"
    }
   },
   "outputs": [
    {
     "data": {
      "text/plain": [
       "35000"
      ]
     },
     "execution_count": 104,
     "metadata": {},
     "output_type": "execute_result"
    },
    {
     "data": {
      "application/javascript": [
       "\n",
       "            setTimeout(function() {\n",
       "                var nbb_cell_id = 104;\n",
       "                var nbb_unformatted_code = \"17500 * 2\";\n",
       "                var nbb_formatted_code = \"17500 * 2\";\n",
       "                var nbb_cells = Jupyter.notebook.get_cells();\n",
       "                for (var i = 0; i < nbb_cells.length; ++i) {\n",
       "                    if (nbb_cells[i].input_prompt_number == nbb_cell_id) {\n",
       "                        if (nbb_cells[i].get_text() == nbb_unformatted_code) {\n",
       "                             nbb_cells[i].set_text(nbb_formatted_code);\n",
       "                        }\n",
       "                        break;\n",
       "                    }\n",
       "                }\n",
       "            }, 500);\n",
       "            "
      ],
      "text/plain": [
       "<IPython.core.display.Javascript object>"
      ]
     },
     "metadata": {},
     "output_type": "display_data"
    }
   ],
   "source": [
    "17500 * 2"
   ]
  },
  {
   "cell_type": "markdown",
   "id": "d0a6e8aa",
   "metadata": {},
   "source": [
    "### Run"
   ]
  },
  {
   "cell_type": "code",
   "execution_count": 105,
   "id": "70f03d21",
   "metadata": {
    "pycharm": {
     "name": "#%%\n"
    }
   },
   "outputs": [
    {
     "name": "stdout",
     "output_type": "stream",
     "text": [
      "GETTING REFERENCE DISTRIBUTION FOR WINDOW: 0\n",
      "SELF MODEL: RandomForestClassifier(max_depth=3, n_estimators=5, random_state=42)\n",
      "GETTING REFERENCE DISTRIBUTION FOR WINDOW: 1\n",
      "SELF MODEL: RandomForestClassifier(max_depth=3, n_estimators=5, random_state=42)\n",
      "GETTING REFERENCE DISTRIBUTION FOR WINDOW: 2\n",
      "SELF MODEL: RandomForestClassifier(max_depth=3, n_estimators=5, random_state=42)\n",
      "GETTING REFERENCE DISTRIBUTION FOR WINDOW: 3\n",
      "SELF MODEL: RandomForestClassifier(max_depth=3, n_estimators=5, random_state=42)\n",
      "GETTING REFERENCE DISTRIBUTION FOR WINDOW: 4\n",
      "SELF MODEL: RandomForestClassifier(max_depth=3, n_estimators=5, random_state=42)\n",
      "GETTING REFERENCE DISTRIBUTION FOR WINDOW: 5\n",
      "SELF MODEL: RandomForestClassifier(max_depth=3, n_estimators=5, random_state=42)\n",
      "GETTING REFERENCE DISTRIBUTION FOR WINDOW: 6\n",
      "SELF MODEL: RandomForestClassifier(max_depth=3, n_estimators=5, random_state=42)\n",
      "GETTING REFERENCE DISTRIBUTION FOR WINDOW: 7\n",
      "SELF MODEL: RandomForestClassifier(max_depth=3, n_estimators=5, random_state=42)\n",
      "GETTING REFERENCE DISTRIBUTION FOR WINDOW: 8\n",
      "SELF MODEL: RandomForestClassifier(max_depth=3, n_estimators=5, random_state=42)\n",
      "GETTING REFERENCE DISTRIBUTION FOR WINDOW: 9\n",
      "SELF MODEL: RandomForestClassifier(max_depth=3, n_estimators=5, random_state=42)\n",
      "GETTING REFERENCE DISTRIBUTION FOR WINDOW: 10\n",
      "SELF MODEL: RandomForestClassifier(max_depth=3, n_estimators=5, random_state=42)\n",
      "GETTING REFERENCE DISTRIBUTION FOR WINDOW: 11\n",
      "SELF MODEL: RandomForestClassifier(max_depth=3, n_estimators=5, random_state=42)\n",
      "GETTING REFERENCE DISTRIBUTION FOR WINDOW: 12\n",
      "SELF MODEL: RandomForestClassifier(max_depth=3, n_estimators=5, random_state=42)\n",
      "GETTING REFERENCE DISTRIBUTION FOR WINDOW: 13\n",
      "SELF MODEL: RandomForestClassifier(max_depth=3, n_estimators=5, random_state=42)\n",
      "GETTING REFERENCE DISTRIBUTION FOR WINDOW: 14\n",
      "SELF MODEL: RandomForestClassifier(max_depth=3, n_estimators=5, random_state=42)\n",
      "GETTING REFERENCE DISTRIBUTION FOR WINDOW: 15\n",
      "SELF MODEL: RandomForestClassifier(max_depth=3, n_estimators=5, random_state=42)\n",
      "GETTING REFERENCE DISTRIBUTION FOR WINDOW: 16\n",
      "SELF MODEL: RandomForestClassifier(max_depth=3, n_estimators=5, random_state=42)\n",
      "GETTING REFERENCE DISTRIBUTION FOR WINDOW: 17\n",
      "SELF MODEL: RandomForestClassifier(max_depth=3, n_estimators=5, random_state=42)\n",
      "GETTING REFERENCE DISTRIBUTION FOR WINDOW: 18\n",
      "SELF MODEL: RandomForestClassifier(max_depth=3, n_estimators=5, random_state=42)\n",
      "GETTING REFERENCE DISTRIBUTION FOR WINDOW: 19\n",
      "SELF MODEL: RandomForestClassifier(max_depth=3, n_estimators=5, random_state=42)\n",
      "GETTING REFERENCE DISTRIBUTION FOR WINDOW: 20\n",
      "SELF MODEL: RandomForestClassifier(max_depth=3, n_estimators=5, random_state=42)\n",
      "GETTING REFERENCE DISTRIBUTION FOR WINDOW: 21\n",
      "SELF MODEL: RandomForestClassifier(max_depth=3, n_estimators=5, random_state=42)\n",
      "GETTING REFERENCE DISTRIBUTION FOR WINDOW: 22\n",
      "SELF MODEL: RandomForestClassifier(max_depth=3, n_estimators=5, random_state=42)\n",
      "GETTING REFERENCE DISTRIBUTION FOR WINDOW: 23\n",
      "SELF MODEL: RandomForestClassifier(max_depth=3, n_estimators=5, random_state=42)\n",
      "GETTING REFERENCE DISTRIBUTION FOR WINDOW: 24\n",
      "SELF MODEL: RandomForestClassifier(max_depth=3, n_estimators=5, random_state=42)\n",
      "GETTING REFERENCE DISTRIBUTION FOR WINDOW: 25\n",
      "SELF MODEL: RandomForestClassifier(max_depth=3, n_estimators=5, random_state=42)\n",
      "GETTING REFERENCE DISTRIBUTION FOR WINDOW: 26\n",
      "SELF MODEL: RandomForestClassifier(max_depth=3, n_estimators=5, random_state=42)\n",
      "Dataset index of split end: 35000\n",
      "GETTING REFERENCE DISTRIBUTION FOR WINDOW: 0\n",
      "FINAL SHAPE kfold preds: (17500,)\n",
      "GETTING DETECTION DISTRIBUTION FOR WINDOW: 1\n",
      "Dataset Split: 1\n",
      "REFERENCE STATS: DescribeResult(nobs=17500, minmax=(0.1903913767048593, 0.8380164320238952), mean=0.5717480968893927, variance=0.024677027076644795, skewness=-0.22598243729272816, kurtosis=-1.6003540291292953)\n",
      "DETECTION STATS: DescribeResult(nobs=17500, minmax=(0.1842638010397769, 0.8234413800745968), mean=0.574020440446662, variance=0.02594792053578265, skewness=-0.2931922642129455, kurtosis=-1.5105153626811503)\n",
      "KS Test Result: FAILED | KstestResult(statistic=0.04954285714285722, pvalue=4.19203181077862e-19)\n",
      "\n",
      "Dataset index of split end: 52500\n",
      "GETTING REFERENCE DISTRIBUTION FOR WINDOW: 1\n",
      "FINAL SHAPE kfold preds: (17500,)\n",
      "GETTING DETECTION DISTRIBUTION FOR WINDOW: 2\n",
      "Dataset Split: 2\n",
      "REFERENCE STATS: DescribeResult(nobs=17500, minmax=(0.21081462577538335, 0.874106122675153), mean=0.5724534471959676, variance=0.025105115808493273, skewness=-0.1844888112496866, kurtosis=-1.6015423507029065)\n",
      "DETECTION STATS: DescribeResult(nobs=17500, minmax=(0.22962591249207986, 0.8569308486985994), mean=0.5692654290909878, variance=0.024012804384564646, skewness=-0.15526856976059933, kurtosis=-1.6766946119349462)\n",
      "KS Test Result: FAILED | KstestResult(statistic=0.07171428571428573, pvalue=1.4102945089484485e-39)\n",
      "\n",
      "Dataset index of split end: 70000\n",
      "GETTING REFERENCE DISTRIBUTION FOR WINDOW: 2\n",
      "FINAL SHAPE kfold preds: (17500,)\n",
      "GETTING DETECTION DISTRIBUTION FOR WINDOW: 3\n",
      "Dataset Split: 3\n",
      "REFERENCE STATS: DescribeResult(nobs=17500, minmax=(0.2110779449319693, 0.8600080509856335), mean=0.5736533789105777, variance=0.024293076277681513, skewness=-0.22285302214148547, kurtosis=-1.5636118165706379)\n",
      "DETECTION STATS: DescribeResult(nobs=17500, minmax=(0.2523591053999718, 0.8455539493240932), mean=0.5729477525894507, variance=0.025399020862457707, skewness=-0.18405043324661058, kurtosis=-1.597803801559735)\n",
      "KS Test Result: FAILED | KstestResult(statistic=0.04417142857142864, pvalue=2.840533461707777e-15)\n",
      "\n",
      "Dataset index of split end: 87500\n",
      "GETTING REFERENCE DISTRIBUTION FOR WINDOW: 3\n",
      "FINAL SHAPE kfold preds: (17500,)\n",
      "GETTING DETECTION DISTRIBUTION FOR WINDOW: 4\n",
      "Dataset Split: 4\n",
      "REFERENCE STATS: DescribeResult(nobs=17500, minmax=(0.2383661192998164, 0.8966966049055121), mean=0.5649867306691461, variance=0.024574064125936004, skewness=-0.16054103325879465, kurtosis=-1.5804703708028989)\n",
      "DETECTION STATS: DescribeResult(nobs=17500, minmax=(0.2383661192998164, 0.8793026321220244), mean=0.5678656637528191, variance=0.024517502129500213, skewness=-0.16466397291573875, kurtosis=-1.5992162646052395)\n",
      "KS Test Result: FAILED | KstestResult(statistic=0.04011428571428577, pvalue=1.1363492880687217e-12)\n",
      "\n",
      "Dataset index of split end: 105000\n",
      "GETTING REFERENCE DISTRIBUTION FOR WINDOW: 4\n",
      "FINAL SHAPE kfold preds: (17500,)\n",
      "GETTING DETECTION DISTRIBUTION FOR WINDOW: 5\n",
      "Dataset Split: 5\n",
      "REFERENCE STATS: DescribeResult(nobs=17500, minmax=(0.22595212047962968, 0.8526668251267427), mean=0.5750214499887397, variance=0.02534716664610615, skewness=-0.20782881790733126, kurtosis=-1.6248091828726352)\n",
      "DETECTION STATS: DescribeResult(nobs=17500, minmax=(0.22159288636326796, 0.8398542648194877), mean=0.5706005600115609, variance=0.02518102737072929, skewness=-0.13427780417366428, kurtosis=-1.641326153283327)\n",
      "KS Test Result: FAILED | KstestResult(statistic=0.03691428571428568, pvalue=8.53106658039151e-11)\n",
      "\n",
      "Dataset index of split end: 122500\n",
      "GETTING REFERENCE DISTRIBUTION FOR WINDOW: 5\n",
      "FINAL SHAPE kfold preds: (17500,)\n",
      "GETTING DETECTION DISTRIBUTION FOR WINDOW: 6\n",
      "Dataset Split: 6\n",
      "REFERENCE STATS: DescribeResult(nobs=17500, minmax=(0.1509961403544364, 0.8936260085817576), mean=0.5669321211992245, variance=0.02591834286947282, skewness=-0.21018743928288167, kurtosis=-1.59036045415724)\n",
      "DETECTION STATS: DescribeResult(nobs=17500, minmax=(0.26268511455383214, 0.8523157533322069), mean=0.5705825749910794, variance=0.025777941646557317, skewness=-0.20239290442592864, kurtosis=-1.5534054435437705)\n",
      "KS Test Result: FAILED | KstestResult(statistic=0.05228571428571427, pvalue=3.1368797087251234e-21)\n",
      "\n",
      "Dataset index of split end: 140000\n",
      "GETTING REFERENCE DISTRIBUTION FOR WINDOW: 6\n",
      "FINAL SHAPE kfold preds: (17500,)\n",
      "GETTING DETECTION DISTRIBUTION FOR WINDOW: 7\n",
      "Dataset Split: 7\n",
      "REFERENCE STATS: DescribeResult(nobs=17500, minmax=(0.17968940027363942, 0.8757486970536974), mean=0.5752431814705827, variance=0.02487959305232213, skewness=-0.29888027276074847, kurtosis=-1.5544248827947302)\n",
      "DETECTION STATS: DescribeResult(nobs=17500, minmax=(0.21478684166287904, 0.8314278200349202), mean=0.671009630129946, variance=0.011789423527309151, skewness=-1.9421931400493033, kurtosis=2.829753207146574)\n",
      "KS Test Result: FAILED | KstestResult(statistic=0.3522857142857143, pvalue=0.0)\n",
      "\n",
      "Dataset index of split end: 157500\n"
     ]
    },
    {
     "name": "stdout",
     "output_type": "stream",
     "text": [
      "GETTING REFERENCE DISTRIBUTION FOR WINDOW: 7\n",
      "FINAL SHAPE kfold preds: (17500,)\n",
      "GETTING DETECTION DISTRIBUTION FOR WINDOW: 8\n",
      "Dataset Split: 8\n",
      "REFERENCE STATS: DescribeResult(nobs=17500, minmax=(0.17814358392972954, 0.8373871119348977), mean=0.5707010320038103, variance=0.017115198019150468, skewness=-0.28791967126063006, kurtosis=-1.440555776233886)\n",
      "DETECTION STATS: DescribeResult(nobs=17500, minmax=(0.23409640309377852, 0.8374947281341502), mean=0.5656742104425275, variance=0.019232847845785706, skewness=-0.17402045156358303, kurtosis=-1.5126175436484892)\n",
      "KS Test Result: FAILED | KstestResult(statistic=0.1600571428571429, pvalue=2.7073746603165805e-196)\n",
      "\n",
      "Dataset index of split end: 175000\n",
      "GETTING REFERENCE DISTRIBUTION FOR WINDOW: 8\n",
      "FINAL SHAPE kfold preds: (17500,)\n",
      "GETTING DETECTION DISTRIBUTION FOR WINDOW: 9\n",
      "Dataset Split: 9\n",
      "REFERENCE STATS: DescribeResult(nobs=17500, minmax=(0.19945046205200448, 0.8944562945525696), mean=0.5757572421934665, variance=0.021578491009363734, skewness=-0.18761480995799995, kurtosis=-1.4744311919967301)\n",
      "DETECTION STATS: DescribeResult(nobs=17500, minmax=(0.25847901970356774, 0.8260038327845409), mean=0.5735020486355724, variance=0.018734595632966478, skewness=-0.2788360884835492, kurtosis=-1.3505652411992466)\n",
      "KS Test Result: FAILED | KstestResult(statistic=0.12131428571428571, pvalue=1.1149384768490723e-112)\n",
      "\n",
      "Dataset index of split end: 192500\n",
      "GETTING REFERENCE DISTRIBUTION FOR WINDOW: 9\n",
      "FINAL SHAPE kfold preds: (17500,)\n",
      "GETTING DETECTION DISTRIBUTION FOR WINDOW: 10\n",
      "Dataset Split: 10\n",
      "REFERENCE STATS: DescribeResult(nobs=17500, minmax=(0.21244411128387766, 0.8874414286505182), mean=0.5769481015425816, variance=0.022370394489487123, skewness=-0.13213214253721067, kurtosis=-1.5267261905362972)\n",
      "DETECTION STATS: DescribeResult(nobs=17500, minmax=(0.20200399390591534, 0.8658993328292407), mean=0.5781299465379754, variance=0.02334708439563802, skewness=-0.10079606401385559, kurtosis=-1.6331491576839932)\n",
      "KS Test Result: FAILED | KstestResult(statistic=0.10840000000000005, pvalue=5.383686835230568e-90)\n",
      "\n",
      "Dataset index of split end: 210000\n",
      "GETTING REFERENCE DISTRIBUTION FOR WINDOW: 10\n",
      "FINAL SHAPE kfold preds: (17500,)\n",
      "GETTING DETECTION DISTRIBUTION FOR WINDOW: 11\n",
      "Dataset Split: 11\n",
      "REFERENCE STATS: DescribeResult(nobs=17500, minmax=(0.20900704764891653, 0.8952830216510506), mean=0.5787339856283944, variance=0.019988761546113266, skewness=-0.15036430907111406, kurtosis=-1.4480421733135176)\n",
      "DETECTION STATS: DescribeResult(nobs=17500, minmax=(0.2263424296603059, 0.8570344147186792), mean=0.5775073383648669, variance=0.017997373518264734, skewness=-0.14674717699465503, kurtosis=-1.3827242849453958)\n",
      "KS Test Result: FAILED | KstestResult(statistic=0.10445714285714283, pvalue=1.3900524786925912e-83)\n",
      "\n",
      "Dataset index of split end: 227500\n",
      "GETTING REFERENCE DISTRIBUTION FOR WINDOW: 11\n",
      "FINAL SHAPE kfold preds: (17500,)\n",
      "GETTING DETECTION DISTRIBUTION FOR WINDOW: 12\n",
      "Dataset Split: 12\n",
      "REFERENCE STATS: DescribeResult(nobs=17500, minmax=(0.1731526615674001, 0.8956730505752404), mean=0.5704748063556622, variance=0.02191563243866376, skewness=-0.08024242825258994, kurtosis=-1.4294345361365528)\n",
      "DETECTION STATS: DescribeResult(nobs=17500, minmax=(0.1580642158002855, 0.8897640462952727), mean=0.5719509508669713, variance=0.021245278915626272, skewness=-0.026646679871301013, kurtosis=-1.3685219271530296)\n",
      "KS Test Result: FAILED | KstestResult(statistic=0.08217142857142859, pvalue=7.654014656362731e-52)\n",
      "\n",
      "Dataset index of split end: 245000\n",
      "GETTING REFERENCE DISTRIBUTION FOR WINDOW: 12\n",
      "FINAL SHAPE kfold preds: (17500,)\n",
      "GETTING DETECTION DISTRIBUTION FOR WINDOW: 13\n",
      "Dataset Split: 13\n",
      "REFERENCE STATS: DescribeResult(nobs=17500, minmax=(0.18201745030208577, 0.8909731101012811), mean=0.5712922865331025, variance=0.021606981481006232, skewness=-0.1319731347760055, kurtosis=-1.4265281278686603)\n",
      "DETECTION STATS: DescribeResult(nobs=17500, minmax=(0.23872198352157556, 0.874178772134942), mean=0.5696607408040527, variance=0.022347110978319006, skewness=-0.16675512439528664, kurtosis=-1.4487816954015769)\n",
      "KS Test Result: FAILED | KstestResult(statistic=0.11097142857142861, pvalue=2.630604294937025e-94)\n",
      "\n",
      "Dataset index of split end: 262500\n",
      "GETTING REFERENCE DISTRIBUTION FOR WINDOW: 13\n",
      "FINAL SHAPE kfold preds: (17500,)\n",
      "GETTING DETECTION DISTRIBUTION FOR WINDOW: 14\n",
      "Dataset Split: 14\n",
      "REFERENCE STATS: DescribeResult(nobs=17500, minmax=(0.21780979025276861, 0.9029343798862628), mean=0.5755304862406414, variance=0.022497525795689435, skewness=-0.13004176955132235, kurtosis=-1.4768442418702605)\n",
      "DETECTION STATS: DescribeResult(nobs=17500, minmax=(0.2509269574721137, 0.8809119213120636), mean=0.5786180854207104, variance=0.02078862205503877, skewness=-0.24134002246144334, kurtosis=-1.4653385588387968)\n",
      "KS Test Result: FAILED | KstestResult(statistic=0.13514285714285712, pvalue=7.766485003053307e-140)\n",
      "\n",
      "Dataset index of split end: 280000\n",
      "GETTING REFERENCE DISTRIBUTION FOR WINDOW: 14\n",
      "FINAL SHAPE kfold preds: (17500,)\n",
      "GETTING DETECTION DISTRIBUTION FOR WINDOW: 15\n",
      "Dataset Split: 15\n",
      "REFERENCE STATS: DescribeResult(nobs=17500, minmax=(0.20380295694609846, 0.8976484050427904), mean=0.5774205327427369, variance=0.022352024310561325, skewness=-0.06071890995237812, kurtosis=-1.4654128867270253)\n",
      "DETECTION STATS: DescribeResult(nobs=17500, minmax=(0.22814259782934915, 0.8384991772151915), mean=0.5787072050217543, variance=0.022164043564305354, skewness=-0.07531789357559454, kurtosis=-1.5198505112088716)\n",
      "KS Test Result: FAILED | KstestResult(statistic=0.08954285714285717, pvalue=1.698648514318627e-61)\n",
      "\n",
      "Dataset index of split end: 297500\n",
      "GETTING REFERENCE DISTRIBUTION FOR WINDOW: 15\n",
      "FINAL SHAPE kfold preds: (17500,)\n",
      "GETTING DETECTION DISTRIBUTION FOR WINDOW: 16\n",
      "Dataset Split: 16\n",
      "REFERENCE STATS: DescribeResult(nobs=17500, minmax=(0.14173789950540325, 0.8821899774268342), mean=0.5726224264013837, variance=0.02143963849914022, skewness=-0.15433020454533566, kurtosis=-1.4408985480568142)\n",
      "DETECTION STATS: DescribeResult(nobs=17500, minmax=(0.23108449735927458, 0.8809779341708832), mean=0.5715361344336441, variance=0.020894674064173335, skewness=-0.07445825835893434, kurtosis=-1.476844682115692)\n",
      "KS Test Result: FAILED | KstestResult(statistic=0.05514285714285716, pvalue=1.445258641461213e-23)\n",
      "\n",
      "Dataset index of split end: 315000\n",
      "GETTING REFERENCE DISTRIBUTION FOR WINDOW: 16\n",
      "FINAL SHAPE kfold preds: (17500,)\n",
      "GETTING DETECTION DISTRIBUTION FOR WINDOW: 17\n",
      "Dataset Split: 17\n",
      "REFERENCE STATS: DescribeResult(nobs=17500, minmax=(0.2078369287360434, 0.8744832166284999), mean=0.5745260797938333, variance=0.018063548452847595, skewness=-0.22584238896567665, kurtosis=-1.3890098889205689)\n",
      "DETECTION STATS: DescribeResult(nobs=17500, minmax=(0.21662704164474164, 0.8116907338670446), mean=0.5714049304629757, variance=0.021020592929054303, skewness=-0.2850727671264386, kurtosis=-1.4234473327823207)\n",
      "KS Test Result: FAILED | KstestResult(statistic=0.09428571428571428, pvalue=3.7796915212977175e-68)\n",
      "\n",
      "Dataset index of split end: 332500\n",
      "GETTING REFERENCE DISTRIBUTION FOR WINDOW: 17\n",
      "FINAL SHAPE kfold preds: (17500,)\n",
      "GETTING DETECTION DISTRIBUTION FOR WINDOW: 18\n",
      "Dataset Split: 18\n",
      "REFERENCE STATS: DescribeResult(nobs=17500, minmax=(0.18968735727984187, 0.8858158445339797), mean=0.5676447268513208, variance=0.022400468175112934, skewness=-0.16574911220913527, kurtosis=-1.4242330408476613)\n",
      "DETECTION STATS: DescribeResult(nobs=17500, minmax=(0.18457364417293357, 0.8432938946157724), mean=0.568645899822364, variance=0.020663376190159788, skewness=-0.0746568829408249, kurtosis=-1.4347499991925736)\n",
      "KS Test Result: FAILED | KstestResult(statistic=0.08377142857142855, pvalue=7.233689186715206e-54)\n",
      "\n",
      "Dataset index of split end: 350000\n",
      "GETTING REFERENCE DISTRIBUTION FOR WINDOW: 18\n",
      "FINAL SHAPE kfold preds: (17500,)\n",
      "GETTING DETECTION DISTRIBUTION FOR WINDOW: 19\n",
      "Dataset Split: 19\n",
      "REFERENCE STATS: DescribeResult(nobs=17500, minmax=(0.20298269097082824, 0.8945637401019406), mean=0.5695035625845868, variance=0.022626084379249255, skewness=-0.041876502096518727, kurtosis=-1.4730100304356644)\n",
      "DETECTION STATS: DescribeResult(nobs=17500, minmax=(0.18524128598468526, 0.8668607186476738), mean=0.5666148237575138, variance=0.02308965512432362, skewness=-0.06626081526831729, kurtosis=-1.4985205690338055)\n"
     ]
    },
    {
     "name": "stdout",
     "output_type": "stream",
     "text": [
      "KS Test Result: FAILED | KstestResult(statistic=0.0964571428571428, pvalue=2.607455439638958e-71)\n",
      "\n",
      "Dataset index of split end: 367500\n",
      "GETTING REFERENCE DISTRIBUTION FOR WINDOW: 19\n",
      "FINAL SHAPE kfold preds: (17500,)\n",
      "GETTING DETECTION DISTRIBUTION FOR WINDOW: 20\n",
      "Dataset Split: 20\n",
      "REFERENCE STATS: DescribeResult(nobs=17500, minmax=(0.18631215810501808, 0.876278627912159), mean=0.5652240212365843, variance=0.020306935202633148, skewness=-0.11258016085320459, kurtosis=-1.3571334301099416)\n",
      "DETECTION STATS: DescribeResult(nobs=17500, minmax=(0.17373247598224822, 0.8339828136224146), mean=0.5649029367338588, variance=0.021260736610185613, skewness=-0.03916049341112292, kurtosis=-1.493377773109448)\n",
      "KS Test Result: FAILED | KstestResult(statistic=0.08668571428571425, pvalue=1.1772937754912421e-57)\n",
      "\n",
      "Dataset index of split end: 385000\n",
      "GETTING REFERENCE DISTRIBUTION FOR WINDOW: 20\n",
      "FINAL SHAPE kfold preds: (17500,)\n",
      "GETTING DETECTION DISTRIBUTION FOR WINDOW: 21\n",
      "Dataset Split: 21\n",
      "REFERENCE STATS: DescribeResult(nobs=17500, minmax=(0.15855573252284172, 0.8883609628103238), mean=0.5744035318330895, variance=0.020600628158551938, skewness=-0.17255959153711656, kurtosis=-1.380646925771403)\n",
      "DETECTION STATS: DescribeResult(nobs=17500, minmax=(0.22656558667099785, 0.8497802957691565), mean=0.5415982092434405, variance=0.02117851452055576, skewness=-0.0067726305515413004, kurtosis=-1.1763220193067034)\n",
      "KS Test Result: FAILED | KstestResult(statistic=0.15142857142857147, pvalue=1.2192330105524464e-175)\n",
      "\n",
      "Dataset index of split end: 402500\n",
      "GETTING REFERENCE DISTRIBUTION FOR WINDOW: 21\n",
      "FINAL SHAPE kfold preds: (17500,)\n",
      "GETTING DETECTION DISTRIBUTION FOR WINDOW: 22\n",
      "Dataset Split: 22\n",
      "REFERENCE STATS: DescribeResult(nobs=17500, minmax=(0.2574986004557812, 0.8440341051869027), mean=0.5681800571294838, variance=0.021783334818828323, skewness=-0.11875563378083419, kurtosis=-1.5166650625997258)\n",
      "DETECTION STATS: DescribeResult(nobs=17500, minmax=(0.29981210709452544, 0.8292591398884946), mean=0.5677545411114735, variance=0.01966892030803557, skewness=-0.04937675602782591, kurtosis=-1.6479287551158703)\n",
      "KS Test Result: FAILED | KstestResult(statistic=0.08942857142857144, pvalue=2.4330011325482478e-61)\n",
      "\n",
      "Dataset index of split end: 420000\n",
      "GETTING REFERENCE DISTRIBUTION FOR WINDOW: 22\n",
      "FINAL SHAPE kfold preds: (17500,)\n",
      "GETTING DETECTION DISTRIBUTION FOR WINDOW: 23\n",
      "Dataset Split: 23\n",
      "REFERENCE STATS: DescribeResult(nobs=17500, minmax=(0.24008711548045017, 0.8726611753595683), mean=0.574895156599072, variance=0.013297751952479243, skewness=-0.13059771704447648, kurtosis=-1.195756776655554)\n",
      "DETECTION STATS: DescribeResult(nobs=17500, minmax=(0.2861103888094292, 0.8592048540800963), mean=0.5764893976395964, variance=0.012391248030837802, skewness=-0.225974666254962, kurtosis=-1.1167602378736776)\n",
      "KS Test Result: FAILED | KstestResult(statistic=0.09257142857142858, pvalue=1.0518098627279097e-65)\n",
      "\n",
      "Dataset index of split end: 437500\n",
      "GETTING REFERENCE DISTRIBUTION FOR WINDOW: 23\n",
      "FINAL SHAPE kfold preds: (17500,)\n",
      "GETTING DETECTION DISTRIBUTION FOR WINDOW: 24\n",
      "Dataset Split: 24\n",
      "REFERENCE STATS: DescribeResult(nobs=17500, minmax=(0.22587168166638366, 0.8638170455503804), mean=0.5744756254555484, variance=0.015983246543765206, skewness=-0.14908853661996888, kurtosis=-1.3558342300679334)\n",
      "DETECTION STATS: DescribeResult(nobs=17500, minmax=(0.2646350349097415, 0.8630737407870186), mean=0.5765254586457133, variance=0.012286597679910527, skewness=-0.14340949008727613, kurtosis=-1.1734982826784157)\n",
      "KS Test Result: FAILED | KstestResult(statistic=0.12599999999999997, pvalue=1.5069152360836425e-121)\n",
      "\n",
      "Dataset index of split end: 455000\n",
      "GETTING REFERENCE DISTRIBUTION FOR WINDOW: 24\n",
      "FINAL SHAPE kfold preds: (17500,)\n",
      "GETTING DETECTION DISTRIBUTION FOR WINDOW: 25\n",
      "Dataset Split: 25\n",
      "REFERENCE STATS: DescribeResult(nobs=17500, minmax=(0.23478610325379612, 0.9149002532794803), mean=0.5824766288891544, variance=0.019522166907753945, skewness=-0.08875674802556893, kurtosis=-1.5574775103352454)\n",
      "DETECTION STATS: DescribeResult(nobs=17500, minmax=(0.26051732046701676, 0.9149002532794803), mean=0.5815245967564077, variance=0.02089016741224043, skewness=-0.08740615053560809, kurtosis=-1.6091270654334922)\n",
      "KS Test Result: FAILED | KstestResult(statistic=0.1164, pvalue=9.623654757991758e-104)\n",
      "\n",
      "Dataset index of split end: 472500\n",
      "GETTING REFERENCE DISTRIBUTION FOR WINDOW: 25\n",
      "FINAL SHAPE kfold preds: (17500,)\n",
      "GETTING DETECTION DISTRIBUTION FOR WINDOW: 26\n",
      "Dataset Split: 26\n",
      "REFERENCE STATS: DescribeResult(nobs=17500, minmax=(0.23731958620444712, 0.940670402519385), mean=0.5694424335548659, variance=0.017185870946382707, skewness=-0.07233711230939122, kurtosis=-1.408464574165692)\n",
      "DETECTION STATS: DescribeResult(nobs=17500, minmax=(0.28100916497424266, 0.8585822326811258), mean=0.5682813348215383, variance=0.012974715933523277, skewness=-0.14490049258956839, kurtosis=-1.1623740125145305)\n",
      "KS Test Result: FAILED | KstestResult(statistic=0.1784, pvalue=4.245345376087471e-244)\n",
      "\n",
      "Dataset index of split end: 490000\n",
      "GETTING REFERENCE DISTRIBUTION FOR WINDOW: 26\n",
      "FINAL SHAPE kfold preds: (17500,)\n",
      "GETTING DETECTION DISTRIBUTION FOR WINDOW: 27\n",
      "Dataset Split: 27\n",
      "REFERENCE STATS: DescribeResult(nobs=17500, minmax=(0.2591807233182749, 0.8533193179040943), mean=0.5666624659532025, variance=0.016730909982841227, skewness=-0.0854201080501049, kurtosis=-1.4064033006220247)\n",
      "DETECTION STATS: DescribeResult(nobs=17500, minmax=(0.2978171820944319, 0.8533193179040943), mean=0.5665929535718922, variance=0.01185001910986155, skewness=-0.09760078884334732, kurtosis=-1.0768229865161225)\n",
      "KS Test Result: FAILED | KstestResult(statistic=0.14777142857142858, pvalue=3.071952343481277e-167)\n",
      "\n",
      "Dataset index of split end: 35000\n",
      "GETTING REFERENCE DISTRIBUTION FOR WINDOW: 0\n",
      "SELF MODEL: RandomForestClassifier(max_depth=3, n_estimators=5, random_state=42)\n",
      "GETTING DETECTION DISTRIBUTION FOR WINDOW: 1\n",
      "X2 Test Result: FAILED | Power_divergenceResult(statistic=10.965675335431492, pvalue=0.0009281511506106395)\n",
      "\n",
      "Dataset index of split end: 52500\n",
      "GETTING REFERENCE DISTRIBUTION FOR WINDOW: 1\n",
      "SELF MODEL: RandomForestClassifier(max_depth=3, n_estimators=5, random_state=42)\n",
      "GETTING DETECTION DISTRIBUTION FOR WINDOW: 2\n",
      "X2 Test Result: FAILED | Power_divergenceResult(statistic=19.57786033214825, pvalue=9.658194467937441e-06)\n",
      "\n",
      "Dataset index of split end: 70000\n",
      "GETTING REFERENCE DISTRIBUTION FOR WINDOW: 2\n",
      "SELF MODEL: RandomForestClassifier(max_depth=3, n_estimators=5, random_state=42)\n",
      "GETTING DETECTION DISTRIBUTION FOR WINDOW: 3\n",
      "X2 Test Result: FAILED | Power_divergenceResult(statistic=42.57160632228223, pvalue=6.814138976676491e-11)\n",
      "\n",
      "Dataset index of split end: 87500\n",
      "GETTING REFERENCE DISTRIBUTION FOR WINDOW: 3\n",
      "SELF MODEL: RandomForestClassifier(max_depth=3, n_estimators=5, random_state=42)\n",
      "GETTING DETECTION DISTRIBUTION FOR WINDOW: 4\n",
      "X2 Test Result: FAILED | Power_divergenceResult(statistic=112.5275510966478, pvalue=2.738332194189962e-26)\n",
      "\n",
      "Dataset index of split end: 105000\n",
      "GETTING REFERENCE DISTRIBUTION FOR WINDOW: 4\n",
      "SELF MODEL: RandomForestClassifier(max_depth=3, n_estimators=5, random_state=42)\n",
      "GETTING DETECTION DISTRIBUTION FOR WINDOW: 5\n",
      "X2 Test Result: PASSED | Power_divergenceResult(statistic=6.023447524373525, pvalue=0.014117043716468559)\n",
      "\n",
      "Dataset index of split end: 122500\n",
      "GETTING DETECTION DISTRIBUTION FOR WINDOW: 6\n",
      "X2 Test Result: FAILED | Power_divergenceResult(statistic=22.36897694462716, pvalue=2.249789345702481e-06)\n",
      "\n",
      "Dataset index of split end: 140000\n",
      "GETTING REFERENCE DISTRIBUTION FOR WINDOW: 5\n",
      "SELF MODEL: RandomForestClassifier(max_depth=3, n_estimators=5, random_state=42)\n",
      "GETTING DETECTION DISTRIBUTION FOR WINDOW: 7\n",
      "X2 Test Result: FAILED | Power_divergenceResult(statistic=725.7619513020747, pvalue=7.477239643628481e-160)\n",
      "\n",
      "Dataset index of split end: 157500\n",
      "GETTING REFERENCE DISTRIBUTION FOR WINDOW: 6\n",
      "SELF MODEL: RandomForestClassifier(max_depth=3, n_estimators=5, random_state=42)\n",
      "GETTING DETECTION DISTRIBUTION FOR WINDOW: 8\n",
      "X2 Test Result: FAILED | Power_divergenceResult(statistic=414.41904399004034, pvalue=4.001533868729393e-92)\n",
      "\n",
      "Dataset index of split end: 175000\n",
      "GETTING REFERENCE DISTRIBUTION FOR WINDOW: 7\n",
      "SELF MODEL: RandomForestClassifier(max_depth=3, n_estimators=5, random_state=42)\n"
     ]
    },
    {
     "name": "stdout",
     "output_type": "stream",
     "text": [
      "GETTING DETECTION DISTRIBUTION FOR WINDOW: 9\n",
      "X2 Test Result: PASSED | Power_divergenceResult(statistic=6.850757950732774, pvalue=0.008860367565394241)\n",
      "\n",
      "Dataset index of split end: 192500\n",
      "GETTING DETECTION DISTRIBUTION FOR WINDOW: 10\n",
      "X2 Test Result: PASSED | Power_divergenceResult(statistic=0.007611953278591971, pvalue=0.9304755716832709)\n",
      "\n",
      "Dataset index of split end: 210000\n",
      "GETTING DETECTION DISTRIBUTION FOR WINDOW: 11\n",
      "X2 Test Result: PASSED | Power_divergenceResult(statistic=5.24511155602978, pvalue=0.0220085171808845)\n",
      "\n",
      "Dataset index of split end: 227500\n",
      "GETTING DETECTION DISTRIBUTION FOR WINDOW: 12\n",
      "X2 Test Result: PASSED | Power_divergenceResult(statistic=1.2374181548511074, pvalue=0.2659692191268813)\n",
      "\n",
      "Dataset index of split end: 245000\n",
      "GETTING DETECTION DISTRIBUTION FOR WINDOW: 13\n",
      "X2 Test Result: PASSED | Power_divergenceResult(statistic=0.2098044622411912, pvalue=0.6469207076553571)\n",
      "\n",
      "Dataset index of split end: 262500\n",
      "GETTING DETECTION DISTRIBUTION FOR WINDOW: 14\n",
      "X2 Test Result: FAILED | Power_divergenceResult(statistic=986.5091449055195, pvalue=1.537132802168934e-216)\n",
      "\n",
      "Dataset index of split end: 280000\n",
      "GETTING REFERENCE DISTRIBUTION FOR WINDOW: 8\n",
      "SELF MODEL: RandomForestClassifier(max_depth=3, n_estimators=5, random_state=42)\n",
      "GETTING DETECTION DISTRIBUTION FOR WINDOW: 15\n",
      "X2 Test Result: FAILED | Power_divergenceResult(statistic=1403.275979196037, pvalue=4.078987769036812e-307)\n",
      "\n",
      "Dataset index of split end: 297500\n",
      "GETTING REFERENCE DISTRIBUTION FOR WINDOW: 9\n",
      "SELF MODEL: RandomForestClassifier(max_depth=3, n_estimators=5, random_state=42)\n",
      "GETTING DETECTION DISTRIBUTION FOR WINDOW: 16\n",
      "X2 Test Result: FAILED | Power_divergenceResult(statistic=45.50311839552641, pvalue=1.5239600593400804e-11)\n",
      "\n",
      "Dataset index of split end: 315000\n",
      "GETTING REFERENCE DISTRIBUTION FOR WINDOW: 10\n",
      "SELF MODEL: RandomForestClassifier(max_depth=3, n_estimators=5, random_state=42)\n",
      "GETTING DETECTION DISTRIBUTION FOR WINDOW: 17\n",
      "X2 Test Result: FAILED | Power_divergenceResult(statistic=2174.5484621132787, pvalue=0.0)\n",
      "\n",
      "Dataset index of split end: 332500\n",
      "GETTING REFERENCE DISTRIBUTION FOR WINDOW: 11\n",
      "SELF MODEL: RandomForestClassifier(max_depth=3, n_estimators=5, random_state=42)\n",
      "GETTING DETECTION DISTRIBUTION FOR WINDOW: 18\n",
      "X2 Test Result: FAILED | Power_divergenceResult(statistic=77.93050441645909, pvalue=1.0673032810148217e-18)\n",
      "\n",
      "Dataset index of split end: 350000\n",
      "GETTING REFERENCE DISTRIBUTION FOR WINDOW: 12\n",
      "SELF MODEL: RandomForestClassifier(max_depth=3, n_estimators=5, random_state=42)\n",
      "GETTING DETECTION DISTRIBUTION FOR WINDOW: 19\n",
      "X2 Test Result: PASSED | Power_divergenceResult(statistic=5.434255215914605, pvalue=0.019745509308245607)\n",
      "\n",
      "Dataset index of split end: 367500\n",
      "GETTING DETECTION DISTRIBUTION FOR WINDOW: 20\n",
      "X2 Test Result: PASSED | Power_divergenceResult(statistic=4.2525458716254825, pvalue=0.03919153620722922)\n",
      "\n",
      "Dataset index of split end: 385000\n",
      "GETTING DETECTION DISTRIBUTION FOR WINDOW: 21\n",
      "X2 Test Result: FAILED | Power_divergenceResult(statistic=28.459500041629703, pvalue=9.567912734345048e-08)\n",
      "\n",
      "Dataset index of split end: 402500\n",
      "GETTING REFERENCE DISTRIBUTION FOR WINDOW: 13\n",
      "SELF MODEL: RandomForestClassifier(max_depth=3, n_estimators=5, random_state=42)\n",
      "GETTING DETECTION DISTRIBUTION FOR WINDOW: 22\n",
      "X2 Test Result: FAILED | Power_divergenceResult(statistic=147.0929155179677, pvalue=7.4889248470700185e-34)\n",
      "\n",
      "Dataset index of split end: 420000\n",
      "GETTING REFERENCE DISTRIBUTION FOR WINDOW: 14\n",
      "SELF MODEL: RandomForestClassifier(max_depth=3, n_estimators=5, random_state=42)\n",
      "GETTING DETECTION DISTRIBUTION FOR WINDOW: 23\n",
      "X2 Test Result: FAILED | Power_divergenceResult(statistic=16.769903264235467, pvalue=4.219730290968862e-05)\n",
      "\n",
      "Dataset index of split end: 437500\n",
      "GETTING REFERENCE DISTRIBUTION FOR WINDOW: 15\n",
      "SELF MODEL: RandomForestClassifier(max_depth=3, n_estimators=5, random_state=42)\n",
      "GETTING DETECTION DISTRIBUTION FOR WINDOW: 24\n",
      "X2 Test Result: FAILED | Power_divergenceResult(statistic=42.790547765969485, pvalue=6.092583732986145e-11)\n",
      "\n",
      "Dataset index of split end: 455000\n",
      "GETTING REFERENCE DISTRIBUTION FOR WINDOW: 16\n",
      "SELF MODEL: RandomForestClassifier(max_depth=3, n_estimators=5, random_state=42)\n",
      "GETTING DETECTION DISTRIBUTION FOR WINDOW: 25\n",
      "X2 Test Result: FAILED | Power_divergenceResult(statistic=719.0114358505606, pvalue=2.195941289770478e-158)\n",
      "\n",
      "Dataset index of split end: 472500\n",
      "GETTING REFERENCE DISTRIBUTION FOR WINDOW: 17\n",
      "SELF MODEL: RandomForestClassifier(max_depth=3, n_estimators=5, random_state=42)\n",
      "GETTING DETECTION DISTRIBUTION FOR WINDOW: 26\n",
      "X2 Test Result: FAILED | Power_divergenceResult(statistic=899.9615608937488, pvalue=1.0004074884890825e-197)\n",
      "\n",
      "Dataset index of split end: 490000\n",
      "GETTING REFERENCE DISTRIBUTION FOR WINDOW: 18\n",
      "SELF MODEL: RandomForestClassifier(max_depth=3, n_estimators=5, random_state=42)\n",
      "GETTING DETECTION DISTRIBUTION FOR WINDOW: 27\n",
      "X2 Test Result: FAILED | Power_divergenceResult(statistic=13.503272366064339, pvalue=0.0002381477963993484)\n",
      "\n",
      "Dataset index of split end: 35000\n",
      "GETTING REFERENCE DISTRIBUTION FOR WINDOW: 0\n",
      "SELF MODEL: RandomForestClassifier(max_depth=3, n_estimators=5, random_state=42)\n",
      "GETTING DETECTION DISTRIBUTION FOR WINDOW: 1\n",
      "Significant Change in Margin Density: False\n",
      "Change in MD: 0.006971428571428573\n",
      "Sensitivity: 1.25 | Ref_SD: 0.02035609521113757 | Threshold: 0.025445119013921963\n",
      "\n",
      "Dataset index of split end: 52500\n",
      "GETTING DETECTION DISTRIBUTION FOR WINDOW: 2\n",
      "Significant Change in Margin Density: False\n",
      "Change in MD: 0.005828571428571433\n",
      "Sensitivity: 1.25 | Ref_SD: 0.02035609521113757 | Threshold: 0.025445119013921963\n",
      "\n",
      "Dataset index of split end: 70000\n",
      "GETTING DETECTION DISTRIBUTION FOR WINDOW: 3\n",
      "Significant Change in Margin Density: False\n",
      "Change in MD: 0.003314285714285714\n",
      "Sensitivity: 1.25 | Ref_SD: 0.02035609521113757 | Threshold: 0.025445119013921963\n",
      "\n",
      "Dataset index of split end: 87500\n",
      "GETTING DETECTION DISTRIBUTION FOR WINDOW: 4\n",
      "Significant Change in Margin Density: False\n",
      "Change in MD: 0.006571428571428575\n",
      "Sensitivity: 1.25 | Ref_SD: 0.02035609521113757 | Threshold: 0.025445119013921963\n",
      "\n",
      "Dataset index of split end: 105000\n",
      "GETTING DETECTION DISTRIBUTION FOR WINDOW: 5\n",
      "Significant Change in Margin Density: False\n",
      "Change in MD: 0.008571428571428577\n",
      "Sensitivity: 1.25 | Ref_SD: 0.02035609521113757 | Threshold: 0.025445119013921963\n",
      "\n",
      "Dataset index of split end: 122500\n",
      "GETTING DETECTION DISTRIBUTION FOR WINDOW: 6\n",
      "Significant Change in Margin Density: False\n",
      "Change in MD: 0.005714285714285713\n",
      "Sensitivity: 1.25 | Ref_SD: 0.02035609521113757 | Threshold: 0.025445119013921963\n",
      "\n",
      "Dataset index of split end: 140000\n",
      "GETTING DETECTION DISTRIBUTION FOR WINDOW: 7\n",
      "Significant Change in Margin Density: True\n",
      "Change in MD: 0.06485714285714286\n",
      "Sensitivity: 1.25 | Ref_SD: 0.02035609521113757 | Threshold: 0.025445119013921963\n",
      "\n",
      "Dataset index of split end: 157500\n",
      "GETTING REFERENCE DISTRIBUTION FOR WINDOW: 1\n",
      "SELF MODEL: RandomForestClassifier(max_depth=3, n_estimators=5, random_state=42)\n",
      "GETTING DETECTION DISTRIBUTION FOR WINDOW: 8\n",
      "Significant Change in Margin Density: True\n",
      "Change in MD: 0.05508571428571428\n",
      "Sensitivity: 1.25 | Ref_SD: 0.0124 | Threshold: 0.0155\n",
      "\n",
      "Dataset index of split end: 175000\n",
      "GETTING REFERENCE DISTRIBUTION FOR WINDOW: 2\n",
      "SELF MODEL: RandomForestClassifier(max_depth=3, n_estimators=5, random_state=42)\n",
      "GETTING DETECTION DISTRIBUTION FOR WINDOW: 9\n",
      "Significant Change in Margin Density: True\n",
      "Change in MD: 0.021485714285714275\n",
      "Sensitivity: 1.25 | Ref_SD: 0.010516304154084955 | Threshold: 0.013145380192606195\n",
      "\n",
      "Dataset index of split end: 192500\n",
      "GETTING REFERENCE DISTRIBUTION FOR WINDOW: 3\n",
      "SELF MODEL: RandomForestClassifier(max_depth=3, n_estimators=5, random_state=42)\n",
      "GETTING DETECTION DISTRIBUTION FOR WINDOW: 10\n",
      "Significant Change in Margin Density: False\n",
      "Change in MD: 0.015199999999999991\n",
      "Sensitivity: 1.25 | Ref_SD: 0.01323890370946822 | Threshold: 0.016548629636835274\n",
      "\n",
      "Dataset index of split end: 210000\n",
      "GETTING DETECTION DISTRIBUTION FOR WINDOW: 11\n",
      "Significant Change in Margin Density: False\n",
      "Change in MD: 0.01531428571428571\n",
      "Sensitivity: 1.25 | Ref_SD: 0.01323890370946822 | Threshold: 0.016548629636835274\n",
      "\n",
      "Dataset index of split end: 227500\n",
      "GETTING DETECTION DISTRIBUTION FOR WINDOW: 12\n",
      "Significant Change in Margin Density: True\n",
      "Change in MD: 0.019314285714285714\n",
      "Sensitivity: 1.25 | Ref_SD: 0.01323890370946822 | Threshold: 0.016548629636835274\n"
     ]
    },
    {
     "name": "stdout",
     "output_type": "stream",
     "text": [
      "\n",
      "Dataset index of split end: 245000\n",
      "GETTING REFERENCE DISTRIBUTION FOR WINDOW: 4\n",
      "SELF MODEL: RandomForestClassifier(max_depth=3, n_estimators=5, random_state=42)\n",
      "GETTING DETECTION DISTRIBUTION FOR WINDOW: 13\n",
      "Significant Change in Margin Density: False\n",
      "Change in MD: 0.007314285714285718\n",
      "Sensitivity: 1.25 | Ref_SD: 0.022629148621787318 | Threshold: 0.028286435777234147\n",
      "\n",
      "Dataset index of split end: 262500\n",
      "GETTING DETECTION DISTRIBUTION FOR WINDOW: 14\n",
      "Significant Change in Margin Density: False\n",
      "Change in MD: 0.0045714285714285735\n",
      "Sensitivity: 1.25 | Ref_SD: 0.022629148621787318 | Threshold: 0.028286435777234147\n",
      "\n",
      "Dataset index of split end: 280000\n",
      "GETTING DETECTION DISTRIBUTION FOR WINDOW: 15\n",
      "Significant Change in Margin Density: False\n",
      "Change in MD: 0.007542857142857143\n",
      "Sensitivity: 1.25 | Ref_SD: 0.022629148621787318 | Threshold: 0.028286435777234147\n",
      "\n",
      "Dataset index of split end: 297500\n",
      "GETTING DETECTION DISTRIBUTION FOR WINDOW: 16\n",
      "Significant Change in Margin Density: False\n",
      "Change in MD: 0.0068000000000000005\n",
      "Sensitivity: 1.25 | Ref_SD: 0.022629148621787318 | Threshold: 0.028286435777234147\n",
      "\n",
      "Dataset index of split end: 315000\n",
      "GETTING DETECTION DISTRIBUTION FOR WINDOW: 17\n",
      "Significant Change in Margin Density: False\n",
      "Change in MD: 0.004285714285714282\n",
      "Sensitivity: 1.25 | Ref_SD: 0.022629148621787318 | Threshold: 0.028286435777234147\n",
      "\n",
      "Dataset index of split end: 332500\n",
      "GETTING DETECTION DISTRIBUTION FOR WINDOW: 18\n",
      "Significant Change in Margin Density: False\n",
      "Change in MD: 0.00794285714285714\n",
      "Sensitivity: 1.25 | Ref_SD: 0.022629148621787318 | Threshold: 0.028286435777234147\n",
      "\n",
      "Dataset index of split end: 350000\n",
      "GETTING DETECTION DISTRIBUTION FOR WINDOW: 19\n",
      "Significant Change in Margin Density: False\n",
      "Change in MD: 0.008914285714285708\n",
      "Sensitivity: 1.25 | Ref_SD: 0.022629148621787318 | Threshold: 0.028286435777234147\n",
      "\n",
      "Dataset index of split end: 367500\n",
      "GETTING DETECTION DISTRIBUTION FOR WINDOW: 20\n",
      "Significant Change in Margin Density: False\n",
      "Change in MD: 0.005371428571428569\n",
      "Sensitivity: 1.25 | Ref_SD: 0.022629148621787318 | Threshold: 0.028286435777234147\n",
      "\n",
      "Dataset index of split end: 385000\n",
      "GETTING DETECTION DISTRIBUTION FOR WINDOW: 21\n",
      "Significant Change in Margin Density: True\n",
      "Change in MD: 0.06908571428571428\n",
      "Sensitivity: 1.25 | Ref_SD: 0.022629148621787318 | Threshold: 0.028286435777234147\n",
      "\n",
      "Dataset index of split end: 402500\n",
      "GETTING REFERENCE DISTRIBUTION FOR WINDOW: 5\n",
      "SELF MODEL: RandomForestClassifier(max_depth=3, n_estimators=5, random_state=42)\n",
      "GETTING DETECTION DISTRIBUTION FOR WINDOW: 22\n",
      "Significant Change in Margin Density: True\n",
      "Change in MD: 0.1570285714285714\n",
      "Sensitivity: 1.25 | Ref_SD: 0.009574796848700108 | Threshold: 0.011968496060875135\n",
      "\n",
      "Dataset index of split end: 420000\n",
      "GETTING REFERENCE DISTRIBUTION FOR WINDOW: 6\n",
      "SELF MODEL: RandomForestClassifier(max_depth=3, n_estimators=5, random_state=42)\n",
      "GETTING DETECTION DISTRIBUTION FOR WINDOW: 23\n",
      "Significant Change in Margin Density: True\n",
      "Change in MD: 0.09200000000000001\n",
      "Sensitivity: 1.25 | Ref_SD: 0.021732398460757682 | Threshold: 0.027165498075947103\n",
      "\n",
      "Dataset index of split end: 437500\n",
      "GETTING REFERENCE DISTRIBUTION FOR WINDOW: 7\n",
      "SELF MODEL: RandomForestClassifier(max_depth=3, n_estimators=5, random_state=42)\n",
      "GETTING DETECTION DISTRIBUTION FOR WINDOW: 24\n",
      "Significant Change in Margin Density: True\n",
      "Change in MD: 0.16828571428571426\n",
      "Sensitivity: 1.25 | Ref_SD: 0.06298016532599605 | Threshold: 0.07872520665749506\n",
      "\n",
      "Dataset index of split end: 455000\n",
      "GETTING REFERENCE DISTRIBUTION FOR WINDOW: 8\n",
      "SELF MODEL: RandomForestClassifier(max_depth=3, n_estimators=5, random_state=42)\n",
      "GETTING DETECTION DISTRIBUTION FOR WINDOW: 25\n",
      "Significant Change in Margin Density: True\n",
      "Change in MD: 0.27308571428571426\n",
      "Sensitivity: 1.25 | Ref_SD: 0.04709850727735543 | Threshold: 0.058873134096694285\n",
      "\n",
      "Dataset index of split end: 472500\n",
      "GETTING REFERENCE DISTRIBUTION FOR WINDOW: 9\n",
      "SELF MODEL: RandomForestClassifier(max_depth=3, n_estimators=5, random_state=42)\n",
      "GETTING DETECTION DISTRIBUTION FOR WINDOW: 26\n",
      "Significant Change in Margin Density: False\n",
      "Change in MD: 0.0002285714285714252\n",
      "Sensitivity: 1.25 | Ref_SD: 0.028812922271021352 | Threshold: 0.03601615283877669\n",
      "\n",
      "Dataset index of split end: 490000\n",
      "GETTING DETECTION DISTRIBUTION FOR WINDOW: 27\n",
      "Significant Change in Margin Density: False\n",
      "Change in MD: 5.714285714285283e-05\n",
      "Sensitivity: 1.25 | Ref_SD: 0.028812922271021352 | Threshold: 0.03601615283877669\n",
      "\n"
     ]
    },
    {
     "data": {
      "application/javascript": [
       "\n",
       "            setTimeout(function() {\n",
       "                var nbb_cell_id = 105;\n",
       "                var nbb_unformatted_code = \"baseline = BaselineExperiment(model=model, dataset=CT_dataset, param_grid=param_grid)\\nbaseline.run()\\ntopline = ToplineExperiment(\\n    model=model, dataset=CT_dataset, k=10, param_grid=param_grid\\n)\\ntopline.run()\\n\\nuncertainty_ks = UncertaintyKSExperiment(\\n    model=model,\\n    dataset=CT_dataset,\\n    param_grid=param_grid,\\n    k=10,\\n    significance_thresh=0.001,\\n)\\nuncertainty_ks.run()\\n\\nuncertainty_x2 = UncertaintyX2Experiment(\\n    model=model,\\n    dataset=CT_dataset,\\n    param_grid=param_grid,\\n    k=10,\\n    significance_thresh=0.001,\\n    margin_width=0.1,\\n)\\nuncertainty_x2.run()\\n\\nmargin_threshold = MarginThresholdExperiment(\\n    model=model,\\n    dataset=CT_dataset,\\n    param_grid=param_grid,\\n    k=10,\\n    margin_width=0.1,\\n    sensitivity=1.25,\\n)\\nmargin_threshold.run()\";\n",
       "                var nbb_formatted_code = \"baseline = BaselineExperiment(model=model, dataset=CT_dataset, param_grid=param_grid)\\nbaseline.run()\\ntopline = ToplineExperiment(\\n    model=model, dataset=CT_dataset, k=10, param_grid=param_grid\\n)\\ntopline.run()\\n\\nuncertainty_ks = UncertaintyKSExperiment(\\n    model=model,\\n    dataset=CT_dataset,\\n    param_grid=param_grid,\\n    k=10,\\n    significance_thresh=0.001,\\n)\\nuncertainty_ks.run()\\n\\nuncertainty_x2 = UncertaintyX2Experiment(\\n    model=model,\\n    dataset=CT_dataset,\\n    param_grid=param_grid,\\n    k=10,\\n    significance_thresh=0.001,\\n    margin_width=0.1,\\n)\\nuncertainty_x2.run()\\n\\nmargin_threshold = MarginThresholdExperiment(\\n    model=model,\\n    dataset=CT_dataset,\\n    param_grid=param_grid,\\n    k=10,\\n    margin_width=0.1,\\n    sensitivity=1.25,\\n)\\nmargin_threshold.run()\";\n",
       "                var nbb_cells = Jupyter.notebook.get_cells();\n",
       "                for (var i = 0; i < nbb_cells.length; ++i) {\n",
       "                    if (nbb_cells[i].input_prompt_number == nbb_cell_id) {\n",
       "                        if (nbb_cells[i].get_text() == nbb_unformatted_code) {\n",
       "                             nbb_cells[i].set_text(nbb_formatted_code);\n",
       "                        }\n",
       "                        break;\n",
       "                    }\n",
       "                }\n",
       "            }, 500);\n",
       "            "
      ],
      "text/plain": [
       "<IPython.core.display.Javascript object>"
      ]
     },
     "metadata": {},
     "output_type": "display_data"
    }
   ],
   "source": [
    "baseline = BaselineExperiment(model=model, dataset=CT_dataset, param_grid=param_grid)\n",
    "baseline.run()\n",
    "topline = ToplineExperiment(\n",
    "    model=model, dataset=CT_dataset, k=10, param_grid=param_grid\n",
    ")\n",
    "topline.run()\n",
    "\n",
    "uncertainty_ks = UncertaintyKSExperiment(\n",
    "    model=model,\n",
    "    dataset=CT_dataset,\n",
    "    param_grid=param_grid,\n",
    "    k=10,\n",
    "    significance_thresh=0.001,\n",
    ")\n",
    "uncertainty_ks.run()\n",
    "\n",
    "uncertainty_x2 = UncertaintyX2Experiment(\n",
    "    model=model,\n",
    "    dataset=CT_dataset,\n",
    "    param_grid=param_grid,\n",
    "    k=10,\n",
    "    significance_thresh=0.001,\n",
    "    margin_width=0.1,\n",
    ")\n",
    "uncertainty_x2.run()\n",
    "\n",
    "margin_threshold = MarginThresholdExperiment(\n",
    "    model=model,\n",
    "    dataset=CT_dataset,\n",
    "    param_grid=param_grid,\n",
    "    k=10,\n",
    "    margin_width=0.1,\n",
    "    sensitivity=1.25,\n",
    ")\n",
    "margin_threshold.run()"
   ]
  },
  {
   "cell_type": "code",
   "execution_count": 106,
   "id": "c1bb87c0",
   "metadata": {
    "pycharm": {
     "name": "#%%\n"
    }
   },
   "outputs": [
    {
     "data": {
      "image/png": "[encoded data removed]",
      "text/plain": [
       "<Figure size 1080x504 with 1 Axes>"
      ]
     },
     "metadata": {
      "needs_background": "light"
     },
     "output_type": "display_data"
    },
    {
     "data": {
      "text/html": [
       "<div>\n",
       "<style scoped>\n",
       "    .dataframe tbody tr th:only-of-type {\n",
       "        vertical-align: middle;\n",
       "    }\n",
       "\n",
       "    .dataframe tbody tr th {\n",
       "        vertical-align: top;\n",
       "    }\n",
       "\n",
       "    .dataframe thead th {\n",
       "        text-align: right;\n",
       "    }\n",
       "</style>\n",
       "<table border=\"1\" class=\"dataframe\">\n",
       "  <thead>\n",
       "    <tr style=\"text-align: right;\">\n",
       "      <th></th>\n",
       "      <th>drifts_signaled</th>\n",
       "      <th>actual_drift_occurences</th>\n",
       "      <th>false_positives</th>\n",
       "      <th>false_negatives</th>\n",
       "      <th>percent_total_labels</th>\n",
       "      <th>cumulative_accuracy</th>\n",
       "      <th>total_train_time</th>\n",
       "    </tr>\n",
       "    <tr>\n",
       "      <th>experiment</th>\n",
       "      <th></th>\n",
       "      <th></th>\n",
       "      <th></th>\n",
       "      <th></th>\n",
       "      <th></th>\n",
       "      <th></th>\n",
       "      <th></th>\n",
       "    </tr>\n",
       "  </thead>\n",
       "  <tbody>\n",
       "    <tr>\n",
       "      <th>baseline</th>\n",
       "      <td>0</td>\n",
       "      <td>0</td>\n",
       "      <td>0</td>\n",
       "      <td>0</td>\n",
       "      <td>0.0353</td>\n",
       "      <td>0.5887</td>\n",
       "      <td>0.05</td>\n",
       "    </tr>\n",
       "    <tr>\n",
       "      <th>topline</th>\n",
       "      <td>27</td>\n",
       "      <td>1</td>\n",
       "      <td>26</td>\n",
       "      <td>0</td>\n",
       "      <td>0.9896</td>\n",
       "      <td>0.7427</td>\n",
       "      <td>1.22</td>\n",
       "    </tr>\n",
       "    <tr>\n",
       "      <th>uncertainty-ks</th>\n",
       "      <td>27</td>\n",
       "      <td>1</td>\n",
       "      <td>26</td>\n",
       "      <td>0</td>\n",
       "      <td>0.9896</td>\n",
       "      <td>0.7427</td>\n",
       "      <td>1.22</td>\n",
       "    </tr>\n",
       "    <tr>\n",
       "      <th>uncertainty-x2</th>\n",
       "      <td>19</td>\n",
       "      <td>3</td>\n",
       "      <td>16</td>\n",
       "      <td>0</td>\n",
       "      <td>0.7069</td>\n",
       "      <td>0.7419</td>\n",
       "      <td>0.88</td>\n",
       "    </tr>\n",
       "    <tr>\n",
       "      <th>margin-threshold</th>\n",
       "      <td>9</td>\n",
       "      <td>19</td>\n",
       "      <td>0</td>\n",
       "      <td>10</td>\n",
       "      <td>0.3534</td>\n",
       "      <td>0.6604</td>\n",
       "      <td>0.44</td>\n",
       "    </tr>\n",
       "  </tbody>\n",
       "</table>\n",
       "</div>"
      ],
      "text/plain": [
       "                  drifts_signaled  actual_drift_occurences  false_positives  \\\n",
       "experiment                                                                    \n",
       "baseline                        0                        0                0   \n",
       "topline                        27                        1               26   \n",
       "uncertainty-ks                 27                        1               26   \n",
       "uncertainty-x2                 19                        3               16   \n",
       "margin-threshold                9                       19                0   \n",
       "\n",
       "                  false_negatives  percent_total_labels  cumulative_accuracy  \\\n",
       "experiment                                                                     \n",
       "baseline                        0                0.0353               0.5887   \n",
       "topline                         0                0.9896               0.7427   \n",
       "uncertainty-ks                  0                0.9896               0.7427   \n",
       "uncertainty-x2                  0                0.7069               0.7419   \n",
       "margin-threshold               10                0.3534               0.6604   \n",
       "\n",
       "                  total_train_time  \n",
       "experiment                          \n",
       "baseline                      0.05  \n",
       "topline                       1.22  \n",
       "uncertainty-ks                1.22  \n",
       "uncertainty-x2                0.88  \n",
       "margin-threshold              0.44  "
      ]
     },
     "execution_count": 106,
     "metadata": {},
     "output_type": "execute_result"
    },
    {
     "data": {
      "application/javascript": [
       "\n",
       "            setTimeout(function() {\n",
       "                var nbb_cell_id = 106;\n",
       "                var nbb_unformatted_code = \"# most to least severe, sensitivity = 1\\nexps = [baseline, topline, uncertainty_ks, uncertainty_x2, margin_threshold]\\nplot_multiple_experiments(exps, change_points)\\naggregate_experiment_metrics(exps)\";\n",
       "                var nbb_formatted_code = \"# most to least severe, sensitivity = 1\\nexps = [baseline, topline, uncertainty_ks, uncertainty_x2, margin_threshold]\\nplot_multiple_experiments(exps, change_points)\\naggregate_experiment_metrics(exps)\";\n",
       "                var nbb_cells = Jupyter.notebook.get_cells();\n",
       "                for (var i = 0; i < nbb_cells.length; ++i) {\n",
       "                    if (nbb_cells[i].input_prompt_number == nbb_cell_id) {\n",
       "                        if (nbb_cells[i].get_text() == nbb_unformatted_code) {\n",
       "                             nbb_cells[i].set_text(nbb_formatted_code);\n",
       "                        }\n",
       "                        break;\n",
       "                    }\n",
       "                }\n",
       "            }, 500);\n",
       "            "
      ],
      "text/plain": [
       "<IPython.core.display.Javascript object>"
      ]
     },
     "metadata": {},
     "output_type": "display_data"
    }
   ],
   "source": [
    "# most to least severe, sensitivity = 1\n",
    "exps = [baseline, topline, uncertainty_ks, uncertainty_x2, margin_threshold]\n",
    "plot_multiple_experiments(exps, change_points)\n",
    "aggregate_experiment_metrics(exps)"
   ]
  },
  {
   "cell_type": "markdown",
   "id": "07d0e8cb",
   "metadata": {},
   "source": [
    "### Experiment with Window Sizes"
   ]
  },
  {
   "cell_type": "code",
   "execution_count": 9,
   "id": "d56ccf27",
   "metadata": {
    "pycharm": {
     "name": "#%%\n"
    }
   },
   "outputs": [
    {
     "name": "stdout",
     "output_type": "stream",
     "text": [
      "GETTING REFERENCE DISTRIBUTION FOR WINDOW: 0\n",
      "SELF MODEL: RandomForestClassifier(max_depth=5, n_estimators=5, random_state=42)\n",
      "GETTING REFERENCE DISTRIBUTION FOR WINDOW: 1\n",
      "SELF MODEL: RandomForestClassifier(max_depth=5, n_estimators=5, random_state=42)\n",
      "GETTING REFERENCE DISTRIBUTION FOR WINDOW: 2\n",
      "SELF MODEL: RandomForestClassifier(max_depth=5, n_estimators=5, random_state=42)\n",
      "GETTING REFERENCE DISTRIBUTION FOR WINDOW: 3\n",
      "SELF MODEL: RandomForestClassifier(max_depth=5, n_estimators=5, random_state=42)\n",
      "GETTING REFERENCE DISTRIBUTION FOR WINDOW: 4\n",
      "SELF MODEL: RandomForestClassifier(max_depth=5, n_estimators=5, random_state=42)\n",
      "GETTING REFERENCE DISTRIBUTION FOR WINDOW: 5\n",
      "SELF MODEL: RandomForestClassifier(max_depth=5, n_estimators=5, random_state=42)\n",
      "GETTING REFERENCE DISTRIBUTION FOR WINDOW: 6\n",
      "SELF MODEL: RandomForestClassifier(max_depth=5, n_estimators=5, random_state=42)\n",
      "GETTING REFERENCE DISTRIBUTION FOR WINDOW: 7\n",
      "SELF MODEL: RandomForestClassifier(max_depth=5, n_estimators=5, random_state=42)\n",
      "GETTING REFERENCE DISTRIBUTION FOR WINDOW: 8\n",
      "SELF MODEL: RandomForestClassifier(max_depth=5, n_estimators=5, random_state=42)\n",
      "GETTING REFERENCE DISTRIBUTION FOR WINDOW: 9\n",
      "SELF MODEL: RandomForestClassifier(max_depth=5, n_estimators=5, random_state=42)\n",
      "GETTING REFERENCE DISTRIBUTION FOR WINDOW: 10\n",
      "SELF MODEL: RandomForestClassifier(max_depth=5, n_estimators=5, random_state=42)\n",
      "GETTING REFERENCE DISTRIBUTION FOR WINDOW: 11\n",
      "SELF MODEL: RandomForestClassifier(max_depth=5, n_estimators=5, random_state=42)\n",
      "GETTING REFERENCE DISTRIBUTION FOR WINDOW: 12\n",
      "SELF MODEL: RandomForestClassifier(max_depth=5, n_estimators=5, random_state=42)\n",
      "GETTING REFERENCE DISTRIBUTION FOR WINDOW: 13\n",
      "SELF MODEL: RandomForestClassifier(max_depth=5, n_estimators=5, random_state=42)\n",
      "GETTING REFERENCE DISTRIBUTION FOR WINDOW: 14\n",
      "SELF MODEL: RandomForestClassifier(max_depth=5, n_estimators=5, random_state=42)\n",
      "GETTING REFERENCE DISTRIBUTION FOR WINDOW: 15\n",
      "SELF MODEL: RandomForestClassifier(max_depth=5, n_estimators=5, random_state=42)\n",
      "GETTING REFERENCE DISTRIBUTION FOR WINDOW: 16\n",
      "SELF MODEL: RandomForestClassifier(max_depth=5, n_estimators=5, random_state=42)\n",
      "GETTING REFERENCE DISTRIBUTION FOR WINDOW: 17\n",
      "SELF MODEL: RandomForestClassifier(max_depth=5, n_estimators=5, random_state=42)\n",
      "GETTING REFERENCE DISTRIBUTION FOR WINDOW: 18\n",
      "SELF MODEL: RandomForestClassifier(max_depth=5, n_estimators=5, random_state=42)\n",
      "GETTING REFERENCE DISTRIBUTION FOR WINDOW: 19\n",
      "SELF MODEL: RandomForestClassifier(max_depth=5, n_estimators=5, random_state=42)\n",
      "GETTING REFERENCE DISTRIBUTION FOR WINDOW: 20\n",
      "SELF MODEL: RandomForestClassifier(max_depth=5, n_estimators=5, random_state=42)\n",
      "GETTING REFERENCE DISTRIBUTION FOR WINDOW: 21\n",
      "SELF MODEL: RandomForestClassifier(max_depth=5, n_estimators=5, random_state=42)\n",
      "GETTING REFERENCE DISTRIBUTION FOR WINDOW: 22\n",
      "SELF MODEL: RandomForestClassifier(max_depth=5, n_estimators=5, random_state=42)\n",
      "GETTING REFERENCE DISTRIBUTION FOR WINDOW: 23\n",
      "SELF MODEL: RandomForestClassifier(max_depth=5, n_estimators=5, random_state=42)\n",
      "GETTING REFERENCE DISTRIBUTION FOR WINDOW: 24\n",
      "SELF MODEL: RandomForestClassifier(max_depth=5, n_estimators=5, random_state=42)\n",
      "GETTING REFERENCE DISTRIBUTION FOR WINDOW: 25\n",
      "SELF MODEL: RandomForestClassifier(max_depth=5, n_estimators=5, random_state=42)\n",
      "GETTING REFERENCE DISTRIBUTION FOR WINDOW: 26\n",
      "SELF MODEL: RandomForestClassifier(max_depth=5, n_estimators=5, random_state=42)\n",
      "Dataset index of split end: 35000\n",
      "GETTING REFERENCE DISTRIBUTION FOR WINDOW: 0\n",
      "FINAL SHAPE kfold preds: (17500,)\n",
      "GETTING DETECTION DISTRIBUTION FOR WINDOW: 1\n",
      "Dataset Split: 1\n",
      "REFERENCE STATS: DescribeResult(nobs=17500, minmax=(0.06003503343249515, 0.9842420126059552), mean=0.5729656983258843, variance=0.043346283743473116, skewness=-0.2565877812933201, kurtosis=-1.3752873655103182)\n",
      "DETECTION STATS: DescribeResult(nobs=17500, minmax=(0.07304140393092884, 0.9182203475488329), mean=0.5740458958242889, variance=0.048422435996432214, skewness=-0.34174117571053947, kurtosis=-1.3995605646341984)\n",
      "KS Test Result: FAILED | KstestResult(statistic=0.05217142857142856, pvalue=3.866956525466162e-21)\n",
      "\n",
      "Dataset index of split end: 52500\n",
      "GETTING REFERENCE DISTRIBUTION FOR WINDOW: 1\n",
      "FINAL SHAPE kfold preds: (17500,)\n",
      "GETTING DETECTION DISTRIBUTION FOR WINDOW: 2\n",
      "Dataset Split: 2\n",
      "REFERENCE STATS: DescribeResult(nobs=17500, minmax=(0.048993199328387645, 0.9409266936176266), mean=0.571970416500205, variance=0.04534735949661187, skewness=-0.2702960369030131, kurtosis=-1.4347558835795255)\n",
      "DETECTION STATS: DescribeResult(nobs=17500, minmax=(0.10681426709590969, 0.920566732291728), mean=0.5692330041702075, variance=0.04369308242076668, skewness=-0.2195112513258005, kurtosis=-1.465690243411554)\n",
      "KS Test Result: FAILED | KstestResult(statistic=0.030228571428571438, pvalue=2.2196025621642297e-07)\n",
      "\n",
      "Dataset index of split end: 70000\n",
      "GETTING REFERENCE DISTRIBUTION FOR WINDOW: 2\n",
      "FINAL SHAPE kfold preds: (17500,)\n",
      "GETTING DETECTION DISTRIBUTION FOR WINDOW: 3\n",
      "Dataset Split: 3\n",
      "REFERENCE STATS: DescribeResult(nobs=17500, minmax=(0.08003043694497634, 0.9714209376416235), mean=0.5736338877173659, variance=0.04381556567461473, skewness=-0.25677506433827235, kurtosis=-1.3973843415211546)\n",
      "DETECTION STATS: DescribeResult(nobs=17500, minmax=(0.07314018038012178, 0.907814012518003), mean=0.5734802072916145, variance=0.04238707123326946, skewness=-0.2939960004953053, kurtosis=-1.3799569428063772)\n",
      "KS Test Result: FAILED | KstestResult(statistic=0.032057142857142895, pvalue=3.0184405508578726e-08)\n",
      "\n",
      "Dataset index of split end: 87500\n",
      "GETTING REFERENCE DISTRIBUTION FOR WINDOW: 3\n",
      "FINAL SHAPE kfold preds: (17500,)\n",
      "GETTING DETECTION DISTRIBUTION FOR WINDOW: 4\n",
      "Dataset Split: 4\n",
      "REFERENCE STATS: DescribeResult(nobs=17500, minmax=(0.06688475264878335, 0.9585013020268679), mean=0.5650593208522525, variance=0.04246883064967222, skewness=-0.242099479282799, kurtosis=-1.357786702262348)\n",
      "DETECTION STATS: DescribeResult(nobs=17500, minmax=(0.10513438018578776, 0.9488722602683636), mean=0.5681873399927365, variance=0.04467905941198484, skewness=-0.2021302285292543, kurtosis=-1.3731668416132625)\n",
      "KS Test Result: FAILED | KstestResult(statistic=0.04902857142857142, pvalue=1.0192061130248845e-18)\n",
      "\n",
      "Dataset index of split end: 105000\n",
      "GETTING REFERENCE DISTRIBUTION FOR WINDOW: 4\n",
      "FINAL SHAPE kfold preds: (17500,)\n",
      "GETTING DETECTION DISTRIBUTION FOR WINDOW: 5\n",
      "Dataset Split: 5\n",
      "REFERENCE STATS: DescribeResult(nobs=17500, minmax=(0.039471194349037654, 0.9586529356893811), mean=0.5750250289855995, variance=0.04575371764897751, skewness=-0.26992639640954025, kurtosis=-1.4098600788737308)\n",
      "DETECTION STATS: DescribeResult(nobs=17500, minmax=(0.042991290387316874, 0.9308941118213536), mean=0.5709143477407589, variance=0.0463655385167962, skewness=-0.3026012519291339, kurtosis=-1.423518039884253)\n",
      "KS Test Result: FAILED | KstestResult(statistic=0.03302857142857141, pvalue=9.971457750082007e-09)\n",
      "\n",
      "Dataset index of split end: 122500\n",
      "GETTING REFERENCE DISTRIBUTION FOR WINDOW: 5\n",
      "FINAL SHAPE kfold preds: (17500,)\n",
      "GETTING DETECTION DISTRIBUTION FOR WINDOW: 6\n",
      "Dataset Split: 6\n",
      "REFERENCE STATS: DescribeResult(nobs=17500, minmax=(0.07919110641607088, 0.9611533594055022), mean=0.566299838277999, variance=0.0415789307459868, skewness=-0.24719651962186048, kurtosis=-1.3366654035398433)\n",
      "DETECTION STATS: DescribeResult(nobs=17500, minmax=(0.09980033132661552, 0.9048395362621109), mean=0.5714760943308629, variance=0.037348042620404684, skewness=-0.1970205987324453, kurtosis=-1.345361329388785)\n",
      "KS Test Result: FAILED | KstestResult(statistic=0.05942857142857143, pvalue=2.6393719381004943e-27)\n",
      "\n",
      "Dataset index of split end: 140000\n",
      "GETTING REFERENCE DISTRIBUTION FOR WINDOW: 6\n",
      "FINAL SHAPE kfold preds: (17500,)\n",
      "GETTING DETECTION DISTRIBUTION FOR WINDOW: 7\n",
      "Dataset Split: 7\n",
      "REFERENCE STATS: DescribeResult(nobs=17500, minmax=(0.052619537889194726, 0.9504511578222994), mean=0.5758607424577293, variance=0.04321968355302268, skewness=-0.3318365390476199, kurtosis=-1.319387259665871)\n",
      "DETECTION STATS: DescribeResult(nobs=17500, minmax=(0.07528809757800525, 0.937063204184048), mean=0.7159206918140797, variance=0.026439874005166557, skewness=-1.9935336186323949, kurtosis=3.173088414493357)\n",
      "KS Test Result: FAILED | KstestResult(statistic=0.3919428571428572, pvalue=0.0)\n",
      "\n",
      "Dataset index of split end: 157500\n"
     ]
    },
    {
     "name": "stdout",
     "output_type": "stream",
     "text": [
      "GETTING REFERENCE DISTRIBUTION FOR WINDOW: 7\n",
      "FINAL SHAPE kfold preds: (17500,)\n",
      "GETTING DETECTION DISTRIBUTION FOR WINDOW: 8\n",
      "Dataset Split: 8\n",
      "REFERENCE STATS: DescribeResult(nobs=17500, minmax=(0.11187212794030668, 0.893008748934071), mean=0.5704752710012804, variance=0.023265625999642162, skewness=-0.3368857905295195, kurtosis=-1.011719798842394)\n",
      "DETECTION STATS: DescribeResult(nobs=17500, minmax=(0.11407841485176821, 0.9191725130473799), mean=0.5681785379687675, variance=0.018823688811409795, skewness=-0.2812529443786327, kurtosis=-0.9626759925541033)\n",
      "KS Test Result: FAILED | KstestResult(statistic=0.07891428571428571, pvalue=7.654914163527357e-48)\n",
      "\n",
      "Dataset index of split end: 175000\n",
      "GETTING REFERENCE DISTRIBUTION FOR WINDOW: 8\n",
      "FINAL SHAPE kfold preds: (17500,)\n",
      "GETTING DETECTION DISTRIBUTION FOR WINDOW: 9\n",
      "Dataset Split: 9\n",
      "REFERENCE STATS: DescribeResult(nobs=17500, minmax=(0.08561081055106859, 0.9570495356783384), mean=0.5760063665101587, variance=0.029059346426794423, skewness=-0.23187097446976435, kurtosis=-1.2006185193137313)\n",
      "DETECTION STATS: DescribeResult(nobs=17500, minmax=(0.03776860006245403, 0.8942126791277903), mean=0.5738773457038148, variance=0.030979381946982333, skewness=-0.25931908221552535, kurtosis=-1.1283943058087036)\n",
      "KS Test Result: FAILED | KstestResult(statistic=0.030742857142857127, pvalue=1.2814974029760627e-07)\n",
      "\n",
      "Dataset index of split end: 192500\n",
      "GETTING REFERENCE DISTRIBUTION FOR WINDOW: 9\n",
      "FINAL SHAPE kfold preds: (17500,)\n",
      "GETTING DETECTION DISTRIBUTION FOR WINDOW: 10\n",
      "Dataset Split: 10\n",
      "REFERENCE STATS: DescribeResult(nobs=17500, minmax=(0.07296164851023904, 0.9201665938166894), mean=0.5770069574576665, variance=0.02487952180018067, skewness=-0.2853649329534247, kurtosis=-0.9148340052792521)\n",
      "DETECTION STATS: DescribeResult(nobs=17500, minmax=(0.041401336477987424, 0.9092310137875238), mean=0.5790926223534945, variance=0.025132060081799083, skewness=-0.24314032434808583, kurtosis=-1.0238735586999161)\n",
      "KS Test Result: FAILED | KstestResult(statistic=0.02994285714285716, pvalue=2.9996313871482386e-07)\n",
      "\n",
      "Dataset index of split end: 210000\n",
      "GETTING REFERENCE DISTRIBUTION FOR WINDOW: 10\n",
      "FINAL SHAPE kfold preds: (17500,)\n",
      "GETTING DETECTION DISTRIBUTION FOR WINDOW: 11\n",
      "Dataset Split: 11\n",
      "REFERENCE STATS: DescribeResult(nobs=17500, minmax=(0.03154452769421158, 0.9359637589549934), mean=0.5782908190392564, variance=0.03126967794126254, skewness=-0.2152018890952772, kurtosis=-1.1461440711276039)\n",
      "DETECTION STATS: DescribeResult(nobs=17500, minmax=(0.04284836386621358, 0.9190692175373361), mean=0.5755387987877126, variance=0.030245621880962702, skewness=-0.20317968859734245, kurtosis=-1.0807902499921966)\n",
      "KS Test Result: FAILED | KstestResult(statistic=0.032742857142857074, pvalue=1.3858855939819688e-08)\n",
      "\n",
      "Dataset index of split end: 227500\n",
      "GETTING REFERENCE DISTRIBUTION FOR WINDOW: 11\n",
      "FINAL SHAPE kfold preds: (17500,)\n",
      "GETTING DETECTION DISTRIBUTION FOR WINDOW: 12\n",
      "Dataset Split: 12\n",
      "REFERENCE STATS: DescribeResult(nobs=17500, minmax=(0.09007370984201, 0.9521515256117326), mean=0.5703949820375291, variance=0.02817432229394832, skewness=-0.18640914860289465, kurtosis=-1.0940625531684127)\n",
      "DETECTION STATS: DescribeResult(nobs=17500, minmax=(0.07844403865752615, 0.9281940380877476), mean=0.5724900932916629, variance=0.025628144408522534, skewness=-0.11850327229634772, kurtosis=-1.0386599774302898)\n",
      "KS Test Result: FAILED | KstestResult(statistic=0.0446857142857143, pvalue=1.2753896324102675e-15)\n",
      "\n",
      "Dataset index of split end: 245000\n",
      "GETTING REFERENCE DISTRIBUTION FOR WINDOW: 12\n",
      "FINAL SHAPE kfold preds: (17500,)\n",
      "GETTING DETECTION DISTRIBUTION FOR WINDOW: 13\n",
      "Dataset Split: 13\n",
      "REFERENCE STATS: DescribeResult(nobs=17500, minmax=(0.05225708451616116, 0.92780311730927), mean=0.5723063082452637, variance=0.028765384951322404, skewness=-0.19434812334996238, kurtosis=-1.1009409558461796)\n",
      "DETECTION STATS: DescribeResult(nobs=17500, minmax=(0.06671618526183347, 0.9456035925699122), mean=0.5710634598948576, variance=0.025021415098782508, skewness=-0.2985439962919402, kurtosis=-0.9337344979940809)\n",
      "KS Test Result: FAILED | KstestResult(statistic=0.06377142857142859, pvalue=2.223662830358711e-31)\n",
      "\n",
      "Dataset index of split end: 262500\n",
      "GETTING REFERENCE DISTRIBUTION FOR WINDOW: 13\n",
      "FINAL SHAPE kfold preds: (17500,)\n",
      "GETTING DETECTION DISTRIBUTION FOR WINDOW: 14\n",
      "Dataset Split: 14\n",
      "REFERENCE STATS: DescribeResult(nobs=17500, minmax=(0.06175433551078914, 0.9441271674827686), mean=0.575075961004393, variance=0.02960782226648233, skewness=-0.18203249947601646, kurtosis=-1.2409170032770995)\n",
      "DETECTION STATS: DescribeResult(nobs=17500, minmax=(0.12976411081932646, 0.9194788991352812), mean=0.5681911074321836, variance=0.022890902793468507, skewness=-0.1676755104963653, kurtosis=-1.1848918475915295)\n",
      "KS Test Result: FAILED | KstestResult(statistic=0.09857142857142853, pvalue=1.8554021089639227e-74)\n",
      "\n",
      "Dataset index of split end: 280000\n",
      "GETTING REFERENCE DISTRIBUTION FOR WINDOW: 14\n",
      "FINAL SHAPE kfold preds: (17500,)\n",
      "GETTING DETECTION DISTRIBUTION FOR WINDOW: 15\n",
      "Dataset Split: 15\n",
      "REFERENCE STATS: DescribeResult(nobs=17500, minmax=(0.09157077097095175, 0.9290125012548935), mean=0.5773304104997883, variance=0.028661605529228255, skewness=-0.23323319955067906, kurtosis=-1.134977676767187)\n",
      "DETECTION STATS: DescribeResult(nobs=17500, minmax=(0.06237856346551999, 0.8933633712088686), mean=0.5787352817030561, variance=0.02464781503784048, skewness=-0.3613171751627901, kurtosis=-0.7297927146150327)\n",
      "KS Test Result: FAILED | KstestResult(statistic=0.07422857142857142, pvalue=2.255295109570943e-42)\n",
      "\n",
      "Dataset index of split end: 297500\n",
      "GETTING REFERENCE DISTRIBUTION FOR WINDOW: 15\n",
      "FINAL SHAPE kfold preds: (17500,)\n",
      "GETTING DETECTION DISTRIBUTION FOR WINDOW: 16\n",
      "Dataset Split: 16\n",
      "REFERENCE STATS: DescribeResult(nobs=17500, minmax=(0.09402159349634123, 0.9352980548308683), mean=0.57310869351067, variance=0.02885790364607809, skewness=-0.22581271846965495, kurtosis=-1.1611843637339512)\n",
      "DETECTION STATS: DescribeResult(nobs=17500, minmax=(0.12085956383155497, 0.9387611636869657), mean=0.5696434918912864, variance=0.029856105585736845, skewness=-0.2822879204127423, kurtosis=-1.2381107521291523)\n",
      "KS Test Result: FAILED | KstestResult(statistic=0.04731428571428564, pvalue=1.8418743934527783e-17)\n",
      "\n",
      "Dataset index of split end: 315000\n",
      "GETTING REFERENCE DISTRIBUTION FOR WINDOW: 16\n",
      "FINAL SHAPE kfold preds: (17500,)\n",
      "GETTING DETECTION DISTRIBUTION FOR WINDOW: 17\n",
      "Dataset Split: 17\n",
      "REFERENCE STATS: DescribeResult(nobs=17500, minmax=(0.036276276276276276, 0.9534290591447139), mean=0.5738203418307516, variance=0.029761523976078733, skewness=-0.23453330292999433, kurtosis=-1.208131174423278)\n",
      "DETECTION STATS: DescribeResult(nobs=17500, minmax=(0.10121003530646033, 0.9169809832100453), mean=0.570447765465996, variance=0.025396511929341333, skewness=-0.3149102433573163, kurtosis=-1.0257375549242278)\n",
      "KS Test Result: FAILED | KstestResult(statistic=0.07605714285714282, pvalue=1.8149903669362212e-44)\n",
      "\n",
      "Dataset index of split end: 332500\n",
      "GETTING REFERENCE DISTRIBUTION FOR WINDOW: 17\n",
      "FINAL SHAPE kfold preds: (17500,)\n",
      "GETTING DETECTION DISTRIBUTION FOR WINDOW: 18\n",
      "Dataset Split: 18\n",
      "REFERENCE STATS: DescribeResult(nobs=17500, minmax=(0.052660373310448406, 0.9320634226696785), mean=0.5672542023388052, variance=0.030339468909196088, skewness=-0.24256696336034414, kurtosis=-1.1555698922386877)\n",
      "DETECTION STATS: DescribeResult(nobs=17500, minmax=(0.0870694269190735, 0.9153042297115059), mean=0.5696590262347486, variance=0.029004997324876738, skewness=-0.175985014988204, kurtosis=-1.1175951928017163)\n",
      "KS Test Result: FAILED | KstestResult(statistic=0.0465714285714286, pvalue=6.252371213972507e-17)\n",
      "\n",
      "Dataset index of split end: 350000\n",
      "GETTING REFERENCE DISTRIBUTION FOR WINDOW: 18\n",
      "FINAL SHAPE kfold preds: (17500,)\n",
      "GETTING DETECTION DISTRIBUTION FOR WINDOW: 19\n",
      "Dataset Split: 19\n",
      "REFERENCE STATS: DescribeResult(nobs=17500, minmax=(0.05717692761605035, 0.9342898853410702), mean=0.5691196873430977, variance=0.025406030230722465, skewness=-0.1938769199114657, kurtosis=-0.9840089948148809)\n",
      "DETECTION STATS: DescribeResult(nobs=17500, minmax=(0.07265745784478332, 0.8897306030232551), mean=0.5661958385967948, variance=0.024485380115384692, skewness=-0.2478153432794896, kurtosis=-0.96930679031564)\n"
     ]
    },
    {
     "name": "stdout",
     "output_type": "stream",
     "text": [
      "KS Test Result: FAILED | KstestResult(statistic=0.0609142857142857, pvalue=1.1482595566039724e-28)\n",
      "\n",
      "Dataset index of split end: 367500\n",
      "GETTING REFERENCE DISTRIBUTION FOR WINDOW: 19\n",
      "FINAL SHAPE kfold preds: (17500,)\n",
      "GETTING DETECTION DISTRIBUTION FOR WINDOW: 20\n",
      "Dataset Split: 20\n",
      "REFERENCE STATS: DescribeResult(nobs=17500, minmax=(0.09660792500712251, 0.959189030850295), mean=0.565076002280599, variance=0.02956317919153074, skewness=-0.16409689301751967, kurtosis=-1.173099408962513)\n",
      "DETECTION STATS: DescribeResult(nobs=17500, minmax=(0.09565739413015995, 0.9117528065861643), mean=0.566381788624608, variance=0.023344573936340773, skewness=-0.13364131364416704, kurtosis=-0.9402298913512026)\n",
      "KS Test Result: FAILED | KstestResult(statistic=0.08851428571428571, pvalue=4.2386636640153033e-60)\n",
      "\n",
      "Dataset index of split end: 385000\n",
      "GETTING REFERENCE DISTRIBUTION FOR WINDOW: 20\n",
      "FINAL SHAPE kfold preds: (17500,)\n",
      "GETTING DETECTION DISTRIBUTION FOR WINDOW: 21\n",
      "Dataset Split: 21\n",
      "REFERENCE STATS: DescribeResult(nobs=17500, minmax=(0.032393998695368555, 0.9259797100093531), mean=0.5739831541391094, variance=0.030360660151906357, skewness=-0.19584362114056156, kurtosis=-1.186532843864722)\n",
      "DETECTION STATS: DescribeResult(nobs=17500, minmax=(0.08299917352380493, 0.9054798295858344), mean=0.5281691717827507, variance=0.02924058188373714, skewness=-3.643383119667456e-07, kurtosis=-0.9116114728676883)\n",
      "KS Test Result: FAILED | KstestResult(statistic=0.1390285714285714, pvalue=5.293908790985877e-148)\n",
      "\n",
      "Dataset index of split end: 402500\n",
      "GETTING REFERENCE DISTRIBUTION FOR WINDOW: 21\n",
      "FINAL SHAPE kfold preds: (17500,)\n",
      "GETTING DETECTION DISTRIBUTION FOR WINDOW: 22\n",
      "Dataset Split: 22\n",
      "REFERENCE STATS: DescribeResult(nobs=17500, minmax=(0.02633735488276804, 0.951519661370904), mean=0.5686982395037321, variance=0.027261750732607507, skewness=-0.30912365124767227, kurtosis=-1.1336131515713883)\n",
      "DETECTION STATS: DescribeResult(nobs=17500, minmax=(0.02633735488276804, 0.9147666581662994), mean=0.5709645777392615, variance=0.027733132898852833, skewness=-0.30057051137655544, kurtosis=-1.1896064680375025)\n",
      "KS Test Result: FAILED | KstestResult(statistic=0.038000000000000034, pvalue=2.0518988480469766e-11)\n",
      "\n",
      "Dataset index of split end: 420000\n",
      "GETTING REFERENCE DISTRIBUTION FOR WINDOW: 22\n",
      "FINAL SHAPE kfold preds: (17500,)\n",
      "GETTING DETECTION DISTRIBUTION FOR WINDOW: 23\n",
      "Dataset Split: 23\n",
      "REFERENCE STATS: DescribeResult(nobs=17500, minmax=(0.07210772833723653, 0.9468093781855249), mean=0.5750079004524961, variance=0.03183515562954422, skewness=-0.2682799327488928, kurtosis=-1.2735061051304482)\n",
      "DETECTION STATS: DescribeResult(nobs=17500, minmax=(0.07800081737341281, 0.9318397932932319), mean=0.5763360942231389, variance=0.030475202183178257, skewness=-0.31781924207532375, kurtosis=-1.2114089185065637)\n",
      "KS Test Result: FAILED | KstestResult(statistic=0.04582857142857144, pvalue=2.0816958850834409e-16)\n",
      "\n",
      "Dataset index of split end: 437500\n",
      "GETTING REFERENCE DISTRIBUTION FOR WINDOW: 23\n",
      "FINAL SHAPE kfold preds: (17500,)\n",
      "GETTING DETECTION DISTRIBUTION FOR WINDOW: 24\n",
      "Dataset Split: 24\n",
      "REFERENCE STATS: DescribeResult(nobs=17500, minmax=(0.03505250030172587, 0.9622354007083436), mean=0.5756195559253628, variance=0.030846631099675118, skewness=-0.2798983154594871, kurtosis=-1.2553917807291795)\n",
      "DETECTION STATS: DescribeResult(nobs=17500, minmax=(0.02176696542893726, 0.9029389254356008), mean=0.5778379662763172, variance=0.028011461665925802, skewness=-0.19796155571336121, kurtosis=-1.274060980045984)\n",
      "KS Test Result: FAILED | KstestResult(statistic=0.04125714285714285, pvalue=2.227893320922853e-13)\n",
      "\n",
      "Dataset index of split end: 455000\n",
      "GETTING REFERENCE DISTRIBUTION FOR WINDOW: 24\n",
      "FINAL SHAPE kfold preds: (17500,)\n",
      "GETTING DETECTION DISTRIBUTION FOR WINDOW: 25\n",
      "Dataset Split: 25\n",
      "REFERENCE STATS: DescribeResult(nobs=17500, minmax=(0.09743645056244027, 0.9411239066966995), mean=0.5822253820595414, variance=0.03146854003551733, skewness=-0.30695865863168154, kurtosis=-1.1828663189621913)\n",
      "DETECTION STATS: DescribeResult(nobs=17500, minmax=(0.125327279308771, 0.9504006897950903), mean=0.5804304150453218, variance=0.039564366985006906, skewness=-0.09509262214575473, kurtosis=-1.540316405541111)\n",
      "KS Test Result: FAILED | KstestResult(statistic=0.11565714285714279, pvalue=2.002643280657374e-102)\n",
      "\n",
      "Dataset index of split end: 472500\n",
      "GETTING REFERENCE DISTRIBUTION FOR WINDOW: 25\n",
      "FINAL SHAPE kfold preds: (17500,)\n",
      "GETTING DETECTION DISTRIBUTION FOR WINDOW: 26\n",
      "Dataset Split: 26\n",
      "REFERENCE STATS: DescribeResult(nobs=17500, minmax=(0.10514469017965955, 0.986013986013986), mean=0.5692667877844482, variance=0.029393881547729362, skewness=-0.31334634997256994, kurtosis=-1.1177570179190333)\n",
      "DETECTION STATS: DescribeResult(nobs=17500, minmax=(0.07242971682600166, 0.9157072199620636), mean=0.5682104177644959, variance=0.031088147647293608, skewness=-0.247881119792648, kurtosis=-1.2610510051352657)\n",
      "KS Test Result: FAILED | KstestResult(statistic=0.06297142857142857, pvalue=1.3160544043061258e-30)\n",
      "\n",
      "Dataset index of split end: 490000\n",
      "GETTING REFERENCE DISTRIBUTION FOR WINDOW: 26\n",
      "FINAL SHAPE kfold preds: (17500,)\n",
      "GETTING DETECTION DISTRIBUTION FOR WINDOW: 27\n",
      "Dataset Split: 27\n",
      "REFERENCE STATS: DescribeResult(nobs=17500, minmax=(0.06333520494104436, 0.9529724935884726), mean=0.5672362440103157, variance=0.032534813586140285, skewness=-0.2518921725801725, kurtosis=-1.3341997852314382)\n",
      "DETECTION STATS: DescribeResult(nobs=17500, minmax=(0.15374489640472314, 0.9146995563091661), mean=0.5654562630346881, variance=0.03216903054247175, skewness=-0.17729279828631073, kurtosis=-1.4027239436471737)\n",
      "KS Test Result: FAILED | KstestResult(statistic=0.03542857142857142, pvalue=5.607375678635871e-10)\n",
      "\n",
      "Dataset index of split end: 35000\n",
      "GETTING REFERENCE DISTRIBUTION FOR WINDOW: 0\n",
      "SELF MODEL: RandomForestClassifier(max_depth=5, n_estimators=5, random_state=42)\n",
      "GETTING DETECTION DISTRIBUTION FOR WINDOW: 1\n",
      "X2 Test Result: FAILED | Power_divergenceResult(statistic=95.17746754529153, pvalue=1.7406024193688211e-22)\n",
      "\n",
      "Dataset index of split end: 52500\n",
      "GETTING REFERENCE DISTRIBUTION FOR WINDOW: 1\n",
      "SELF MODEL: RandomForestClassifier(max_depth=5, n_estimators=5, random_state=42)\n",
      "GETTING DETECTION DISTRIBUTION FOR WINDOW: 2\n",
      "X2 Test Result: FAILED | Power_divergenceResult(statistic=143.09811394852377, pvalue=5.594725914353543e-33)\n",
      "\n",
      "Dataset index of split end: 70000\n",
      "GETTING REFERENCE DISTRIBUTION FOR WINDOW: 2\n",
      "SELF MODEL: RandomForestClassifier(max_depth=5, n_estimators=5, random_state=42)\n",
      "GETTING DETECTION DISTRIBUTION FOR WINDOW: 3\n",
      "X2 Test Result: FAILED | Power_divergenceResult(statistic=46.08792267922038, pvalue=1.1306329135063674e-11)\n",
      "\n",
      "Dataset index of split end: 87500\n",
      "GETTING REFERENCE DISTRIBUTION FOR WINDOW: 3\n",
      "SELF MODEL: RandomForestClassifier(max_depth=5, n_estimators=5, random_state=42)\n",
      "GETTING DETECTION DISTRIBUTION FOR WINDOW: 4\n",
      "X2 Test Result: FAILED | Power_divergenceResult(statistic=16.720072524561946, pvalue=4.3320225334273524e-05)\n",
      "\n",
      "Dataset index of split end: 105000\n",
      "GETTING REFERENCE DISTRIBUTION FOR WINDOW: 4\n",
      "SELF MODEL: RandomForestClassifier(max_depth=5, n_estimators=5, random_state=42)\n",
      "GETTING DETECTION DISTRIBUTION FOR WINDOW: 5\n",
      "X2 Test Result: PASSED | Power_divergenceResult(statistic=1.8257121805915801, pvalue=0.1766348420161128)\n",
      "\n",
      "Dataset index of split end: 122500\n",
      "GETTING DETECTION DISTRIBUTION FOR WINDOW: 6\n",
      "X2 Test Result: PASSED | Power_divergenceResult(statistic=10.630718231128949, pvalue=0.001112245085668149)\n",
      "\n",
      "Dataset index of split end: 140000\n",
      "GETTING DETECTION DISTRIBUTION FOR WINDOW: 7\n",
      "X2 Test Result: FAILED | Power_divergenceResult(statistic=798.4850582492411, pvalue=1.1519592571343206e-175)\n",
      "\n",
      "Dataset index of split end: 157500\n",
      "GETTING REFERENCE DISTRIBUTION FOR WINDOW: 5\n",
      "SELF MODEL: RandomForestClassifier(max_depth=5, n_estimators=5, random_state=42)\n",
      "GETTING DETECTION DISTRIBUTION FOR WINDOW: 8\n",
      "X2 Test Result: FAILED | Power_divergenceResult(statistic=14.22069020099271, pvalue=0.00016257314305575447)\n",
      "\n",
      "Dataset index of split end: 175000\n",
      "GETTING REFERENCE DISTRIBUTION FOR WINDOW: 6\n",
      "SELF MODEL: RandomForestClassifier(max_depth=5, n_estimators=5, random_state=42)\n",
      "GETTING DETECTION DISTRIBUTION FOR WINDOW: 9\n",
      "X2 Test Result: FAILED | Power_divergenceResult(statistic=77.10115912106235, pvalue=1.6242196850231962e-18)\n",
      "\n",
      "Dataset index of split end: 192500\n"
     ]
    },
    {
     "name": "stdout",
     "output_type": "stream",
     "text": [
      "GETTING REFERENCE DISTRIBUTION FOR WINDOW: 7\n",
      "SELF MODEL: RandomForestClassifier(max_depth=5, n_estimators=5, random_state=42)\n",
      "GETTING DETECTION DISTRIBUTION FOR WINDOW: 10\n",
      "X2 Test Result: FAILED | Power_divergenceResult(statistic=117.38007081415101, pvalue=2.3700643369506356e-27)\n",
      "\n",
      "Dataset index of split end: 210000\n",
      "GETTING REFERENCE DISTRIBUTION FOR WINDOW: 8\n",
      "SELF MODEL: RandomForestClassifier(max_depth=5, n_estimators=5, random_state=42)\n",
      "GETTING DETECTION DISTRIBUTION FOR WINDOW: 11\n",
      "X2 Test Result: FAILED | Power_divergenceResult(statistic=133.63435948894315, pvalue=6.5683657582790015e-31)\n",
      "\n",
      "Dataset index of split end: 227500\n",
      "GETTING REFERENCE DISTRIBUTION FOR WINDOW: 9\n",
      "SELF MODEL: RandomForestClassifier(max_depth=5, n_estimators=5, random_state=42)\n",
      "GETTING DETECTION DISTRIBUTION FOR WINDOW: 12\n",
      "X2 Test Result: FAILED | Power_divergenceResult(statistic=146.36190765870384, pvalue=1.0819903609056347e-33)\n",
      "\n",
      "Dataset index of split end: 245000\n",
      "GETTING REFERENCE DISTRIBUTION FOR WINDOW: 10\n",
      "SELF MODEL: RandomForestClassifier(max_depth=5, n_estimators=5, random_state=42)\n",
      "GETTING DETECTION DISTRIBUTION FOR WINDOW: 13\n",
      "X2 Test Result: PASSED | Power_divergenceResult(statistic=6.54395324187893, pvalue=0.01052412299686099)\n",
      "\n",
      "Dataset index of split end: 262500\n",
      "GETTING DETECTION DISTRIBUTION FOR WINDOW: 14\n",
      "X2 Test Result: FAILED | Power_divergenceResult(statistic=465.69628064051096, pvalue=2.7688447037271166e-103)\n",
      "\n",
      "Dataset index of split end: 280000\n",
      "GETTING REFERENCE DISTRIBUTION FOR WINDOW: 11\n",
      "SELF MODEL: RandomForestClassifier(max_depth=5, n_estimators=5, random_state=42)\n",
      "GETTING DETECTION DISTRIBUTION FOR WINDOW: 15\n",
      "X2 Test Result: FAILED | Power_divergenceResult(statistic=485.85510418557794, pvalue=1.1368468884256412e-107)\n",
      "\n",
      "Dataset index of split end: 297500\n",
      "GETTING REFERENCE DISTRIBUTION FOR WINDOW: 12\n",
      "SELF MODEL: RandomForestClassifier(max_depth=5, n_estimators=5, random_state=42)\n",
      "GETTING DETECTION DISTRIBUTION FOR WINDOW: 16\n",
      "X2 Test Result: FAILED | Power_divergenceResult(statistic=99.65966808211964, pvalue=1.8096928499884694e-23)\n",
      "\n",
      "Dataset index of split end: 315000\n",
      "GETTING REFERENCE DISTRIBUTION FOR WINDOW: 13\n",
      "SELF MODEL: RandomForestClassifier(max_depth=5, n_estimators=5, random_state=42)\n",
      "GETTING DETECTION DISTRIBUTION FOR WINDOW: 17\n",
      "X2 Test Result: FAILED | Power_divergenceResult(statistic=133.02366741824844, pvalue=8.934034950766715e-31)\n",
      "\n",
      "Dataset index of split end: 332500\n",
      "GETTING REFERENCE DISTRIBUTION FOR WINDOW: 14\n",
      "SELF MODEL: RandomForestClassifier(max_depth=5, n_estimators=5, random_state=42)\n",
      "GETTING DETECTION DISTRIBUTION FOR WINDOW: 18\n",
      "X2 Test Result: FAILED | Power_divergenceResult(statistic=355.5691697507291, pvalue=2.5965751606470875e-79)\n",
      "\n",
      "Dataset index of split end: 350000\n",
      "GETTING REFERENCE DISTRIBUTION FOR WINDOW: 15\n",
      "SELF MODEL: RandomForestClassifier(max_depth=5, n_estimators=5, random_state=42)\n",
      "GETTING DETECTION DISTRIBUTION FOR WINDOW: 19\n",
      "X2 Test Result: FAILED | Power_divergenceResult(statistic=64.33501297800365, pvalue=1.0496377735450644e-15)\n",
      "\n",
      "Dataset index of split end: 367500\n",
      "GETTING REFERENCE DISTRIBUTION FOR WINDOW: 16\n",
      "SELF MODEL: RandomForestClassifier(max_depth=5, n_estimators=5, random_state=42)\n",
      "GETTING DETECTION DISTRIBUTION FOR WINDOW: 20\n",
      "X2 Test Result: FAILED | Power_divergenceResult(statistic=295.16852216743735, pvalue=3.7189107079814525e-66)\n",
      "\n",
      "Dataset index of split end: 385000\n",
      "GETTING REFERENCE DISTRIBUTION FOR WINDOW: 17\n",
      "SELF MODEL: RandomForestClassifier(max_depth=5, n_estimators=5, random_state=42)\n",
      "GETTING DETECTION DISTRIBUTION FOR WINDOW: 21\n",
      "X2 Test Result: FAILED | Power_divergenceResult(statistic=493.32882651693313, pvalue=2.6884523122003547e-109)\n",
      "\n",
      "Dataset index of split end: 402500\n",
      "GETTING REFERENCE DISTRIBUTION FOR WINDOW: 18\n",
      "SELF MODEL: RandomForestClassifier(max_depth=5, n_estimators=5, random_state=42)\n",
      "GETTING DETECTION DISTRIBUTION FOR WINDOW: 22\n",
      "X2 Test Result: PASSED | Power_divergenceResult(statistic=0.36949100825752806, pvalue=0.5432818430235901)\n",
      "\n",
      "Dataset index of split end: 420000\n",
      "GETTING DETECTION DISTRIBUTION FOR WINDOW: 23\n",
      "X2 Test Result: PASSED | Power_divergenceResult(statistic=1.7259574776982762, pvalue=0.18892798942587713)\n",
      "\n",
      "Dataset index of split end: 437500\n",
      "GETTING DETECTION DISTRIBUTION FOR WINDOW: 24\n",
      "X2 Test Result: PASSED | Power_divergenceResult(statistic=0.9612149018145891, pvalue=0.32688097386078996)\n",
      "\n",
      "Dataset index of split end: 455000\n",
      "GETTING DETECTION DISTRIBUTION FOR WINDOW: 25\n",
      "X2 Test Result: PASSED | Power_divergenceResult(statistic=0.2802902653691342, pvalue=0.5965110296432852)\n",
      "\n",
      "Dataset index of split end: 472500\n",
      "GETTING DETECTION DISTRIBUTION FOR WINDOW: 26\n",
      "X2 Test Result: PASSED | Power_divergenceResult(statistic=0.34603736465325213, pvalue=0.5563648990798595)\n",
      "\n",
      "Dataset index of split end: 490000\n",
      "GETTING DETECTION DISTRIBUTION FOR WINDOW: 27\n",
      "X2 Test Result: PASSED | Power_divergenceResult(statistic=0.11111644264976651, pvalue=0.7388766443441805)\n",
      "\n",
      "Dataset index of split end: 35000\n",
      "GETTING REFERENCE DISTRIBUTION FOR WINDOW: 0\n",
      "SELF MODEL: RandomForestClassifier(max_depth=5, n_estimators=5, random_state=42)\n",
      "GETTING DETECTION DISTRIBUTION FOR WINDOW: 1\n",
      "Significant Change in Margin Density: True\n",
      "Change in MD: 0.019657142857142866\n",
      "Sensitivity: 1 | Ref_SD: 0.012607869262763586 | Threshold: 0.012607869262763586\n",
      "\n",
      "Dataset index of split end: 52500\n",
      "GETTING REFERENCE DISTRIBUTION FOR WINDOW: 1\n",
      "SELF MODEL: RandomForestClassifier(max_depth=5, n_estimators=5, random_state=42)\n",
      "GETTING DETECTION DISTRIBUTION FOR WINDOW: 2\n",
      "Significant Change in Margin Density: True\n",
      "Change in MD: 0.023028571428571426\n",
      "Sensitivity: 1 | Ref_SD: 0.013318086520646597 | Threshold: 0.013318086520646597\n",
      "\n",
      "Dataset index of split end: 70000\n",
      "GETTING REFERENCE DISTRIBUTION FOR WINDOW: 2\n",
      "SELF MODEL: RandomForestClassifier(max_depth=5, n_estimators=5, random_state=42)\n",
      "GETTING DETECTION DISTRIBUTION FOR WINDOW: 3\n",
      "Significant Change in Margin Density: True\n",
      "Change in MD: 0.013542857142857148\n",
      "Sensitivity: 1 | Ref_SD: 0.010802267335695628 | Threshold: 0.010802267335695628\n",
      "\n",
      "Dataset index of split end: 87500\n",
      "GETTING REFERENCE DISTRIBUTION FOR WINDOW: 3\n",
      "SELF MODEL: RandomForestClassifier(max_depth=5, n_estimators=5, random_state=42)\n",
      "GETTING DETECTION DISTRIBUTION FOR WINDOW: 4\n",
      "Significant Change in Margin Density: False\n",
      "Change in MD: 0.008571428571428577\n",
      "Sensitivity: 1 | Ref_SD: 0.012714638839397937 | Threshold: 0.012714638839397937\n",
      "\n",
      "Dataset index of split end: 105000\n",
      "GETTING DETECTION DISTRIBUTION FOR WINDOW: 5\n",
      "Significant Change in Margin Density: False\n",
      "Change in MD: 0.005828571428571433\n",
      "Sensitivity: 1 | Ref_SD: 0.012714638839397937 | Threshold: 0.012714638839397937\n",
      "\n",
      "Dataset index of split end: 122500\n",
      "GETTING DETECTION DISTRIBUTION FOR WINDOW: 6\n",
      "Significant Change in Margin Density: False\n",
      "Change in MD: 0.005542857142857141\n",
      "Sensitivity: 1 | Ref_SD: 0.012714638839397937 | Threshold: 0.012714638839397937\n",
      "\n",
      "Dataset index of split end: 140000\n",
      "GETTING DETECTION DISTRIBUTION FOR WINDOW: 7\n",
      "Significant Change in Margin Density: True\n",
      "Change in MD: 0.06971428571428571\n",
      "Sensitivity: 1 | Ref_SD: 0.012714638839397937 | Threshold: 0.012714638839397937\n",
      "\n",
      "Dataset index of split end: 157500\n",
      "GETTING REFERENCE DISTRIBUTION FOR WINDOW: 4\n",
      "SELF MODEL: RandomForestClassifier(max_depth=5, n_estimators=5, random_state=42)\n",
      "GETTING DETECTION DISTRIBUTION FOR WINDOW: 8\n",
      "Significant Change in Margin Density: False\n",
      "Change in MD: 0.0037714285714285783\n",
      "Sensitivity: 1 | Ref_SD: 0.012944591495276775 | Threshold: 0.012944591495276775\n",
      "\n",
      "Dataset index of split end: 175000\n",
      "GETTING DETECTION DISTRIBUTION FOR WINDOW: 9\n",
      "Significant Change in Margin Density: False\n",
      "Change in MD: 0.00520000000000001\n",
      "Sensitivity: 1 | Ref_SD: 0.012944591495276775 | Threshold: 0.012944591495276775\n",
      "\n",
      "Dataset index of split end: 192500\n",
      "GETTING DETECTION DISTRIBUTION FOR WINDOW: 10\n",
      "Significant Change in Margin Density: False\n",
      "Change in MD: 0.005714285714285713\n",
      "Sensitivity: 1 | Ref_SD: 0.012944591495276775 | Threshold: 0.012944591495276775\n",
      "\n",
      "Dataset index of split end: 210000\n",
      "GETTING DETECTION DISTRIBUTION FOR WINDOW: 11\n",
      "Significant Change in Margin Density: False\n",
      "Change in MD: 0.004628571428571426\n",
      "Sensitivity: 1 | Ref_SD: 0.012944591495276775 | Threshold: 0.012944591495276775\n",
      "\n",
      "Dataset index of split end: 227500\n"
     ]
    },
    {
     "name": "stdout",
     "output_type": "stream",
     "text": [
      "GETTING DETECTION DISTRIBUTION FOR WINDOW: 12\n",
      "Significant Change in Margin Density: False\n",
      "Change in MD: 0.0031428571428571417\n",
      "Sensitivity: 1 | Ref_SD: 0.012944591495276775 | Threshold: 0.012944591495276775\n",
      "\n",
      "Dataset index of split end: 245000\n",
      "GETTING DETECTION DISTRIBUTION FOR WINDOW: 13\n",
      "Significant Change in Margin Density: False\n",
      "Change in MD: 0.008400000000000005\n",
      "Sensitivity: 1 | Ref_SD: 0.012944591495276775 | Threshold: 0.012944591495276775\n",
      "\n",
      "Dataset index of split end: 262500\n",
      "GETTING DETECTION DISTRIBUTION FOR WINDOW: 14\n",
      "Significant Change in Margin Density: False\n",
      "Change in MD: 0.007085714285714292\n",
      "Sensitivity: 1 | Ref_SD: 0.012944591495276775 | Threshold: 0.012944591495276775\n",
      "\n",
      "Dataset index of split end: 280000\n",
      "GETTING DETECTION DISTRIBUTION FOR WINDOW: 15\n",
      "Significant Change in Margin Density: False\n",
      "Change in MD: 0.010171428571428574\n",
      "Sensitivity: 1 | Ref_SD: 0.012944591495276775 | Threshold: 0.012944591495276775\n",
      "\n",
      "Dataset index of split end: 297500\n",
      "GETTING DETECTION DISTRIBUTION FOR WINDOW: 16\n",
      "Significant Change in Margin Density: False\n",
      "Change in MD: 0.008914285714285722\n",
      "Sensitivity: 1 | Ref_SD: 0.012944591495276775 | Threshold: 0.012944591495276775\n",
      "\n",
      "Dataset index of split end: 315000\n",
      "GETTING DETECTION DISTRIBUTION FOR WINDOW: 17\n",
      "Significant Change in Margin Density: False\n",
      "Change in MD: 0.007771428571428582\n",
      "Sensitivity: 1 | Ref_SD: 0.012944591495276775 | Threshold: 0.012944591495276775\n",
      "\n",
      "Dataset index of split end: 332500\n",
      "GETTING DETECTION DISTRIBUTION FOR WINDOW: 18\n",
      "Significant Change in Margin Density: False\n",
      "Change in MD: 0.00988571428571429\n",
      "Sensitivity: 1 | Ref_SD: 0.012944591495276775 | Threshold: 0.012944591495276775\n",
      "\n",
      "Dataset index of split end: 350000\n",
      "GETTING DETECTION DISTRIBUTION FOR WINDOW: 19\n",
      "Significant Change in Margin Density: False\n",
      "Change in MD: 0.007257142857142865\n",
      "Sensitivity: 1 | Ref_SD: 0.012944591495276775 | Threshold: 0.012944591495276775\n",
      "\n",
      "Dataset index of split end: 367500\n",
      "GETTING DETECTION DISTRIBUTION FOR WINDOW: 20\n",
      "Significant Change in Margin Density: False\n",
      "Change in MD: 0.005828571428571433\n",
      "Sensitivity: 1 | Ref_SD: 0.012944591495276775 | Threshold: 0.012944591495276775\n",
      "\n",
      "Dataset index of split end: 385000\n",
      "GETTING DETECTION DISTRIBUTION FOR WINDOW: 21\n",
      "Significant Change in Margin Density: False\n",
      "Change in MD: 0.010057142857142848\n",
      "Sensitivity: 1 | Ref_SD: 0.012944591495276775 | Threshold: 0.012944591495276775\n",
      "\n",
      "Dataset index of split end: 402500\n",
      "GETTING DETECTION DISTRIBUTION FOR WINDOW: 22\n",
      "Significant Change in Margin Density: False\n",
      "Change in MD: 0.012742857142857139\n",
      "Sensitivity: 1 | Ref_SD: 0.012944591495276775 | Threshold: 0.012944591495276775\n",
      "\n",
      "Dataset index of split end: 420000\n",
      "GETTING DETECTION DISTRIBUTION FOR WINDOW: 23\n",
      "Significant Change in Margin Density: True\n",
      "Change in MD: 0.01965714285714286\n",
      "Sensitivity: 1 | Ref_SD: 0.012944591495276775 | Threshold: 0.012944591495276775\n",
      "\n",
      "Dataset index of split end: 437500\n",
      "GETTING REFERENCE DISTRIBUTION FOR WINDOW: 5\n",
      "SELF MODEL: RandomForestClassifier(max_depth=5, n_estimators=5, random_state=42)\n",
      "GETTING DETECTION DISTRIBUTION FOR WINDOW: 24\n",
      "Significant Change in Margin Density: True\n",
      "Change in MD: 0.10377142857142856\n",
      "Sensitivity: 1 | Ref_SD: 0.013261083158272263 | Threshold: 0.013261083158272263\n",
      "\n",
      "Dataset index of split end: 455000\n",
      "GETTING REFERENCE DISTRIBUTION FOR WINDOW: 6\n",
      "SELF MODEL: RandomForestClassifier(max_depth=5, n_estimators=5, random_state=42)\n",
      "GETTING DETECTION DISTRIBUTION FOR WINDOW: 25\n",
      "Significant Change in Margin Density: True\n",
      "Change in MD: 0.08577142857142855\n",
      "Sensitivity: 1 | Ref_SD: 0.015294229937716872 | Threshold: 0.015294229937716872\n",
      "\n",
      "Dataset index of split end: 472500\n",
      "GETTING REFERENCE DISTRIBUTION FOR WINDOW: 7\n",
      "SELF MODEL: RandomForestClassifier(max_depth=5, n_estimators=5, random_state=42)\n",
      "GETTING DETECTION DISTRIBUTION FOR WINDOW: 26\n",
      "Significant Change in Margin Density: True\n",
      "Change in MD: 0.06851428571428575\n",
      "Sensitivity: 1 | Ref_SD: 0.04947277956985384 | Threshold: 0.04947277956985384\n",
      "\n",
      "Dataset index of split end: 490000\n",
      "GETTING REFERENCE DISTRIBUTION FOR WINDOW: 8\n",
      "SELF MODEL: RandomForestClassifier(max_depth=5, n_estimators=5, random_state=42)\n",
      "GETTING DETECTION DISTRIBUTION FOR WINDOW: 27\n",
      "Significant Change in Margin Density: False\n",
      "Change in MD: 0.004342857142857148\n",
      "Sensitivity: 1 | Ref_SD: 0.03703990126491006 | Threshold: 0.03703990126491006\n",
      "\n",
      "GETTING REFERENCE DISTRIBUTION FOR WINDOW: 0\n",
      "SELF MODEL: RandomForestClassifier(max_depth=5, n_estimators=5, random_state=42)\n",
      "GETTING REFERENCE DISTRIBUTION FOR WINDOW: 1\n",
      "SELF MODEL: RandomForestClassifier(max_depth=5, n_estimators=5, random_state=42)\n",
      "GETTING REFERENCE DISTRIBUTION FOR WINDOW: 2\n",
      "SELF MODEL: RandomForestClassifier(max_depth=5, n_estimators=5, random_state=42)\n",
      "GETTING REFERENCE DISTRIBUTION FOR WINDOW: 3\n",
      "SELF MODEL: RandomForestClassifier(max_depth=5, n_estimators=5, random_state=42)\n",
      "GETTING REFERENCE DISTRIBUTION FOR WINDOW: 4\n",
      "SELF MODEL: RandomForestClassifier(max_depth=5, n_estimators=5, random_state=42)\n",
      "GETTING REFERENCE DISTRIBUTION FOR WINDOW: 5\n",
      "SELF MODEL: RandomForestClassifier(max_depth=5, n_estimators=5, random_state=42)\n",
      "GETTING REFERENCE DISTRIBUTION FOR WINDOW: 6\n",
      "SELF MODEL: RandomForestClassifier(max_depth=5, n_estimators=5, random_state=42)\n",
      "GETTING REFERENCE DISTRIBUTION FOR WINDOW: 7\n",
      "SELF MODEL: RandomForestClassifier(max_depth=5, n_estimators=5, random_state=42)\n",
      "GETTING REFERENCE DISTRIBUTION FOR WINDOW: 8\n",
      "SELF MODEL: RandomForestClassifier(max_depth=5, n_estimators=5, random_state=42)\n",
      "GETTING REFERENCE DISTRIBUTION FOR WINDOW: 9\n",
      "SELF MODEL: RandomForestClassifier(max_depth=5, n_estimators=5, random_state=42)\n",
      "GETTING REFERENCE DISTRIBUTION FOR WINDOW: 10\n",
      "SELF MODEL: RandomForestClassifier(max_depth=5, n_estimators=5, random_state=42)\n",
      "GETTING REFERENCE DISTRIBUTION FOR WINDOW: 11\n",
      "SELF MODEL: RandomForestClassifier(max_depth=5, n_estimators=5, random_state=42)\n",
      "GETTING REFERENCE DISTRIBUTION FOR WINDOW: 12\n",
      "SELF MODEL: RandomForestClassifier(max_depth=5, n_estimators=5, random_state=42)\n",
      "Dataset index of split end: 70000\n",
      "GETTING REFERENCE DISTRIBUTION FOR WINDOW: 0\n",
      "FINAL SHAPE kfold preds: (35000,)\n",
      "GETTING DETECTION DISTRIBUTION FOR WINDOW: 1\n",
      "Dataset Split: 1\n",
      "REFERENCE STATS: DescribeResult(nobs=35000, minmax=(0.06082224396406262, 0.9553130970093671), mean=0.5716339437376017, variance=0.045253980515958886, skewness=-0.2552568871807126, kurtosis=-1.4490532006120391)\n",
      "DETECTION STATS: DescribeResult(nobs=35000, minmax=(0.08380784874654466, 0.9374886530743936), mean=0.568570930807092, variance=0.052560522580864834, skewness=-0.27735415036599026, kurtosis=-1.4736223256533512)\n",
      "KS Test Result: FAILED | KstestResult(statistic=0.06925714285714286, pvalue=1.9719804268224e-73)\n",
      "\n",
      "Dataset index of split end: 105000\n",
      "GETTING REFERENCE DISTRIBUTION FOR WINDOW: 1\n",
      "FINAL SHAPE kfold preds: (35000,)\n",
      "GETTING DETECTION DISTRIBUTION FOR WINDOW: 2\n",
      "Dataset Split: 2\n",
      "REFERENCE STATS: DescribeResult(nobs=35000, minmax=(0.0816121163559665, 0.9527778656011489), mean=0.5692658375591632, variance=0.04405883938899318, skewness=-0.2734121377805372, kurtosis=-1.3962842334711474)\n",
      "DETECTION STATS: DescribeResult(nobs=35000, minmax=(0.09431707810334454, 0.9588487538717774), mean=0.5672175743100785, variance=0.045100369415453985, skewness=-0.278439187289723, kurtosis=-1.3853949953742404)\n",
      "KS Test Result: FAILED | KstestResult(statistic=0.019257142857142855, pvalue=4.552146801646054e-06)\n",
      "\n",
      "Dataset index of split end: 140000\n",
      "GETTING REFERENCE DISTRIBUTION FOR WINDOW: 2\n",
      "FINAL SHAPE kfold preds: (35000,)\n",
      "GETTING DETECTION DISTRIBUTION FOR WINDOW: 3\n",
      "Dataset Split: 3\n",
      "REFERENCE STATS: DescribeResult(nobs=35000, minmax=(0.06771383322548996, 0.9530768438543339), mean=0.5709838226631823, variance=0.044122972505301894, skewness=-0.23128722773894247, kurtosis=-1.429455939776811)\n",
      "DETECTION STATS: DescribeResult(nobs=35000, minmax=(0.07811822834332885, 0.9269682042575917), mean=0.6429154228224082, variance=0.039034566384000186, skewness=-0.8543384784855597, kurtosis=-0.7118763232345042)\n",
      "KS Test Result: FAILED | KstestResult(statistic=0.1789142857142857, pvalue=0.0)\n",
      "\n",
      "Dataset index of split end: 175000\n",
      "GETTING REFERENCE DISTRIBUTION FOR WINDOW: 3\n",
      "FINAL SHAPE kfold preds: (35000,)\n",
      "GETTING DETECTION DISTRIBUTION FOR WINDOW: 4\n",
      "Dataset Split: 4\n",
      "REFERENCE STATS: DescribeResult(nobs=35000, minmax=(0.11973646170701743, 0.884128611240674), mean=0.5746161001054902, variance=0.020759403050351687, skewness=-0.2896021116438904, kurtosis=-1.1234923250731603)\n",
      "DETECTION STATS: DescribeResult(nobs=35000, minmax=(0.18731592391786567, 0.8594876286645086), mean=0.5703395190897245, variance=0.020086767488553557, skewness=-0.06446978648035749, kurtosis=-1.236183843530414)\n"
     ]
    },
    {
     "name": "stdout",
     "output_type": "stream",
     "text": [
      "KS Test Result: FAILED | KstestResult(statistic=0.05940000000000001, pvalue=4.0757639642383514e-54)\n",
      "\n",
      "Dataset index of split end: 210000\n",
      "GETTING REFERENCE DISTRIBUTION FOR WINDOW: 4\n",
      "FINAL SHAPE kfold preds: (35000,)\n",
      "GETTING DETECTION DISTRIBUTION FOR WINDOW: 5\n",
      "Dataset Split: 5\n",
      "REFERENCE STATS: DescribeResult(nobs=35000, minmax=(0.09964369605547822, 0.9158230067033568), mean=0.576838641529171, variance=0.026739022083988033, skewness=-0.2228904977294807, kurtosis=-1.143488154213829)\n",
      "DETECTION STATS: DescribeResult(nobs=35000, minmax=(0.05905303660365583, 0.916131864892878), mean=0.5765985910451071, variance=0.02376596174728398, skewness=-0.2717076949007498, kurtosis=-0.842636632067761)\n",
      "KS Test Result: FAILED | KstestResult(statistic=0.06311428571428579, pvalue=4.793918084800341e-61)\n",
      "\n",
      "Dataset index of split end: 245000\n",
      "GETTING REFERENCE DISTRIBUTION FOR WINDOW: 5\n",
      "FINAL SHAPE kfold preds: (35000,)\n",
      "GETTING DETECTION DISTRIBUTION FOR WINDOW: 6\n",
      "Dataset Split: 6\n",
      "REFERENCE STATS: DescribeResult(nobs=35000, minmax=(0.08093281258844173, 0.9281267506116379), mean=0.5736858789793469, variance=0.02760964671350741, skewness=-0.17726792144838774, kurtosis=-1.1574572431987609)\n",
      "DETECTION STATS: DescribeResult(nobs=35000, minmax=(0.07773923940624428, 0.9181591796037374), mean=0.5728870975478432, variance=0.034065512039031215, skewness=-0.1680271150299542, kurtosis=-1.3246484644922103)\n",
      "KS Test Result: FAILED | KstestResult(statistic=0.0730857142857142, pvalue=9.805006760763136e-82)\n",
      "\n",
      "Dataset index of split end: 280000\n",
      "GETTING REFERENCE DISTRIBUTION FOR WINDOW: 6\n",
      "FINAL SHAPE kfold preds: (35000,)\n",
      "GETTING DETECTION DISTRIBUTION FOR WINDOW: 7\n",
      "Dataset Split: 7\n",
      "REFERENCE STATS: DescribeResult(nobs=35000, minmax=(0.05210194902548726, 0.9283130330462018), mean=0.5735720478492908, variance=0.030049358357912413, skewness=-0.18570150340540312, kurtosis=-1.2451444640057798)\n",
      "DETECTION STATS: DescribeResult(nobs=35000, minmax=(0.06380700214076263, 0.8985699146118351), mean=0.5353015011433127, variance=0.022990412250646786, skewness=-0.14007419559927017, kurtosis=-1.146007832031747)\n",
      "KS Test Result: FAILED | KstestResult(statistic=0.2132857142857143, pvalue=0.0)\n",
      "\n",
      "Dataset index of split end: 315000\n",
      "GETTING REFERENCE DISTRIBUTION FOR WINDOW: 7\n",
      "FINAL SHAPE kfold preds: (35000,)\n",
      "GETTING DETECTION DISTRIBUTION FOR WINDOW: 8\n",
      "Dataset Split: 8\n",
      "REFERENCE STATS: DescribeResult(nobs=35000, minmax=(0.083364673813299, 0.9260133615611913), mean=0.5754895355321997, variance=0.02770341765188251, skewness=-0.24193157141731847, kurtosis=-1.1058171218313946)\n",
      "DETECTION STATS: DescribeResult(nobs=35000, minmax=(0.015377748019194287, 0.9000486543429158), mean=0.5735244418036107, variance=0.024640960415292647, skewness=-0.2622837371081664, kurtosis=-1.0483985935296307)\n",
      "KS Test Result: FAILED | KstestResult(statistic=0.06051428571428563, pvalue=3.763657738012784e-56)\n",
      "\n",
      "Dataset index of split end: 350000\n",
      "GETTING REFERENCE DISTRIBUTION FOR WINDOW: 8\n",
      "FINAL SHAPE kfold preds: (35000,)\n",
      "GETTING DETECTION DISTRIBUTION FOR WINDOW: 9\n",
      "Dataset Split: 9\n",
      "REFERENCE STATS: DescribeResult(nobs=35000, minmax=(0.03958678475850643, 0.9292656477580568), mean=0.57028472836215, variance=0.026525327489475666, skewness=-0.2201136455811532, kurtosis=-1.1034443869903867)\n",
      "DETECTION STATS: DescribeResult(nobs=35000, minmax=(0.11940208056669141, 0.9125319218850022), mean=0.5714869765001005, variance=0.026559244933212076, skewness=-0.2641650140912815, kurtosis=-1.0497634311097328)\n",
      "KS Test Result: FAILED | KstestResult(statistic=0.0251142857142857, pvalue=5.073242032078224e-10)\n",
      "\n",
      "Dataset index of split end: 385000\n",
      "GETTING REFERENCE DISTRIBUTION FOR WINDOW: 9\n",
      "FINAL SHAPE kfold preds: (35000,)\n",
      "GETTING DETECTION DISTRIBUTION FOR WINDOW: 10\n",
      "Dataset Split: 10\n",
      "REFERENCE STATS: DescribeResult(nobs=35000, minmax=(0.078504530097016, 0.9485412484575034), mean=0.5672893692513666, variance=0.02790920687590498, skewness=-0.15238601955670178, kurtosis=-1.1237912748677195)\n",
      "DETECTION STATS: DescribeResult(nobs=35000, minmax=(0.078504530097016, 0.8952668586452752), mean=0.5461198842347886, variance=0.02410167236585558, skewness=-0.07016838235845334, kurtosis=-0.7942258507105366)\n",
      "KS Test Result: FAILED | KstestResult(statistic=0.11202857142857148, pvalue=9.232413904383136e-192)\n",
      "\n",
      "Dataset index of split end: 420000\n",
      "GETTING REFERENCE DISTRIBUTION FOR WINDOW: 10\n",
      "FINAL SHAPE kfold preds: (35000,)\n",
      "GETTING DETECTION DISTRIBUTION FOR WINDOW: 11\n",
      "Dataset Split: 11\n",
      "REFERENCE STATS: DescribeResult(nobs=35000, minmax=(0.11850965865532284, 0.9510616874774003), mean=0.5707909794431401, variance=0.025319916871624458, skewness=-0.21843534397033704, kurtosis=-1.177415296043535)\n",
      "DETECTION STATS: DescribeResult(nobs=35000, minmax=(0.09561257892754137, 0.9371176199597988), mean=0.5728863631145592, variance=0.023347979053194853, skewness=-0.12950798482567097, kurtosis=-1.1220734167117956)\n",
      "KS Test Result: FAILED | KstestResult(statistic=0.04354285714285715, pvalue=2.8651212063397827e-29)\n",
      "\n",
      "Dataset index of split end: 455000\n",
      "GETTING REFERENCE DISTRIBUTION FOR WINDOW: 11\n",
      "FINAL SHAPE kfold preds: (35000,)\n",
      "GETTING DETECTION DISTRIBUTION FOR WINDOW: 12\n",
      "Dataset Split: 12\n",
      "REFERENCE STATS: DescribeResult(nobs=35000, minmax=(0.021996802469816418, 0.977384453054729), mean=0.5738527267896335, variance=0.03141586080798881, skewness=-0.3004841528614454, kurtosis=-1.2340399092577734)\n",
      "DETECTION STATS: DescribeResult(nobs=35000, minmax=(0.02489931295901445, 0.9338983983965031), mean=0.5729530208979096, variance=0.04459886906734567, skewness=-0.2223997790712034, kurtosis=-1.5926423656173145)\n",
      "KS Test Result: FAILED | KstestResult(statistic=0.1879428571428572, pvalue=0.0)\n",
      "\n",
      "Dataset index of split end: 490000\n",
      "GETTING REFERENCE DISTRIBUTION FOR WINDOW: 12\n",
      "FINAL SHAPE kfold preds: (35000,)\n",
      "GETTING DETECTION DISTRIBUTION FOR WINDOW: 13\n",
      "Dataset Split: 13\n",
      "REFERENCE STATS: DescribeResult(nobs=35000, minmax=(0.09476104096399661, 0.963882928821733), mean=0.5754271480395319, variance=0.031008671891587222, skewness=-0.2646037321876836, kurtosis=-1.2696319054127094)\n",
      "DETECTION STATS: DescribeResult(nobs=35000, minmax=(0.14310507167828238, 0.9299660720434686), mean=0.5739266776535201, variance=0.022453301899158902, skewness=-0.4266950815127941, kurtosis=-0.8152957912230381)\n",
      "KS Test Result: FAILED | KstestResult(statistic=0.14125714285714286, pvalue=4.01638082377747e-305)\n",
      "\n",
      "Dataset index of split end: 70000\n",
      "GETTING REFERENCE DISTRIBUTION FOR WINDOW: 0\n",
      "SELF MODEL: RandomForestClassifier(max_depth=5, n_estimators=5, random_state=42)\n",
      "GETTING DETECTION DISTRIBUTION FOR WINDOW: 1\n",
      "X2 Test Result: FAILED | Power_divergenceResult(statistic=227.77900068876315, pvalue=1.818509239916743e-51)\n",
      "\n",
      "Dataset index of split end: 105000\n",
      "GETTING REFERENCE DISTRIBUTION FOR WINDOW: 1\n",
      "SELF MODEL: RandomForestClassifier(max_depth=5, n_estimators=5, random_state=42)\n",
      "GETTING DETECTION DISTRIBUTION FOR WINDOW: 2\n",
      "X2 Test Result: FAILED | Power_divergenceResult(statistic=123.75159311299453, pvalue=9.547869430704045e-29)\n",
      "\n",
      "Dataset index of split end: 140000\n",
      "GETTING REFERENCE DISTRIBUTION FOR WINDOW: 2\n",
      "SELF MODEL: RandomForestClassifier(max_depth=5, n_estimators=5, random_state=42)\n",
      "GETTING DETECTION DISTRIBUTION FOR WINDOW: 3\n",
      "X2 Test Result: FAILED | Power_divergenceResult(statistic=367.13434221073123, pvalue=7.873051724600469e-82)\n",
      "\n",
      "Dataset index of split end: 175000\n",
      "GETTING REFERENCE DISTRIBUTION FOR WINDOW: 3\n",
      "SELF MODEL: RandomForestClassifier(max_depth=5, n_estimators=5, random_state=42)\n",
      "GETTING DETECTION DISTRIBUTION FOR WINDOW: 4\n",
      "X2 Test Result: FAILED | Power_divergenceResult(statistic=292.12646975787163, pvalue=1.710895706605104e-65)\n",
      "\n",
      "Dataset index of split end: 210000\n",
      "GETTING REFERENCE DISTRIBUTION FOR WINDOW: 4\n",
      "SELF MODEL: RandomForestClassifier(max_depth=5, n_estimators=5, random_state=42)\n",
      "GETTING DETECTION DISTRIBUTION FOR WINDOW: 5\n",
      "X2 Test Result: FAILED | Power_divergenceResult(statistic=260.02590451216724, pvalue=1.693829051231116e-58)\n",
      "\n",
      "Dataset index of split end: 245000\n",
      "GETTING REFERENCE DISTRIBUTION FOR WINDOW: 5\n",
      "SELF MODEL: RandomForestClassifier(max_depth=5, n_estimators=5, random_state=42)\n",
      "GETTING DETECTION DISTRIBUTION FOR WINDOW: 6\n",
      "X2 Test Result: FAILED | Power_divergenceResult(statistic=215.59444372741353, pvalue=8.267821580363043e-49)\n",
      "\n",
      "Dataset index of split end: 280000\n"
     ]
    },
    {
     "name": "stdout",
     "output_type": "stream",
     "text": [
      "GETTING REFERENCE DISTRIBUTION FOR WINDOW: 6\n",
      "SELF MODEL: RandomForestClassifier(max_depth=5, n_estimators=5, random_state=42)\n",
      "GETTING DETECTION DISTRIBUTION FOR WINDOW: 7\n",
      "X2 Test Result: PASSED | Power_divergenceResult(statistic=1.7637410954053452, pvalue=0.1841585684090153)\n",
      "\n",
      "Dataset index of split end: 315000\n",
      "GETTING DETECTION DISTRIBUTION FOR WINDOW: 8\n",
      "X2 Test Result: PASSED | Power_divergenceResult(statistic=8.098811152371482, pvalue=0.00442943018899944)\n",
      "\n",
      "Dataset index of split end: 350000\n",
      "GETTING DETECTION DISTRIBUTION FOR WINDOW: 9\n",
      "X2 Test Result: PASSED | Power_divergenceResult(statistic=0.3062050512856502, pvalue=0.5800183079501269)\n",
      "\n",
      "Dataset index of split end: 385000\n",
      "GETTING DETECTION DISTRIBUTION FOR WINDOW: 10\n",
      "X2 Test Result: FAILED | Power_divergenceResult(statistic=713.9202016138331, pvalue=2.8100042572149607e-157)\n",
      "\n",
      "Dataset index of split end: 420000\n",
      "GETTING REFERENCE DISTRIBUTION FOR WINDOW: 7\n",
      "SELF MODEL: RandomForestClassifier(max_depth=5, n_estimators=5, random_state=42)\n",
      "GETTING DETECTION DISTRIBUTION FOR WINDOW: 11\n",
      "X2 Test Result: FAILED | Power_divergenceResult(statistic=948.9300676716161, pvalue=2.2663158629834703e-208)\n",
      "\n",
      "Dataset index of split end: 455000\n",
      "GETTING REFERENCE DISTRIBUTION FOR WINDOW: 8\n",
      "SELF MODEL: RandomForestClassifier(max_depth=5, n_estimators=5, random_state=42)\n",
      "GETTING DETECTION DISTRIBUTION FOR WINDOW: 12\n",
      "X2 Test Result: FAILED | Power_divergenceResult(statistic=608.5139496021576, pvalue=2.3548799247166276e-134)\n",
      "\n",
      "Dataset index of split end: 490000\n",
      "GETTING REFERENCE DISTRIBUTION FOR WINDOW: 9\n",
      "SELF MODEL: RandomForestClassifier(max_depth=5, n_estimators=5, random_state=42)\n",
      "GETTING DETECTION DISTRIBUTION FOR WINDOW: 13\n",
      "X2 Test Result: FAILED | Power_divergenceResult(statistic=1323.0919072502504, pvalue=1.0840772883179344e-289)\n",
      "\n",
      "Dataset index of split end: 70000\n",
      "GETTING REFERENCE DISTRIBUTION FOR WINDOW: 0\n",
      "SELF MODEL: RandomForestClassifier(max_depth=5, n_estimators=5, random_state=42)\n",
      "GETTING DETECTION DISTRIBUTION FOR WINDOW: 1\n",
      "Significant Change in Margin Density: True\n",
      "Change in MD: 0.020085714285714283\n",
      "Sensitivity: 1 | Ref_SD: 0.01266085079515365 | Threshold: 0.01266085079515365\n",
      "\n",
      "Dataset index of split end: 105000\n",
      "GETTING REFERENCE DISTRIBUTION FOR WINDOW: 1\n",
      "SELF MODEL: RandomForestClassifier(max_depth=5, n_estimators=5, random_state=42)\n",
      "GETTING DETECTION DISTRIBUTION FOR WINDOW: 2\n",
      "Significant Change in Margin Density: True\n",
      "Change in MD: 0.015457142857142878\n",
      "Sensitivity: 1 | Ref_SD: 0.011295980863717386 | Threshold: 0.011295980863717386\n",
      "\n",
      "Dataset index of split end: 140000\n",
      "GETTING REFERENCE DISTRIBUTION FOR WINDOW: 2\n",
      "SELF MODEL: RandomForestClassifier(max_depth=5, n_estimators=5, random_state=42)\n",
      "GETTING DETECTION DISTRIBUTION FOR WINDOW: 3\n",
      "Significant Change in Margin Density: True\n",
      "Change in MD: 0.026971428571428577\n",
      "Sensitivity: 1 | Ref_SD: 0.007506405427964809 | Threshold: 0.007506405427964809\n",
      "\n",
      "Dataset index of split end: 175000\n",
      "GETTING REFERENCE DISTRIBUTION FOR WINDOW: 3\n",
      "SELF MODEL: RandomForestClassifier(max_depth=5, n_estimators=5, random_state=42)\n",
      "GETTING DETECTION DISTRIBUTION FOR WINDOW: 4\n",
      "Significant Change in Margin Density: True\n",
      "Change in MD: 0.03605714285714284\n",
      "Sensitivity: 1 | Ref_SD: 0.012606574248609902 | Threshold: 0.012606574248609902\n",
      "\n",
      "Dataset index of split end: 210000\n",
      "GETTING REFERENCE DISTRIBUTION FOR WINDOW: 4\n",
      "SELF MODEL: RandomForestClassifier(max_depth=5, n_estimators=5, random_state=42)\n",
      "GETTING DETECTION DISTRIBUTION FOR WINDOW: 5\n",
      "Significant Change in Margin Density: False\n",
      "Change in MD: 0.03199999999999997\n",
      "Sensitivity: 1 | Ref_SD: 0.037424383626132283 | Threshold: 0.037424383626132283\n",
      "\n",
      "Dataset index of split end: 245000\n",
      "GETTING DETECTION DISTRIBUTION FOR WINDOW: 6\n",
      "Significant Change in Margin Density: False\n",
      "Change in MD: 0.02517142857142854\n",
      "Sensitivity: 1 | Ref_SD: 0.037424383626132283 | Threshold: 0.037424383626132283\n",
      "\n",
      "Dataset index of split end: 280000\n",
      "GETTING DETECTION DISTRIBUTION FOR WINDOW: 7\n",
      "Significant Change in Margin Density: False\n",
      "Change in MD: 0.017400000000000027\n",
      "Sensitivity: 1 | Ref_SD: 0.037424383626132283 | Threshold: 0.037424383626132283\n",
      "\n",
      "Dataset index of split end: 315000\n",
      "GETTING DETECTION DISTRIBUTION FOR WINDOW: 8\n",
      "Significant Change in Margin Density: False\n",
      "Change in MD: 0.023428571428571437\n",
      "Sensitivity: 1 | Ref_SD: 0.037424383626132283 | Threshold: 0.037424383626132283\n",
      "\n",
      "Dataset index of split end: 350000\n",
      "GETTING DETECTION DISTRIBUTION FOR WINDOW: 9\n",
      "Significant Change in Margin Density: False\n",
      "Change in MD: 0.022800000000000015\n",
      "Sensitivity: 1 | Ref_SD: 0.037424383626132283 | Threshold: 0.037424383626132283\n",
      "\n",
      "Dataset index of split end: 385000\n",
      "GETTING DETECTION DISTRIBUTION FOR WINDOW: 10\n",
      "Significant Change in Margin Density: False\n",
      "Change in MD: 0.004799999999999971\n",
      "Sensitivity: 1 | Ref_SD: 0.037424383626132283 | Threshold: 0.037424383626132283\n",
      "\n",
      "Dataset index of split end: 420000\n",
      "GETTING DETECTION DISTRIBUTION FOR WINDOW: 11\n",
      "Significant Change in Margin Density: True\n",
      "Change in MD: 0.04685714285714285\n",
      "Sensitivity: 1 | Ref_SD: 0.037424383626132283 | Threshold: 0.037424383626132283\n",
      "\n",
      "Dataset index of split end: 455000\n",
      "GETTING REFERENCE DISTRIBUTION FOR WINDOW: 5\n",
      "SELF MODEL: RandomForestClassifier(max_depth=5, n_estimators=5, random_state=42)\n",
      "GETTING DETECTION DISTRIBUTION FOR WINDOW: 12\n",
      "Significant Change in Margin Density: False\n",
      "Change in MD: 0.011657142857142866\n",
      "Sensitivity: 1 | Ref_SD: 0.03696882304795515 | Threshold: 0.03696882304795515\n",
      "\n",
      "Dataset index of split end: 490000\n",
      "GETTING DETECTION DISTRIBUTION FOR WINDOW: 13\n",
      "Significant Change in Margin Density: False\n",
      "Change in MD: 0.014571428571428569\n",
      "Sensitivity: 1 | Ref_SD: 0.03696882304795515 | Threshold: 0.03696882304795515\n",
      "\n",
      "GETTING REFERENCE DISTRIBUTION FOR WINDOW: 0\n",
      "SELF MODEL: RandomForestClassifier(max_depth=5, n_estimators=5, random_state=42)\n",
      "GETTING REFERENCE DISTRIBUTION FOR WINDOW: 1\n",
      "SELF MODEL: RandomForestClassifier(max_depth=5, n_estimators=5, random_state=42)\n",
      "GETTING REFERENCE DISTRIBUTION FOR WINDOW: 2\n",
      "SELF MODEL: RandomForestClassifier(max_depth=5, n_estimators=5, random_state=42)\n",
      "GETTING REFERENCE DISTRIBUTION FOR WINDOW: 3\n",
      "SELF MODEL: RandomForestClassifier(max_depth=5, n_estimators=5, random_state=42)\n",
      "GETTING REFERENCE DISTRIBUTION FOR WINDOW: 4\n",
      "SELF MODEL: RandomForestClassifier(max_depth=5, n_estimators=5, random_state=42)\n",
      "GETTING REFERENCE DISTRIBUTION FOR WINDOW: 5\n",
      "SELF MODEL: RandomForestClassifier(max_depth=5, n_estimators=5, random_state=42)\n",
      "GETTING REFERENCE DISTRIBUTION FOR WINDOW: 6\n",
      "SELF MODEL: RandomForestClassifier(max_depth=5, n_estimators=5, random_state=42)\n",
      "GETTING REFERENCE DISTRIBUTION FOR WINDOW: 7\n",
      "SELF MODEL: RandomForestClassifier(max_depth=5, n_estimators=5, random_state=42)\n",
      "Dataset index of split end: 105000\n",
      "GETTING REFERENCE DISTRIBUTION FOR WINDOW: 0\n",
      "FINAL SHAPE kfold preds: (52500,)\n",
      "GETTING DETECTION DISTRIBUTION FOR WINDOW: 1\n",
      "Dataset Split: 1\n",
      "REFERENCE STATS: DescribeResult(nobs=52500, minmax=(0.07199405272071246, 0.9469117950604169), mean=0.572725875360398, variance=0.04526878937915959, skewness=-0.2456949273339063, kurtosis=-1.4418929063395187)\n",
      "DETECTION STATS: DescribeResult(nobs=52500, minmax=(0.08650069493281794, 0.9457377416624283), mean=0.5731148877053752, variance=0.04348583629024235, skewness=-0.2888601794670199, kurtosis=-1.4243461770060566)\n",
      "KS Test Result: FAILED | KstestResult(statistic=0.0377142857142857, pvalue=7.071176292436862e-33)\n",
      "\n",
      "Dataset index of split end: 157500\n",
      "GETTING REFERENCE DISTRIBUTION FOR WINDOW: 1\n",
      "FINAL SHAPE kfold preds: (52500,)\n",
      "GETTING DETECTION DISTRIBUTION FOR WINDOW: 2\n",
      "Dataset Split: 2\n",
      "REFERENCE STATS: DescribeResult(nobs=52500, minmax=(0.060788583598770575, 0.959635489694288), mean=0.569820036820645, variance=0.040848879604232405, skewness=-0.21923899222513651, kurtosis=-1.3997003151675709)\n",
      "DETECTION STATS: DescribeResult(nobs=52500, minmax=(0.10363447333041682, 0.9644859915763131), mean=0.6464337067009684, variance=0.023365016274284504, skewness=-1.1305184008203453, kurtosis=0.15031801047556348)\n",
      "KS Test Result: FAILED | KstestResult(statistic=0.23788571428571426, pvalue=0.0)\n",
      "\n",
      "Dataset index of split end: 210000\n",
      "GETTING REFERENCE DISTRIBUTION FOR WINDOW: 2\n",
      "FINAL SHAPE kfold preds: (52500,)\n",
      "GETTING DETECTION DISTRIBUTION FOR WINDOW: 3\n",
      "Dataset Split: 3\n",
      "REFERENCE STATS: DescribeResult(nobs=52500, minmax=(0.14933227701609475, 0.8891185727017191), mean=0.5753752643274035, variance=0.018961891224954976, skewness=-0.36343601938048997, kurtosis=-0.9961742716484454)\n",
      "DETECTION STATS: DescribeResult(nobs=52500, minmax=(0.15455450529298992, 0.8054626961436524), mean=0.575069973242207, variance=0.015098229731400386, skewness=-0.5503960091491639, kurtosis=-0.66605495369551)\n"
     ]
    },
    {
     "name": "stdout",
     "output_type": "stream",
     "text": [
      "KS Test Result: FAILED | KstestResult(statistic=0.1321904761904762, pvalue=0.0)\n",
      "\n",
      "Dataset index of split end: 262500\n",
      "GETTING REFERENCE DISTRIBUTION FOR WINDOW: 3\n",
      "FINAL SHAPE kfold preds: (52500,)\n",
      "GETTING DETECTION DISTRIBUTION FOR WINDOW: 4\n",
      "Dataset Split: 4\n",
      "REFERENCE STATS: DescribeResult(nobs=52500, minmax=(0.0644892461973399, 0.9458554495532099), mean=0.5742119174914113, variance=0.028727366508604083, skewness=-0.20400619026574274, kurtosis=-1.2021034308038492)\n",
      "DETECTION STATS: DescribeResult(nobs=52500, minmax=(0.06663731673343651, 0.8981980417233728), mean=0.5672040174726991, variance=0.023693479395083195, skewness=-0.2743441680309857, kurtosis=-1.0091847315608224)\n",
      "KS Test Result: FAILED | KstestResult(statistic=0.09209523809523812, pvalue=3.364660771827138e-194)\n",
      "\n",
      "Dataset index of split end: 315000\n",
      "GETTING REFERENCE DISTRIBUTION FOR WINDOW: 4\n",
      "FINAL SHAPE kfold preds: (52500,)\n",
      "GETTING DETECTION DISTRIBUTION FOR WINDOW: 5\n",
      "Dataset Split: 5\n",
      "REFERENCE STATS: DescribeResult(nobs=52500, minmax=(0.05561175755954041, 0.913319319910945), mean=0.5747240803812635, variance=0.029972070098709443, skewness=-0.20325462065014485, kurtosis=-1.2505197699190744)\n",
      "DETECTION STATS: DescribeResult(nobs=52500, minmax=(0.12238950801402011, 0.8815695962686906), mean=0.5767308859050015, variance=0.03627980895962491, skewness=-0.14123601517897, kurtosis=-1.5120340616079648)\n",
      "KS Test Result: FAILED | KstestResult(statistic=0.11569523809523807, pvalue=1.4542377225099e-306)\n",
      "\n",
      "Dataset index of split end: 367500\n",
      "GETTING REFERENCE DISTRIBUTION FOR WINDOW: 5\n",
      "FINAL SHAPE kfold preds: (52500,)\n",
      "GETTING DETECTION DISTRIBUTION FOR WINDOW: 6\n",
      "Dataset Split: 6\n",
      "REFERENCE STATS: DescribeResult(nobs=52500, minmax=(0.056528532189371025, 0.9301946126203312), mean=0.5702008270999847, variance=0.027943481537984618, skewness=-0.243116375756044, kurtosis=-1.1769669506975209)\n",
      "DETECTION STATS: DescribeResult(nobs=52500, minmax=(0.056528532189371025, 0.9024379844409735), mean=0.5697271199889199, variance=0.03339618465110698, skewness=-0.26980797871451506, kurtosis=-1.3891092411838302)\n",
      "KS Test Result: FAILED | KstestResult(statistic=0.08714285714285716, pvalue=6.9172274526107535e-174)\n",
      "\n",
      "Dataset index of split end: 420000\n",
      "GETTING REFERENCE DISTRIBUTION FOR WINDOW: 6\n",
      "FINAL SHAPE kfold preds: (52500,)\n",
      "GETTING DETECTION DISTRIBUTION FOR WINDOW: 7\n",
      "Dataset Split: 7\n",
      "REFERENCE STATS: DescribeResult(nobs=52500, minmax=(0.01636231884057971, 0.9210230718809804), mean=0.5692612188474017, variance=0.026147631181423502, skewness=-0.1886601735833362, kurtosis=-1.092524894438918)\n",
      "DETECTION STATS: DescribeResult(nobs=52500, minmax=(0.06908205327836567, 0.8777200862544255), mean=0.5155961287540037, variance=0.023987917001873395, skewness=0.03647732104684396, kurtosis=-0.8076564563288802)\n",
      "KS Test Result: FAILED | KstestResult(statistic=0.19422857142857142, pvalue=0.0)\n",
      "\n",
      "Dataset index of split end: 472500\n",
      "GETTING REFERENCE DISTRIBUTION FOR WINDOW: 7\n",
      "FINAL SHAPE kfold preds: (52500,)\n",
      "GETTING DETECTION DISTRIBUTION FOR WINDOW: 8\n",
      "Dataset Split: 8\n",
      "REFERENCE STATS: DescribeResult(nobs=52500, minmax=(0.12159882745842206, 0.919011065035695), mean=0.5715627966193071, variance=0.03354265591263351, skewness=-0.25641755262489, kurtosis=-1.4118898590988174)\n",
      "DETECTION STATS: DescribeResult(nobs=52500, minmax=(0.14143305670141476, 0.8908980436163351), mean=0.5758868300138593, variance=0.03490595374810339, skewness=-0.22406163856193972, kurtosis=-1.5213634591938574)\n",
      "KS Test Result: FAILED | KstestResult(statistic=0.0527428571428572, pvalue=6.614409885199155e-64)\n",
      "\n",
      "Dataset index of split end: 105000\n",
      "GETTING REFERENCE DISTRIBUTION FOR WINDOW: 0\n",
      "SELF MODEL: RandomForestClassifier(max_depth=5, n_estimators=5, random_state=42)\n",
      "GETTING DETECTION DISTRIBUTION FOR WINDOW: 1\n",
      "X2 Test Result: FAILED | Power_divergenceResult(statistic=49.2689668557755, pvalue=2.2316513487283537e-12)\n",
      "\n",
      "Dataset index of split end: 157500\n",
      "GETTING REFERENCE DISTRIBUTION FOR WINDOW: 1\n",
      "SELF MODEL: RandomForestClassifier(max_depth=5, n_estimators=5, random_state=42)\n",
      "GETTING DETECTION DISTRIBUTION FOR WINDOW: 2\n",
      "X2 Test Result: FAILED | Power_divergenceResult(statistic=764.814723787801, pvalue=2.410953494623594e-168)\n",
      "\n",
      "Dataset index of split end: 210000\n",
      "GETTING REFERENCE DISTRIBUTION FOR WINDOW: 2\n",
      "SELF MODEL: RandomForestClassifier(max_depth=5, n_estimators=5, random_state=42)\n",
      "GETTING DETECTION DISTRIBUTION FOR WINDOW: 3\n",
      "X2 Test Result: FAILED | Power_divergenceResult(statistic=814.8510319573902, pvalue=3.185783265897782e-179)\n",
      "\n",
      "Dataset index of split end: 262500\n",
      "GETTING REFERENCE DISTRIBUTION FOR WINDOW: 3\n",
      "SELF MODEL: RandomForestClassifier(max_depth=5, n_estimators=5, random_state=42)\n",
      "GETTING DETECTION DISTRIBUTION FOR WINDOW: 4\n",
      "X2 Test Result: FAILED | Power_divergenceResult(statistic=86.93101551124848, pvalue=1.1237321051591144e-20)\n",
      "\n",
      "Dataset index of split end: 315000\n",
      "GETTING REFERENCE DISTRIBUTION FOR WINDOW: 4\n",
      "SELF MODEL: RandomForestClassifier(max_depth=5, n_estimators=5, random_state=42)\n",
      "GETTING DETECTION DISTRIBUTION FOR WINDOW: 5\n",
      "X2 Test Result: FAILED | Power_divergenceResult(statistic=2006.0667146050648, pvalue=0.0)\n",
      "\n",
      "Dataset index of split end: 367500\n",
      "GETTING REFERENCE DISTRIBUTION FOR WINDOW: 5\n",
      "SELF MODEL: RandomForestClassifier(max_depth=5, n_estimators=5, random_state=42)\n",
      "GETTING DETECTION DISTRIBUTION FOR WINDOW: 6\n",
      "X2 Test Result: FAILED | Power_divergenceResult(statistic=713.3286726566839, pvalue=3.778638567550012e-157)\n",
      "\n",
      "Dataset index of split end: 420000\n",
      "GETTING REFERENCE DISTRIBUTION FOR WINDOW: 6\n",
      "SELF MODEL: RandomForestClassifier(max_depth=5, n_estimators=5, random_state=42)\n",
      "GETTING DETECTION DISTRIBUTION FOR WINDOW: 7\n",
      "X2 Test Result: PASSED | Power_divergenceResult(statistic=0.7051607192031897, pvalue=0.40105503218019933)\n",
      "\n",
      "Dataset index of split end: 472500\n",
      "GETTING DETECTION DISTRIBUTION FOR WINDOW: 8\n",
      "X2 Test Result: PASSED | Power_divergenceResult(statistic=4.061725742610372, pvalue=0.043865648454413646)\n",
      "\n",
      "Dataset index of split end: 105000\n",
      "GETTING REFERENCE DISTRIBUTION FOR WINDOW: 0\n",
      "SELF MODEL: RandomForestClassifier(max_depth=5, n_estimators=5, random_state=42)\n",
      "GETTING DETECTION DISTRIBUTION FOR WINDOW: 1\n",
      "Significant Change in Margin Density: False\n",
      "Change in MD: 0.007561904761904763\n",
      "Sensitivity: 1 | Ref_SD: 0.012088802187230768 | Threshold: 0.012088802187230768\n",
      "\n",
      "Dataset index of split end: 157500\n",
      "GETTING DETECTION DISTRIBUTION FOR WINDOW: 2\n",
      "Significant Change in Margin Density: True\n",
      "Change in MD: 0.029695238095238094\n",
      "Sensitivity: 1 | Ref_SD: 0.012088802187230768 | Threshold: 0.012088802187230768\n",
      "\n",
      "Dataset index of split end: 210000\n",
      "GETTING REFERENCE DISTRIBUTION FOR WINDOW: 1\n",
      "SELF MODEL: RandomForestClassifier(max_depth=5, n_estimators=5, random_state=42)\n",
      "GETTING DETECTION DISTRIBUTION FOR WINDOW: 3\n",
      "Significant Change in Margin Density: True\n",
      "Change in MD: 0.012323809523809529\n",
      "Sensitivity: 1 | Ref_SD: 0.012118073681512541 | Threshold: 0.012118073681512541\n",
      "\n",
      "Dataset index of split end: 262500\n",
      "GETTING REFERENCE DISTRIBUTION FOR WINDOW: 2\n",
      "SELF MODEL: RandomForestClassifier(max_depth=5, n_estimators=5, random_state=42)\n",
      "GETTING DETECTION DISTRIBUTION FOR WINDOW: 4\n",
      "Significant Change in Margin Density: False\n",
      "Change in MD: 0.013942857142857146\n",
      "Sensitivity: 1 | Ref_SD: 0.015088840464925184 | Threshold: 0.015088840464925184\n",
      "\n",
      "Dataset index of split end: 315000\n",
      "GETTING DETECTION DISTRIBUTION FOR WINDOW: 5\n",
      "Significant Change in Margin Density: True\n",
      "Change in MD: 0.048533333333333345\n",
      "Sensitivity: 1 | Ref_SD: 0.015088840464925184 | Threshold: 0.015088840464925184\n",
      "\n",
      "Dataset index of split end: 367500\n",
      "GETTING REFERENCE DISTRIBUTION FOR WINDOW: 3\n",
      "SELF MODEL: RandomForestClassifier(max_depth=5, n_estimators=5, random_state=42)\n",
      "GETTING DETECTION DISTRIBUTION FOR WINDOW: 6\n",
      "Significant Change in Margin Density: False\n",
      "Change in MD: 0.030971428571428566\n",
      "Sensitivity: 1 | Ref_SD: 0.04632711845951467 | Threshold: 0.04632711845951467\n",
      "\n",
      "Dataset index of split end: 420000\n",
      "GETTING DETECTION DISTRIBUTION FOR WINDOW: 7\n",
      "Significant Change in Margin Density: True\n",
      "Change in MD: 0.07662857142857143\n",
      "Sensitivity: 1 | Ref_SD: 0.04632711845951467 | Threshold: 0.04632711845951467\n",
      "\n",
      "Dataset index of split end: 472500\n",
      "GETTING REFERENCE DISTRIBUTION FOR WINDOW: 4\n",
      "SELF MODEL: RandomForestClassifier(max_depth=5, n_estimators=5, random_state=42)\n"
     ]
    },
    {
     "name": "stdout",
     "output_type": "stream",
     "text": [
      "GETTING DETECTION DISTRIBUTION FOR WINDOW: 8\n",
      "Significant Change in Margin Density: True\n",
      "Change in MD: 0.05003809523809524\n",
      "Sensitivity: 1 | Ref_SD: 0.045708670290028564 | Threshold: 0.045708670290028564\n",
      "\n",
      "GETTING REFERENCE DISTRIBUTION FOR WINDOW: 0\n",
      "SELF MODEL: RandomForestClassifier(max_depth=5, n_estimators=5, random_state=42)\n",
      "GETTING REFERENCE DISTRIBUTION FOR WINDOW: 1\n",
      "SELF MODEL: RandomForestClassifier(max_depth=5, n_estimators=5, random_state=42)\n",
      "GETTING REFERENCE DISTRIBUTION FOR WINDOW: 2\n",
      "SELF MODEL: RandomForestClassifier(max_depth=5, n_estimators=5, random_state=42)\n",
      "GETTING REFERENCE DISTRIBUTION FOR WINDOW: 3\n",
      "SELF MODEL: RandomForestClassifier(max_depth=5, n_estimators=5, random_state=42)\n",
      "GETTING REFERENCE DISTRIBUTION FOR WINDOW: 4\n",
      "SELF MODEL: RandomForestClassifier(max_depth=5, n_estimators=5, random_state=42)\n",
      "GETTING REFERENCE DISTRIBUTION FOR WINDOW: 5\n",
      "SELF MODEL: RandomForestClassifier(max_depth=5, n_estimators=5, random_state=42)\n",
      "Dataset index of split end: 140000\n",
      "GETTING REFERENCE DISTRIBUTION FOR WINDOW: 0\n",
      "FINAL SHAPE kfold preds: (70000,)\n",
      "GETTING DETECTION DISTRIBUTION FOR WINDOW: 1\n",
      "Dataset Split: 1\n",
      "REFERENCE STATS: DescribeResult(nobs=70000, minmax=(0.06594731288503039, 0.9679613601518481), mean=0.5706383111686971, variance=0.045177018457374464, skewness=-0.2406472224885314, kurtosis=-1.4566336743209733)\n",
      "DETECTION STATS: DescribeResult(nobs=70000, minmax=(0.0545402519592529, 0.9451574186802303), mean=0.609938402317756, variance=0.0441015019366167, skewness=-0.5792986012464706, kurtosis=-1.1930615410577086)\n",
      "KS Test Result: FAILED | KstestResult(statistic=0.11687142857142863, pvalue=0.0)\n",
      "\n",
      "Dataset index of split end: 210000\n",
      "GETTING REFERENCE DISTRIBUTION FOR WINDOW: 1\n",
      "FINAL SHAPE kfold preds: (70000,)\n",
      "GETTING DETECTION DISTRIBUTION FOR WINDOW: 2\n",
      "Dataset Split: 2\n",
      "REFERENCE STATS: DescribeResult(nobs=70000, minmax=(0.14623761016540662, 0.8873622931953857), mean=0.5724669890433751, variance=0.0271699739061374, skewness=-0.2624623032880622, kurtosis=-1.3409524631499894)\n",
      "DETECTION STATS: DescribeResult(nobs=70000, minmax=(0.19520719952639967, 0.8361904953669514), mean=0.5937086540011495, variance=0.018238277035879345, skewness=-0.15540631708066466, kurtosis=-1.2596484924751161)\n",
      "KS Test Result: FAILED | KstestResult(statistic=0.14564285714285713, pvalue=0.0)\n",
      "\n",
      "Dataset index of split end: 280000\n",
      "GETTING REFERENCE DISTRIBUTION FOR WINDOW: 2\n",
      "FINAL SHAPE kfold preds: (70000,)\n",
      "GETTING DETECTION DISTRIBUTION FOR WINDOW: 3\n",
      "Dataset Split: 3\n",
      "REFERENCE STATS: DescribeResult(nobs=70000, minmax=(0.060300431008498266, 0.92585286497743), mean=0.5748708551793328, variance=0.028546753355664367, skewness=-0.20277835853523152, kurtosis=-1.2441498179543744)\n",
      "DETECTION STATS: DescribeResult(nobs=70000, minmax=(0.05679261373682195, 0.8897159455453696), mean=0.5587503276584177, variance=0.02557625443729726, skewness=-0.2819209296560524, kurtosis=-0.8600533290861327)\n",
      "KS Test Result: FAILED | KstestResult(statistic=0.11554285714285717, pvalue=0.0)\n",
      "\n",
      "Dataset index of split end: 350000\n",
      "GETTING REFERENCE DISTRIBUTION FOR WINDOW: 3\n",
      "FINAL SHAPE kfold preds: (70000,)\n",
      "GETTING DETECTION DISTRIBUTION FOR WINDOW: 4\n",
      "Dataset Split: 4\n",
      "REFERENCE STATS: DescribeResult(nobs=70000, minmax=(0.052367023643031765, 0.9106761978646055), mean=0.5741897942735767, variance=0.029754333489321896, skewness=-0.22681722944282579, kurtosis=-1.2342148765359757)\n",
      "DETECTION STATS: DescribeResult(nobs=70000, minmax=(0.10269785598901002, 0.8736826623552252), mean=0.5734533375296191, variance=0.027176384473029995, skewness=-0.17239786235154286, kurtosis=-1.2617259171900774)\n",
      "KS Test Result: FAILED | KstestResult(statistic=0.06898571428571432, pvalue=2.8258999020760376e-145)\n",
      "\n",
      "Dataset index of split end: 420000\n",
      "GETTING REFERENCE DISTRIBUTION FOR WINDOW: 4\n",
      "FINAL SHAPE kfold preds: (70000,)\n",
      "GETTING DETECTION DISTRIBUTION FOR WINDOW: 5\n",
      "Dataset Split: 5\n",
      "REFERENCE STATS: DescribeResult(nobs=70000, minmax=(0.05630537842559689, 0.9333435738680574), mean=0.5681571066907446, variance=0.02361570747745752, skewness=-0.21953967046018402, kurtosis=-0.9887225601598653)\n",
      "DETECTION STATS: DescribeResult(nobs=70000, minmax=(0.04719502755496854, 0.9278046619791305), mean=0.5340412382622536, variance=0.023437480297715738, skewness=-0.05384959249583241, kurtosis=-0.9050053243936853)\n",
      "KS Test Result: FAILED | KstestResult(statistic=0.12721428571428572, pvalue=0.0)\n",
      "\n",
      "Dataset index of split end: 490000\n",
      "GETTING REFERENCE DISTRIBUTION FOR WINDOW: 5\n",
      "FINAL SHAPE kfold preds: (70000,)\n",
      "GETTING DETECTION DISTRIBUTION FOR WINDOW: 6\n",
      "Dataset Split: 6\n",
      "REFERENCE STATS: DescribeResult(nobs=70000, minmax=(0.06042301201464169, 0.9520599003180406), mean=0.5728778627896841, variance=0.02293568549956955, skewness=-0.30121583963715504, kurtosis=-0.9366864872019418)\n",
      "DETECTION STATS: DescribeResult(nobs=70000, minmax=(0.09578420457512662, 0.9316925399805485), mean=0.5756800059091837, variance=0.024579600922509912, skewness=-0.32812109857360794, kurtosis=-0.987530994583457)\n",
      "KS Test Result: FAILED | KstestResult(statistic=0.06061428571428573, pvalue=3.1488787740858996e-112)\n",
      "\n",
      "Dataset index of split end: 140000\n",
      "GETTING REFERENCE DISTRIBUTION FOR WINDOW: 0\n",
      "SELF MODEL: RandomForestClassifier(max_depth=5, n_estimators=5, random_state=42)\n",
      "GETTING DETECTION DISTRIBUTION FOR WINDOW: 1\n",
      "X2 Test Result: FAILED | Power_divergenceResult(statistic=59.68533236634462, pvalue=1.113029863743333e-14)\n",
      "\n",
      "Dataset index of split end: 210000\n",
      "GETTING REFERENCE DISTRIBUTION FOR WINDOW: 1\n",
      "SELF MODEL: RandomForestClassifier(max_depth=5, n_estimators=5, random_state=42)\n",
      "GETTING DETECTION DISTRIBUTION FOR WINDOW: 2\n",
      "X2 Test Result: FAILED | Power_divergenceResult(statistic=8777.196155196749, pvalue=0.0)\n",
      "\n",
      "Dataset index of split end: 280000\n",
      "GETTING REFERENCE DISTRIBUTION FOR WINDOW: 2\n",
      "SELF MODEL: RandomForestClassifier(max_depth=5, n_estimators=5, random_state=42)\n",
      "GETTING DETECTION DISTRIBUTION FOR WINDOW: 3\n",
      "X2 Test Result: FAILED | Power_divergenceResult(statistic=51.64408973593861, pvalue=6.65306189478774e-13)\n",
      "\n",
      "Dataset index of split end: 350000\n",
      "GETTING REFERENCE DISTRIBUTION FOR WINDOW: 3\n",
      "SELF MODEL: RandomForestClassifier(max_depth=5, n_estimators=5, random_state=42)\n",
      "GETTING DETECTION DISTRIBUTION FOR WINDOW: 4\n",
      "X2 Test Result: PASSED | Power_divergenceResult(statistic=2.5950771713911025, pvalue=0.10719621808174828)\n",
      "\n",
      "Dataset index of split end: 420000\n",
      "GETTING DETECTION DISTRIBUTION FOR WINDOW: 5\n",
      "X2 Test Result: FAILED | Power_divergenceResult(statistic=727.9334976197681, pvalue=2.520861740727632e-160)\n",
      "\n",
      "Dataset index of split end: 490000\n",
      "GETTING REFERENCE DISTRIBUTION FOR WINDOW: 4\n",
      "SELF MODEL: RandomForestClassifier(max_depth=5, n_estimators=5, random_state=42)\n",
      "GETTING DETECTION DISTRIBUTION FOR WINDOW: 6\n",
      "X2 Test Result: FAILED | Power_divergenceResult(statistic=71.15160870904096, pvalue=3.308029017306476e-17)\n",
      "\n",
      "Dataset index of split end: 140000\n",
      "GETTING REFERENCE DISTRIBUTION FOR WINDOW: 0\n",
      "SELF MODEL: RandomForestClassifier(max_depth=5, n_estimators=5, random_state=42)\n",
      "GETTING DETECTION DISTRIBUTION FOR WINDOW: 1\n",
      "Significant Change in Margin Density: False\n",
      "Change in MD: 0.006771428571428574\n",
      "Sensitivity: 1 | Ref_SD: 0.008462835921647937 | Threshold: 0.008462835921647937\n",
      "\n",
      "Dataset index of split end: 210000\n",
      "GETTING DETECTION DISTRIBUTION FOR WINDOW: 2\n",
      "Significant Change in Margin Density: True\n",
      "Change in MD: 0.049057142857142855\n",
      "Sensitivity: 1 | Ref_SD: 0.008462835921647937 | Threshold: 0.008462835921647937\n",
      "\n",
      "Dataset index of split end: 280000\n",
      "GETTING REFERENCE DISTRIBUTION FOR WINDOW: 1\n",
      "SELF MODEL: RandomForestClassifier(max_depth=5, n_estimators=5, random_state=42)\n",
      "GETTING DETECTION DISTRIBUTION FOR WINDOW: 3\n",
      "Significant Change in Margin Density: False\n",
      "Change in MD: 0.0003857142857142948\n",
      "Sensitivity: 1 | Ref_SD: 0.027071952501526334 | Threshold: 0.027071952501526334\n",
      "\n",
      "Dataset index of split end: 350000\n",
      "GETTING DETECTION DISTRIBUTION FOR WINDOW: 4\n",
      "Significant Change in Margin Density: False\n",
      "Change in MD: 0.005914285714285705\n",
      "Sensitivity: 1 | Ref_SD: 0.027071952501526334 | Threshold: 0.027071952501526334\n",
      "\n",
      "Dataset index of split end: 420000\n",
      "GETTING DETECTION DISTRIBUTION FOR WINDOW: 5\n",
      "Significant Change in Margin Density: False\n",
      "Change in MD: 0.012528571428571444\n",
      "Sensitivity: 1 | Ref_SD: 0.027071952501526334 | Threshold: 0.027071952501526334\n",
      "\n",
      "Dataset index of split end: 490000\n"
     ]
    },
    {
     "name": "stdout",
     "output_type": "stream",
     "text": [
      "GETTING DETECTION DISTRIBUTION FOR WINDOW: 6\n",
      "Significant Change in Margin Density: False\n",
      "Change in MD: 0.02260000000000001\n",
      "Sensitivity: 1 | Ref_SD: 0.027071952501526334 | Threshold: 0.027071952501526334\n",
      "\n"
     ]
    },
    {
     "data": {
      "application/javascript": [
       "\n",
       "            setTimeout(function() {\n",
       "                var nbb_cell_id = 9;\n",
       "                var nbb_unformatted_code = \"multiple_exp_log = []\\nfor multiple in [1, 2, 3, 4]:\\n\\n    column_mapping = {\\n        \\\"target\\\": \\\"cover_type\\\",\\n        \\\"numerical_features\\\": [col for col, iscat in col_names if not iscat],\\n        \\\"categorical_features\\\": [col for col, iscat in col_names if iscat][:-1],\\n    }\\n\\n    # 17500\\n    CT_dataset = Dataset(\\n        full_df=drift_df, column_mapping=column_mapping, window_size=17500 * multiple\\n    )\\n\\n    model = RandomForestClassifier(n_estimators=5, random_state=42, max_depth=5)\\n    param_grid = {\\\"clf__n_estimators\\\": [5], \\\"clf__max_depth\\\": [5]}\\n\\n    baseline = BaselineExperiment(\\n        model=model, dataset=CT_dataset, param_grid=param_grid\\n    )\\n    baseline.run()\\n\\n    topline = ToplineExperiment(model=model, dataset=CT_dataset, param_grid=param_grid, k=10)\\n    topline.run()\\n\\n    uncertainty_ks = UncertaintyKSExperiment(\\n        model=model,\\n        dataset=CT_dataset,\\n        param_grid=param_grid,\\n        k=10,\\n        significance_thresh=0.001,\\n    )\\n    uncertainty_ks.run()\\n\\n    uncertainty_x2 = UncertaintyX2Experiment(\\n        model=model,\\n        dataset=CT_dataset,\\n        param_grid=param_grid,\\n        k=10,\\n        significance_thresh=0.001,\\n        margin_width=0.1,\\n    )\\n    uncertainty_x2.run()\\n\\n    margin_threshold = MarginThresholdExperiment(\\n        model=model,\\n        dataset=CT_dataset,\\n        param_grid=param_grid,\\n        k=10,\\n        margin_width=0.1,\\n        sensitivity=1,\\n    )\\n    margin_threshold.run()\\n\\n    exps = [baseline, topline, uncertainty_ks, uncertainty_x2, margin_threshold]\\n    multiple_exp_log.append(exps)\\n#     plot_multiple_experiments(exps, change_points)\\n#     aggregate_experiment_metrics(exps)\";\n",
       "                var nbb_formatted_code = \"multiple_exp_log = []\\nfor multiple in [1, 2, 3, 4]:\\n\\n    column_mapping = {\\n        \\\"target\\\": \\\"cover_type\\\",\\n        \\\"numerical_features\\\": [col for col, iscat in col_names if not iscat],\\n        \\\"categorical_features\\\": [col for col, iscat in col_names if iscat][:-1],\\n    }\\n\\n    # 17500\\n    CT_dataset = Dataset(\\n        full_df=drift_df, column_mapping=column_mapping, window_size=17500 * multiple\\n    )\\n\\n    model = RandomForestClassifier(n_estimators=5, random_state=42, max_depth=5)\\n    param_grid = {\\\"clf__n_estimators\\\": [5], \\\"clf__max_depth\\\": [5]}\\n\\n    baseline = BaselineExperiment(\\n        model=model, dataset=CT_dataset, param_grid=param_grid\\n    )\\n    baseline.run()\\n\\n    topline = ToplineExperiment(\\n        model=model, dataset=CT_dataset, param_grid=param_grid, k=10\\n    )\\n    topline.run()\\n\\n    uncertainty_ks = UncertaintyKSExperiment(\\n        model=model,\\n        dataset=CT_dataset,\\n        param_grid=param_grid,\\n        k=10,\\n        significance_thresh=0.001,\\n    )\\n    uncertainty_ks.run()\\n\\n    uncertainty_x2 = UncertaintyX2Experiment(\\n        model=model,\\n        dataset=CT_dataset,\\n        param_grid=param_grid,\\n        k=10,\\n        significance_thresh=0.001,\\n        margin_width=0.1,\\n    )\\n    uncertainty_x2.run()\\n\\n    margin_threshold = MarginThresholdExperiment(\\n        model=model,\\n        dataset=CT_dataset,\\n        param_grid=param_grid,\\n        k=10,\\n        margin_width=0.1,\\n        sensitivity=1,\\n    )\\n    margin_threshold.run()\\n\\n    exps = [baseline, topline, uncertainty_ks, uncertainty_x2, margin_threshold]\\n    multiple_exp_log.append(exps)\\n#     plot_multiple_experiments(exps, change_points)\\n#     aggregate_experiment_metrics(exps)\";\n",
       "                var nbb_cells = Jupyter.notebook.get_cells();\n",
       "                for (var i = 0; i < nbb_cells.length; ++i) {\n",
       "                    if (nbb_cells[i].input_prompt_number == nbb_cell_id) {\n",
       "                        if (nbb_cells[i].get_text() == nbb_unformatted_code) {\n",
       "                             nbb_cells[i].set_text(nbb_formatted_code);\n",
       "                        }\n",
       "                        break;\n",
       "                    }\n",
       "                }\n",
       "            }, 500);\n",
       "            "
      ],
      "text/plain": [
       "<IPython.core.display.Javascript object>"
      ]
     },
     "metadata": {},
     "output_type": "display_data"
    }
   ],
   "source": [
    "multiple_exp_log = []\n",
    "for multiple in [1, 2, 3, 4]:\n",
    "\n",
    "    column_mapping = {\n",
    "        \"target\": \"cover_type\",\n",
    "        \"numerical_features\": [col for col, iscat in col_names if not iscat],\n",
    "        \"categorical_features\": [col for col, iscat in col_names if iscat][:-1],\n",
    "    }\n",
    "\n",
    "    # 17500\n",
    "    CT_dataset = Dataset(\n",
    "        full_df=drift_df, column_mapping=column_mapping, window_size=17500 * multiple\n",
    "    )\n",
    "\n",
    "    model = RandomForestClassifier(n_estimators=5, random_state=42, max_depth=5)\n",
    "    param_grid = {\"clf__n_estimators\": [5], \"clf__max_depth\": [5]}\n",
    "\n",
    "    baseline = BaselineExperiment(\n",
    "        model=model, dataset=CT_dataset, param_grid=param_grid\n",
    "    )\n",
    "    baseline.run()\n",
    "\n",
    "    topline = ToplineExperiment(\n",
    "        model=model, dataset=CT_dataset, param_grid=param_grid, k=10\n",
    "    )\n",
    "    topline.run()\n",
    "\n",
    "    uncertainty_ks = UncertaintyKSExperiment(\n",
    "        model=model,\n",
    "        dataset=CT_dataset,\n",
    "        param_grid=param_grid,\n",
    "        k=10,\n",
    "        significance_thresh=0.001,\n",
    "    )\n",
    "    uncertainty_ks.run()\n",
    "\n",
    "    uncertainty_x2 = UncertaintyX2Experiment(\n",
    "        model=model,\n",
    "        dataset=CT_dataset,\n",
    "        param_grid=param_grid,\n",
    "        k=10,\n",
    "        significance_thresh=0.001,\n",
    "        margin_width=0.1,\n",
    "    )\n",
    "    uncertainty_x2.run()\n",
    "\n",
    "    margin_threshold = MarginThresholdExperiment(\n",
    "        model=model,\n",
    "        dataset=CT_dataset,\n",
    "        param_grid=param_grid,\n",
    "        k=10,\n",
    "        margin_width=0.1,\n",
    "        sensitivity=1,\n",
    "    )\n",
    "    margin_threshold.run()\n",
    "\n",
    "    exps = [baseline, topline, uncertainty_ks, uncertainty_x2, margin_threshold]\n",
    "    multiple_exp_log.append(exps)\n",
    "#     plot_multiple_experiments(exps, change_points)\n",
    "#     aggregate_experiment_metrics(exps)"
   ]
  },
  {
   "cell_type": "code",
   "execution_count": 10,
   "id": "4df77ce2",
   "metadata": {
    "pycharm": {
     "name": "#%%\n"
    }
   },
   "outputs": [
    {
     "data": {
      "image/png": "[encoded data removed]",
      "text/plain": [
       "<Figure size 1080x504 with 1 Axes>"
      ]
     },
     "metadata": {
      "needs_background": "light"
     },
     "output_type": "display_data"
    },
    {
     "name": "stdout",
     "output_type": "stream",
     "text": [
      "                  drifts_signaled  actual_drift_occurences  false_positives  \\\n",
      "experiment                                                                    \n",
      "baseline                        0                        0                0   \n",
      "topline                        27                        2               25   \n",
      "uncertainty-ks                 27                        2               25   \n",
      "uncertainty-x2                 18                       11               13   \n",
      "margin-threshold                8                       21                3   \n",
      "\n",
      "                  false_negatives  percent_total_labels  cumulative_accuracy  \\\n",
      "experiment                                                                     \n",
      "baseline                        0                0.0353               0.5835   \n",
      "topline                         0                0.9896               0.7546   \n",
      "uncertainty-ks                  0                0.9896               0.7546   \n",
      "uncertainty-x2                  6                0.6715               0.7457   \n",
      "margin-threshold               16                0.3181               0.6255   \n",
      "\n",
      "                  total_train_time  \n",
      "experiment                          \n",
      "baseline                      0.06  \n",
      "topline                       1.59  \n",
      "uncertainty-ks                1.55  \n",
      "uncertainty-x2                1.08  \n",
      "margin-threshold              0.51  \n"
     ]
    },
    {
     "data": {
      "image/png": "[encoded data removed]",
      "text/plain": [
       "<Figure size 1080x504 with 1 Axes>"
      ]
     },
     "metadata": {
      "needs_background": "light"
     },
     "output_type": "display_data"
    },
    {
     "name": "stdout",
     "output_type": "stream",
     "text": [
      "                  drifts_signaled  actual_drift_occurences  false_positives  \\\n",
      "experiment                                                                    \n",
      "baseline                        0                        0                0   \n",
      "topline                        13                        3               10   \n",
      "uncertainty-ks                 13                        3               10   \n",
      "uncertainty-x2                 10                        6                4   \n",
      "margin-threshold                5                        6                2   \n",
      "\n",
      "                  false_negatives  percent_total_labels  cumulative_accuracy  \\\n",
      "experiment                                                                     \n",
      "baseline                        0                0.0707               0.5795   \n",
      "topline                         0                0.9896               0.7502   \n",
      "uncertainty-ks                  0                0.9896               0.7502   \n",
      "uncertainty-x2                  0                0.7776               0.7478   \n",
      "margin-threshold                3                0.4241               0.7269   \n",
      "\n",
      "                  total_train_time  \n",
      "experiment                          \n",
      "baseline                      0.13  \n",
      "topline                       1.39  \n",
      "uncertainty-ks                1.42  \n",
      "uncertainty-x2                1.04  \n",
      "margin-threshold              0.58  \n"
     ]
    },
    {
     "data": {
      "image/png": "[encoded data removed]",
      "text/plain": [
       "<Figure size 1080x504 with 1 Axes>"
      ]
     },
     "metadata": {
      "needs_background": "light"
     },
     "output_type": "display_data"
    },
    {
     "name": "stdout",
     "output_type": "stream",
     "text": [
      "                  drifts_signaled  actual_drift_occurences  false_positives  \\\n",
      "experiment                                                                    \n",
      "baseline                        0                        0                0   \n",
      "topline                         8                        2                6   \n",
      "uncertainty-ks                  8                        2                6   \n",
      "uncertainty-x2                  6                        3                5   \n",
      "margin-threshold                5                        7                0   \n",
      "\n",
      "                  false_negatives  percent_total_labels  cumulative_accuracy  \\\n",
      "experiment                                                                     \n",
      "baseline                        0                0.1060               0.5763   \n",
      "topline                         0                0.9543               0.7377   \n",
      "uncertainty-ks                  0                0.9543               0.7377   \n",
      "uncertainty-x2                  2                0.7422               0.7332   \n",
      "margin-threshold                2                0.6362               0.7144   \n",
      "\n",
      "                  total_train_time  \n",
      "experiment                          \n",
      "baseline                      0.14  \n",
      "topline                       1.22  \n",
      "uncertainty-ks                1.22  \n",
      "uncertainty-x2                0.95  \n",
      "margin-threshold              0.90  \n"
     ]
    },
    {
     "data": {
      "image/png": "[encoded data removed]",
      "text/plain": [
       "<Figure size 1080x504 with 1 Axes>"
      ]
     },
     "metadata": {
      "needs_background": "light"
     },
     "output_type": "display_data"
    },
    {
     "name": "stdout",
     "output_type": "stream",
     "text": [
      "                  drifts_signaled  actual_drift_occurences  false_positives  \\\n",
      "experiment                                                                    \n",
      "baseline                        0                        0                0   \n",
      "topline                         6                        3                3   \n",
      "uncertainty-ks                  6                        3                3   \n",
      "uncertainty-x2                  5                        4                1   \n",
      "margin-threshold                1                        6                0   \n",
      "\n",
      "                  false_negatives  percent_total_labels  cumulative_accuracy  \\\n",
      "experiment                                                                     \n",
      "baseline                        0                0.1414               0.5660   \n",
      "topline                         0                0.9896               0.7344   \n",
      "uncertainty-ks                  0                0.9896               0.7344   \n",
      "uncertainty-x2                  0                0.8482               0.7376   \n",
      "margin-threshold                5                0.2827               0.5925   \n",
      "\n",
      "                  total_train_time  \n",
      "experiment                          \n",
      "baseline                      0.19  \n",
      "topline                       1.36  \n",
      "uncertainty-ks                1.34  \n",
      "uncertainty-x2                1.21  \n",
      "margin-threshold              0.38  \n"
     ]
    },
    {
     "data": {
      "application/javascript": [
       "\n",
       "            setTimeout(function() {\n",
       "                var nbb_cell_id = 10;\n",
       "                var nbb_unformatted_code = \"for log in multiple_exp_log:\\n    plot_multiple_experiments(log, change_points)\\n    print(aggregate_experiment_metrics(log))\";\n",
       "                var nbb_formatted_code = \"for log in multiple_exp_log:\\n    plot_multiple_experiments(log, change_points)\\n    print(aggregate_experiment_metrics(log))\";\n",
       "                var nbb_cells = Jupyter.notebook.get_cells();\n",
       "                for (var i = 0; i < nbb_cells.length; ++i) {\n",
       "                    if (nbb_cells[i].input_prompt_number == nbb_cell_id) {\n",
       "                        if (nbb_cells[i].get_text() == nbb_unformatted_code) {\n",
       "                             nbb_cells[i].set_text(nbb_formatted_code);\n",
       "                        }\n",
       "                        break;\n",
       "                    }\n",
       "                }\n",
       "            }, 500);\n",
       "            "
      ],
      "text/plain": [
       "<IPython.core.display.Javascript object>"
      ]
     },
     "metadata": {},
     "output_type": "display_data"
    }
   ],
   "source": [
    "for log in multiple_exp_log:\n",
    "    plot_multiple_experiments(log, change_points)\n",
    "    print(aggregate_experiment_metrics(log))"
   ]
  },
  {
   "cell_type": "code",
   "execution_count": null,
   "id": "33edfbbe",
   "metadata": {
    "pycharm": {
     "name": "#%%\n"
    }
   },
   "outputs": [],
   "source": []
  },
  {
   "cell_type": "code",
   "execution_count": null,
   "id": "39632ac5",
   "metadata": {
    "pycharm": {
     "name": "#%%\n"
    }
   },
   "outputs": [],
   "source": []
  },
  {
   "cell_type": "code",
   "execution_count": null,
   "id": "c44d4f5a",
   "metadata": {
    "pycharm": {
     "name": "#%%\n"
    }
   },
   "outputs": [],
   "source": [
    "# window x1\n",
    "exps = [baseline, topline, uncertainty_ks, uncertainty_x2]\n",
    "plot_multiple_experiments(exps, change_points)\n",
    "aggregate_experiment_metrics(exps)"
   ]
  },
  {
   "cell_type": "code",
   "execution_count": null,
   "id": "2b437210",
   "metadata": {
    "pycharm": {
     "name": "#%%\n"
    }
   },
   "outputs": [],
   "source": [
    "# window x2\n",
    "exps = [baseline, topline, uncertainty_ks, uncertainty_x2]\n",
    "plot_multiple_experiments(exps, change_points)\n",
    "aggregate_experiment_metrics(exps)"
   ]
  },
  {
   "cell_type": "code",
   "execution_count": null,
   "id": "27e6bc12",
   "metadata": {
    "pycharm": {
     "name": "#%%\n"
    }
   },
   "outputs": [],
   "source": [
    "# window x3\n",
    "exps = [baseline, topline, uncertainty_ks, uncertainty_x2]\n",
    "plot_multiple_experiments(exps, change_points)\n",
    "aggregate_experiment_metrics(exps)"
   ]
  },
  {
   "cell_type": "markdown",
   "id": "3efac08c",
   "metadata": {},
   "source": [
    "### Uncertainty KS Debug"
   ]
  },
  {
   "cell_type": "code",
   "execution_count": null,
   "id": "03d8a061",
   "metadata": {
    "pycharm": {
     "name": "#%%\n"
    }
   },
   "outputs": [],
   "source": [
    "plot_experiment_error(uncertainty_ks)"
   ]
  },
  {
   "cell_type": "code",
   "execution_count": null,
   "id": "44758fa6",
   "metadata": {
    "pycharm": {
     "name": "#%%\n"
    }
   },
   "outputs": [],
   "source": [
    "plot_response_distributions_bysplit(uncertainty_ks)"
   ]
  },
  {
   "cell_type": "markdown",
   "id": "f8979f05",
   "metadata": {},
   "source": [
    "### Margin Uncertainty Debug"
   ]
  },
  {
   "cell_type": "code",
   "execution_count": null,
   "id": "9b37ae73",
   "metadata": {
    "pycharm": {
     "name": "#%%\n"
    }
   },
   "outputs": [],
   "source": [
    "plot_margin_distributions_bysplit(uncertainty_x2)"
   ]
  },
  {
   "cell_type": "markdown",
   "id": "8211cfb2",
   "metadata": {},
   "source": [
    "## KS Test Deep Dive"
   ]
  },
  {
   "cell_type": "markdown",
   "id": "de1a047d",
   "metadata": {},
   "source": [
    "### What is minimum reference window size for passing KS test?\n",
    "\n",
    "Let's see what window size is needed to pass a KS test on the original dataset that has NO drift in it."
   ]
  },
  {
   "cell_type": "code",
   "execution_count": null,
   "id": "5bb277cc",
   "metadata": {
    "pycharm": {
     "name": "#%%\n"
    }
   },
   "outputs": [],
   "source": [
    "with open(\"../data/covtype_nodrift_norm.pkl\", \"rb\") as f:\n",
    "    nodrift_df = pickle.load(f)\n",
    "\n",
    "nodrift_df = nodrift_df.reset_index(drop=True)"
   ]
  },
  {
   "cell_type": "code",
   "execution_count": null,
   "id": "7740d8c5",
   "metadata": {
    "pycharm": {
     "name": "#%%\n"
    }
   },
   "outputs": [],
   "source": [
    "CT_nodrift_dataset = Dataset(\n",
    "    full_df=nodrift_df, column_mapping=column_mapping, window_size=17500 * 5\n",
    ")\n",
    "\n",
    "uncertainty_ks_nodrift = UncertaintyKSExperiment(\n",
    "    model=model,\n",
    "    dataset=CT_nodrift_dataset,\n",
    "    param_grid=param_grid,\n",
    "    k=10,\n",
    "    significance_thresh=0.001,\n",
    ")\n",
    "uncertainty_ks_nodrift.run()"
   ]
  },
  {
   "cell_type": "code",
   "execution_count": null,
   "id": "dbffa585",
   "metadata": {
    "pycharm": {
     "name": "#%%\n"
    }
   },
   "outputs": [],
   "source": [
    "plot_response_distributions_bysplit(uncertainty_ks_nodrift)"
   ]
  },
  {
   "cell_type": "markdown",
   "id": "7d5c2e15",
   "metadata": {},
   "source": [
    "**It looks like Kologorov-Smirnov is too sensitive/strict for our use case**\n",
    "\n",
    "\"A test has told you that two samples aren't from literally identical populations, but that's not what you actually care about. What you actually care about is up to you; it sounds like you care about how different the populations are. The solution is not to try to transform 𝑝-values (\"when all you have is a hammer\", etc.) but to use a more appropriate technique.\"\n",
    "\n",
    "Even with the non-drifting dataset and huge windows, KS tests are too sensitive."
   ]
  },
  {
   "cell_type": "markdown",
   "id": "2c32ac8d",
   "metadata": {},
   "source": [
    "### Distance Metrics instead of KS test?\n",
    "\n",
    "Maybe we could try calculating a distance instead of applying a check yes-no hypothesis test. The drawback here is that using distances requires us to then tune a threshold that indicates what level of distance is deemed acceptable - another hyperparameter to tune"
   ]
  },
  {
   "cell_type": "code",
   "execution_count": null,
   "id": "9011d429",
   "metadata": {
    "pycharm": {
     "name": "#%%\n"
    }
   },
   "outputs": [],
   "source": [
    "calculate_split_window_distances(sqsi_mr, scipy.stats.entropy)"
   ]
  },
  {
   "cell_type": "code",
   "execution_count": null,
   "id": "7abaa304",
   "metadata": {
    "pycharm": {
     "name": "#%%\n"
    }
   },
   "outputs": [],
   "source": [
    "calculate_distances_window_distances(sqsi_mr, scipy.stats.wasserstein_distance)"
   ]
  },
  {
   "cell_type": "code",
   "execution_count": null,
   "id": "2e0fd1d9",
   "metadata": {
    "pycharm": {
     "name": "#%%\n"
    }
   },
   "outputs": [],
   "source": [
    "calculate_distances_window_distances(sqsi_mr, scipy.spatial.distance.jensenshannon)"
   ]
  },
  {
   "cell_type": "markdown",
   "id": "3577713d",
   "metadata": {},
   "source": [
    "## Margin Uncertainty Approach with Chi-Squared Test"
   ]
  },
  {
   "cell_type": "code",
   "execution_count": null,
   "id": "210768b8",
   "metadata": {
    "pycharm": {
     "name": "#%%\n"
    }
   },
   "outputs": [],
   "source": [
    "CT_nodrift_dataset = Dataset(\n",
    "    full_df=nodrift_df, column_mapping=column_mapping, window_size=17500 * 3\n",
    ")\n",
    "\n",
    "uncertainty_x2_nodrift = UncertaintyX2Experiment(\n",
    "    model=model,\n",
    "    dataset=CT_nodrift_dataset,\n",
    "    param_grid=param_grid,\n",
    "    k=10,\n",
    "    significance_thresh=0.001,\n",
    "    margin_width=0.1,\n",
    ")\n",
    "uncertainty_x2_nodrift.run()"
   ]
  },
  {
   "cell_type": "code",
   "execution_count": null,
   "id": "3d5379ba",
   "metadata": {
    "pycharm": {
     "name": "#%%\n"
    }
   },
   "outputs": [],
   "source": [
    "plot_margin_distributions_bysplit(uncertainty_x2_nodrift)"
   ]
  },
  {
   "cell_type": "markdown",
   "id": "909d9c47",
   "metadata": {},
   "source": [
    "- Null Hypothesis (H0): Observed data follow the expected distribution\n",
    "- Alternative Hypothesis (HA): Observed data do NOT follow the expected distribution\n",
    "    \n",
    "If p_value is less than 0.05, reject null hypothesis --> They are from different distributions"
   ]
  },
  {
   "cell_type": "markdown",
   "id": "8d80604d",
   "metadata": {},
   "source": [
    "## Margin Uncertainty Approach with Sensitivity Threshold"
   ]
  },
  {
   "cell_type": "code",
   "execution_count": null,
   "id": "4b66ef44",
   "metadata": {
    "pycharm": {
     "name": "#%%\n"
    }
   },
   "outputs": [],
   "source": [
    "CT_dataset = Dataset(\n",
    "    full_df=drift_df, column_mapping=column_mapping, window_size=17500 * 2\n",
    ")\n",
    "\n",
    "margin_threshold_dev = MarginThresholdExperiment(\n",
    "    model=model,\n",
    "    dataset=CT_dataset,\n",
    "    param_grid=param_grid,\n",
    "    k=10,\n",
    "    margin_width=0.1,\n",
    "    sensitivity=1,\n",
    ")\n",
    "margin_threshold_dev.run()"
   ]
  },
  {
   "cell_type": "code",
   "execution_count": null,
   "id": "ec9fb73d",
   "metadata": {
    "pycharm": {
     "name": "#%%\n"
    }
   },
   "outputs": [],
   "source": []
  },
  {
   "cell_type": "code",
   "execution_count": null,
   "id": "02459f69",
   "metadata": {
    "pycharm": {
     "name": "#%%\n"
    }
   },
   "outputs": [],
   "source": [
    "margin_threshold_dev.drift_signals"
   ]
  },
  {
   "cell_type": "code",
   "execution_count": null,
   "id": "830f3d06",
   "metadata": {
    "pycharm": {
     "name": "#%%\n"
    }
   },
   "outputs": [],
   "source": [
    "margin_threshold_dev.drift_occurences"
   ]
  },
  {
   "cell_type": "code",
   "execution_count": null,
   "id": "45ba95c6",
   "metadata": {
    "pycharm": {
     "name": "#%%\n"
    }
   },
   "outputs": [],
   "source": [
    "margin_threshold_dev.false_negatives"
   ]
  },
  {
   "cell_type": "code",
   "execution_count": null,
   "id": "dc8783d2",
   "metadata": {
    "pycharm": {
     "name": "#%%\n"
    }
   },
   "outputs": [],
   "source": [
    "margin_threshold_dev.density_changes"
   ]
  },
  {
   "cell_type": "code",
   "execution_count": null,
   "id": "ebbd1247",
   "metadata": {
    "pycharm": {
     "name": "#%%\n"
    }
   },
   "outputs": [],
   "source": [
    "margin_threshold_dev.accuracy_changes"
   ]
  },
  {
   "cell_type": "code",
   "execution_count": null,
   "id": "1dd46126",
   "metadata": {
    "pycharm": {
     "name": "#%%\n"
    }
   },
   "outputs": [],
   "source": [
    "for i in range(len(margin_threshold_dev.accuracy_changes)):\n",
    "\n",
    "    drift_signaled_flag = True if margin_threshold_dev.density_changes[i] else False\n",
    "    drift_occured_flag = True if margin_threshold_dev.accuracy_changes[i] else False\n",
    "    fp_flag = (\n",
    "        True\n",
    "        if margin_threshold_dev.density_changes[i]\n",
    "        and not margin_threshold_dev.accuracy_changes[i]\n",
    "        else False\n",
    "    )\n",
    "    fn_flag = (\n",
    "        True\n",
    "        if not margin_threshold_dev.density_changes[i]\n",
    "        and margin_threshold_dev.accuracy_changes[i]\n",
    "        else False\n",
    "    )\n",
    "\n",
    "    print(i)\n",
    "\n",
    "    if drift_signaled_flag:\n",
    "        print(\"Drift Detection Signaled\")\n",
    "\n",
    "    if drift_occured_flag:\n",
    "        print(\"Actual Drift Occured\")\n",
    "\n",
    "    if fp_flag:\n",
    "        print(\"FALSE POSITIVE\")\n",
    "\n",
    "    if fn_flag:\n",
    "        print(\"FALSE NEGATIVE\")\n",
    "\n",
    "    print()"
   ]
  },
  {
   "cell_type": "code",
   "execution_count": null,
   "id": "751c7292",
   "metadata": {
    "pycharm": {
     "name": "#%%\n"
    }
   },
   "outputs": [],
   "source": [
    "[True if margin_threshold_dev.density_changes[i] else False for i in margin_threshold_dev.density_changes]"
   ]
  },
  {
   "cell_type": "code",
   "execution_count": null,
   "id": "6c384deb",
   "metadata": {
    "pycharm": {
     "name": "#%%\n"
    }
   },
   "outputs": [],
   "source": [
    "margin_threshold_dev.density_changes"
   ]
  },
  {
   "cell_type": "code",
   "execution_count": null,
   "id": "0e4007cb",
   "metadata": {
    "pycharm": {
     "name": "#%%\n"
    }
   },
   "outputs": [],
   "source": [
    "sum([True if margin_threshold_dev.density_changes[i] and not margin_threshold_dev.accuracy_changes[i] else False for i in range(len(margin_threshold_dev.density_changes))])\n",
    "\n"
   ]
  },
  {
   "cell_type": "code",
   "execution_count": null,
   "id": "a442940c",
   "metadata": {
    "pycharm": {
     "name": "#%%\n"
    }
   },
   "outputs": [],
   "source": [
    "    drift_signaled_flag = True if margin_threshold_dev.density_changes[i] else False\n",
    "    drift_occured_flag = True if margin_threshold_dev.accuracy_changes[i] else False"
   ]
  },
  {
   "cell_type": "code",
   "execution_count": null,
   "id": "b0054362",
   "metadata": {
    "pycharm": {
     "name": "#%%\n"
    }
   },
   "outputs": [],
   "source": [
    "\n",
    "    sum([\n",
    "        True if margin_threshold_dev.accuracy_changes[i] else False\n",
    "        for i in range(len(margin_threshold_dev.density_changes))\n",
    "    ])\n"
   ]
  },
  {
   "cell_type": "code",
   "execution_count": null,
   "id": "35c07001",
   "metadata": {
    "pycharm": {
     "name": "#%%\n"
    }
   },
   "outputs": [],
   "source": [
    "# keep\n",
    "drifts_signaled = sum(\n",
    "    [\n",
    "        True if margin_threshold_dev.density_changes[i] else False\n",
    "        for i in range(len(margin_threshold_dev.density_changes))\n",
    "    ]\n",
    ")\n",
    "drifts_occured =     sum([\n",
    "        True if margin_threshold_dev.accuracy_changes[i] else False\n",
    "        for i in range(len(margin_threshold_dev.density_changes))\n",
    "    ])\n",
    "false_positives = sum([True if margin_threshold_dev.density_changes[i] and not margin_threshold_dev.accuracy_changes[i] else False for i in range(len(margin_threshold_dev.density_changes))])\n",
    "false_negatives = sum([True if not margin_threshold_dev.density_changes[i] and margin_threshold_dev.accuracy_changes[i] else False for i in range(len(margin_threshold_dev.density_changes))])\n"
   ]
  },
  {
   "cell_type": "code",
   "execution_count": null,
   "id": "327f32c6",
   "metadata": {
    "pycharm": {
     "name": "#%%\n"
    }
   },
   "outputs": [],
   "source": [
    "for pair in list(\n",
    "    zip(\n",
    "        margin_threshold_dev.ref_ACCs,\n",
    "        [acc_sd * 3 for acc_sd in margin_threshold_dev.ref_ACC_SDs],\n",
    "        margin_threshold_dev.det_ACCs,\n",
    "    )\n",
    "):\n",
    "    print(pair)"
   ]
  },
  {
   "cell_type": "code",
   "execution_count": null,
   "id": "1912d795",
   "metadata": {
    "pycharm": {
     "name": "#%%\n"
    }
   },
   "outputs": [],
   "source": [
    "margin_threshold_dev.det_ACCs"
   ]
  },
  {
   "cell_type": "code",
   "execution_count": null,
   "id": "8eff6ce0",
   "metadata": {
    "pycharm": {
     "name": "#%%\n"
    }
   },
   "outputs": [],
   "source": []
  },
  {
   "cell_type": "code",
   "execution_count": null,
   "id": "bd588adb",
   "metadata": {
    "pycharm": {
     "name": "#%%\n"
    }
   },
   "outputs": [],
   "source": [
    "margin_threshold_dev.split_ACCs"
   ]
  },
  {
   "cell_type": "code",
   "execution_count": null,
   "id": "0f8bae5c",
   "metadata": {
    "pycharm": {
     "name": "#%%\n"
    }
   },
   "outputs": [],
   "source": []
  },
  {
   "cell_type": "code",
   "execution_count": null,
   "id": "ded323e6",
   "metadata": {
    "pycharm": {
     "name": "#%%\n"
    }
   },
   "outputs": [],
   "source": []
  },
  {
   "cell_type": "code",
   "execution_count": null,
   "id": "5192ee29",
   "metadata": {
    "pycharm": {
     "name": "#%%\n"
    }
   },
   "outputs": [],
   "source": [
    "margin_threshold.ref_distributions[0].shape"
   ]
  },
  {
   "cell_type": "code",
   "execution_count": null,
   "id": "2fa113e7",
   "metadata": {
    "pycharm": {
     "name": "#%%\n"
    }
   },
   "outputs": [],
   "source": [
    "ypred = margin_threshold.ref_distributions[0]"
   ]
  },
  {
   "cell_type": "code",
   "execution_count": null,
   "id": "90ba89d3",
   "metadata": {
    "pycharm": {
     "name": "#%%\n"
    }
   },
   "outputs": [],
   "source": [
    "_, ytrue = margin_threshold.dataset.get_data_by_idx(0, 35000)"
   ]
  },
  {
   "cell_type": "code",
   "execution_count": null,
   "id": "915fdae0",
   "metadata": {
    "pycharm": {
     "name": "#%%\n"
    }
   },
   "outputs": [],
   "source": [
    "ytrue"
   ]
  },
  {
   "cell_type": "code",
   "execution_count": null,
   "id": "5b48c154",
   "metadata": {
    "pycharm": {
     "name": "#%%\n"
    }
   },
   "outputs": [],
   "source": [
    "from sklearn.metrics import accuracy_score"
   ]
  },
  {
   "cell_type": "code",
   "execution_count": null,
   "id": "a3ba0efe",
   "metadata": {
    "pycharm": {
     "name": "#%%\n"
    }
   },
   "outputs": [],
   "source": [
    "type(ypred)"
   ]
  },
  {
   "cell_type": "code",
   "execution_count": null,
   "id": "1c1c8af7",
   "metadata": {
    "pycharm": {
     "name": "#%%\n"
    }
   },
   "outputs": [],
   "source": [
    "ypred.dtype"
   ]
  },
  {
   "cell_type": "code",
   "execution_count": null,
   "id": "58ce405b",
   "metadata": {
    "pycharm": {
     "name": "#%%\n"
    }
   },
   "outputs": [],
   "source": [
    "ytrue.dtype"
   ]
  },
  {
   "cell_type": "code",
   "execution_count": null,
   "id": "33564dce",
   "metadata": {
    "pycharm": {
     "name": "#%%\n"
    }
   },
   "outputs": [],
   "source": [
    "type(ytrue.to_numpy())"
   ]
  },
  {
   "cell_type": "code",
   "execution_count": null,
   "id": "d9f6d3c9",
   "metadata": {
    "pycharm": {
     "name": "#%%\n"
    }
   },
   "outputs": [],
   "source": [
    "accuracy_score(ytrue.to_numpy(), ypred)"
   ]
  },
  {
   "cell_type": "code",
   "execution_count": null,
   "id": "bd35667b",
   "metadata": {
    "pycharm": {
     "name": "#%%\n"
    }
   },
   "outputs": [],
   "source": []
  },
  {
   "cell_type": "code",
   "execution_count": null,
   "id": "60c58118",
   "metadata": {
    "pycharm": {
     "name": "#%%\n"
    }
   },
   "outputs": [],
   "source": []
  },
  {
   "cell_type": "code",
   "execution_count": null,
   "id": "32f904b0",
   "metadata": {
    "pycharm": {
     "name": "#%%\n"
    }
   },
   "outputs": [],
   "source": [
    "margin_threshold_dev.ref_MDs"
   ]
  },
  {
   "cell_type": "code",
   "execution_count": null,
   "id": "571b036b",
   "metadata": {
    "pycharm": {
     "name": "#%%\n"
    }
   },
   "outputs": [],
   "source": [
    "margin_threshold_dev.det_MDs"
   ]
  },
  {
   "cell_type": "code",
   "execution_count": null,
   "id": "77ed5fd2",
   "metadata": {
    "pycharm": {
     "name": "#%%\n"
    }
   },
   "outputs": [],
   "source": [
    "margin_threshold_dev.ref_SDs"
   ]
  },
  {
   "cell_type": "code",
   "execution_count": null,
   "id": "51bdb7e6",
   "metadata": {
    "pycharm": {
     "name": "#%%\n"
    }
   },
   "outputs": [],
   "source": [
    "scipy.stats.describe(margin_threshold_dev.split_MDs)"
   ]
  },
  {
   "cell_type": "code",
   "execution_count": null,
   "id": "b7de2825",
   "metadata": {
    "pycharm": {
     "name": "#%%\n"
    }
   },
   "outputs": [],
   "source": [
    "np.mean(margin_threshold_dev.split_MDs)"
   ]
  },
  {
   "cell_type": "code",
   "execution_count": null,
   "id": "22f51469",
   "metadata": {
    "pycharm": {
     "name": "#%%\n"
    }
   },
   "outputs": [],
   "source": [
    "np.std(margin_threshold_dev.split_MDs)"
   ]
  },
  {
   "cell_type": "code",
   "execution_count": null,
   "id": "b29a0ed0",
   "metadata": {
    "pycharm": {
     "name": "#%%\n"
    }
   },
   "outputs": [],
   "source": []
  },
  {
   "cell_type": "code",
   "execution_count": null,
   "id": "b223585c",
   "metadata": {
    "pycharm": {
     "name": "#%%\n"
    }
   },
   "outputs": [],
   "source": [
    "margin_threshold_dev.ref_margins[0]"
   ]
  },
  {
   "cell_type": "code",
   "execution_count": null,
   "id": "cc985c7c",
   "metadata": {
    "pycharm": {
     "name": "#%%\n"
    }
   },
   "outputs": [],
   "source": [
    "pd.Series(\n",
    "    margin_threshold_dev.ref_margins[0] < margin_threshold_dev.margin_width\n",
    ").astype(int).value_counts(normalize=True)[1]"
   ]
  },
  {
   "cell_type": "markdown",
   "id": "e1d52ae4",
   "metadata": {},
   "source": [
    "#### split accuracy"
   ]
  },
  {
   "cell_type": "code",
   "execution_count": null,
   "id": "4a89b72f",
   "metadata": {
    "pycharm": {
     "name": "#%%\n"
    }
   },
   "outputs": [],
   "source": []
  }
 ],
 "metadata": {
  "kernelspec": {
   "display_name": "Python [conda env:cd_env] *",
   "language": "python",
   "name": "conda-env-cd_env-py"
  },
  "language_info": {
   "codemirror_mode": {
    "name": "ipython",
    "version": 3
   },
   "file_extension": ".py",
   "mimetype": "text/x-python",
   "name": "python",
   "nbconvert_exporter": "python",
   "pygments_lexer": "ipython3",
   "version": "3.9.5"
  }
 },
 "nbformat": 4,
 "nbformat_minor": 5
}