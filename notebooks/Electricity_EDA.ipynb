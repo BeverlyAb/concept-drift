{
 "cells": [
  {
   "cell_type": "markdown",
   "id": "4c95473c",
   "metadata": {},
   "source": [
    "# Electricity Dataset EDA\n",
    "\n",
    "[Electricity](https://www.openml.org/d/151) is a widely used dataset described by M. Harries and analyzed by J. Gama (see papers below). This data was collected from the Australian New South Wales Electricity Market. In this market, prices are not fixed and are affected by demand and supply of the market. They are set every five minutes. Electricity transfers to/from the neighboring state of Victoria were done to alleviate fluctuations.\n",
    "\n",
    "The dataset (originally named ELEC2) contains 45,312 instances dated from 7 May 1996 to 5 December 1998. Each example of the dataset refers to a period of 30 minutes, i.e. there are 48 instances for each time period of one day. Each example on the dataset has 5 fields, the day of week, the time stamp, the New South Wales electricity demand, the Victoria electricity demand, the scheduled electricity transfer between states and the class label. The class label identifies the change of the price (UP or DOWN) in New South Wales relative to a moving average of the last 24 hours (and removes the impact of longer term price trends).\n",
    "\n",
    "The data was normalized by A. Bifet.\n",
    "\n",
    "### Attribute information\n",
    "* Date: date between 7 May 1996 to 5 December 1998. Here normalized between 0 and 1\n",
    "* Day: day of the week (1-7)\n",
    "* Period: time of the measurement (1-48) in half hour intervals over 24 hours. Here normalized between 0 and 1\n",
    "* NSWprice: New South Wales electricity price, normalized between 0 and 1\n",
    "* NSWdemand: New South Wales electricity demand, normalized between 0 and 1\n",
    "* VICprice: Victoria electricity price, normalized between 0 and 1\n",
    "* VICdemand: Victoria electricity demand, normalized between 0 and 1\n",
    "* transfer: scheduled electricity transfer between both states, normalized between 0 and 1\n",
    "\n",
    "### Relevant papers\n",
    "M. Harries. Splice-2 comparative evaluation: Electricity pricing. Technical report, The University of South Wales, 1999.\n",
    "J. Gama, P. Medas, G. Castillo, and P. Rodrigues. Learning with drift detection. In SBIA Brazilian Symposium on Artificial Intelligence, pages 286–295, 2004."
   ]
  }
 ],
 "metadata": {
  "kernelspec": {
   "display_name": "Python 3",
   "language": "python",
   "name": "python3"
  },
  "language_info": {
   "codemirror_mode": {
    "name": "ipython",
    "version": 3
   },
   "file_extension": ".py",
   "mimetype": "text/x-python",
   "name": "python",
   "nbconvert_exporter": "python",
   "pygments_lexer": "ipython3",
   "version": "3.8.8"
  }
 },
 "nbformat": 4,
 "nbformat_minor": 5
}
