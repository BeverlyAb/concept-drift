{
 "cells": [
  {
   "cell_type": "markdown",
   "id": "a67e15dc",
   "metadata": {},
   "source": [
    "# Notebook for Exploring Statistical Tests"
   ]
  },
  {
   "cell_type": "code",
   "execution_count": 20,
   "id": "97aa2ac3",
   "metadata": {},
   "outputs": [],
   "source": [
    "import numpy as np\n",
    "import matplotlib.pyplot as plt\n",
    "from scipy.stats import ks_2samp, chisquare"
   ]
  },
  {
   "cell_type": "markdown",
   "id": "65da5bf0",
   "metadata": {},
   "source": [
    "## Kolmogorov-Smirnov Test\n",
    "\n",
    "The KS test is a _nonparametric_ test of the equality of continuous (or discontinuous), one dimensional probability distributions. There is a two-sample KS test that compares equality between two separate distributions.\n",
    "\n",
    "- Null Hypothesis: the two distributions are identical\n",
    "- Alternative Hypothesis: the two distributions are NOT identical "
   ]
  },
  {
   "cell_type": "code",
   "execution_count": 18,
   "id": "32e18c51",
   "metadata": {},
   "outputs": [
    {
     "data": {
      "text/plain": [
       "KstestResult(statistic=0.99, pvalue=4.417521386399011e-57)"
      ]
     },
     "execution_count": 18,
     "metadata": {},
     "output_type": "execute_result"
    }
   ],
   "source": [
    "np.random.seed(0)\n",
    "\n",
    "# generate two datasets from different distributions \n",
    "data1 = np.random.randn(100) # standard normal distribution\n",
    "data2 = np.random.lognormal(3, 1, 100) # log-normal distribution\n",
    "data3 = np.random.randn(100) # standard normal distribution\n",
    "\n",
    "# perform Kolmogorov-Smirnov test\n",
    "ks_2samp(data1, data2)"
   ]
  },
  {
   "cell_type": "markdown",
   "id": "e252cd4a",
   "metadata": {},
   "source": [
    "Since the **p_value** here is less than 0.05 (subjective), we reject the null hypothesis - therefore, we have sufficient evidence that the samples do NOT come from the same distribution, as expected."
   ]
  },
  {
   "cell_type": "markdown",
   "id": "5ea08fef",
   "metadata": {},
   "source": [
    "## Chi-Square Test"
   ]
  },
  {
   "cell_type": "markdown",
   "id": "840033f2",
   "metadata": {},
   "source": [
    "The Chi-Square test can be used to decide whether a relationship exists between observed and expected frequencies in a categorical variable of a given population.\n",
    "\n",
    "- Null Hypothesis: The categorical variables have no relationship (independent)\n",
    "- Alternative Hypothesis: A relationship exists between the variables (dependent)"
   ]
  },
  {
   "cell_type": "code",
   "execution_count": 13,
   "id": "3888466f",
   "metadata": {},
   "outputs": [
    {
     "data": {
      "text/plain": [
       "Power_divergenceResult(statistic=3.5, pvalue=0.6233876277495822)"
      ]
     },
     "execution_count": 13,
     "metadata": {},
     "output_type": "execute_result"
    }
   ],
   "source": [
    "f_observed = [16, 18, 16, 14, 12, 12]\n",
    "f_expected = [16, 16, 16, 16, 16, 8]\n",
    "\n",
    "chisquare(f_observed, f_exp=f_expected)"
   ]
  },
  {
   "cell_type": "markdown",
   "id": "c485968a",
   "metadata": {},
   "source": [
    "Since the **p_value** here is greater than 0.05 (subjective), we accept the null hypothesis - therefore, we have sufficient evidence that the samples do NOT come from the same distribution."
   ]
  },
  {
   "cell_type": "code",
   "execution_count": null,
   "id": "894dc4f1",
   "metadata": {},
   "outputs": [],
   "source": []
  }
 ],
 "metadata": {
  "kernelspec": {
   "display_name": "Python 3 (ipykernel)",
   "language": "python",
   "name": "python3"
  },
  "language_info": {
   "codemirror_mode": {
    "name": "ipython",
    "version": 3
   },
   "file_extension": ".py",
   "mimetype": "text/x-python",
   "name": "python",
   "nbconvert_exporter": "python",
   "pygments_lexer": "ipython3",
   "version": "3.8.8"
  }
 },
 "nbformat": 4,
 "nbformat_minor": 5
}
