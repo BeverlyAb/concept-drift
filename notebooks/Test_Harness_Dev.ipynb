{
 "cells": [
  {
   "cell_type": "markdown",
   "id": "5f4e083a",
   "metadata": {},
   "source": [
    "# Test Harness Development Notebook"
   ]
  },
  {
   "cell_type": "code",
   "execution_count": 1,
   "id": "89a97585",
   "metadata": {},
   "outputs": [],
   "source": [
    "import os\n",
    "import sys\n",
    "\n",
    "sys.path.append(os.path.dirname(os.getcwd()))\n",
    "\n",
    "import pandas as pd\n",
    "from sklearn.preprocessing import LabelEncoder\n",
    "\n",
    "%load_ext autoreload\n",
    "%autoreload 2"
   ]
  },
  {
   "cell_type": "markdown",
   "id": "f3671163",
   "metadata": {},
   "source": [
    "### Load & Prepare Data"
   ]
  },
  {
   "cell_type": "code",
   "execution_count": 2,
   "id": "b98cdf6b",
   "metadata": {},
   "outputs": [],
   "source": [
    "data = pd.read_csv(\"../data/electricity-normalized.csv\")"
   ]
  },
  {
   "cell_type": "code",
   "execution_count": 3,
   "id": "6ea82d71",
   "metadata": {},
   "outputs": [],
   "source": [
    "# specify columns to keep and if categorical\n",
    "cols = (\n",
    "    (\"day\", True),\n",
    "    (\"period\", True),\n",
    "    (\"nswdemand\", False),\n",
    "    (\"vicdemand\", False),\n",
    "    (\"transfer\", False),\n",
    "    (\"class\", True),\n",
    ")\n",
    "\n",
    "data_clean = data[[col for col, _ in cols]].copy(deep=True)\n",
    "\n",
    "# label encode categorical\n",
    "catcols = (col for col, iscat in cols if iscat)\n",
    "\n",
    "for col in catcols:\n",
    "    data_clean[col] = LabelEncoder().fit_transform(data_clean[col])\n",
    "\n",
    "# convert to categorical\n",
    "def categorize(df, cols):\n",
    "    catcols = (col for col, iscat in cols if iscat)\n",
    "    for col in catcols:\n",
    "        df[col] = pd.Categorical(df[col])\n",
    "    return df\n",
    "\n",
    "\n",
    "data_clean = categorize(data_clean, cols)\n"
   ]
  },
  {
   "cell_type": "code",
   "execution_count": 8,
   "id": "099cb3f7",
   "metadata": {},
   "outputs": [
    {
     "data": {
      "text/html": [
       "<div>\n",
       "<style scoped>\n",
       "    .dataframe tbody tr th:only-of-type {\n",
       "        vertical-align: middle;\n",
       "    }\n",
       "\n",
       "    .dataframe tbody tr th {\n",
       "        vertical-align: top;\n",
       "    }\n",
       "\n",
       "    .dataframe thead th {\n",
       "        text-align: right;\n",
       "    }\n",
       "</style>\n",
       "<table border=\"1\" class=\"dataframe\">\n",
       "  <thead>\n",
       "    <tr style=\"text-align: right;\">\n",
       "      <th></th>\n",
       "      <th>day</th>\n",
       "      <th>period</th>\n",
       "      <th>nswdemand</th>\n",
       "      <th>vicdemand</th>\n",
       "      <th>transfer</th>\n",
       "      <th>class</th>\n",
       "    </tr>\n",
       "  </thead>\n",
       "  <tbody>\n",
       "    <tr>\n",
       "      <th>0</th>\n",
       "      <td>1</td>\n",
       "      <td>0</td>\n",
       "      <td>0.439155</td>\n",
       "      <td>0.422915</td>\n",
       "      <td>0.414912</td>\n",
       "      <td>1</td>\n",
       "    </tr>\n",
       "    <tr>\n",
       "      <th>1</th>\n",
       "      <td>1</td>\n",
       "      <td>1</td>\n",
       "      <td>0.415055</td>\n",
       "      <td>0.422915</td>\n",
       "      <td>0.414912</td>\n",
       "      <td>1</td>\n",
       "    </tr>\n",
       "    <tr>\n",
       "      <th>2</th>\n",
       "      <td>1</td>\n",
       "      <td>2</td>\n",
       "      <td>0.385004</td>\n",
       "      <td>0.422915</td>\n",
       "      <td>0.414912</td>\n",
       "      <td>1</td>\n",
       "    </tr>\n",
       "    <tr>\n",
       "      <th>3</th>\n",
       "      <td>1</td>\n",
       "      <td>3</td>\n",
       "      <td>0.314639</td>\n",
       "      <td>0.422915</td>\n",
       "      <td>0.414912</td>\n",
       "      <td>1</td>\n",
       "    </tr>\n",
       "    <tr>\n",
       "      <th>4</th>\n",
       "      <td>1</td>\n",
       "      <td>4</td>\n",
       "      <td>0.251116</td>\n",
       "      <td>0.422915</td>\n",
       "      <td>0.414912</td>\n",
       "      <td>0</td>\n",
       "    </tr>\n",
       "    <tr>\n",
       "      <th>...</th>\n",
       "      <td>...</td>\n",
       "      <td>...</td>\n",
       "      <td>...</td>\n",
       "      <td>...</td>\n",
       "      <td>...</td>\n",
       "      <td>...</td>\n",
       "    </tr>\n",
       "    <tr>\n",
       "      <th>45307</th>\n",
       "      <td>6</td>\n",
       "      <td>43</td>\n",
       "      <td>0.340672</td>\n",
       "      <td>0.255049</td>\n",
       "      <td>0.405263</td>\n",
       "      <td>0</td>\n",
       "    </tr>\n",
       "    <tr>\n",
       "      <th>45308</th>\n",
       "      <td>6</td>\n",
       "      <td>44</td>\n",
       "      <td>0.355549</td>\n",
       "      <td>0.241326</td>\n",
       "      <td>0.420614</td>\n",
       "      <td>0</td>\n",
       "    </tr>\n",
       "    <tr>\n",
       "      <th>45309</th>\n",
       "      <td>6</td>\n",
       "      <td>45</td>\n",
       "      <td>0.340970</td>\n",
       "      <td>0.247799</td>\n",
       "      <td>0.362281</td>\n",
       "      <td>0</td>\n",
       "    </tr>\n",
       "    <tr>\n",
       "      <th>45310</th>\n",
       "      <td>6</td>\n",
       "      <td>46</td>\n",
       "      <td>0.329366</td>\n",
       "      <td>0.345417</td>\n",
       "      <td>0.206579</td>\n",
       "      <td>1</td>\n",
       "    </tr>\n",
       "    <tr>\n",
       "      <th>45311</th>\n",
       "      <td>6</td>\n",
       "      <td>47</td>\n",
       "      <td>0.288753</td>\n",
       "      <td>0.355256</td>\n",
       "      <td>0.231140</td>\n",
       "      <td>0</td>\n",
       "    </tr>\n",
       "  </tbody>\n",
       "</table>\n",
       "<p>45312 rows × 6 columns</p>\n",
       "</div>"
      ],
      "text/plain": [
       "      day period  nswdemand  vicdemand  transfer class\n",
       "0       1      0   0.439155   0.422915  0.414912     1\n",
       "1       1      1   0.415055   0.422915  0.414912     1\n",
       "2       1      2   0.385004   0.422915  0.414912     1\n",
       "3       1      3   0.314639   0.422915  0.414912     1\n",
       "4       1      4   0.251116   0.422915  0.414912     0\n",
       "...    ..    ...        ...        ...       ...   ...\n",
       "45307   6     43   0.340672   0.255049  0.405263     0\n",
       "45308   6     44   0.355549   0.241326  0.420614     0\n",
       "45309   6     45   0.340970   0.247799  0.362281     0\n",
       "45310   6     46   0.329366   0.345417  0.206579     1\n",
       "45311   6     47   0.288753   0.355256  0.231140     0\n",
       "\n",
       "[45312 rows x 6 columns]"
      ]
     },
     "execution_count": 8,
     "metadata": {},
     "output_type": "execute_result"
    }
   ],
   "source": [
    "data_clean"
   ]
  },
  {
   "cell_type": "markdown",
   "id": "d59a7ef1",
   "metadata": {},
   "source": [
    "### Experiment Development"
   ]
  },
  {
   "cell_type": "code",
   "execution_count": 28,
   "id": "af2c6c67",
   "metadata": {},
   "outputs": [],
   "source": [
    "from sklearn.ensemble import RandomForestClassifier\n",
    "from sklearn.svm import SVC\n",
    "\n",
    "from test_harness.utils.utils import plot_experiment_error, plot_multiple_experiments\n",
    "\n",
    "from test_harness.datasets.dataset import Dataset\n",
    "from test_harness.experiments.experiment import Experiment\n",
    "from test_harness.experiments.baseline_experiment import BaselineExperiment\n",
    "from test_harness.experiments.topline_experiment import ToplineExperiment\n",
    "from test_harness.experiments.sqsi_experiment import SQSI_MRExperiment"
   ]
  },
  {
   "cell_type": "code",
   "execution_count": 29,
   "id": "9b76d6b3",
   "metadata": {},
   "outputs": [],
   "source": [
    "column_mapping = {\n",
    "    \"target\": \"class\",\n",
    "    \"numerical_features\": [\"nswdemand\", \"vicdemand\"],\n",
    "    \"categorical_features\": [\"day\", \"period\"],\n",
    "}\n",
    "\n",
    "ED_dataset = Dataset(\n",
    "    full_df=data_clean, column_mapping=column_mapping, window_size=2500\n",
    ")\n",
    "model = RandomForestClassifier(n_estimators=100, random_state=42)\n",
    "# model = SVC(C=0.8, random_state=42)"
   ]
  },
  {
   "cell_type": "code",
   "execution_count": null,
   "id": "5b3ccc39",
   "metadata": {},
   "outputs": [],
   "source": [
    "%%time\n",
    "\n",
    "# baseline = BaselineExperiment(model=model, dataset=ED_dataset)\n",
    "# topline = ToplineExperiment(model=model, dataset=ED_dataset)\n",
    "sqsi_mr = SQSI_MRExperiment(model=model, dataset=ED_dataset, k=20, significance_thresh=0.001)\n",
    "\n",
    "# baseline.run()\n",
    "# topline.run()\n",
    "sqsi_mr.run()\n",
    "\n",
    "# plot_experiment_error(baseline);\n",
    "# plot_experiment_error(topline);"
   ]
  },
  {
   "cell_type": "code",
   "execution_count": 31,
   "id": "7ded7337",
   "metadata": {},
   "outputs": [
    {
     "data": {
      "text/plain": [
       "<AxesSubplot:title={'center':'Cumulative Score over Experiment \\n             Label Expense: 45000 \\n             Total Train Time: 4.466325283050537'}, xlabel='0'>"
      ]
     },
     "execution_count": 31,
     "metadata": {},
     "output_type": "execute_result"
    },
    {
     "data": {
      "image/png": "[encoded data removed]",
      "text/plain": [
       "<Figure size 1080x504 with 1 Axes>"
      ]
     },
     "metadata": {
      "needs_background": "light"
     },
     "output_type": "display_data"
    }
   ],
   "source": [
    "plot_experiment_error(sqsi_mr)"
   ]
  },
  {
   "cell_type": "code",
   "execution_count": 23,
   "id": "aa8b478f",
   "metadata": {},
   "outputs": [
    {
     "data": {
      "text/plain": [
       "<AxesSubplot:title={'center':'Cumulative Score over Experiment \\n             Label Expense: 45000 \\n             Total Train Time: 4.370320796966553'}, xlabel='0'>"
      ]
     },
     "execution_count": 23,
     "metadata": {},
     "output_type": "execute_result"
    },
    {
     "data": {
      "image/png": "[encoded data removed]",
      "text/plain": [
       "<Figure size 1080x504 with 1 Axes>"
      ]
     },
     "metadata": {
      "needs_background": "light"
     },
     "output_type": "display_data"
    }
   ],
   "source": [
    "plot_experiment_error(sqsi_mr)"
   ]
  },
  {
   "cell_type": "code",
   "execution_count": 27,
   "id": "f719e23d",
   "metadata": {},
   "outputs": [
    {
     "data": {
      "text/plain": [
       "<AxesSubplot:title={'center':'Overall Score by Experiment'}, xlabel='0'>"
      ]
     },
     "execution_count": 27,
     "metadata": {},
     "output_type": "execute_result"
    },
    {
     "data": {
      "image/png": "[encoded data removed]",
      "text/plain": [
       "<Figure size 1080x504 with 1 Axes>"
      ]
     },
     "metadata": {
      "needs_background": "light"
     },
     "output_type": "display_data"
    }
   ],
   "source": [
    "exps = [baseline, topline, sqsi_mr]\n",
    "plot_multiple_experiments(exps)"
   ]
  },
  {
   "cell_type": "code",
   "execution_count": null,
   "id": "26be60dc",
   "metadata": {},
   "outputs": [],
   "source": []
  },
  {
   "cell_type": "code",
   "execution_count": null,
   "id": "bfc414d6",
   "metadata": {},
   "outputs": [],
   "source": []
  },
  {
   "cell_type": "code",
   "execution_count": null,
   "id": "16c77bb5",
   "metadata": {},
   "outputs": [],
   "source": []
  },
  {
   "cell_type": "code",
   "execution_count": null,
   "id": "430b1f21",
   "metadata": {},
   "outputs": [],
   "source": []
  },
  {
   "cell_type": "code",
   "execution_count": null,
   "id": "2865a4d5",
   "metadata": {},
   "outputs": [],
   "source": []
  },
  {
   "cell_type": "code",
   "execution_count": null,
   "id": "3f4a1eec",
   "metadata": {},
   "outputs": [],
   "source": [
    "experiments = [{'name': 'baseline', 'experiment': BaselineExperiment(model=model, dataset=ED_dataset)},\n",
    "               {'name': 'topline', 'experiment': ToplineExperiment(model=model, dataset=ED_dataset)}]"
   ]
  },
  {
   "cell_type": "markdown",
   "id": "cf046036",
   "metadata": {},
   "source": [
    "## SQSI Development"
   ]
  },
  {
   "cell_type": "code",
   "execution_count": 50,
   "id": "d4c669c7",
   "metadata": {},
   "outputs": [],
   "source": [
    "from sklearn.model_selection import KFold, StratifiedKFold, GroupKFold, LeaveOneOut\n",
    "from sklearn.pipeline import Pipeline\n",
    "from sklearn.preprocessing import MinMaxScaler"
   ]
  },
  {
   "cell_type": "code",
   "execution_count": 25,
   "id": "c7ad1b77",
   "metadata": {},
   "outputs": [],
   "source": [
    "test_data = data_clean[:100]"
   ]
  },
  {
   "cell_type": "code",
   "execution_count": 27,
   "id": "1f7dbfbf",
   "metadata": {},
   "outputs": [
    {
     "data": {
      "text/html": [
       "<div>\n",
       "<style scoped>\n",
       "    .dataframe tbody tr th:only-of-type {\n",
       "        vertical-align: middle;\n",
       "    }\n",
       "\n",
       "    .dataframe tbody tr th {\n",
       "        vertical-align: top;\n",
       "    }\n",
       "\n",
       "    .dataframe thead th {\n",
       "        text-align: right;\n",
       "    }\n",
       "</style>\n",
       "<table border=\"1\" class=\"dataframe\">\n",
       "  <thead>\n",
       "    <tr style=\"text-align: right;\">\n",
       "      <th></th>\n",
       "      <th>day</th>\n",
       "      <th>period</th>\n",
       "      <th>nswdemand</th>\n",
       "      <th>vicdemand</th>\n",
       "      <th>transfer</th>\n",
       "      <th>class</th>\n",
       "    </tr>\n",
       "  </thead>\n",
       "  <tbody>\n",
       "    <tr>\n",
       "      <th>0</th>\n",
       "      <td>1</td>\n",
       "      <td>0</td>\n",
       "      <td>0.439155</td>\n",
       "      <td>0.422915</td>\n",
       "      <td>0.414912</td>\n",
       "      <td>1</td>\n",
       "    </tr>\n",
       "    <tr>\n",
       "      <th>1</th>\n",
       "      <td>1</td>\n",
       "      <td>1</td>\n",
       "      <td>0.415055</td>\n",
       "      <td>0.422915</td>\n",
       "      <td>0.414912</td>\n",
       "      <td>1</td>\n",
       "    </tr>\n",
       "    <tr>\n",
       "      <th>2</th>\n",
       "      <td>1</td>\n",
       "      <td>2</td>\n",
       "      <td>0.385004</td>\n",
       "      <td>0.422915</td>\n",
       "      <td>0.414912</td>\n",
       "      <td>1</td>\n",
       "    </tr>\n",
       "    <tr>\n",
       "      <th>3</th>\n",
       "      <td>1</td>\n",
       "      <td>3</td>\n",
       "      <td>0.314639</td>\n",
       "      <td>0.422915</td>\n",
       "      <td>0.414912</td>\n",
       "      <td>1</td>\n",
       "    </tr>\n",
       "    <tr>\n",
       "      <th>4</th>\n",
       "      <td>1</td>\n",
       "      <td>4</td>\n",
       "      <td>0.251116</td>\n",
       "      <td>0.422915</td>\n",
       "      <td>0.414912</td>\n",
       "      <td>0</td>\n",
       "    </tr>\n",
       "    <tr>\n",
       "      <th>...</th>\n",
       "      <td>...</td>\n",
       "      <td>...</td>\n",
       "      <td>...</td>\n",
       "      <td>...</td>\n",
       "      <td>...</td>\n",
       "      <td>...</td>\n",
       "    </tr>\n",
       "    <tr>\n",
       "      <th>95</th>\n",
       "      <td>2</td>\n",
       "      <td>47</td>\n",
       "      <td>0.449866</td>\n",
       "      <td>0.422915</td>\n",
       "      <td>0.414912</td>\n",
       "      <td>1</td>\n",
       "    </tr>\n",
       "    <tr>\n",
       "      <th>96</th>\n",
       "      <td>3</td>\n",
       "      <td>0</td>\n",
       "      <td>0.448230</td>\n",
       "      <td>0.422915</td>\n",
       "      <td>0.414912</td>\n",
       "      <td>1</td>\n",
       "    </tr>\n",
       "    <tr>\n",
       "      <th>97</th>\n",
       "      <td>3</td>\n",
       "      <td>1</td>\n",
       "      <td>0.429485</td>\n",
       "      <td>0.422915</td>\n",
       "      <td>0.414912</td>\n",
       "      <td>1</td>\n",
       "    </tr>\n",
       "    <tr>\n",
       "      <th>98</th>\n",
       "      <td>3</td>\n",
       "      <td>2</td>\n",
       "      <td>0.399286</td>\n",
       "      <td>0.422915</td>\n",
       "      <td>0.414912</td>\n",
       "      <td>1</td>\n",
       "    </tr>\n",
       "    <tr>\n",
       "      <th>99</th>\n",
       "      <td>3</td>\n",
       "      <td>3</td>\n",
       "      <td>0.331449</td>\n",
       "      <td>0.422915</td>\n",
       "      <td>0.414912</td>\n",
       "      <td>0</td>\n",
       "    </tr>\n",
       "  </tbody>\n",
       "</table>\n",
       "<p>100 rows × 6 columns</p>\n",
       "</div>"
      ],
      "text/plain": [
       "   day period  nswdemand  vicdemand  transfer class\n",
       "0    1      0   0.439155   0.422915  0.414912     1\n",
       "1    1      1   0.415055   0.422915  0.414912     1\n",
       "2    1      2   0.385004   0.422915  0.414912     1\n",
       "3    1      3   0.314639   0.422915  0.414912     1\n",
       "4    1      4   0.251116   0.422915  0.414912     0\n",
       "..  ..    ...        ...        ...       ...   ...\n",
       "95   2     47   0.449866   0.422915  0.414912     1\n",
       "96   3      0   0.448230   0.422915  0.414912     1\n",
       "97   3      1   0.429485   0.422915  0.414912     1\n",
       "98   3      2   0.399286   0.422915  0.414912     1\n",
       "99   3      3   0.331449   0.422915  0.414912     0\n",
       "\n",
       "[100 rows x 6 columns]"
      ]
     },
     "execution_count": 27,
     "metadata": {},
     "output_type": "execute_result"
    }
   ],
   "source": [
    "test_data"
   ]
  },
  {
   "cell_type": "code",
   "execution_count": 33,
   "id": "b3ed2de5",
   "metadata": {},
   "outputs": [],
   "source": [
    "def split_df(df, label_col):\n",
    "    \"\"\"Splits the features from labels in a dataframe, returns both\"\"\"\n",
    "    return df.drop(label_col, axis=1), df[label_col]"
   ]
  },
  {
   "cell_type": "code",
   "execution_count": 36,
   "id": "20fc5237",
   "metadata": {},
   "outputs": [],
   "source": [
    "X, y = split_df(test_data, label_col='class')"
   ]
  },
  {
   "cell_type": "code",
   "execution_count": 31,
   "id": "bde95f4c",
   "metadata": {},
   "outputs": [],
   "source": [
    "skf = StratifiedKFold(n_splits=3, random_state=42, shuffle=True)\n",
    "\n"
   ]
  },
  {
   "cell_type": "code",
   "execution_count": 30,
   "id": "03f452c6",
   "metadata": {},
   "outputs": [
    {
     "data": {
      "text/plain": [
       "StratifiedKFold(n_splits=5, random_state=42, shuffle=True)"
      ]
     },
     "execution_count": 30,
     "metadata": {},
     "output_type": "execute_result"
    }
   ],
   "source": [
    "skf.split()"
   ]
  },
  {
   "cell_type": "code",
   "execution_count": 88,
   "id": "a4871c1d",
   "metadata": {},
   "outputs": [
    {
     "data": {
      "text/plain": [
       "pandas.core.series.Series"
      ]
     },
     "execution_count": 88,
     "metadata": {},
     "output_type": "execute_result"
    }
   ],
   "source": [
    "type(y)"
   ]
  },
  {
   "cell_type": "code",
   "execution_count": 102,
   "id": "4ca9b34b",
   "metadata": {
    "scrolled": true
   },
   "outputs": [],
   "source": [
    "def make_kfold_predictions(X, y, k):\n",
    "    \"\"\"A KFold version of LeaveOneOut predictions.\n",
    "    \n",
    "    Rather than performing exhaustive leave-one-out methodology to get predictions\n",
    "    for each observation, we use a less exhaustive KFold approach.\n",
    "    \n",
    "    When k == len(X), this is equivalent to LeaveOneOut, expensive, but robust. Reducing k\n",
    "    saves computation, but reduces robustness of model.\n",
    "    \n",
    "    Args:\n",
    "        X (pd.Dataframe) - features in evaluation window\n",
    "        y (pd.Series) - labels in evaluation window\n",
    "        k (int) - number of folds\n",
    "    \n",
    "    Returns:\n",
    "        preds (np.array) - an array of predictions for each X in the input (NOT IN ORDER OF INPUT)\n",
    "        \n",
    "    \n",
    "    \"\"\"\n",
    "\n",
    "    skf = StratifiedKFold(n_splits=k, random_state=42, shuffle=True)\n",
    "    \n",
    "    preds = np.array([])\n",
    "    for train_indicies, test_indicies in skf.split(X, y):\n",
    "\n",
    "        # instantiate training pipeline\n",
    "        pipe = Pipeline(\n",
    "                    steps=[\n",
    "                                (\"scaler\", MinMaxScaler()),\n",
    "                                (\"clf\", model),\n",
    "                            ]\n",
    "                        )\n",
    "        # fit it\n",
    "        pipe.fit(X.iloc[train_indicies], y.iloc[train_indicies])\n",
    "\n",
    "        # score it on this Kfold's test data\n",
    "        y_preds_split = pipe.predict_proba(X.iloc[test_indicies])\n",
    "        y_preds_split_posclass_proba = y_preds_split[:, 1]\n",
    "\n",
    "        preds = np.append(preds, y_preds_split_posclass_proba)\n",
    "        \n",
    "    return preds "
   ]
  },
  {
   "cell_type": "code",
   "execution_count": 103,
   "id": "60972c7c",
   "metadata": {},
   "outputs": [
    {
     "name": "stderr",
     "output_type": "stream",
     "text": [
      "/Users/areed/Documents/research/FF22_concept_drift/concept-drift/.venv/lib/python3.8/site-packages/sklearn/model_selection/_split.py:666: UserWarning: The least populated class in y has only 34 members, which is less than n_splits=50.\n",
      "  warnings.warn((\"The least populated class in y has only %d\"\n"
     ]
    }
   ],
   "source": [
    "preds = make_kfold_predictions(X, y, 50)"
   ]
  },
  {
   "cell_type": "code",
   "execution_count": 101,
   "id": "704c5638",
   "metadata": {},
   "outputs": [
    {
     "data": {
      "text/plain": [
       "100"
      ]
     },
     "execution_count": 101,
     "metadata": {},
     "output_type": "execute_result"
    }
   ],
   "source": [
    "len(preds)"
   ]
  },
  {
   "cell_type": "code",
   "execution_count": 86,
   "id": "be1374b1",
   "metadata": {},
   "outputs": [
    {
     "data": {
      "text/plain": [
       "(100,)"
      ]
     },
     "execution_count": 86,
     "metadata": {},
     "output_type": "execute_result"
    }
   ],
   "source": [
    "loo_preds.shape"
   ]
  },
  {
   "cell_type": "code",
   "execution_count": 89,
   "id": "47ca5d1b",
   "metadata": {},
   "outputs": [
    {
     "data": {
      "text/plain": [
       "array([ 0,  1,  4,  5,  7,  8,  9, 10, 12, 13, 15, 17, 18, 20, 22, 23, 24,\n",
       "       25, 27, 28, 29, 30, 31, 32, 35, 38, 39, 40, 41, 43, 44, 45, 47, 52,\n",
       "       53, 54, 55, 56, 57, 59, 60, 62, 64, 65, 67, 68, 69, 70, 72, 73, 74,\n",
       "       75, 76, 77, 78, 79, 81, 82, 85, 89, 90, 92, 93, 95, 96, 97, 99])"
      ]
     },
     "execution_count": 89,
     "metadata": {},
     "output_type": "execute_result"
    }
   ],
   "source": [
    "train_indicies"
   ]
  },
  {
   "cell_type": "code",
   "execution_count": 72,
   "id": "132daa7e",
   "metadata": {},
   "outputs": [
    {
     "data": {
      "text/plain": [
       "array([[1.  , 0.  ],\n",
       "       [0.95, 0.05],\n",
       "       [0.92, 0.08],\n",
       "       [0.26, 0.74],\n",
       "       [0.29, 0.71],\n",
       "       [0.44, 0.56],\n",
       "       [0.65, 0.35],\n",
       "       [0.78, 0.22],\n",
       "       [0.91, 0.09],\n",
       "       [0.96, 0.04],\n",
       "       [0.74, 0.26],\n",
       "       [0.85, 0.15],\n",
       "       [0.7 , 0.3 ],\n",
       "       [0.19, 0.81],\n",
       "       [0.19, 0.81],\n",
       "       [0.99, 0.01],\n",
       "       [1.  , 0.  ],\n",
       "       [0.97, 0.03],\n",
       "       [0.36, 0.64],\n",
       "       [1.  , 0.  ],\n",
       "       [0.87, 0.13],\n",
       "       [0.9 , 0.1 ],\n",
       "       [0.99, 0.01],\n",
       "       [0.99, 0.01],\n",
       "       [0.97, 0.03],\n",
       "       [0.78, 0.22],\n",
       "       [0.66, 0.34],\n",
       "       [0.98, 0.02],\n",
       "       [0.99, 0.01],\n",
       "       [0.63, 0.37],\n",
       "       [0.7 , 0.3 ],\n",
       "       [0.5 , 0.5 ],\n",
       "       [0.35, 0.65],\n",
       "       [0.2 , 0.8 ]])"
      ]
     },
     "execution_count": 72,
     "metadata": {},
     "output_type": "execute_result"
    }
   ],
   "source": [
    "y_preds_split"
   ]
  },
  {
   "cell_type": "code",
   "execution_count": 77,
   "id": "d37f864d",
   "metadata": {},
   "outputs": [
    {
     "data": {
      "text/plain": [
       "array([0.  , 0.05, 0.08, 0.74, 0.71, 0.56, 0.35, 0.22, 0.09, 0.04, 0.26,\n",
       "       0.15, 0.3 , 0.81, 0.81, 0.01, 0.  , 0.03, 0.64, 0.  , 0.13, 0.1 ,\n",
       "       0.01, 0.01, 0.03, 0.22, 0.34, 0.02, 0.01, 0.37, 0.3 , 0.5 , 0.65,\n",
       "       0.8 ])"
      ]
     },
     "execution_count": 77,
     "metadata": {},
     "output_type": "execute_result"
    }
   ],
   "source": [
    "y_preds_split[:, 1]"
   ]
  },
  {
   "cell_type": "code",
   "execution_count": 74,
   "id": "07e9aeb5",
   "metadata": {},
   "outputs": [
    {
     "data": {
      "text/plain": [
       "array([0, 1])"
      ]
     },
     "execution_count": 74,
     "metadata": {},
     "output_type": "execute_result"
    }
   ],
   "source": [
    "pipe.classes_"
   ]
  },
  {
   "cell_type": "code",
   "execution_count": 73,
   "id": "1a12cd47",
   "metadata": {},
   "outputs": [
    {
     "data": {
      "text/plain": [
       "(34, 2)"
      ]
     },
     "execution_count": 73,
     "metadata": {},
     "output_type": "execute_result"
    }
   ],
   "source": [
    "y_preds_split.shape"
   ]
  },
  {
   "cell_type": "code",
   "execution_count": 58,
   "id": "6791e4c2",
   "metadata": {},
   "outputs": [
    {
     "data": {
      "text/html": [
       "<div>\n",
       "<style scoped>\n",
       "    .dataframe tbody tr th:only-of-type {\n",
       "        vertical-align: middle;\n",
       "    }\n",
       "\n",
       "    .dataframe tbody tr th {\n",
       "        vertical-align: top;\n",
       "    }\n",
       "\n",
       "    .dataframe thead th {\n",
       "        text-align: right;\n",
       "    }\n",
       "</style>\n",
       "<table border=\"1\" class=\"dataframe\">\n",
       "  <thead>\n",
       "    <tr style=\"text-align: right;\">\n",
       "      <th></th>\n",
       "      <th>day</th>\n",
       "      <th>period</th>\n",
       "      <th>nswdemand</th>\n",
       "      <th>vicdemand</th>\n",
       "      <th>transfer</th>\n",
       "    </tr>\n",
       "  </thead>\n",
       "  <tbody>\n",
       "    <tr>\n",
       "      <th>0</th>\n",
       "      <td>1</td>\n",
       "      <td>0</td>\n",
       "      <td>0.439155</td>\n",
       "      <td>0.422915</td>\n",
       "      <td>0.414912</td>\n",
       "    </tr>\n",
       "    <tr>\n",
       "      <th>1</th>\n",
       "      <td>1</td>\n",
       "      <td>1</td>\n",
       "      <td>0.415055</td>\n",
       "      <td>0.422915</td>\n",
       "      <td>0.414912</td>\n",
       "    </tr>\n",
       "    <tr>\n",
       "      <th>2</th>\n",
       "      <td>1</td>\n",
       "      <td>2</td>\n",
       "      <td>0.385004</td>\n",
       "      <td>0.422915</td>\n",
       "      <td>0.414912</td>\n",
       "    </tr>\n",
       "    <tr>\n",
       "      <th>3</th>\n",
       "      <td>1</td>\n",
       "      <td>3</td>\n",
       "      <td>0.314639</td>\n",
       "      <td>0.422915</td>\n",
       "      <td>0.414912</td>\n",
       "    </tr>\n",
       "    <tr>\n",
       "      <th>4</th>\n",
       "      <td>1</td>\n",
       "      <td>4</td>\n",
       "      <td>0.251116</td>\n",
       "      <td>0.422915</td>\n",
       "      <td>0.414912</td>\n",
       "    </tr>\n",
       "    <tr>\n",
       "      <th>...</th>\n",
       "      <td>...</td>\n",
       "      <td>...</td>\n",
       "      <td>...</td>\n",
       "      <td>...</td>\n",
       "      <td>...</td>\n",
       "    </tr>\n",
       "    <tr>\n",
       "      <th>93</th>\n",
       "      <td>2</td>\n",
       "      <td>45</td>\n",
       "      <td>0.435138</td>\n",
       "      <td>0.422915</td>\n",
       "      <td>0.414912</td>\n",
       "    </tr>\n",
       "    <tr>\n",
       "      <th>94</th>\n",
       "      <td>2</td>\n",
       "      <td>46</td>\n",
       "      <td>0.456412</td>\n",
       "      <td>0.422915</td>\n",
       "      <td>0.414912</td>\n",
       "    </tr>\n",
       "    <tr>\n",
       "      <th>97</th>\n",
       "      <td>3</td>\n",
       "      <td>1</td>\n",
       "      <td>0.429485</td>\n",
       "      <td>0.422915</td>\n",
       "      <td>0.414912</td>\n",
       "    </tr>\n",
       "    <tr>\n",
       "      <th>98</th>\n",
       "      <td>3</td>\n",
       "      <td>2</td>\n",
       "      <td>0.399286</td>\n",
       "      <td>0.422915</td>\n",
       "      <td>0.414912</td>\n",
       "    </tr>\n",
       "    <tr>\n",
       "      <th>99</th>\n",
       "      <td>3</td>\n",
       "      <td>3</td>\n",
       "      <td>0.331449</td>\n",
       "      <td>0.422915</td>\n",
       "      <td>0.414912</td>\n",
       "    </tr>\n",
       "  </tbody>\n",
       "</table>\n",
       "<p>66 rows × 5 columns</p>\n",
       "</div>"
      ],
      "text/plain": [
       "   day period  nswdemand  vicdemand  transfer\n",
       "0    1      0   0.439155   0.422915  0.414912\n",
       "1    1      1   0.415055   0.422915  0.414912\n",
       "2    1      2   0.385004   0.422915  0.414912\n",
       "3    1      3   0.314639   0.422915  0.414912\n",
       "4    1      4   0.251116   0.422915  0.414912\n",
       "..  ..    ...        ...        ...       ...\n",
       "93   2     45   0.435138   0.422915  0.414912\n",
       "94   2     46   0.456412   0.422915  0.414912\n",
       "97   3      1   0.429485   0.422915  0.414912\n",
       "98   3      2   0.399286   0.422915  0.414912\n",
       "99   3      3   0.331449   0.422915  0.414912\n",
       "\n",
       "[66 rows x 5 columns]"
      ]
     },
     "execution_count": 58,
     "metadata": {},
     "output_type": "execute_result"
    }
   ],
   "source": [
    "X.iloc[train_indicies]"
   ]
  },
  {
   "cell_type": "code",
   "execution_count": 56,
   "id": "83f0b7a2",
   "metadata": {},
   "outputs": [
    {
     "data": {
      "text/html": [
       "<div>\n",
       "<style scoped>\n",
       "    .dataframe tbody tr th:only-of-type {\n",
       "        vertical-align: middle;\n",
       "    }\n",
       "\n",
       "    .dataframe tbody tr th {\n",
       "        vertical-align: top;\n",
       "    }\n",
       "\n",
       "    .dataframe thead th {\n",
       "        text-align: right;\n",
       "    }\n",
       "</style>\n",
       "<table border=\"1\" class=\"dataframe\">\n",
       "  <thead>\n",
       "    <tr style=\"text-align: right;\">\n",
       "      <th></th>\n",
       "      <th>day</th>\n",
       "      <th>period</th>\n",
       "      <th>nswdemand</th>\n",
       "      <th>vicdemand</th>\n",
       "      <th>transfer</th>\n",
       "    </tr>\n",
       "  </thead>\n",
       "  <tbody>\n",
       "    <tr>\n",
       "      <th>0</th>\n",
       "      <td>1</td>\n",
       "      <td>0</td>\n",
       "      <td>0.439155</td>\n",
       "      <td>0.422915</td>\n",
       "      <td>0.414912</td>\n",
       "    </tr>\n",
       "    <tr>\n",
       "      <th>1</th>\n",
       "      <td>1</td>\n",
       "      <td>1</td>\n",
       "      <td>0.415055</td>\n",
       "      <td>0.422915</td>\n",
       "      <td>0.414912</td>\n",
       "    </tr>\n",
       "    <tr>\n",
       "      <th>2</th>\n",
       "      <td>1</td>\n",
       "      <td>2</td>\n",
       "      <td>0.385004</td>\n",
       "      <td>0.422915</td>\n",
       "      <td>0.414912</td>\n",
       "    </tr>\n",
       "    <tr>\n",
       "      <th>3</th>\n",
       "      <td>1</td>\n",
       "      <td>3</td>\n",
       "      <td>0.314639</td>\n",
       "      <td>0.422915</td>\n",
       "      <td>0.414912</td>\n",
       "    </tr>\n",
       "    <tr>\n",
       "      <th>4</th>\n",
       "      <td>1</td>\n",
       "      <td>4</td>\n",
       "      <td>0.251116</td>\n",
       "      <td>0.422915</td>\n",
       "      <td>0.414912</td>\n",
       "    </tr>\n",
       "    <tr>\n",
       "      <th>...</th>\n",
       "      <td>...</td>\n",
       "      <td>...</td>\n",
       "      <td>...</td>\n",
       "      <td>...</td>\n",
       "      <td>...</td>\n",
       "    </tr>\n",
       "    <tr>\n",
       "      <th>95</th>\n",
       "      <td>2</td>\n",
       "      <td>47</td>\n",
       "      <td>0.449866</td>\n",
       "      <td>0.422915</td>\n",
       "      <td>0.414912</td>\n",
       "    </tr>\n",
       "    <tr>\n",
       "      <th>96</th>\n",
       "      <td>3</td>\n",
       "      <td>0</td>\n",
       "      <td>0.448230</td>\n",
       "      <td>0.422915</td>\n",
       "      <td>0.414912</td>\n",
       "    </tr>\n",
       "    <tr>\n",
       "      <th>97</th>\n",
       "      <td>3</td>\n",
       "      <td>1</td>\n",
       "      <td>0.429485</td>\n",
       "      <td>0.422915</td>\n",
       "      <td>0.414912</td>\n",
       "    </tr>\n",
       "    <tr>\n",
       "      <th>98</th>\n",
       "      <td>3</td>\n",
       "      <td>2</td>\n",
       "      <td>0.399286</td>\n",
       "      <td>0.422915</td>\n",
       "      <td>0.414912</td>\n",
       "    </tr>\n",
       "    <tr>\n",
       "      <th>99</th>\n",
       "      <td>3</td>\n",
       "      <td>3</td>\n",
       "      <td>0.331449</td>\n",
       "      <td>0.422915</td>\n",
       "      <td>0.414912</td>\n",
       "    </tr>\n",
       "  </tbody>\n",
       "</table>\n",
       "<p>100 rows × 5 columns</p>\n",
       "</div>"
      ],
      "text/plain": [
       "   day period  nswdemand  vicdemand  transfer\n",
       "0    1      0   0.439155   0.422915  0.414912\n",
       "1    1      1   0.415055   0.422915  0.414912\n",
       "2    1      2   0.385004   0.422915  0.414912\n",
       "3    1      3   0.314639   0.422915  0.414912\n",
       "4    1      4   0.251116   0.422915  0.414912\n",
       "..  ..    ...        ...        ...       ...\n",
       "95   2     47   0.449866   0.422915  0.414912\n",
       "96   3      0   0.448230   0.422915  0.414912\n",
       "97   3      1   0.429485   0.422915  0.414912\n",
       "98   3      2   0.399286   0.422915  0.414912\n",
       "99   3      3   0.331449   0.422915  0.414912\n",
       "\n",
       "[100 rows x 5 columns]"
      ]
     },
     "execution_count": 56,
     "metadata": {},
     "output_type": "execute_result"
    }
   ],
   "source": [
    "X"
   ]
  },
  {
   "cell_type": "code",
   "execution_count": null,
   "id": "10039e87",
   "metadata": {},
   "outputs": [],
   "source": []
  },
  {
   "cell_type": "code",
   "execution_count": null,
   "id": "58ba2d43",
   "metadata": {},
   "outputs": [],
   "source": [
    "for train, test in skf.split(X, y):"
   ]
  },
  {
   "cell_type": "code",
   "execution_count": 52,
   "id": "a37a74f2",
   "metadata": {},
   "outputs": [
    {
     "data": {
      "text/plain": [
       "array([ 0,  1,  4,  5,  7,  8,  9, 10, 12, 13, 15, 17, 18, 20, 22, 23, 24,\n",
       "       25, 27, 28, 29, 30, 31, 32, 35, 38, 39, 40, 41, 43, 44, 45, 47, 52,\n",
       "       53, 54, 55, 56, 57, 59, 60, 62, 64, 65, 67, 68, 69, 70, 72, 73, 74,\n",
       "       75, 76, 77, 78, 79, 81, 82, 85, 89, 90, 92, 93, 95, 96, 97, 99])"
      ]
     },
     "execution_count": 52,
     "metadata": {},
     "output_type": "execute_result"
    }
   ],
   "source": [
    "train"
   ]
  },
  {
   "cell_type": "code",
   "execution_count": 53,
   "id": "fedb264f",
   "metadata": {},
   "outputs": [
    {
     "data": {
      "text/plain": [
       "array([ 2,  3,  6, 11, 14, 16, 19, 21, 26, 33, 34, 36, 37, 42, 46, 48, 49,\n",
       "       50, 51, 58, 61, 63, 66, 71, 80, 83, 84, 86, 87, 88, 91, 94, 98])"
      ]
     },
     "execution_count": 53,
     "metadata": {},
     "output_type": "execute_result"
    }
   ],
   "source": [
    "test"
   ]
  },
  {
   "cell_type": "code",
   "execution_count": 41,
   "id": "7d086360",
   "metadata": {},
   "outputs": [
    {
     "data": {
      "text/plain": [
       "(66,)"
      ]
     },
     "execution_count": 41,
     "metadata": {},
     "output_type": "execute_result"
    }
   ],
   "source": [
    "t.shape"
   ]
  },
  {
   "cell_type": "code",
   "execution_count": 43,
   "id": "4d1c2894",
   "metadata": {},
   "outputs": [],
   "source": [
    "import numpy as np"
   ]
  },
  {
   "cell_type": "code",
   "execution_count": 44,
   "id": "af1d57c4",
   "metadata": {},
   "outputs": [
    {
     "ename": "TypeError",
     "evalue": "bincount() missing 1 required positional argument: 'x'",
     "output_type": "error",
     "traceback": [
      "\u001b[0;31m---------------------------------------------------------------------------\u001b[0m",
      "\u001b[0;31mTypeError\u001b[0m                                 Traceback (most recent call last)",
      "\u001b[0;32m/var/folders/th/1h5q6p_17090jywv1223brsc0000gp/T/ipykernel_42676/296623790.py\u001b[0m in \u001b[0;36m<module>\u001b[0;34m\u001b[0m\n\u001b[0;32m----> 1\u001b[0;31m \u001b[0mnp\u001b[0m\u001b[0;34m.\u001b[0m\u001b[0mbincount\u001b[0m\u001b[0;34m(\u001b[0m\u001b[0;34m)\u001b[0m\u001b[0;34m\u001b[0m\u001b[0;34m\u001b[0m\u001b[0m\n\u001b[0m",
      "\u001b[0;32m<__array_function__ internals>\u001b[0m in \u001b[0;36mbincount\u001b[0;34m(*args, **kwargs)\u001b[0m\n",
      "\u001b[0;31mTypeError\u001b[0m: bincount() missing 1 required positional argument: 'x'"
     ]
    }
   ],
   "source": [
    "np.bincount()"
   ]
  },
  {
   "cell_type": "code",
   "execution_count": null,
   "id": "2c835593",
   "metadata": {},
   "outputs": [],
   "source": []
  }
 ],
 "metadata": {
  "kernelspec": {
   "display_name": "Python 3 (ipykernel)",
   "language": "python",
   "name": "python3"
  },
  "language_info": {
   "codemirror_mode": {
    "name": "ipython",
    "version": 3
   },
   "file_extension": ".py",
   "mimetype": "text/x-python",
   "name": "python",
   "nbconvert_exporter": "python",
   "pygments_lexer": "ipython3",
   "version": "3.8.8"
  }
 },
 "nbformat": 4,
 "nbformat_minor": 5
}
