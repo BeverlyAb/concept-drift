{
 "cells": [
  {
   "cell_type": "markdown",
   "id": "5f4e083a",
   "metadata": {},
   "source": [
    "# Test Harness Development Notebook"
   ]
  },
  {
   "cell_type": "code",
   "execution_count": 1,
   "id": "27ac57ed",
   "metadata": {},
   "outputs": [],
   "source": [
    "import os\n",
    "import sys\n",
    "\n",
    "sys.path.append(os.path.dirname(os.getcwd()))\n",
    "\n",
    "import pandas as pd\n",
    "from sklearn.preprocessing import LabelEncoder\n",
    "\n",
    "%load_ext autoreload\n",
    "%autoreload 2"
   ]
  },
  {
   "cell_type": "markdown",
   "id": "ab5dde45",
   "metadata": {},
   "source": [
    "### Load & Prepare Data"
   ]
  },
  {
   "cell_type": "code",
   "execution_count": 2,
   "id": "1c6fc322",
   "metadata": {},
   "outputs": [],
   "source": [
    "data = pd.read_csv(\"../data/electricity-normalized.csv\")"
   ]
  },
  {
   "cell_type": "code",
   "execution_count": 3,
   "id": "6ea82d71",
   "metadata": {},
   "outputs": [],
   "source": [
    "# specify columns to keep and if categorical\n",
    "cols = (\n",
    "    (\"day\", True),\n",
    "    (\"period\", True),\n",
    "    (\"nswdemand\", False),\n",
    "    (\"vicdemand\", False),\n",
    "    (\"transfer\", False),\n",
    "    (\"class\", True),\n",
    ")\n",
    "\n",
    "data_clean = data[[col for col, _ in cols]].copy(deep=True)\n",
    "\n",
    "# label encode categorical\n",
    "catcols = (col for col, iscat in cols if iscat)\n",
    "\n",
    "for col in catcols:\n",
    "    data_clean[col] = LabelEncoder().fit_transform(data_clean[col])\n",
    "\n",
    "# convert to categorical\n",
    "def categorize(df, cols):\n",
    "    catcols = (col for col, iscat in cols if iscat)\n",
    "    for col in catcols:\n",
    "        df[col] = pd.Categorical(df[col])\n",
    "    return df\n",
    "\n",
    "\n",
    "data_clean = categorize(data_clean, cols)\n"
   ]
  },
  {
   "cell_type": "code",
   "execution_count": 4,
   "id": "099cb3f7",
   "metadata": {},
   "outputs": [
    {
     "data": {
      "text/html": [
       "<div>\n",
       "<style scoped>\n",
       "    .dataframe tbody tr th:only-of-type {\n",
       "        vertical-align: middle;\n",
       "    }\n",
       "\n",
       "    .dataframe tbody tr th {\n",
       "        vertical-align: top;\n",
       "    }\n",
       "\n",
       "    .dataframe thead th {\n",
       "        text-align: right;\n",
       "    }\n",
       "</style>\n",
       "<table border=\"1\" class=\"dataframe\">\n",
       "  <thead>\n",
       "    <tr style=\"text-align: right;\">\n",
       "      <th></th>\n",
       "      <th>day</th>\n",
       "      <th>period</th>\n",
       "      <th>nswdemand</th>\n",
       "      <th>vicdemand</th>\n",
       "      <th>transfer</th>\n",
       "      <th>class</th>\n",
       "    </tr>\n",
       "  </thead>\n",
       "  <tbody>\n",
       "    <tr>\n",
       "      <th>0</th>\n",
       "      <td>1</td>\n",
       "      <td>0</td>\n",
       "      <td>0.439155</td>\n",
       "      <td>0.422915</td>\n",
       "      <td>0.414912</td>\n",
       "      <td>1</td>\n",
       "    </tr>\n",
       "    <tr>\n",
       "      <th>1</th>\n",
       "      <td>1</td>\n",
       "      <td>1</td>\n",
       "      <td>0.415055</td>\n",
       "      <td>0.422915</td>\n",
       "      <td>0.414912</td>\n",
       "      <td>1</td>\n",
       "    </tr>\n",
       "    <tr>\n",
       "      <th>2</th>\n",
       "      <td>1</td>\n",
       "      <td>2</td>\n",
       "      <td>0.385004</td>\n",
       "      <td>0.422915</td>\n",
       "      <td>0.414912</td>\n",
       "      <td>1</td>\n",
       "    </tr>\n",
       "    <tr>\n",
       "      <th>3</th>\n",
       "      <td>1</td>\n",
       "      <td>3</td>\n",
       "      <td>0.314639</td>\n",
       "      <td>0.422915</td>\n",
       "      <td>0.414912</td>\n",
       "      <td>1</td>\n",
       "    </tr>\n",
       "    <tr>\n",
       "      <th>4</th>\n",
       "      <td>1</td>\n",
       "      <td>4</td>\n",
       "      <td>0.251116</td>\n",
       "      <td>0.422915</td>\n",
       "      <td>0.414912</td>\n",
       "      <td>0</td>\n",
       "    </tr>\n",
       "    <tr>\n",
       "      <th>...</th>\n",
       "      <td>...</td>\n",
       "      <td>...</td>\n",
       "      <td>...</td>\n",
       "      <td>...</td>\n",
       "      <td>...</td>\n",
       "      <td>...</td>\n",
       "    </tr>\n",
       "    <tr>\n",
       "      <th>45307</th>\n",
       "      <td>6</td>\n",
       "      <td>43</td>\n",
       "      <td>0.340672</td>\n",
       "      <td>0.255049</td>\n",
       "      <td>0.405263</td>\n",
       "      <td>0</td>\n",
       "    </tr>\n",
       "    <tr>\n",
       "      <th>45308</th>\n",
       "      <td>6</td>\n",
       "      <td>44</td>\n",
       "      <td>0.355549</td>\n",
       "      <td>0.241326</td>\n",
       "      <td>0.420614</td>\n",
       "      <td>0</td>\n",
       "    </tr>\n",
       "    <tr>\n",
       "      <th>45309</th>\n",
       "      <td>6</td>\n",
       "      <td>45</td>\n",
       "      <td>0.340970</td>\n",
       "      <td>0.247799</td>\n",
       "      <td>0.362281</td>\n",
       "      <td>0</td>\n",
       "    </tr>\n",
       "    <tr>\n",
       "      <th>45310</th>\n",
       "      <td>6</td>\n",
       "      <td>46</td>\n",
       "      <td>0.329366</td>\n",
       "      <td>0.345417</td>\n",
       "      <td>0.206579</td>\n",
       "      <td>1</td>\n",
       "    </tr>\n",
       "    <tr>\n",
       "      <th>45311</th>\n",
       "      <td>6</td>\n",
       "      <td>47</td>\n",
       "      <td>0.288753</td>\n",
       "      <td>0.355256</td>\n",
       "      <td>0.231140</td>\n",
       "      <td>0</td>\n",
       "    </tr>\n",
       "  </tbody>\n",
       "</table>\n",
       "<p>45312 rows × 6 columns</p>\n",
       "</div>"
      ],
      "text/plain": [
       "      day period  nswdemand  vicdemand  transfer class\n",
       "0       1      0   0.439155   0.422915  0.414912     1\n",
       "1       1      1   0.415055   0.422915  0.414912     1\n",
       "2       1      2   0.385004   0.422915  0.414912     1\n",
       "3       1      3   0.314639   0.422915  0.414912     1\n",
       "4       1      4   0.251116   0.422915  0.414912     0\n",
       "...    ..    ...        ...        ...       ...   ...\n",
       "45307   6     43   0.340672   0.255049  0.405263     0\n",
       "45308   6     44   0.355549   0.241326  0.420614     0\n",
       "45309   6     45   0.340970   0.247799  0.362281     0\n",
       "45310   6     46   0.329366   0.345417  0.206579     1\n",
       "45311   6     47   0.288753   0.355256  0.231140     0\n",
       "\n",
       "[45312 rows x 6 columns]"
      ]
     },
     "execution_count": 4,
     "metadata": {},
     "output_type": "execute_result"
    }
   ],
   "source": [
    "data_clean"
   ]
  },
  {
   "cell_type": "markdown",
   "id": "3312e8ad",
   "metadata": {},
   "source": [
    "### Experiment Development"
   ]
  },
  {
   "cell_type": "code",
   "execution_count": 5,
   "id": "90a9a013",
   "metadata": {},
   "outputs": [],
   "source": [
    "from sklearn.ensemble import RandomForestClassifier\n",
    "from sklearn.svm import SVC\n",
    "\n",
    "from test_harness.utils.utils import plot_experiment_error, plot_multiple_experiments\n",
    "\n",
    "from test_harness.datasets.dataset import Dataset\n",
    "from test_harness.experiments.experiment import Experiment\n",
    "from test_harness.experiments.baseline_experiment import BaselineExperiment\n",
    "from test_harness.experiments.topline_experiment import ToplineExperiment"
   ]
  },
  {
   "cell_type": "code",
   "execution_count": 14,
   "id": "93588619",
   "metadata": {},
   "outputs": [],
   "source": [
    "column_mapping = {\n",
    "    \"target\": \"class\",\n",
    "    \"numerical_features\": [\"nswdemand\", \"vicdemand\"],\n",
    "    \"categorical_features\": [\"day\", \"period\"],\n",
    "}\n",
    "\n",
    "ED_dataset = Dataset(\n",
    "    full_df=data_clean, column_mapping=column_mapping, window_size=2500\n",
    ")\n",
    "model = RandomForestClassifier(n_estimators=100, random_state=42)\n",
    "# model = SVC(C=0.8, random_state=42)"
   ]
  },
  {
   "cell_type": "code",
   "execution_count": 15,
   "id": "ce234aae",
   "metadata": {},
   "outputs": [],
   "source": [
    "baseline = BaselineExperiment(model=model, dataset=ED_dataset)\n",
    "topline = ToplineExperiment(model=model, dataset=ED_dataset)\n",
    "\n",
    "baseline.run()\n",
    "topline.run()\n",
    "\n",
    "# plot_experiment_error(baseline);\n",
    "# plot_experiment_error(topline);"
   ]
  },
  {
   "cell_type": "code",
   "execution_count": 16,
   "id": "6bde90e5",
   "metadata": {},
   "outputs": [
    {
     "data": {
      "text/plain": [
       "<AxesSubplot:title={'center':'Overall Score by Experiment'}, xlabel='0'>"
      ]
     },
     "execution_count": 16,
     "metadata": {},
     "output_type": "execute_result"
    },
    {
     "data": {
      "image/png": "[encoded data removed]",
      "text/plain": [
       "<Figure size 1080x504 with 1 Axes>"
      ]
     },
     "metadata": {
      "needs_background": "light"
     },
     "output_type": "display_data"
    }
   ],
   "source": [
    "exps = [baseline, topline]\n",
    "plot_multiple_experiments(exps)"
   ]
  },
  {
   "cell_type": "code",
   "execution_count": null,
   "id": "0358eff9",
   "metadata": {},
   "outputs": [],
   "source": []
  },
  {
   "cell_type": "code",
   "execution_count": null,
   "id": "152f0f65",
   "metadata": {},
   "outputs": [],
   "source": []
  },
  {
   "cell_type": "code",
   "execution_count": null,
   "id": "a86de759",
   "metadata": {},
   "outputs": [],
   "source": []
  },
  {
   "cell_type": "code",
   "execution_count": null,
   "id": "965c4a19",
   "metadata": {},
   "outputs": [],
   "source": []
  },
  {
   "cell_type": "code",
   "execution_count": null,
   "id": "afada956",
   "metadata": {},
   "outputs": [],
   "source": []
  },
  {
   "cell_type": "code",
   "execution_count": null,
   "id": "4d33c4b8",
   "metadata": {},
   "outputs": [],
   "source": [
    "experiments = [{'name': 'baseline', 'experiment': BaselineExperiment(model=model, dataset=ED_dataset)},\n",
    "               {'name': 'topline', 'experiment': ToplineExperiment(model=model, dataset=ED_dataset)}]"
   ]
  }
 ],
 "metadata": {
  "kernelspec": {
   "display_name": "Python 3 (ipykernel)",
   "language": "python",
   "name": "python3"
  },
  "language_info": {
   "codemirror_mode": {
    "name": "ipython",
    "version": 3
   },
   "file_extension": ".py",
   "mimetype": "text/x-python",
   "name": "python",
   "nbconvert_exporter": "python",
   "pygments_lexer": "ipython3",
   "version": "3.8.8"
  }
 },
 "nbformat": 4,
 "nbformat_minor": 5
}
