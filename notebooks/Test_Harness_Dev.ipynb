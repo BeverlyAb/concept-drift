{
 "cells": [
  {
   "cell_type": "markdown",
   "id": "5f4e083a",
   "metadata": {},
   "source": [
    "# Test Harness Development Notebook"
   ]
  },
  {
   "cell_type": "code",
   "execution_count": 1,
   "id": "4e873008",
   "metadata": {},
   "outputs": [],
   "source": [
    "import os\n",
    "import sys\n",
    "\n",
    "sys.path.append(os.path.dirname(os.getcwd()))\n",
    "\n",
    "import pandas as pd\n",
    "from sklearn.preprocessing import LabelEncoder\n",
    "\n",
    "%load_ext autoreload\n",
    "%autoreload 2"
   ]
  },
  {
   "cell_type": "markdown",
   "id": "5bd48143",
   "metadata": {},
   "source": [
    "### Load & Prepare Data"
   ]
  },
  {
   "cell_type": "code",
   "execution_count": 2,
   "id": "5706e056",
   "metadata": {},
   "outputs": [],
   "source": [
    "data = pd.read_csv(\"../data/electricity-normalized.csv\")"
   ]
  },
  {
   "cell_type": "code",
   "execution_count": 3,
   "id": "6ea82d71",
   "metadata": {},
   "outputs": [],
   "source": [
    "# specify columns to keep and if categorical\n",
    "cols = (\n",
    "    (\"day\", True),\n",
    "    (\"period\", True),\n",
    "    (\"nswdemand\", False),\n",
    "    (\"vicdemand\", False),\n",
    "    (\"transfer\", False),\n",
    "    (\"class\", True),\n",
    ")\n",
    "\n",
    "data_clean = data[[col for col, _ in cols]].copy(deep=True)\n",
    "\n",
    "# label encode categorical\n",
    "catcols = (col for col, iscat in cols if iscat)\n",
    "\n",
    "for col in catcols:\n",
    "    data_clean[col] = LabelEncoder().fit_transform(data_clean[col])\n",
    "\n",
    "# convert to categorical\n",
    "def categorize(df, cols):\n",
    "    catcols = (col for col, iscat in cols if iscat)\n",
    "    for col in catcols:\n",
    "        df[col] = pd.Categorical(df[col])\n",
    "    return df\n",
    "\n",
    "\n",
    "data_clean = categorize(data_clean, cols)\n"
   ]
  },
  {
   "cell_type": "code",
   "execution_count": 4,
   "id": "099cb3f7",
   "metadata": {},
   "outputs": [
    {
     "data": {
      "text/html": [
       "<div>\n",
       "<style scoped>\n",
       "    .dataframe tbody tr th:only-of-type {\n",
       "        vertical-align: middle;\n",
       "    }\n",
       "\n",
       "    .dataframe tbody tr th {\n",
       "        vertical-align: top;\n",
       "    }\n",
       "\n",
       "    .dataframe thead th {\n",
       "        text-align: right;\n",
       "    }\n",
       "</style>\n",
       "<table border=\"1\" class=\"dataframe\">\n",
       "  <thead>\n",
       "    <tr style=\"text-align: right;\">\n",
       "      <th></th>\n",
       "      <th>day</th>\n",
       "      <th>period</th>\n",
       "      <th>nswdemand</th>\n",
       "      <th>vicdemand</th>\n",
       "      <th>transfer</th>\n",
       "      <th>class</th>\n",
       "    </tr>\n",
       "  </thead>\n",
       "  <tbody>\n",
       "    <tr>\n",
       "      <th>0</th>\n",
       "      <td>1</td>\n",
       "      <td>0</td>\n",
       "      <td>0.439155</td>\n",
       "      <td>0.422915</td>\n",
       "      <td>0.414912</td>\n",
       "      <td>1</td>\n",
       "    </tr>\n",
       "    <tr>\n",
       "      <th>1</th>\n",
       "      <td>1</td>\n",
       "      <td>1</td>\n",
       "      <td>0.415055</td>\n",
       "      <td>0.422915</td>\n",
       "      <td>0.414912</td>\n",
       "      <td>1</td>\n",
       "    </tr>\n",
       "    <tr>\n",
       "      <th>2</th>\n",
       "      <td>1</td>\n",
       "      <td>2</td>\n",
       "      <td>0.385004</td>\n",
       "      <td>0.422915</td>\n",
       "      <td>0.414912</td>\n",
       "      <td>1</td>\n",
       "    </tr>\n",
       "    <tr>\n",
       "      <th>3</th>\n",
       "      <td>1</td>\n",
       "      <td>3</td>\n",
       "      <td>0.314639</td>\n",
       "      <td>0.422915</td>\n",
       "      <td>0.414912</td>\n",
       "      <td>1</td>\n",
       "    </tr>\n",
       "    <tr>\n",
       "      <th>4</th>\n",
       "      <td>1</td>\n",
       "      <td>4</td>\n",
       "      <td>0.251116</td>\n",
       "      <td>0.422915</td>\n",
       "      <td>0.414912</td>\n",
       "      <td>0</td>\n",
       "    </tr>\n",
       "    <tr>\n",
       "      <th>...</th>\n",
       "      <td>...</td>\n",
       "      <td>...</td>\n",
       "      <td>...</td>\n",
       "      <td>...</td>\n",
       "      <td>...</td>\n",
       "      <td>...</td>\n",
       "    </tr>\n",
       "    <tr>\n",
       "      <th>45307</th>\n",
       "      <td>6</td>\n",
       "      <td>43</td>\n",
       "      <td>0.340672</td>\n",
       "      <td>0.255049</td>\n",
       "      <td>0.405263</td>\n",
       "      <td>0</td>\n",
       "    </tr>\n",
       "    <tr>\n",
       "      <th>45308</th>\n",
       "      <td>6</td>\n",
       "      <td>44</td>\n",
       "      <td>0.355549</td>\n",
       "      <td>0.241326</td>\n",
       "      <td>0.420614</td>\n",
       "      <td>0</td>\n",
       "    </tr>\n",
       "    <tr>\n",
       "      <th>45309</th>\n",
       "      <td>6</td>\n",
       "      <td>45</td>\n",
       "      <td>0.340970</td>\n",
       "      <td>0.247799</td>\n",
       "      <td>0.362281</td>\n",
       "      <td>0</td>\n",
       "    </tr>\n",
       "    <tr>\n",
       "      <th>45310</th>\n",
       "      <td>6</td>\n",
       "      <td>46</td>\n",
       "      <td>0.329366</td>\n",
       "      <td>0.345417</td>\n",
       "      <td>0.206579</td>\n",
       "      <td>1</td>\n",
       "    </tr>\n",
       "    <tr>\n",
       "      <th>45311</th>\n",
       "      <td>6</td>\n",
       "      <td>47</td>\n",
       "      <td>0.288753</td>\n",
       "      <td>0.355256</td>\n",
       "      <td>0.231140</td>\n",
       "      <td>0</td>\n",
       "    </tr>\n",
       "  </tbody>\n",
       "</table>\n",
       "<p>45312 rows × 6 columns</p>\n",
       "</div>"
      ],
      "text/plain": [
       "      day period  nswdemand  vicdemand  transfer class\n",
       "0       1      0   0.439155   0.422915  0.414912     1\n",
       "1       1      1   0.415055   0.422915  0.414912     1\n",
       "2       1      2   0.385004   0.422915  0.414912     1\n",
       "3       1      3   0.314639   0.422915  0.414912     1\n",
       "4       1      4   0.251116   0.422915  0.414912     0\n",
       "...    ..    ...        ...        ...       ...   ...\n",
       "45307   6     43   0.340672   0.255049  0.405263     0\n",
       "45308   6     44   0.355549   0.241326  0.420614     0\n",
       "45309   6     45   0.340970   0.247799  0.362281     0\n",
       "45310   6     46   0.329366   0.345417  0.206579     1\n",
       "45311   6     47   0.288753   0.355256  0.231140     0\n",
       "\n",
       "[45312 rows x 6 columns]"
      ]
     },
     "execution_count": 4,
     "metadata": {},
     "output_type": "execute_result"
    }
   ],
   "source": [
    "data_clean"
   ]
  },
  {
   "cell_type": "markdown",
   "id": "c8a64d77",
   "metadata": {},
   "source": [
    "### Experiment Development"
   ]
  },
  {
   "cell_type": "code",
   "execution_count": 5,
   "id": "37e9957f",
   "metadata": {},
   "outputs": [],
   "source": [
    "from sklearn.ensemble import RandomForestClassifier\n",
    "\n",
    "from test_harness.datasets.dataset import Dataset\n",
    "from test_harness.experiments.experiment import Experiment"
   ]
  },
  {
   "cell_type": "code",
   "execution_count": 6,
   "id": "175d5758",
   "metadata": {},
   "outputs": [],
   "source": [
    "column_mapping = {\n",
    "    \"target\": \"class\",\n",
    "    \"numerical_features\": [\"nswdemand\", \"vicdemand\", \"transfer\"],\n",
    "    \"categorical_features\": [\"day\", \"period\"],\n",
    "}\n",
    "\n",
    "ED_dataset = Dataset(\n",
    "    full_df=data_clean, column_mapping=column_mapping, window_size=2500\n",
    ")"
   ]
  },
  {
   "cell_type": "code",
   "execution_count": 8,
   "id": "ba43e0d1",
   "metadata": {},
   "outputs": [
    {
     "name": "stdout",
     "output_type": "stream",
     "text": [
      "DETECTION WINDOW IDX: 1\n",
      "WINDOW_START: 2500\n",
      "DETECTION WINDOW IDX: 2\n",
      "WINDOW_START: 5000\n",
      "DETECTION WINDOW IDX: 3\n",
      "WINDOW_START: 7500\n",
      "DETECTION WINDOW IDX: 4\n",
      "WINDOW_START: 10000\n",
      "DETECTION WINDOW IDX: 5\n",
      "WINDOW_START: 12500\n",
      "DETECTION WINDOW IDX: 6\n",
      "WINDOW_START: 15000\n",
      "DETECTION WINDOW IDX: 7\n",
      "WINDOW_START: 17500\n",
      "DETECTION WINDOW IDX: 8\n",
      "WINDOW_START: 20000\n",
      "DETECTION WINDOW IDX: 9\n",
      "WINDOW_START: 22500\n",
      "DETECTION WINDOW IDX: 10\n",
      "WINDOW_START: 25000\n",
      "DETECTION WINDOW IDX: 11\n",
      "WINDOW_START: 27500\n",
      "DETECTION WINDOW IDX: 12\n",
      "WINDOW_START: 30000\n",
      "DETECTION WINDOW IDX: 13\n",
      "WINDOW_START: 32500\n",
      "DETECTION WINDOW IDX: 14\n",
      "WINDOW_START: 35000\n",
      "DETECTION WINDOW IDX: 15\n",
      "WINDOW_START: 37500\n",
      "DETECTION WINDOW IDX: 16\n",
      "WINDOW_START: 40000\n",
      "DETECTION WINDOW IDX: 17\n",
      "WINDOW_START: 42500\n",
      "DETECTION WINDOW IDX: 1\n",
      "WINDOW_START: 2500\n",
      "DETECTION WINDOW IDX: 2\n",
      "WINDOW_START: 5000\n",
      "DETECTION WINDOW IDX: 3\n",
      "WINDOW_START: 7500\n",
      "DETECTION WINDOW IDX: 4\n",
      "WINDOW_START: 10000\n",
      "DETECTION WINDOW IDX: 5\n",
      "WINDOW_START: 12500\n",
      "DETECTION WINDOW IDX: 6\n",
      "WINDOW_START: 15000\n",
      "DETECTION WINDOW IDX: 7\n",
      "WINDOW_START: 17500\n",
      "DETECTION WINDOW IDX: 8\n",
      "WINDOW_START: 20000\n",
      "DETECTION WINDOW IDX: 9\n",
      "WINDOW_START: 22500\n",
      "DETECTION WINDOW IDX: 10\n",
      "WINDOW_START: 25000\n",
      "DETECTION WINDOW IDX: 11\n",
      "WINDOW_START: 27500\n",
      "DETECTION WINDOW IDX: 12\n",
      "WINDOW_START: 30000\n",
      "DETECTION WINDOW IDX: 13\n",
      "WINDOW_START: 32500\n",
      "DETECTION WINDOW IDX: 14\n",
      "WINDOW_START: 35000\n",
      "DETECTION WINDOW IDX: 15\n",
      "WINDOW_START: 37500\n",
      "DETECTION WINDOW IDX: 16\n",
      "WINDOW_START: 40000\n",
      "DETECTION WINDOW IDX: 17\n",
      "WINDOW_START: 42500\n"
     ]
    }
   ],
   "source": [
    "# baseline \n",
    "baseline_experiment = Experiment(\n",
    "    model=RandomForestClassifier(n_estimators=5, random_state=42), dataset=ED_dataset\n",
    ")\n",
    "baseline_experiment.run_baseline()\n",
    "\n",
    "# topline\n",
    "topline_experiment = Experiment(\n",
    "    model=RandomForestClassifier(n_estimators=5, random_state=42), dataset=ED_dataset\n",
    ")\n",
    "topline_experiment.run_topline()"
   ]
  },
  {
   "cell_type": "code",
   "execution_count": 9,
   "id": "4978e7af",
   "metadata": {},
   "outputs": [
    {
     "data": {
      "image/png": "[encoded data removed]",
      "text/plain": [
       "<Figure size 1080x504 with 1 Axes>"
      ]
     },
     "metadata": {
      "needs_background": "light"
     },
     "output_type": "display_data"
    },
    {
     "data": {
      "image/png": "[encoded data removed]",
      "text/plain": [
       "<Figure size 1080x504 with 1 Axes>"
      ]
     },
     "metadata": {
      "needs_background": "light"
     },
     "output_type": "display_data"
    }
   ],
   "source": [
    "baseline_experiment.plot_error()\n",
    "topline_experiment.plot_error()"
   ]
  },
  {
   "cell_type": "code",
   "execution_count": null,
   "id": "235e6078",
   "metadata": {},
   "outputs": [],
   "source": []
  }
 ],
 "metadata": {
  "kernelspec": {
   "display_name": "Python 3 (ipykernel)",
   "language": "python",
   "name": "python3"
  },
  "language_info": {
   "codemirror_mode": {
    "name": "ipython",
    "version": 3
   },
   "file_extension": ".py",
   "mimetype": "text/x-python",
   "name": "python",
   "nbconvert_exporter": "python",
   "pygments_lexer": "ipython3",
   "version": "3.8.8"
  }
 },
 "nbformat": 4,
 "nbformat_minor": 5
}
