{
  "cells": [
    {
      "cell_type": "markdown",
      "metadata": {
        "id": "view-in-github",
        "colab_type": "text"
      },
      "source": [
        "<a href=\"https://colab.research.google.com/github/BeverlyAb/concept-drift/blob/main/Covertype_EDA.ipynb\" target=\"_parent\"><img src=\"https://colab.research.google.com/assets/colab-badge.svg\" alt=\"Open In Colab\"/></a>"
      ]
    },
    {
      "cell_type": "markdown",
      "id": "920c752a",
      "metadata": {
        "id": "920c752a"
      },
      "source": [
        "# CoverType EDA\n",
        "\n",
        "The [Covertype data set](https://archive.ics.uci.edu/ml/datasets/covertype) is a widely used dataset for benchmarking concept drift handling systems [ref](https://arxiv.org/pdf/1704.00023.pdf). The data set is formulated for the problem of predicting forest cover type from cartographic variables only (no remotely sensed data). The actual forest cover type for a given observation (30 x 30 meter cell) was determined from US Forest Service (USFS) Region 2 Resource Information System (RIS) data. Independent variables were derived from data originally obtained from US Geological Survey (USGS) and USFS data. Data is in raw form (not scaled) and contains binary (0 or 1) columns of data for qualitative independent variables (wilderness areas and soil types).\n",
        "\n",
        "The study area includes four wilderness areas located in the Roosevelt National Forest of northern Colorado. These areas represent forests with minimal human-caused disturbances, so that existing forest cover types are more a result of ecological processes rather than forest management practices. As such, the drift that exists in this dataset is expected to be categorical in nature, rather than time-dependent.\n",
        "\n",
        "In this notebook, we:\n",
        "- explore the the data set\n",
        "- realize that significant drift is not present across the 4 `wilderness_area`'s\n",
        "- apply [a method](https://arxiv.org/pdf/1704.00023.pdf) to induce drift\n",
        "- save out the drifting dataset for experimentation"
      ]
    },
    {
      "cell_type": "code",
      "execution_count": null,
      "id": "acdbc842",
      "metadata": {
        "id": "acdbc842"
      },
      "outputs": [],
      "source": [
        "import os\n",
        "import sys\n",
        "\n",
        "sys.path.append(os.path.dirname(os.getcwd()))\n",
        "\n",
        "import pickle\n",
        "import pandas as pd\n",
        "from sklearn.preprocessing import LabelEncoder, MinMaxScaler\n",
        "\n",
        "%load_ext nb_black\n",
        "%load_ext autoreload\n",
        "%autoreload 2\n"
      ]
    },
    {
      "cell_type": "markdown",
      "id": "78620ef9",
      "metadata": {
        "id": "78620ef9"
      },
      "source": [
        "## Load Data"
      ]
    },
    {
      "cell_type": "code",
      "execution_count": null,
      "id": "a11a2268",
      "metadata": {
        "id": "a11a2268",
        "outputId": "2daad62d-5c97-48ef-b06b-c33aa0bb66d1"
      },
      "outputs": [
        {
          "data": {
            "application/javascript": "\n            setTimeout(function() {\n                var nbb_cell_id = 2;\n                var nbb_unformatted_code = \"# specify columns to keep and if categorical\\ncol_names = [\\n    (\\\"elevation\\\", False),\\n    (\\\"aspect\\\", False),\\n    (\\\"slope\\\", False),\\n    (\\\"horizontal_dist_to_hydrology\\\", False),\\n    (\\\"vertical_dist_to_hydrology\\\", False),\\n    (\\\"horizontal_dist_to_roadways\\\", False),\\n    (\\\"hillshade_9am\\\", False),\\n    (\\\"hillshade_noon\\\", False),\\n    (\\\"hillshade_3pm\\\", False),\\n    (\\\"horizontal_dist_to_fire_points\\\", False),\\n]\\nwilderness_area_cols = [(f\\\"wilderness_area_{i+1}\\\", True) for i in range(4)]\\nsoil_type_cols = [(f\\\"soil_type_{i+1}\\\", True) for i in range(40)]\\n\\ncol_names = col_names + wilderness_area_cols + soil_type_cols + [(\\\"cover_type\\\", True)]\";\n                var nbb_formatted_code = \"# specify columns to keep and if categorical\\ncol_names = [\\n    (\\\"elevation\\\", False),\\n    (\\\"aspect\\\", False),\\n    (\\\"slope\\\", False),\\n    (\\\"horizontal_dist_to_hydrology\\\", False),\\n    (\\\"vertical_dist_to_hydrology\\\", False),\\n    (\\\"horizontal_dist_to_roadways\\\", False),\\n    (\\\"hillshade_9am\\\", False),\\n    (\\\"hillshade_noon\\\", False),\\n    (\\\"hillshade_3pm\\\", False),\\n    (\\\"horizontal_dist_to_fire_points\\\", False),\\n]\\nwilderness_area_cols = [(f\\\"wilderness_area_{i+1}\\\", True) for i in range(4)]\\nsoil_type_cols = [(f\\\"soil_type_{i+1}\\\", True) for i in range(40)]\\n\\ncol_names = col_names + wilderness_area_cols + soil_type_cols + [(\\\"cover_type\\\", True)]\";\n                var nbb_cells = Jupyter.notebook.get_cells();\n                for (var i = 0; i < nbb_cells.length; ++i) {\n                    if (nbb_cells[i].input_prompt_number == nbb_cell_id) {\n                        if (nbb_cells[i].get_text() == nbb_unformatted_code) {\n                             nbb_cells[i].set_text(nbb_formatted_code);\n                        }\n                        break;\n                    }\n                }\n            }, 500);\n            ",
            "text/plain": [
              "<IPython.core.display.Javascript object>"
            ]
          },
          "metadata": {},
          "output_type": "display_data"
        }
      ],
      "source": [
        "# specify columns to keep and if categorical\n",
        "col_names = [\n",
        "    (\"elevation\", False),\n",
        "    (\"aspect\", False),\n",
        "    (\"slope\", False),\n",
        "    (\"horizontal_dist_to_hydrology\", False),\n",
        "    (\"vertical_dist_to_hydrology\", False),\n",
        "    (\"horizontal_dist_to_roadways\", False),\n",
        "    (\"hillshade_9am\", False),\n",
        "    (\"hillshade_noon\", False),\n",
        "    (\"hillshade_3pm\", False),\n",
        "    (\"horizontal_dist_to_fire_points\", False),\n",
        "]\n",
        "wilderness_area_cols = [(f\"wilderness_area_{i+1}\", True) for i in range(4)]\n",
        "soil_type_cols = [(f\"soil_type_{i+1}\", True) for i in range(40)]\n",
        "\n",
        "col_names = col_names + wilderness_area_cols + soil_type_cols + [(\"cover_type\", True)]"
      ]
    },
    {
      "cell_type": "code",
      "execution_count": null,
      "id": "4f8aef3d",
      "metadata": {
        "id": "4f8aef3d",
        "outputId": "8d493245-d42c-4699-dc2b-d9bf2924153a"
      },
      "outputs": [
        {
          "data": {
            "application/javascript": "\n            setTimeout(function() {\n                var nbb_cell_id = 3;\n                var nbb_unformatted_code = \"df = pd.read_csv(\\n    \\\"../data/covtype.data\\\", header=None, names=[col_name[0] for col_name in col_names]\\n)\";\n                var nbb_formatted_code = \"df = pd.read_csv(\\n    \\\"../data/covtype.data\\\", header=None, names=[col_name[0] for col_name in col_names]\\n)\";\n                var nbb_cells = Jupyter.notebook.get_cells();\n                for (var i = 0; i < nbb_cells.length; ++i) {\n                    if (nbb_cells[i].input_prompt_number == nbb_cell_id) {\n                        if (nbb_cells[i].get_text() == nbb_unformatted_code) {\n                             nbb_cells[i].set_text(nbb_formatted_code);\n                        }\n                        break;\n                    }\n                }\n            }, 500);\n            ",
            "text/plain": [
              "<IPython.core.display.Javascript object>"
            ]
          },
          "metadata": {},
          "output_type": "display_data"
        }
      ],
      "source": [
        "df = pd.read_csv(\n",
        "    \"../data/covtype.data\", header=None, names=[col_name[0] for col_name in col_names]\n",
        ")"
      ]
    },
    {
      "cell_type": "code",
      "execution_count": null,
      "id": "1d450df5",
      "metadata": {
        "id": "1d450df5",
        "outputId": "7bae73b7-7240-415b-ad4b-90ee34018404"
      },
      "outputs": [
        {
          "data": {
            "text/html": [
              "<div>\n",
              "<style scoped>\n",
              "    .dataframe tbody tr th:only-of-type {\n",
              "        vertical-align: middle;\n",
              "    }\n",
              "\n",
              "    .dataframe tbody tr th {\n",
              "        vertical-align: top;\n",
              "    }\n",
              "\n",
              "    .dataframe thead th {\n",
              "        text-align: right;\n",
              "    }\n",
              "</style>\n",
              "<table border=\"1\" class=\"dataframe\">\n",
              "  <thead>\n",
              "    <tr style=\"text-align: right;\">\n",
              "      <th></th>\n",
              "      <th>elevation</th>\n",
              "      <th>aspect</th>\n",
              "      <th>slope</th>\n",
              "      <th>horizontal_dist_to_hydrology</th>\n",
              "      <th>vertical_dist_to_hydrology</th>\n",
              "      <th>horizontal_dist_to_roadways</th>\n",
              "      <th>hillshade_9am</th>\n",
              "      <th>hillshade_noon</th>\n",
              "      <th>hillshade_3pm</th>\n",
              "      <th>horizontal_dist_to_fire_points</th>\n",
              "      <th>...</th>\n",
              "      <th>soil_type_32</th>\n",
              "      <th>soil_type_33</th>\n",
              "      <th>soil_type_34</th>\n",
              "      <th>soil_type_35</th>\n",
              "      <th>soil_type_36</th>\n",
              "      <th>soil_type_37</th>\n",
              "      <th>soil_type_38</th>\n",
              "      <th>soil_type_39</th>\n",
              "      <th>soil_type_40</th>\n",
              "      <th>cover_type</th>\n",
              "    </tr>\n",
              "  </thead>\n",
              "  <tbody>\n",
              "    <tr>\n",
              "      <th>0</th>\n",
              "      <td>2596</td>\n",
              "      <td>51</td>\n",
              "      <td>3</td>\n",
              "      <td>258</td>\n",
              "      <td>0</td>\n",
              "      <td>510</td>\n",
              "      <td>221</td>\n",
              "      <td>232</td>\n",
              "      <td>148</td>\n",
              "      <td>6279</td>\n",
              "      <td>...</td>\n",
              "      <td>0</td>\n",
              "      <td>0</td>\n",
              "      <td>0</td>\n",
              "      <td>0</td>\n",
              "      <td>0</td>\n",
              "      <td>0</td>\n",
              "      <td>0</td>\n",
              "      <td>0</td>\n",
              "      <td>0</td>\n",
              "      <td>5</td>\n",
              "    </tr>\n",
              "    <tr>\n",
              "      <th>1</th>\n",
              "      <td>2590</td>\n",
              "      <td>56</td>\n",
              "      <td>2</td>\n",
              "      <td>212</td>\n",
              "      <td>-6</td>\n",
              "      <td>390</td>\n",
              "      <td>220</td>\n",
              "      <td>235</td>\n",
              "      <td>151</td>\n",
              "      <td>6225</td>\n",
              "      <td>...</td>\n",
              "      <td>0</td>\n",
              "      <td>0</td>\n",
              "      <td>0</td>\n",
              "      <td>0</td>\n",
              "      <td>0</td>\n",
              "      <td>0</td>\n",
              "      <td>0</td>\n",
              "      <td>0</td>\n",
              "      <td>0</td>\n",
              "      <td>5</td>\n",
              "    </tr>\n",
              "    <tr>\n",
              "      <th>2</th>\n",
              "      <td>2804</td>\n",
              "      <td>139</td>\n",
              "      <td>9</td>\n",
              "      <td>268</td>\n",
              "      <td>65</td>\n",
              "      <td>3180</td>\n",
              "      <td>234</td>\n",
              "      <td>238</td>\n",
              "      <td>135</td>\n",
              "      <td>6121</td>\n",
              "      <td>...</td>\n",
              "      <td>0</td>\n",
              "      <td>0</td>\n",
              "      <td>0</td>\n",
              "      <td>0</td>\n",
              "      <td>0</td>\n",
              "      <td>0</td>\n",
              "      <td>0</td>\n",
              "      <td>0</td>\n",
              "      <td>0</td>\n",
              "      <td>2</td>\n",
              "    </tr>\n",
              "    <tr>\n",
              "      <th>3</th>\n",
              "      <td>2785</td>\n",
              "      <td>155</td>\n",
              "      <td>18</td>\n",
              "      <td>242</td>\n",
              "      <td>118</td>\n",
              "      <td>3090</td>\n",
              "      <td>238</td>\n",
              "      <td>238</td>\n",
              "      <td>122</td>\n",
              "      <td>6211</td>\n",
              "      <td>...</td>\n",
              "      <td>0</td>\n",
              "      <td>0</td>\n",
              "      <td>0</td>\n",
              "      <td>0</td>\n",
              "      <td>0</td>\n",
              "      <td>0</td>\n",
              "      <td>0</td>\n",
              "      <td>0</td>\n",
              "      <td>0</td>\n",
              "      <td>2</td>\n",
              "    </tr>\n",
              "    <tr>\n",
              "      <th>4</th>\n",
              "      <td>2595</td>\n",
              "      <td>45</td>\n",
              "      <td>2</td>\n",
              "      <td>153</td>\n",
              "      <td>-1</td>\n",
              "      <td>391</td>\n",
              "      <td>220</td>\n",
              "      <td>234</td>\n",
              "      <td>150</td>\n",
              "      <td>6172</td>\n",
              "      <td>...</td>\n",
              "      <td>0</td>\n",
              "      <td>0</td>\n",
              "      <td>0</td>\n",
              "      <td>0</td>\n",
              "      <td>0</td>\n",
              "      <td>0</td>\n",
              "      <td>0</td>\n",
              "      <td>0</td>\n",
              "      <td>0</td>\n",
              "      <td>5</td>\n",
              "    </tr>\n",
              "    <tr>\n",
              "      <th>...</th>\n",
              "      <td>...</td>\n",
              "      <td>...</td>\n",
              "      <td>...</td>\n",
              "      <td>...</td>\n",
              "      <td>...</td>\n",
              "      <td>...</td>\n",
              "      <td>...</td>\n",
              "      <td>...</td>\n",
              "      <td>...</td>\n",
              "      <td>...</td>\n",
              "      <td>...</td>\n",
              "      <td>...</td>\n",
              "      <td>...</td>\n",
              "      <td>...</td>\n",
              "      <td>...</td>\n",
              "      <td>...</td>\n",
              "      <td>...</td>\n",
              "      <td>...</td>\n",
              "      <td>...</td>\n",
              "      <td>...</td>\n",
              "      <td>...</td>\n",
              "    </tr>\n",
              "    <tr>\n",
              "      <th>581007</th>\n",
              "      <td>2396</td>\n",
              "      <td>153</td>\n",
              "      <td>20</td>\n",
              "      <td>85</td>\n",
              "      <td>17</td>\n",
              "      <td>108</td>\n",
              "      <td>240</td>\n",
              "      <td>237</td>\n",
              "      <td>118</td>\n",
              "      <td>837</td>\n",
              "      <td>...</td>\n",
              "      <td>0</td>\n",
              "      <td>0</td>\n",
              "      <td>0</td>\n",
              "      <td>0</td>\n",
              "      <td>0</td>\n",
              "      <td>0</td>\n",
              "      <td>0</td>\n",
              "      <td>0</td>\n",
              "      <td>0</td>\n",
              "      <td>3</td>\n",
              "    </tr>\n",
              "    <tr>\n",
              "      <th>581008</th>\n",
              "      <td>2391</td>\n",
              "      <td>152</td>\n",
              "      <td>19</td>\n",
              "      <td>67</td>\n",
              "      <td>12</td>\n",
              "      <td>95</td>\n",
              "      <td>240</td>\n",
              "      <td>237</td>\n",
              "      <td>119</td>\n",
              "      <td>845</td>\n",
              "      <td>...</td>\n",
              "      <td>0</td>\n",
              "      <td>0</td>\n",
              "      <td>0</td>\n",
              "      <td>0</td>\n",
              "      <td>0</td>\n",
              "      <td>0</td>\n",
              "      <td>0</td>\n",
              "      <td>0</td>\n",
              "      <td>0</td>\n",
              "      <td>3</td>\n",
              "    </tr>\n",
              "    <tr>\n",
              "      <th>581009</th>\n",
              "      <td>2386</td>\n",
              "      <td>159</td>\n",
              "      <td>17</td>\n",
              "      <td>60</td>\n",
              "      <td>7</td>\n",
              "      <td>90</td>\n",
              "      <td>236</td>\n",
              "      <td>241</td>\n",
              "      <td>130</td>\n",
              "      <td>854</td>\n",
              "      <td>...</td>\n",
              "      <td>0</td>\n",
              "      <td>0</td>\n",
              "      <td>0</td>\n",
              "      <td>0</td>\n",
              "      <td>0</td>\n",
              "      <td>0</td>\n",
              "      <td>0</td>\n",
              "      <td>0</td>\n",
              "      <td>0</td>\n",
              "      <td>3</td>\n",
              "    </tr>\n",
              "    <tr>\n",
              "      <th>581010</th>\n",
              "      <td>2384</td>\n",
              "      <td>170</td>\n",
              "      <td>15</td>\n",
              "      <td>60</td>\n",
              "      <td>5</td>\n",
              "      <td>90</td>\n",
              "      <td>230</td>\n",
              "      <td>245</td>\n",
              "      <td>143</td>\n",
              "      <td>864</td>\n",
              "      <td>...</td>\n",
              "      <td>0</td>\n",
              "      <td>0</td>\n",
              "      <td>0</td>\n",
              "      <td>0</td>\n",
              "      <td>0</td>\n",
              "      <td>0</td>\n",
              "      <td>0</td>\n",
              "      <td>0</td>\n",
              "      <td>0</td>\n",
              "      <td>3</td>\n",
              "    </tr>\n",
              "    <tr>\n",
              "      <th>581011</th>\n",
              "      <td>2383</td>\n",
              "      <td>165</td>\n",
              "      <td>13</td>\n",
              "      <td>60</td>\n",
              "      <td>4</td>\n",
              "      <td>67</td>\n",
              "      <td>231</td>\n",
              "      <td>244</td>\n",
              "      <td>141</td>\n",
              "      <td>875</td>\n",
              "      <td>...</td>\n",
              "      <td>0</td>\n",
              "      <td>0</td>\n",
              "      <td>0</td>\n",
              "      <td>0</td>\n",
              "      <td>0</td>\n",
              "      <td>0</td>\n",
              "      <td>0</td>\n",
              "      <td>0</td>\n",
              "      <td>0</td>\n",
              "      <td>3</td>\n",
              "    </tr>\n",
              "  </tbody>\n",
              "</table>\n",
              "<p>581012 rows × 55 columns</p>\n",
              "</div>"
            ],
            "text/plain": [
              "        elevation  aspect  slope  horizontal_dist_to_hydrology  \\\n",
              "0            2596      51      3                           258   \n",
              "1            2590      56      2                           212   \n",
              "2            2804     139      9                           268   \n",
              "3            2785     155     18                           242   \n",
              "4            2595      45      2                           153   \n",
              "...           ...     ...    ...                           ...   \n",
              "581007       2396     153     20                            85   \n",
              "581008       2391     152     19                            67   \n",
              "581009       2386     159     17                            60   \n",
              "581010       2384     170     15                            60   \n",
              "581011       2383     165     13                            60   \n",
              "\n",
              "        vertical_dist_to_hydrology  horizontal_dist_to_roadways  \\\n",
              "0                                0                          510   \n",
              "1                               -6                          390   \n",
              "2                               65                         3180   \n",
              "3                              118                         3090   \n",
              "4                               -1                          391   \n",
              "...                            ...                          ...   \n",
              "581007                          17                          108   \n",
              "581008                          12                           95   \n",
              "581009                           7                           90   \n",
              "581010                           5                           90   \n",
              "581011                           4                           67   \n",
              "\n",
              "        hillshade_9am  hillshade_noon  hillshade_3pm  \\\n",
              "0                 221             232            148   \n",
              "1                 220             235            151   \n",
              "2                 234             238            135   \n",
              "3                 238             238            122   \n",
              "4                 220             234            150   \n",
              "...               ...             ...            ...   \n",
              "581007            240             237            118   \n",
              "581008            240             237            119   \n",
              "581009            236             241            130   \n",
              "581010            230             245            143   \n",
              "581011            231             244            141   \n",
              "\n",
              "        horizontal_dist_to_fire_points  ...  soil_type_32  soil_type_33  \\\n",
              "0                                 6279  ...             0             0   \n",
              "1                                 6225  ...             0             0   \n",
              "2                                 6121  ...             0             0   \n",
              "3                                 6211  ...             0             0   \n",
              "4                                 6172  ...             0             0   \n",
              "...                                ...  ...           ...           ...   \n",
              "581007                             837  ...             0             0   \n",
              "581008                             845  ...             0             0   \n",
              "581009                             854  ...             0             0   \n",
              "581010                             864  ...             0             0   \n",
              "581011                             875  ...             0             0   \n",
              "\n",
              "        soil_type_34  soil_type_35  soil_type_36  soil_type_37  soil_type_38  \\\n",
              "0                  0             0             0             0             0   \n",
              "1                  0             0             0             0             0   \n",
              "2                  0             0             0             0             0   \n",
              "3                  0             0             0             0             0   \n",
              "4                  0             0             0             0             0   \n",
              "...              ...           ...           ...           ...           ...   \n",
              "581007             0             0             0             0             0   \n",
              "581008             0             0             0             0             0   \n",
              "581009             0             0             0             0             0   \n",
              "581010             0             0             0             0             0   \n",
              "581011             0             0             0             0             0   \n",
              "\n",
              "        soil_type_39  soil_type_40  cover_type  \n",
              "0                  0             0           5  \n",
              "1                  0             0           5  \n",
              "2                  0             0           2  \n",
              "3                  0             0           2  \n",
              "4                  0             0           5  \n",
              "...              ...           ...         ...  \n",
              "581007             0             0           3  \n",
              "581008             0             0           3  \n",
              "581009             0             0           3  \n",
              "581010             0             0           3  \n",
              "581011             0             0           3  \n",
              "\n",
              "[581012 rows x 55 columns]"
            ]
          },
          "execution_count": 4,
          "metadata": {},
          "output_type": "execute_result"
        },
        {
          "data": {
            "application/javascript": "\n            setTimeout(function() {\n                var nbb_cell_id = 4;\n                var nbb_unformatted_code = \"df\";\n                var nbb_formatted_code = \"df\";\n                var nbb_cells = Jupyter.notebook.get_cells();\n                for (var i = 0; i < nbb_cells.length; ++i) {\n                    if (nbb_cells[i].input_prompt_number == nbb_cell_id) {\n                        if (nbb_cells[i].get_text() == nbb_unformatted_code) {\n                             nbb_cells[i].set_text(nbb_formatted_code);\n                        }\n                        break;\n                    }\n                }\n            }, 500);\n            ",
            "text/plain": [
              "<IPython.core.display.Javascript object>"
            ]
          },
          "metadata": {},
          "output_type": "display_data"
        }
      ],
      "source": [
        "df"
      ]
    },
    {
      "cell_type": "markdown",
      "id": "481b952c",
      "metadata": {
        "id": "481b952c"
      },
      "source": [
        "## Preprocessing\n",
        "\n",
        "By default this dataset poses a multiclass classification problem because the target variable `cover_type` takes on 7 different options. To simplify the problem here, we will only consider the two most populous classes and drop the rest of the data from consideration.\n"
      ]
    },
    {
      "cell_type": "code",
      "execution_count": null,
      "id": "702d87b0",
      "metadata": {
        "scrolled": true,
        "id": "702d87b0",
        "outputId": "0dddc1d6-d834-445b-b0ac-818d270058b3"
      },
      "outputs": [
        {
          "data": {
            "text/plain": [
              "2    283301\n",
              "1    211840\n",
              "3     35754\n",
              "7     20510\n",
              "6     17367\n",
              "5      9493\n",
              "4      2747\n",
              "Name: cover_type, dtype: int64"
            ]
          },
          "execution_count": 5,
          "metadata": {},
          "output_type": "execute_result"
        },
        {
          "data": {
            "application/javascript": "\n            setTimeout(function() {\n                var nbb_cell_id = 5;\n                var nbb_unformatted_code = \"df.cover_type.value_counts()\";\n                var nbb_formatted_code = \"df.cover_type.value_counts()\";\n                var nbb_cells = Jupyter.notebook.get_cells();\n                for (var i = 0; i < nbb_cells.length; ++i) {\n                    if (nbb_cells[i].input_prompt_number == nbb_cell_id) {\n                        if (nbb_cells[i].get_text() == nbb_unformatted_code) {\n                             nbb_cells[i].set_text(nbb_formatted_code);\n                        }\n                        break;\n                    }\n                }\n            }, 500);\n            ",
            "text/plain": [
              "<IPython.core.display.Javascript object>"
            ]
          },
          "metadata": {},
          "output_type": "display_data"
        }
      ],
      "source": [
        "df.cover_type.value_counts()"
      ]
    },
    {
      "cell_type": "code",
      "execution_count": null,
      "id": "cdfab22c",
      "metadata": {
        "id": "cdfab22c",
        "outputId": "a33483d2-c102-42d3-829a-7d4434b63b28"
      },
      "outputs": [
        {
          "data": {
            "application/javascript": "\n            setTimeout(function() {\n                var nbb_cell_id = 6;\n                var nbb_unformatted_code = \"# drop records where cover_type isn't 1 or 2\\ndf = df[df.cover_type.isin([1, 2])].reset_index(drop=True)\\n\\n# label encode categorical columns (this will only change the cover_type column)\\ncatcols = (col for col, iscat in col_names if iscat)\\n\\nfor col in catcols:\\n    df[col] = LabelEncoder().fit_transform(df[col])\\n\\n# convert to categorical\\ndef categorize(df, cols):\\n    catcols = (col for col, iscat in cols if iscat)\\n    for col in catcols:\\n        df[col] = pd.Categorical(df[col])\\n    return df\\n\\n\\ndf = categorize(df, col_names)\";\n                var nbb_formatted_code = \"# drop records where cover_type isn't 1 or 2\\ndf = df[df.cover_type.isin([1, 2])].reset_index(drop=True)\\n\\n# label encode categorical columns (this will only change the cover_type column)\\ncatcols = (col for col, iscat in col_names if iscat)\\n\\nfor col in catcols:\\n    df[col] = LabelEncoder().fit_transform(df[col])\\n\\n# convert to categorical\\ndef categorize(df, cols):\\n    catcols = (col for col, iscat in cols if iscat)\\n    for col in catcols:\\n        df[col] = pd.Categorical(df[col])\\n    return df\\n\\n\\ndf = categorize(df, col_names)\";\n                var nbb_cells = Jupyter.notebook.get_cells();\n                for (var i = 0; i < nbb_cells.length; ++i) {\n                    if (nbb_cells[i].input_prompt_number == nbb_cell_id) {\n                        if (nbb_cells[i].get_text() == nbb_unformatted_code) {\n                             nbb_cells[i].set_text(nbb_formatted_code);\n                        }\n                        break;\n                    }\n                }\n            }, 500);\n            ",
            "text/plain": [
              "<IPython.core.display.Javascript object>"
            ]
          },
          "metadata": {},
          "output_type": "display_data"
        }
      ],
      "source": [
        "# drop records where cover_type isn't 1 or 2\n",
        "df = df[df.cover_type.isin([1, 2])].reset_index(drop=True)\n",
        "\n",
        "# label encode categorical columns (this will only change the cover_type column)\n",
        "catcols = (col for col, iscat in col_names if iscat)\n",
        "\n",
        "for col in catcols:\n",
        "    df[col] = LabelEncoder().fit_transform(df[col])\n",
        "\n",
        "# convert to categorical\n",
        "def categorize(df, cols):\n",
        "    catcols = (col for col, iscat in cols if iscat)\n",
        "    for col in catcols:\n",
        "        df[col] = pd.Categorical(df[col])\n",
        "    return df\n",
        "\n",
        "\n",
        "df = categorize(df, col_names)"
      ]
    },
    {
      "cell_type": "markdown",
      "id": "08ff5d95",
      "metadata": {
        "id": "08ff5d95"
      },
      "source": [
        "## Induce Controlled Data Drift"
      ]
    },
    {
      "cell_type": "markdown",
      "id": "2aefef33",
      "metadata": {
        "id": "2aefef33"
      },
      "source": [
        "### a. Use `wilderness_area` as a proxy for distribution change"
      ]
    },
    {
      "cell_type": "code",
      "execution_count": null,
      "id": "6aad3826",
      "metadata": {
        "scrolled": true,
        "id": "6aad3826",
        "outputId": "ce3c1caf-e848-4aa0-c9ef-74647962abd7"
      },
      "outputs": [
        {
          "data": {
            "text/plain": [
              "wilderness_area_1  wilderness_area_2  wilderness_area_3  wilderness_area_4\n",
              "1                  0                  0                  0                    251914\n",
              "0                  0                  1                  0                    212621\n",
              "                   1                  0                  0                     27580\n",
              "                   0                  0                  1                      3026\n",
              "dtype: int64"
            ]
          },
          "execution_count": 8,
          "metadata": {},
          "output_type": "execute_result"
        },
        {
          "data": {
            "application/javascript": "\n            setTimeout(function() {\n                var nbb_cell_id = 8;\n                var nbb_unformatted_code = \"df[[col for col, _ in wilderness_area_cols]].value_counts()\";\n                var nbb_formatted_code = \"df[[col for col, _ in wilderness_area_cols]].value_counts()\";\n                var nbb_cells = Jupyter.notebook.get_cells();\n                for (var i = 0; i < nbb_cells.length; ++i) {\n                    if (nbb_cells[i].input_prompt_number == nbb_cell_id) {\n                        if (nbb_cells[i].get_text() == nbb_unformatted_code) {\n                             nbb_cells[i].set_text(nbb_formatted_code);\n                        }\n                        break;\n                    }\n                }\n            }, 500);\n            ",
            "text/plain": [
              "<IPython.core.display.Javascript object>"
            ]
          },
          "metadata": {},
          "output_type": "display_data"
        }
      ],
      "source": [
        "df[[col for col, _ in wilderness_area_cols]].value_counts()"
      ]
    },
    {
      "cell_type": "markdown",
      "id": "e9b51104",
      "metadata": {
        "id": "e9b51104"
      },
      "source": [
        "- Wilderness area's are overlapping (aka non sequential), we might need to bunch these as a way to impose \"artifical data drift\"\n",
        "- Also, they are not equally distributed\n",
        "\n",
        "\n",
        "Let's reorder all records by this area."
      ]
    },
    {
      "cell_type": "code",
      "execution_count": null,
      "id": "6966ad26",
      "metadata": {
        "scrolled": true,
        "id": "6966ad26",
        "outputId": "0210cd10-4d87-45ae-f23f-3982a956d793"
      },
      "outputs": [
        {
          "data": {
            "application/javascript": "\n            setTimeout(function() {\n                var nbb_cell_id = 9;\n                var nbb_unformatted_code = \"# # order dataset by wilderness area\\n# df = pd.concat(\\n#     [df[df[f\\\"wilderness_area_{i}\\\"] == 1].reset_index(drop=True) for i in (1, 3, 2, 4)]\\n# ).reset_index(drop=True)\";\n                var nbb_formatted_code = \"# # order dataset by wilderness area\\n# df = pd.concat(\\n#     [df[df[f\\\"wilderness_area_{i}\\\"] == 1].reset_index(drop=True) for i in (1, 3, 2, 4)]\\n# ).reset_index(drop=True)\";\n                var nbb_cells = Jupyter.notebook.get_cells();\n                for (var i = 0; i < nbb_cells.length; ++i) {\n                    if (nbb_cells[i].input_prompt_number == nbb_cell_id) {\n                        if (nbb_cells[i].get_text() == nbb_unformatted_code) {\n                             nbb_cells[i].set_text(nbb_formatted_code);\n                        }\n                        break;\n                    }\n                }\n            }, 500);\n            ",
            "text/plain": [
              "<IPython.core.display.Javascript object>"
            ]
          },
          "metadata": {},
          "output_type": "display_data"
        }
      ],
      "source": [
        "# # order dataset by wilderness area\n",
        "# df = pd.concat(\n",
        "#     [df[df[f\"wilderness_area_{i}\"] == 1].reset_index(drop=True) for i in (1, 3, 2, 4)]\n",
        "# ).reset_index(drop=True)\n"
      ]
    },
    {
      "cell_type": "code",
      "execution_count": null,
      "id": "1e027f33",
      "metadata": {
        "id": "1e027f33",
        "outputId": "32b0b60c-bb2a-4cbc-bff7-0e5d1139aca0"
      },
      "outputs": [
        {
          "data": {
            "application/javascript": "\n            setTimeout(function() {\n                var nbb_cell_id = 10;\n                var nbb_unformatted_code = \"# df[df.wilderness_area_1==1]\\n# df[df.wilderness_area_3==1]\\n# df[df.wilderness_area_2==1]\\n# df[df.wilderness_area_4==1]\";\n                var nbb_formatted_code = \"# df[df.wilderness_area_1==1]\\n# df[df.wilderness_area_3==1]\\n# df[df.wilderness_area_2==1]\\n# df[df.wilderness_area_4==1]\";\n                var nbb_cells = Jupyter.notebook.get_cells();\n                for (var i = 0; i < nbb_cells.length; ++i) {\n                    if (nbb_cells[i].input_prompt_number == nbb_cell_id) {\n                        if (nbb_cells[i].get_text() == nbb_unformatted_code) {\n                             nbb_cells[i].set_text(nbb_formatted_code);\n                        }\n                        break;\n                    }\n                }\n            }, 500);\n            ",
            "text/plain": [
              "<IPython.core.display.Javascript object>"
            ]
          },
          "metadata": {},
          "output_type": "display_data"
        }
      ],
      "source": [
        "# df[df.wilderness_area_1==1]\n",
        "# df[df.wilderness_area_3==1]\n",
        "# df[df.wilderness_area_2==1]\n",
        "# df[df.wilderness_area_4==1]"
      ]
    },
    {
      "cell_type": "markdown",
      "id": "3058c3ad",
      "metadata": {
        "id": "3058c3ad"
      },
      "source": [
        "**This doesn't introduce controlled enough drift**"
      ]
    },
    {
      "cell_type": "markdown",
      "id": "1a3472ef",
      "metadata": {
        "id": "1a3472ef"
      },
      "source": [
        "### b. Induce drift by changing features\n",
        "\n",
        "In similar fashion as authors of [MD3 paper](https://arxiv.org/pdf/1704.00023.pdf), we can introduce drift in a controlled manner while retaining properties of the real world data by systematically swapping features.\n",
        "\n",
        "Process:\n",
        "1. Shuffle all data to remove unwanted concept drift\n",
        "2. Figure out which features are most/least important to classification using kfold cross validation\n",
        "3. Separate dataset by specified changepoints into chunks to represent differing concepts. In each chunk, select 25% of features (based on highest/lowest feature importance) per class and rotate them to induce drift. Features of high importance should impose \"real drift\", while lowest importance features should impose \"virtual drift\""
      ]
    },
    {
      "cell_type": "markdown",
      "id": "42c8eeee",
      "metadata": {
        "id": "42c8eeee"
      },
      "source": [
        "### 1. Shuffle all records and normalize"
      ]
    },
    {
      "cell_type": "code",
      "execution_count": null,
      "id": "a22d43c1",
      "metadata": {
        "id": "a22d43c1",
        "outputId": "5fc3db34-886f-4373-ef76-175cb909f45c"
      },
      "outputs": [
        {
          "data": {
            "application/javascript": "\n            setTimeout(function() {\n                var nbb_cell_id = 11;\n                var nbb_unformatted_code = \"# df = df.sample(frac=1, random_state=42)\\ndf = df.sample(frac=1, random_state=10)  # re-randomize\";\n                var nbb_formatted_code = \"# df = df.sample(frac=1, random_state=42)\\ndf = df.sample(frac=1, random_state=10)  # re-randomize\";\n                var nbb_cells = Jupyter.notebook.get_cells();\n                for (var i = 0; i < nbb_cells.length; ++i) {\n                    if (nbb_cells[i].input_prompt_number == nbb_cell_id) {\n                        if (nbb_cells[i].get_text() == nbb_unformatted_code) {\n                             nbb_cells[i].set_text(nbb_formatted_code);\n                        }\n                        break;\n                    }\n                }\n            }, 500);\n            ",
            "text/plain": [
              "<IPython.core.display.Javascript object>"
            ]
          },
          "metadata": {},
          "output_type": "display_data"
        }
      ],
      "source": [
        "# df = df.sample(frac=1, random_state=42)\n",
        "df = df.sample(frac=1, random_state=10)  # re-randomize"
      ]
    },
    {
      "cell_type": "code",
      "execution_count": null,
      "id": "fda8471b",
      "metadata": {
        "id": "fda8471b",
        "outputId": "58a762ac-a670-4532-b80c-c3d9673f9482"
      },
      "outputs": [
        {
          "data": {
            "application/javascript": "\n            setTimeout(function() {\n                var nbb_cell_id = 14;\n                var nbb_unformatted_code = \"norm_df = pd.DataFrame(\\n    MinMaxScaler().fit_transform(df), index=df.index, columns=df.columns\\n)\";\n                var nbb_formatted_code = \"norm_df = pd.DataFrame(\\n    MinMaxScaler().fit_transform(df), index=df.index, columns=df.columns\\n)\";\n                var nbb_cells = Jupyter.notebook.get_cells();\n                for (var i = 0; i < nbb_cells.length; ++i) {\n                    if (nbb_cells[i].input_prompt_number == nbb_cell_id) {\n                        if (nbb_cells[i].get_text() == nbb_unformatted_code) {\n                             nbb_cells[i].set_text(nbb_formatted_code);\n                        }\n                        break;\n                    }\n                }\n            }, 500);\n            ",
            "text/plain": [
              "<IPython.core.display.Javascript object>"
            ]
          },
          "metadata": {},
          "output_type": "display_data"
        }
      ],
      "source": [
        "norm_df = pd.DataFrame(\n",
        "    MinMaxScaler().fit_transform(df), index=df.index, columns=df.columns\n",
        ")"
      ]
    },
    {
      "cell_type": "code",
      "execution_count": null,
      "id": "7de91315",
      "metadata": {
        "id": "7de91315",
        "outputId": "dc63359b-7ee3-4135-f93d-a1b0647c09b3"
      },
      "outputs": [
        {
          "data": {
            "application/javascript": "\n            setTimeout(function() {\n                var nbb_cell_id = 15;\n                var nbb_unformatted_code = \"df = norm_df.copy()\";\n                var nbb_formatted_code = \"df = norm_df.copy()\";\n                var nbb_cells = Jupyter.notebook.get_cells();\n                for (var i = 0; i < nbb_cells.length; ++i) {\n                    if (nbb_cells[i].input_prompt_number == nbb_cell_id) {\n                        if (nbb_cells[i].get_text() == nbb_unformatted_code) {\n                             nbb_cells[i].set_text(nbb_formatted_code);\n                        }\n                        break;\n                    }\n                }\n            }, 500);\n            ",
            "text/plain": [
              "<IPython.core.display.Javascript object>"
            ]
          },
          "metadata": {},
          "output_type": "display_data"
        }
      ],
      "source": [
        "df = norm_df.copy()"
      ]
    },
    {
      "cell_type": "markdown",
      "id": "aab8f1db",
      "metadata": {
        "id": "aab8f1db"
      },
      "source": [
        "### 2. Find most/least important features"
      ]
    },
    {
      "cell_type": "code",
      "execution_count": null,
      "id": "5b1ab7c3",
      "metadata": {
        "scrolled": true,
        "id": "5b1ab7c3",
        "outputId": "738c6dcf-70d9-43cf-dcd7-97ba6fd7211f"
      },
      "outputs": [
        {
          "name": "stdout",
          "output_type": "stream",
          "text": [
            "CPU times: user 49.8 ms, sys: 21.7 ms, total: 71.5 ms\n",
            "Wall time: 135 ms\n"
          ]
        },
        {
          "data": {
            "application/javascript": "\n            setTimeout(function() {\n                var nbb_cell_id = 16;\n                var nbb_unformatted_code = \"%%time\\n\\nfrom sklearn.pipeline import Pipeline\\nfrom sklearn.preprocessing import MinMaxScaler\\nfrom sklearn.model_selection import train_test_split, GridSearchCV\\nfrom sklearn.ensemble import RandomForestClassifier\\n\\nX = df.iloc[:, :-1]\\ny = df.iloc[:, -1]\\n\\ndef fit_gscv(X, y):\\n\\n    model = RandomForestClassifier(n_estimators=10, random_state=42, max_depth=5)\\n    param_grid = {\\\"clf__n_estimators\\\": [5, 10, 20], \\\"clf__max_depth\\\": [5, 10, 20]}\\n\\n    pipe = Pipeline(\\n        steps=[\\n            (\\\"scaler\\\", MinMaxScaler()),\\n            (\\\"clf\\\", model),\\n        ]\\n    )\\n\\n    gs = GridSearchCV(\\n        estimator=pipe,\\n        param_grid=param_grid,\\n        cv=5,\\n        scoring='accuracy',\\n        n_jobs=-1,\\n        refit=True,\\n        return_train_score=True,\\n    )\\n\\n    gs.fit(X, y)\\n    \\n    return gs\";\n                var nbb_formatted_code = \"%%time\\n\\nfrom sklearn.pipeline import Pipeline\\nfrom sklearn.preprocessing import MinMaxScaler\\nfrom sklearn.model_selection import train_test_split, GridSearchCV\\nfrom sklearn.ensemble import RandomForestClassifier\\n\\nX = df.iloc[:, :-1]\\ny = df.iloc[:, -1]\\n\\ndef fit_gscv(X, y):\\n\\n    model = RandomForestClassifier(n_estimators=10, random_state=42, max_depth=5)\\n    param_grid = {\\\"clf__n_estimators\\\": [5, 10, 20], \\\"clf__max_depth\\\": [5, 10, 20]}\\n\\n    pipe = Pipeline(\\n        steps=[\\n            (\\\"scaler\\\", MinMaxScaler()),\\n            (\\\"clf\\\", model),\\n        ]\\n    )\\n\\n    gs = GridSearchCV(\\n        estimator=pipe,\\n        param_grid=param_grid,\\n        cv=5,\\n        scoring='accuracy',\\n        n_jobs=-1,\\n        refit=True,\\n        return_train_score=True,\\n    )\\n\\n    gs.fit(X, y)\\n    \\n    return gs\";\n                var nbb_cells = Jupyter.notebook.get_cells();\n                for (var i = 0; i < nbb_cells.length; ++i) {\n                    if (nbb_cells[i].input_prompt_number == nbb_cell_id) {\n                        if (nbb_cells[i].get_text() == nbb_unformatted_code) {\n                             nbb_cells[i].set_text(nbb_formatted_code);\n                        }\n                        break;\n                    }\n                }\n            }, 500);\n            ",
            "text/plain": [
              "<IPython.core.display.Javascript object>"
            ]
          },
          "metadata": {},
          "output_type": "display_data"
        }
      ],
      "source": [
        "%%time\n",
        "\n",
        "from sklearn.pipeline import Pipeline\n",
        "from sklearn.preprocessing import MinMaxScaler\n",
        "from sklearn.model_selection import train_test_split, GridSearchCV\n",
        "from sklearn.ensemble import RandomForestClassifier\n",
        "\n",
        "X = df.iloc[:, :-1]\n",
        "y = df.iloc[:, -1]\n",
        "\n",
        "def fit_gscv(X, y):\n",
        "\n",
        "    model = RandomForestClassifier(n_estimators=10, random_state=42, max_depth=5)\n",
        "    param_grid = {\"clf__n_estimators\": [5, 10, 20], \"clf__max_depth\": [5, 10, 20]}\n",
        "\n",
        "    pipe = Pipeline(\n",
        "        steps=[\n",
        "            (\"scaler\", MinMaxScaler()),\n",
        "            (\"clf\", model),\n",
        "        ]\n",
        "    )\n",
        "\n",
        "    gs = GridSearchCV(\n",
        "        estimator=pipe,\n",
        "        param_grid=param_grid,\n",
        "        cv=5,\n",
        "        scoring='accuracy',\n",
        "        n_jobs=-1,\n",
        "        refit=True,\n",
        "        return_train_score=True,\n",
        "    )\n",
        "\n",
        "    gs.fit(X, y)\n",
        "    \n",
        "    return gs\n"
      ]
    },
    {
      "cell_type": "code",
      "execution_count": null,
      "id": "e6dbbca1",
      "metadata": {
        "id": "e6dbbca1",
        "outputId": "46f9fc78-de9d-4cc2-e2e4-f19bd293c3dd"
      },
      "outputs": [
        {
          "name": "stdout",
          "output_type": "stream",
          "text": [
            "Best Params: {'clf__max_depth': 20, 'clf__n_estimators': 20} \n",
            "\n",
            "        Best Train Score: 0.9391097673346934 \n",
            "\n",
            "        Best Test Score: 0.9118230987096853\n"
          ]
        },
        {
          "data": {
            "application/javascript": "\n            setTimeout(function() {\n                var nbb_cell_id = 17;\n                var nbb_unformatted_code = \"gs = fit_gscv(X, y)\\n\\nprint(\\n    f\\\"\\\"\\\"Best Params: {gs.best_params_} \\\\n\\n        Best Train Score: {gs.cv_results_[\\\"mean_train_score\\\"][gs.best_index_]} \\\\n\\n        Best Test Score: {gs.best_score_}\\\"\\\"\\\"\\n)\";\n                var nbb_formatted_code = \"gs = fit_gscv(X, y)\\n\\nprint(\\n    f\\\"\\\"\\\"Best Params: {gs.best_params_} \\\\n\\n        Best Train Score: {gs.cv_results_[\\\"mean_train_score\\\"][gs.best_index_]} \\\\n\\n        Best Test Score: {gs.best_score_}\\\"\\\"\\\"\\n)\";\n                var nbb_cells = Jupyter.notebook.get_cells();\n                for (var i = 0; i < nbb_cells.length; ++i) {\n                    if (nbb_cells[i].input_prompt_number == nbb_cell_id) {\n                        if (nbb_cells[i].get_text() == nbb_unformatted_code) {\n                             nbb_cells[i].set_text(nbb_formatted_code);\n                        }\n                        break;\n                    }\n                }\n            }, 500);\n            ",
            "text/plain": [
              "<IPython.core.display.Javascript object>"
            ]
          },
          "metadata": {},
          "output_type": "display_data"
        }
      ],
      "source": [
        "gs = fit_gscv(X, y)\n",
        "\n",
        "print(\n",
        "    f\"\"\"Best Params: {gs.best_params_} \\n\n",
        "        Best Train Score: {gs.cv_results_[\"mean_train_score\"][gs.best_index_]} \\n\n",
        "        Best Test Score: {gs.best_score_}\"\"\"\n",
        ")"
      ]
    },
    {
      "cell_type": "code",
      "execution_count": null,
      "id": "c38f8f41",
      "metadata": {
        "scrolled": false,
        "id": "c38f8f41",
        "outputId": "870eef91-f72b-4009-e7e8-e61b37613c0b"
      },
      "outputs": [
        {
          "data": {
            "text/plain": [
              "<AxesSubplot:ylabel='features'>"
            ]
          },
          "execution_count": 18,
          "metadata": {},
          "output_type": "execute_result"
        },
        {
          "data": {
            "image/png": "[encoded data removed]",
            "text/plain": [
              "<Figure size 360x1080 with 1 Axes>"
            ]
          },
          "metadata": {
            "needs_background": "light"
          },
          "output_type": "display_data"
        },
        {
          "data": {
            "application/javascript": "\n            setTimeout(function() {\n                var nbb_cell_id = 18;\n                var nbb_unformatted_code = \"# plot global feature importances\\nimportance_scores = gs.best_estimator_.named_steps[\\\"clf\\\"].feature_importances_.tolist()\\nfeature_names = X.columns.tolist()\\n\\npd.DataFrame(\\n    zip(feature_names, importance_scores), columns=[\\\"features\\\", \\\"importance\\\"]\\n).set_index(\\\"features\\\").sort_values(\\\"importance\\\").plot(kind=\\\"barh\\\", figsize=(5, 15))\";\n                var nbb_formatted_code = \"# plot global feature importances\\nimportance_scores = gs.best_estimator_.named_steps[\\\"clf\\\"].feature_importances_.tolist()\\nfeature_names = X.columns.tolist()\\n\\npd.DataFrame(\\n    zip(feature_names, importance_scores), columns=[\\\"features\\\", \\\"importance\\\"]\\n).set_index(\\\"features\\\").sort_values(\\\"importance\\\").plot(kind=\\\"barh\\\", figsize=(5, 15))\";\n                var nbb_cells = Jupyter.notebook.get_cells();\n                for (var i = 0; i < nbb_cells.length; ++i) {\n                    if (nbb_cells[i].input_prompt_number == nbb_cell_id) {\n                        if (nbb_cells[i].get_text() == nbb_unformatted_code) {\n                             nbb_cells[i].set_text(nbb_formatted_code);\n                        }\n                        break;\n                    }\n                }\n            }, 500);\n            ",
            "text/plain": [
              "<IPython.core.display.Javascript object>"
            ]
          },
          "metadata": {},
          "output_type": "display_data"
        }
      ],
      "source": [
        "# plot global feature importances\n",
        "importance_scores = gs.best_estimator_.named_steps[\"clf\"].feature_importances_.tolist()\n",
        "feature_names = X.columns.tolist()\n",
        "\n",
        "pd.DataFrame(\n",
        "    zip(feature_names, importance_scores), columns=[\"features\", \"importance\"]\n",
        ").set_index(\"features\").sort_values(\"importance\").plot(kind=\"barh\", figsize=(5, 15))"
      ]
    },
    {
      "cell_type": "markdown",
      "id": "d4f0de90",
      "metadata": {
        "id": "d4f0de90"
      },
      "source": [
        "**Because the soil types are not very useful to the model, lets disregard them all to simplify the problem**"
      ]
    },
    {
      "cell_type": "code",
      "execution_count": null,
      "id": "9dc93053",
      "metadata": {
        "id": "9dc93053",
        "outputId": "e968dca3-2fd8-4b92-ee65-b036aeefa55a"
      },
      "outputs": [
        {
          "name": "stdout",
          "output_type": "stream",
          "text": [
            "Best Params: {'clf__max_depth': 20, 'clf__n_estimators': 20} \n",
            "\n",
            "        Best Train Score: 0.9819647332435615 \n",
            "\n",
            "        Best Test Score: 0.9414267837384772\n"
          ]
        },
        {
          "data": {
            "application/javascript": "\n            setTimeout(function() {\n                var nbb_cell_id = 19;\n                var nbb_unformatted_code = \"df = df.drop(columns=[st for st, iscat in soil_type_cols if iscat])\\n\\nX = df.iloc[:, :-1]\\ny = df.iloc[:, -1]\\n\\ngs = fit_gscv(X, y)\\n\\nprint(\\n    f\\\"\\\"\\\"Best Params: {gs.best_params_} \\\\n\\n        Best Train Score: {gs.cv_results_[\\\"mean_train_score\\\"][gs.best_index_]} \\\\n\\n        Best Test Score: {gs.best_score_}\\\"\\\"\\\"\\n)\";\n                var nbb_formatted_code = \"df = df.drop(columns=[st for st, iscat in soil_type_cols if iscat])\\n\\nX = df.iloc[:, :-1]\\ny = df.iloc[:, -1]\\n\\ngs = fit_gscv(X, y)\\n\\nprint(\\n    f\\\"\\\"\\\"Best Params: {gs.best_params_} \\\\n\\n        Best Train Score: {gs.cv_results_[\\\"mean_train_score\\\"][gs.best_index_]} \\\\n\\n        Best Test Score: {gs.best_score_}\\\"\\\"\\\"\\n)\";\n                var nbb_cells = Jupyter.notebook.get_cells();\n                for (var i = 0; i < nbb_cells.length; ++i) {\n                    if (nbb_cells[i].input_prompt_number == nbb_cell_id) {\n                        if (nbb_cells[i].get_text() == nbb_unformatted_code) {\n                             nbb_cells[i].set_text(nbb_formatted_code);\n                        }\n                        break;\n                    }\n                }\n            }, 500);\n            ",
            "text/plain": [
              "<IPython.core.display.Javascript object>"
            ]
          },
          "metadata": {},
          "output_type": "display_data"
        }
      ],
      "source": [
        "df = df.drop(columns=[st for st, iscat in soil_type_cols if iscat])\n",
        "\n",
        "X = df.iloc[:, :-1]\n",
        "y = df.iloc[:, -1]\n",
        "\n",
        "gs = fit_gscv(X, y)\n",
        "\n",
        "print(\n",
        "    f\"\"\"Best Params: {gs.best_params_} \\n\n",
        "        Best Train Score: {gs.cv_results_[\"mean_train_score\"][gs.best_index_]} \\n\n",
        "        Best Test Score: {gs.best_score_}\"\"\"\n",
        ")"
      ]
    },
    {
      "cell_type": "code",
      "execution_count": null,
      "id": "d53fb1b3",
      "metadata": {
        "scrolled": false,
        "id": "d53fb1b3",
        "outputId": "f27c453d-1a85-4160-959c-cb8610537968"
      },
      "outputs": [
        {
          "data": {
            "text/plain": [
              "<AxesSubplot:ylabel='features'>"
            ]
          },
          "execution_count": 20,
          "metadata": {},
          "output_type": "execute_result"
        },
        {
          "data": {
            "image/png": "[encoded data removed]",
            "text/plain": [
              "<Figure size 360x1080 with 1 Axes>"
            ]
          },
          "metadata": {
            "needs_background": "light"
          },
          "output_type": "display_data"
        },
        {
          "data": {
            "application/javascript": "\n            setTimeout(function() {\n                var nbb_cell_id = 20;\n                var nbb_unformatted_code = \"# plot global feature importances\\nimportance_scores = gs.best_estimator_.named_steps[\\\"clf\\\"].feature_importances_.tolist()\\nfeature_names = X.columns.tolist()\\n\\npd.DataFrame(\\n    zip(feature_names, importance_scores), columns=[\\\"features\\\", \\\"importance\\\"]\\n).set_index(\\\"features\\\").sort_values(\\\"importance\\\").plot(kind=\\\"barh\\\", figsize=(5, 15))\";\n                var nbb_formatted_code = \"# plot global feature importances\\nimportance_scores = gs.best_estimator_.named_steps[\\\"clf\\\"].feature_importances_.tolist()\\nfeature_names = X.columns.tolist()\\n\\npd.DataFrame(\\n    zip(feature_names, importance_scores), columns=[\\\"features\\\", \\\"importance\\\"]\\n).set_index(\\\"features\\\").sort_values(\\\"importance\\\").plot(kind=\\\"barh\\\", figsize=(5, 15))\";\n                var nbb_cells = Jupyter.notebook.get_cells();\n                for (var i = 0; i < nbb_cells.length; ++i) {\n                    if (nbb_cells[i].input_prompt_number == nbb_cell_id) {\n                        if (nbb_cells[i].get_text() == nbb_unformatted_code) {\n                             nbb_cells[i].set_text(nbb_formatted_code);\n                        }\n                        break;\n                    }\n                }\n            }, 500);\n            ",
            "text/plain": [
              "<IPython.core.display.Javascript object>"
            ]
          },
          "metadata": {},
          "output_type": "display_data"
        }
      ],
      "source": [
        "# plot global feature importances\n",
        "importance_scores = gs.best_estimator_.named_steps[\"clf\"].feature_importances_.tolist()\n",
        "feature_names = X.columns.tolist()\n",
        "\n",
        "pd.DataFrame(\n",
        "    zip(feature_names, importance_scores), columns=[\"features\", \"importance\"]\n",
        ").set_index(\"features\").sort_values(\"importance\").plot(kind=\"barh\", figsize=(5, 15))"
      ]
    },
    {
      "cell_type": "code",
      "execution_count": null,
      "id": "4e8afcb9",
      "metadata": {
        "id": "4e8afcb9",
        "outputId": "9299d8d0-96ac-41ab-99d9-c35615f04a8f"
      },
      "outputs": [
        {
          "data": {
            "application/javascript": "\n            setTimeout(function() {\n                var nbb_cell_id = 21;\n                var nbb_unformatted_code = \"# sort features by importance and get ranked names\\nranked_features = sorted(\\n    zip(feature_names, importance_scores), key=lambda x: x[1], reverse=True\\n)\\nranked_features = [feat[0] for feat in ranked_features]\";\n                var nbb_formatted_code = \"# sort features by importance and get ranked names\\nranked_features = sorted(\\n    zip(feature_names, importance_scores), key=lambda x: x[1], reverse=True\\n)\\nranked_features = [feat[0] for feat in ranked_features]\";\n                var nbb_cells = Jupyter.notebook.get_cells();\n                for (var i = 0; i < nbb_cells.length; ++i) {\n                    if (nbb_cells[i].input_prompt_number == nbb_cell_id) {\n                        if (nbb_cells[i].get_text() == nbb_unformatted_code) {\n                             nbb_cells[i].set_text(nbb_formatted_code);\n                        }\n                        break;\n                    }\n                }\n            }, 500);\n            ",
            "text/plain": [
              "<IPython.core.display.Javascript object>"
            ]
          },
          "metadata": {},
          "output_type": "display_data"
        }
      ],
      "source": [
        "# sort features by importance and get ranked names\n",
        "ranked_features = sorted(\n",
        "    zip(feature_names, importance_scores), key=lambda x: x[1], reverse=True\n",
        ")\n",
        "ranked_features = [feat[0] for feat in ranked_features]"
      ]
    },
    {
      "cell_type": "code",
      "execution_count": null,
      "id": "ae0c00fb",
      "metadata": {
        "scrolled": false,
        "id": "ae0c00fb",
        "outputId": "ba3812a7-1f96-41bd-9dd7-d835c5300f96"
      },
      "outputs": [
        {
          "data": {
            "text/plain": [
              "['elevation',\n",
              " 'horizontal_dist_to_roadways',\n",
              " 'horizontal_dist_to_fire_points',\n",
              " 'horizontal_dist_to_hydrology',\n",
              " 'vertical_dist_to_hydrology',\n",
              " 'aspect',\n",
              " 'hillshade_noon',\n",
              " 'hillshade_3pm',\n",
              " 'hillshade_9am',\n",
              " 'slope',\n",
              " 'wilderness_area_1',\n",
              " 'wilderness_area_3',\n",
              " 'wilderness_area_2',\n",
              " 'wilderness_area_4']"
            ]
          },
          "execution_count": 22,
          "metadata": {},
          "output_type": "execute_result"
        },
        {
          "data": {
            "application/javascript": "\n            setTimeout(function() {\n                var nbb_cell_id = 22;\n                var nbb_unformatted_code = \"ranked_features\";\n                var nbb_formatted_code = \"ranked_features\";\n                var nbb_cells = Jupyter.notebook.get_cells();\n                for (var i = 0; i < nbb_cells.length; ++i) {\n                    if (nbb_cells[i].input_prompt_number == nbb_cell_id) {\n                        if (nbb_cells[i].get_text() == nbb_unformatted_code) {\n                             nbb_cells[i].set_text(nbb_formatted_code);\n                        }\n                        break;\n                    }\n                }\n            }, 500);\n            ",
            "text/plain": [
              "<IPython.core.display.Javascript object>"
            ]
          },
          "metadata": {},
          "output_type": "display_data"
        }
      ],
      "source": [
        "ranked_features"
      ]
    },
    {
      "cell_type": "code",
      "execution_count": null,
      "id": "4b42afa6",
      "metadata": {
        "id": "4b42afa6",
        "outputId": "8a5fdee6-919b-4faf-e9cd-df62b1c3f12b"
      },
      "outputs": [
        {
          "data": {
            "application/javascript": "\n            setTimeout(function() {\n                var nbb_cell_id = 23;\n                var nbb_unformatted_code = \"# save out a copy of the \\\"undrifted\\\" full dataset\\n# with open(\\\"../data/covtype_nodrift_norm.pkl\\\", \\\"wb\\\") as f:\\n#     pickle.dump(df, f)\";\n                var nbb_formatted_code = \"# save out a copy of the \\\"undrifted\\\" full dataset\\n# with open(\\\"../data/covtype_nodrift_norm.pkl\\\", \\\"wb\\\") as f:\\n#     pickle.dump(df, f)\";\n                var nbb_cells = Jupyter.notebook.get_cells();\n                for (var i = 0; i < nbb_cells.length; ++i) {\n                    if (nbb_cells[i].input_prompt_number == nbb_cell_id) {\n                        if (nbb_cells[i].get_text() == nbb_unformatted_code) {\n                             nbb_cells[i].set_text(nbb_formatted_code);\n                        }\n                        break;\n                    }\n                }\n            }, 500);\n            ",
            "text/plain": [
              "<IPython.core.display.Javascript object>"
            ]
          },
          "metadata": {},
          "output_type": "display_data"
        }
      ],
      "source": [
        "# save out a copy of the \"undrifted\" full dataset\n",
        "# with open(\"../data/covtype_nodrift_norm.pkl\", \"wb\") as f:\n",
        "#     pickle.dump(df, f)"
      ]
    },
    {
      "cell_type": "markdown",
      "id": "a796964e",
      "metadata": {
        "id": "a796964e"
      },
      "source": [
        "### 3. Separate dataset by chunks + shuffle feature values\n",
        "\n",
        "Let's induce 3 ChangePoints in the dataset, resulting in 4 different, sequential concepts.\n",
        "1. Original data distribution - no induced drift\n",
        "2. Rotate values for top 4 most important features\n",
        "3. Rotate values for middle 6 features ranked by importance\n",
        "4. Rotate values for bottom 4 least important features\n"
      ]
    },
    {
      "cell_type": "code",
      "execution_count": null,
      "id": "c0590b4f",
      "metadata": {
        "id": "c0590b4f",
        "outputId": "5ed81659-7b18-47e9-92f0-1847bb0d0939"
      },
      "outputs": [
        {
          "data": {
            "application/javascript": "\n            setTimeout(function() {\n                var nbb_cell_id = 24;\n                var nbb_unformatted_code = \"import copy\\nimport random\";\n                var nbb_formatted_code = \"import copy\\nimport random\";\n                var nbb_cells = Jupyter.notebook.get_cells();\n                for (var i = 0; i < nbb_cells.length; ++i) {\n                    if (nbb_cells[i].input_prompt_number == nbb_cell_id) {\n                        if (nbb_cells[i].get_text() == nbb_unformatted_code) {\n                             nbb_cells[i].set_text(nbb_formatted_code);\n                        }\n                        break;\n                    }\n                }\n            }, 500);\n            ",
            "text/plain": [
              "<IPython.core.display.Javascript object>"
            ]
          },
          "metadata": {},
          "output_type": "display_data"
        }
      ],
      "source": [
        "import copy\n",
        "import random"
      ]
    },
    {
      "cell_type": "code",
      "execution_count": null,
      "id": "b20c4d17",
      "metadata": {
        "id": "b20c4d17",
        "outputId": "6465e4ec-a559-4e12-91ec-a9e37550094d"
      },
      "outputs": [
        {
          "data": {
            "application/javascript": "\n            setTimeout(function() {\n                var nbb_cell_id = 25;\n                var nbb_unformatted_code = \"# chunk_to_feature_rank_strategy = {0: None, 1: (0, 4), 2: (4, 10), 3: (10, 14)} # most to least severe\\nchunk_to_feature_rank_strategy = {0: None, 1: (10, 14), 2: (4, 10), 3: (0, 4)} # least to most severe\\n\\ndef induce_drift(df, ranked_features, strategy):\\n    \\n    df = df.reset_index(drop=True)\\n\\n    chunk_size = int(df.shape[0] / 4)\\n    change_points = list(range(0, len(df) - chunk_size, chunk_size))\\n    df_chunks = [df[i : i + chunk_size] for i in change_points]\\n    \\n    random.seed(42)\\n    shuffled_df_chunks = []\\n\\n    for i, df_chunk in enumerate(df_chunks):\\n\\n        # lookup feature rotation strategy\\n        strategy = chunk_to_feature_rank_strategy[i]\\n\\n        if strategy:\\n            features_to_rotate = ranked_features[strategy[0] : strategy[1]]\\n\\n            # get shuffled col_names to ensure all fields have actually changed index\\n            col_names = df_chunk[features_to_rotate].columns.tolist()\\n            shuffled_col_names = copy.deepcopy(col_names)\\n\\n            while any(col_names[j] == shuffled_col_names[j] for j in range(len(col_names))):\\n                random.shuffle(shuffled_col_names)\\n\\n            # rename columns with shuffled names\\n            shuffle_col_map = {\\n                col_names[k]: shuffled_col_names[k] for k in range(len(col_names))\\n            }\\n            shuffled_df_chunk = df_chunk.rename(columns=shuffle_col_map)\\n\\n            shuffled_df_chunks.append(shuffled_df_chunk[df.columns.values])\\n\\n        else:\\n            shuffled_df_chunks.append(df_chunk)\\n\\n    return pd.concat(shuffled_df_chunks, axis=0), change_points\";\n                var nbb_formatted_code = \"# chunk_to_feature_rank_strategy = {0: None, 1: (0, 4), 2: (4, 10), 3: (10, 14)} # most to least severe\\nchunk_to_feature_rank_strategy = {\\n    0: None,\\n    1: (10, 14),\\n    2: (4, 10),\\n    3: (0, 4),\\n}  # least to most severe\\n\\n\\ndef induce_drift(df, ranked_features, strategy):\\n\\n    df = df.reset_index(drop=True)\\n\\n    chunk_size = int(df.shape[0] / 4)\\n    change_points = list(range(0, len(df) - chunk_size, chunk_size))\\n    df_chunks = [df[i : i + chunk_size] for i in change_points]\\n\\n    random.seed(42)\\n    shuffled_df_chunks = []\\n\\n    for i, df_chunk in enumerate(df_chunks):\\n\\n        # lookup feature rotation strategy\\n        strategy = chunk_to_feature_rank_strategy[i]\\n\\n        if strategy:\\n            features_to_rotate = ranked_features[strategy[0] : strategy[1]]\\n\\n            # get shuffled col_names to ensure all fields have actually changed index\\n            col_names = df_chunk[features_to_rotate].columns.tolist()\\n            shuffled_col_names = copy.deepcopy(col_names)\\n\\n            while any(\\n                col_names[j] == shuffled_col_names[j] for j in range(len(col_names))\\n            ):\\n                random.shuffle(shuffled_col_names)\\n\\n            # rename columns with shuffled names\\n            shuffle_col_map = {\\n                col_names[k]: shuffled_col_names[k] for k in range(len(col_names))\\n            }\\n            shuffled_df_chunk = df_chunk.rename(columns=shuffle_col_map)\\n\\n            shuffled_df_chunks.append(shuffled_df_chunk[df.columns.values])\\n\\n        else:\\n            shuffled_df_chunks.append(df_chunk)\\n\\n    return pd.concat(shuffled_df_chunks, axis=0), change_points\";\n                var nbb_cells = Jupyter.notebook.get_cells();\n                for (var i = 0; i < nbb_cells.length; ++i) {\n                    if (nbb_cells[i].input_prompt_number == nbb_cell_id) {\n                        if (nbb_cells[i].get_text() == nbb_unformatted_code) {\n                             nbb_cells[i].set_text(nbb_formatted_code);\n                        }\n                        break;\n                    }\n                }\n            }, 500);\n            ",
            "text/plain": [
              "<IPython.core.display.Javascript object>"
            ]
          },
          "metadata": {},
          "output_type": "display_data"
        }
      ],
      "source": [
        "# chunk_to_feature_rank_strategy = {0: None, 1: (0, 4), 2: (4, 10), 3: (10, 14)} # most to least severe\n",
        "chunk_to_feature_rank_strategy = {0: None, 1: (10, 14), 2: (4, 10), 3: (0, 4)} # least to most severe\n",
        "\n",
        "def induce_drift(df, ranked_features, strategy):\n",
        "    \n",
        "    df = df.reset_index(drop=True)\n",
        "\n",
        "    chunk_size = int(df.shape[0] / 4)\n",
        "    change_points = list(range(0, len(df) - chunk_size, chunk_size))\n",
        "    df_chunks = [df[i : i + chunk_size] for i in change_points]\n",
        "    \n",
        "    random.seed(42)\n",
        "    shuffled_df_chunks = []\n",
        "\n",
        "    for i, df_chunk in enumerate(df_chunks):\n",
        "\n",
        "        # lookup feature rotation strategy\n",
        "        strategy = chunk_to_feature_rank_strategy[i]\n",
        "\n",
        "        if strategy:\n",
        "            features_to_rotate = ranked_features[strategy[0] : strategy[1]]\n",
        "\n",
        "            # get shuffled col_names to ensure all fields have actually changed index\n",
        "            col_names = df_chunk[features_to_rotate].columns.tolist()\n",
        "            shuffled_col_names = copy.deepcopy(col_names)\n",
        "\n",
        "            while any(col_names[j] == shuffled_col_names[j] for j in range(len(col_names))):\n",
        "                random.shuffle(shuffled_col_names)\n",
        "\n",
        "            # rename columns with shuffled names\n",
        "            shuffle_col_map = {\n",
        "                col_names[k]: shuffled_col_names[k] for k in range(len(col_names))\n",
        "            }\n",
        "            shuffled_df_chunk = df_chunk.rename(columns=shuffle_col_map)\n",
        "\n",
        "            shuffled_df_chunks.append(shuffled_df_chunk[df.columns.values])\n",
        "\n",
        "        else:\n",
        "            shuffled_df_chunks.append(df_chunk)\n",
        "\n",
        "    return pd.concat(shuffled_df_chunks, axis=0), change_points\n"
      ]
    },
    {
      "cell_type": "code",
      "execution_count": null,
      "id": "d435954b",
      "metadata": {
        "id": "d435954b"
      },
      "outputs": [],
      "source": [
        "%%time\n",
        "\n",
        "drift_df, change_points = induce_drift(\n",
        "    df, ranked_features, chunk_to_feature_rank_strategy\n",
        ")"
      ]
    },
    {
      "cell_type": "code",
      "execution_count": null,
      "id": "9ad2dd50",
      "metadata": {
        "id": "9ad2dd50",
        "outputId": "3d602b9f-5195-49d1-a8c9-ee655efe5d82"
      },
      "outputs": [
        {
          "data": {
            "application/javascript": "\n            setTimeout(function() {\n                var nbb_cell_id = 27;\n                var nbb_unformatted_code = \"# with open(\\\"../data/covtype_induced_drift.pkl\\\", \\\"wb\\\") as f:\\n#     pickle.dump((drift_df, change_points), f)\\n\\n# with open(\\\"../data/covtype_induced_drift.pkl\\\", \\\"rb\\\") as f:\\n#     drift_df, change_points = pickle.load(f)\";\n                var nbb_formatted_code = \"# with open(\\\"../data/covtype_induced_drift.pkl\\\", \\\"wb\\\") as f:\\n#     pickle.dump((drift_df, change_points), f)\\n\\n# with open(\\\"../data/covtype_induced_drift.pkl\\\", \\\"rb\\\") as f:\\n#     drift_df, change_points = pickle.load(f)\";\n                var nbb_cells = Jupyter.notebook.get_cells();\n                for (var i = 0; i < nbb_cells.length; ++i) {\n                    if (nbb_cells[i].input_prompt_number == nbb_cell_id) {\n                        if (nbb_cells[i].get_text() == nbb_unformatted_code) {\n                             nbb_cells[i].set_text(nbb_formatted_code);\n                        }\n                        break;\n                    }\n                }\n            }, 500);\n            ",
            "text/plain": [
              "<IPython.core.display.Javascript object>"
            ]
          },
          "metadata": {},
          "output_type": "display_data"
        }
      ],
      "source": [
        "# with open(\"../data/covtype_induced_drift.pkl\", \"wb\") as f:\n",
        "#     pickle.dump((drift_df, change_points), f)\n",
        "\n",
        "# with open(\"../data/covtype_induced_drift.pkl\", \"rb\") as f:\n",
        "#     drift_df, change_points = pickle.load(f)"
      ]
    },
    {
      "cell_type": "markdown",
      "id": "4a885d89",
      "metadata": {
        "id": "4a885d89"
      },
      "source": [
        "### Induce drift forward chain\n",
        "\n",
        "This version corrects the previous method by ensurin that drift is induced in a forward chaining strategy so that concepts persist throughout entire dataset from a given changepoint."
      ]
    },
    {
      "cell_type": "code",
      "execution_count": null,
      "id": "7deaadba",
      "metadata": {
        "id": "7deaadba",
        "outputId": "5b926245-a965-48f5-a706-1ed0cadf530f"
      },
      "outputs": [
        {
          "data": {
            "application/javascript": "\n            setTimeout(function() {\n                var nbb_cell_id = 26;\n                var nbb_unformatted_code = \"chunk_to_feature_rank_strategy = {0: None, 1: (0, 4), 2: (4, 10), 3: (10, 14)} # most to least severe\\n\\ndef induce_drift_forward(df, ranked_features, rotation_strategy):\\n    \\n    df = df.reset_index(drop=True)\\n\\n    chunk_size = int(df.shape[0] / 4)\\n    change_points = list(range(0, len(df) - chunk_size, chunk_size))\\n    chunk_end_idxs = [i + chunk_size for i in change_points]\\n\\n    drift_df = copy.deepcopy(df)\\n    \\n    for i, change_point in enumerate(change_points):\\n\\n        # lookup feature rotation strategy\\n        strategy = rotation_strategy[i]\\n\\n        if strategy:\\n\\n            # grab records that need to be rotated - chained foward\\n            working_df = copy.deepcopy(drift_df[change_point:])\\n\\n            features_to_rotate = ranked_features[strategy[0] : strategy[1]]\\n\\n            # get shuffled col_names to ensure all fields have actually changed index\\n            col_names = working_df[features_to_rotate].columns.tolist()\\n            shuffled_col_names = copy.deepcopy(col_names)\\n\\n            while any(col_names[j] == shuffled_col_names[j] for j in range(len(col_names))):\\n                random.shuffle(shuffled_col_names)\\n\\n            # rename columns with shuffled names\\n            shuffle_col_map = {\\n                col_names[k]: shuffled_col_names[k] for k in range(len(col_names))\\n            }\\n            shuffled_working_df = working_df.rename(columns=shuffle_col_map)\\n\\n            # update drift_df to overwrite the new records from working df\\n            drift_df = drift_df.iloc[:change_point]\\n            drift_df = drift_df.append(shuffled_working_df)\\n\\n    return drift_df, change_points\\n   \";\n                var nbb_formatted_code = \"chunk_to_feature_rank_strategy = {\\n    0: None,\\n    1: (0, 4),\\n    2: (4, 10),\\n    3: (10, 14),\\n}  # most to least severe\\n\\n\\ndef induce_drift_forward(df, ranked_features, rotation_strategy):\\n\\n    df = df.reset_index(drop=True)\\n\\n    chunk_size = int(df.shape[0] / 4)\\n    change_points = list(range(0, len(df) - chunk_size, chunk_size))\\n    chunk_end_idxs = [i + chunk_size for i in change_points]\\n\\n    drift_df = copy.deepcopy(df)\\n\\n    for i, change_point in enumerate(change_points):\\n\\n        # lookup feature rotation strategy\\n        strategy = rotation_strategy[i]\\n\\n        if strategy:\\n\\n            # grab records that need to be rotated - chained foward\\n            working_df = copy.deepcopy(drift_df[change_point:])\\n\\n            features_to_rotate = ranked_features[strategy[0] : strategy[1]]\\n\\n            # get shuffled col_names to ensure all fields have actually changed index\\n            col_names = working_df[features_to_rotate].columns.tolist()\\n            shuffled_col_names = copy.deepcopy(col_names)\\n\\n            while any(\\n                col_names[j] == shuffled_col_names[j] for j in range(len(col_names))\\n            ):\\n                random.shuffle(shuffled_col_names)\\n\\n            # rename columns with shuffled names\\n            shuffle_col_map = {\\n                col_names[k]: shuffled_col_names[k] for k in range(len(col_names))\\n            }\\n            shuffled_working_df = working_df.rename(columns=shuffle_col_map)\\n\\n            # update drift_df to overwrite the new records from working df\\n            drift_df = drift_df.iloc[:change_point]\\n            drift_df = drift_df.append(shuffled_working_df)\\n\\n    return drift_df, change_points\";\n                var nbb_cells = Jupyter.notebook.get_cells();\n                for (var i = 0; i < nbb_cells.length; ++i) {\n                    if (nbb_cells[i].input_prompt_number == nbb_cell_id) {\n                        if (nbb_cells[i].get_text() == nbb_unformatted_code) {\n                             nbb_cells[i].set_text(nbb_formatted_code);\n                        }\n                        break;\n                    }\n                }\n            }, 500);\n            ",
            "text/plain": [
              "<IPython.core.display.Javascript object>"
            ]
          },
          "metadata": {},
          "output_type": "display_data"
        }
      ],
      "source": [
        "chunk_to_feature_rank_strategy = {0: None, 1: (0, 4), 2: (4, 10), 3: (10, 14)} # most to least severe\n",
        "\n",
        "def induce_drift_forward(df, ranked_features, rotation_strategy):\n",
        "    \n",
        "    df = df.reset_index(drop=True)\n",
        "\n",
        "    chunk_size = int(df.shape[0] / 4)\n",
        "    change_points = list(range(0, len(df) - chunk_size, chunk_size))\n",
        "    chunk_end_idxs = [i + chunk_size for i in change_points]\n",
        "\n",
        "    drift_df = copy.deepcopy(df)\n",
        "    \n",
        "    for i, change_point in enumerate(change_points):\n",
        "\n",
        "        # lookup feature rotation strategy\n",
        "        strategy = rotation_strategy[i]\n",
        "\n",
        "        if strategy:\n",
        "\n",
        "            # grab records that need to be rotated - chained foward\n",
        "            working_df = copy.deepcopy(drift_df[change_point:])\n",
        "\n",
        "            features_to_rotate = ranked_features[strategy[0] : strategy[1]]\n",
        "\n",
        "            # get shuffled col_names to ensure all fields have actually changed index\n",
        "            col_names = working_df[features_to_rotate].columns.tolist()\n",
        "            shuffled_col_names = copy.deepcopy(col_names)\n",
        "\n",
        "            while any(col_names[j] == shuffled_col_names[j] for j in range(len(col_names))):\n",
        "                random.shuffle(shuffled_col_names)\n",
        "\n",
        "            # rename columns with shuffled names\n",
        "            shuffle_col_map = {\n",
        "                col_names[k]: shuffled_col_names[k] for k in range(len(col_names))\n",
        "            }\n",
        "            shuffled_working_df = working_df.rename(columns=shuffle_col_map)\n",
        "\n",
        "            # update drift_df to overwrite the new records from working df\n",
        "            drift_df = drift_df.iloc[:change_point]\n",
        "            drift_df = drift_df.append(shuffled_working_df)\n",
        "\n",
        "    return drift_df, change_points\n",
        "   \n"
      ]
    },
    {
      "cell_type": "code",
      "execution_count": null,
      "id": "7d0bcbef",
      "metadata": {
        "id": "7d0bcbef",
        "outputId": "3b48371d-160b-4ff5-f5d2-6a402a2bf5c9"
      },
      "outputs": [
        {
          "name": "stdout",
          "output_type": "stream",
          "text": [
            "CPU times: user 171 ms, sys: 72.9 ms, total: 244 ms\n",
            "Wall time: 244 ms\n"
          ]
        },
        {
          "data": {
            "application/javascript": "\n            setTimeout(function() {\n                var nbb_cell_id = 27;\n                var nbb_unformatted_code = \"%%time\\n\\ndrift_df, change_points = induce_drift_forward(\\n    df, ranked_features, chunk_to_feature_rank_strategy\\n)\";\n                var nbb_formatted_code = \"%%time\\n\\ndrift_df, change_points = induce_drift_forward(\\n    df, ranked_features, chunk_to_feature_rank_strategy\\n)\";\n                var nbb_cells = Jupyter.notebook.get_cells();\n                for (var i = 0; i < nbb_cells.length; ++i) {\n                    if (nbb_cells[i].input_prompt_number == nbb_cell_id) {\n                        if (nbb_cells[i].get_text() == nbb_unformatted_code) {\n                             nbb_cells[i].set_text(nbb_formatted_code);\n                        }\n                        break;\n                    }\n                }\n            }, 500);\n            ",
            "text/plain": [
              "<IPython.core.display.Javascript object>"
            ]
          },
          "metadata": {},
          "output_type": "display_data"
        }
      ],
      "source": [
        "%%time\n",
        "\n",
        "drift_df, change_points = induce_drift_forward(\n",
        "    df, ranked_features, chunk_to_feature_rank_strategy\n",
        ")"
      ]
    },
    {
      "cell_type": "code",
      "execution_count": null,
      "id": "645f21b5",
      "metadata": {
        "id": "645f21b5",
        "outputId": "d9325b7e-5b27-4d61-95be-d82df6ff9671"
      },
      "outputs": [
        {
          "data": {
            "application/javascript": "\n            setTimeout(function() {\n                var nbb_cell_id = 31;\n                var nbb_unformatted_code = \"with open(\\\"../data/covtype_induced_drift_forward_norm_reverse.pkl\\\", \\\"wb\\\") as f:\\n    pickle.dump((drift_df, change_points), f)\\n\\n# with open(\\\"../data/covtype_induced_drift_forward_norm.pkl\\\", \\\"rb\\\") as f:\\n#     drift_df, change_points = pickle.load(f)\";\n                var nbb_formatted_code = \"with open(\\\"../data/covtype_induced_drift_forward_norm_reverse.pkl\\\", \\\"wb\\\") as f:\\n    pickle.dump((drift_df, change_points), f)\\n\\n# with open(\\\"../data/covtype_induced_drift_forward_norm.pkl\\\", \\\"rb\\\") as f:\\n#     drift_df, change_points = pickle.load(f)\";\n                var nbb_cells = Jupyter.notebook.get_cells();\n                for (var i = 0; i < nbb_cells.length; ++i) {\n                    if (nbb_cells[i].input_prompt_number == nbb_cell_id) {\n                        if (nbb_cells[i].get_text() == nbb_unformatted_code) {\n                             nbb_cells[i].set_text(nbb_formatted_code);\n                        }\n                        break;\n                    }\n                }\n            }, 500);\n            ",
            "text/plain": [
              "<IPython.core.display.Javascript object>"
            ]
          },
          "metadata": {},
          "output_type": "display_data"
        }
      ],
      "source": [
        "# with open(\"../data/covtype_induced_drift_forward_norm.pkl\", \"wb\") as f:\n",
        "#     pickle.dump((drift_df, change_points), f)\n",
        "\n",
        "# with open(\"../data/covtype_induced_drift_forward_norm.pkl\", \"rb\") as f:\n",
        "#     drift_df, change_points = pickle.load(f)"
      ]
    },
    {
      "cell_type": "markdown",
      "id": "f5147ee1",
      "metadata": {
        "id": "f5147ee1"
      },
      "source": [
        "### Are targets distributed evenly among concepts?"
      ]
    },
    {
      "cell_type": "code",
      "execution_count": null,
      "id": "d2a21836",
      "metadata": {
        "id": "d2a21836",
        "outputId": "0f5f57fe-55d0-491c-f942-14a9de7215c1"
      },
      "outputs": [
        {
          "data": {
            "text/plain": [
              "1.0    70845\n",
              "0.0    52940\n",
              "Name: cover_type, dtype: int64"
            ]
          },
          "execution_count": 28,
          "metadata": {},
          "output_type": "execute_result"
        },
        {
          "data": {
            "application/javascript": "\n            setTimeout(function() {\n                var nbb_cell_id = 28;\n                var nbb_unformatted_code = \"drift_df.iloc[: change_points[1]].cover_type.value_counts()\";\n                var nbb_formatted_code = \"drift_df.iloc[: change_points[1]].cover_type.value_counts()\";\n                var nbb_cells = Jupyter.notebook.get_cells();\n                for (var i = 0; i < nbb_cells.length; ++i) {\n                    if (nbb_cells[i].input_prompt_number == nbb_cell_id) {\n                        if (nbb_cells[i].get_text() == nbb_unformatted_code) {\n                             nbb_cells[i].set_text(nbb_formatted_code);\n                        }\n                        break;\n                    }\n                }\n            }, 500);\n            ",
            "text/plain": [
              "<IPython.core.display.Javascript object>"
            ]
          },
          "metadata": {},
          "output_type": "display_data"
        }
      ],
      "source": [
        "drift_df.iloc[: change_points[1]].cover_type.value_counts()"
      ]
    },
    {
      "cell_type": "code",
      "execution_count": null,
      "id": "7913c96f",
      "metadata": {
        "id": "7913c96f",
        "outputId": "22dcabdb-d518-4790-b9a6-9ce529caa1f9"
      },
      "outputs": [
        {
          "data": {
            "text/plain": [
              "1.0    70842\n",
              "0.0    52943\n",
              "Name: cover_type, dtype: int64"
            ]
          },
          "execution_count": 29,
          "metadata": {},
          "output_type": "execute_result"
        },
        {
          "data": {
            "application/javascript": "\n            setTimeout(function() {\n                var nbb_cell_id = 29;\n                var nbb_unformatted_code = \"drift_df.iloc[change_points[1] : change_points[2]].cover_type.value_counts()\";\n                var nbb_formatted_code = \"drift_df.iloc[change_points[1] : change_points[2]].cover_type.value_counts()\";\n                var nbb_cells = Jupyter.notebook.get_cells();\n                for (var i = 0; i < nbb_cells.length; ++i) {\n                    if (nbb_cells[i].input_prompt_number == nbb_cell_id) {\n                        if (nbb_cells[i].get_text() == nbb_unformatted_code) {\n                             nbb_cells[i].set_text(nbb_formatted_code);\n                        }\n                        break;\n                    }\n                }\n            }, 500);\n            ",
            "text/plain": [
              "<IPython.core.display.Javascript object>"
            ]
          },
          "metadata": {},
          "output_type": "display_data"
        }
      ],
      "source": [
        "drift_df.iloc[change_points[1] : change_points[2]].cover_type.value_counts()"
      ]
    },
    {
      "cell_type": "code",
      "execution_count": null,
      "id": "3b5a9013",
      "metadata": {
        "id": "3b5a9013",
        "outputId": "28a40458-07e6-41db-bcca-a0b76e0a5eee"
      },
      "outputs": [
        {
          "data": {
            "text/plain": [
              "1.0    70635\n",
              "0.0    53150\n",
              "Name: cover_type, dtype: int64"
            ]
          },
          "execution_count": 30,
          "metadata": {},
          "output_type": "execute_result"
        },
        {
          "data": {
            "application/javascript": "\n            setTimeout(function() {\n                var nbb_cell_id = 30;\n                var nbb_unformatted_code = \"drift_df.iloc[change_points[2] : change_points[3]].cover_type.value_counts()\";\n                var nbb_formatted_code = \"drift_df.iloc[change_points[2] : change_points[3]].cover_type.value_counts()\";\n                var nbb_cells = Jupyter.notebook.get_cells();\n                for (var i = 0; i < nbb_cells.length; ++i) {\n                    if (nbb_cells[i].input_prompt_number == nbb_cell_id) {\n                        if (nbb_cells[i].get_text() == nbb_unformatted_code) {\n                             nbb_cells[i].set_text(nbb_formatted_code);\n                        }\n                        break;\n                    }\n                }\n            }, 500);\n            ",
            "text/plain": [
              "<IPython.core.display.Javascript object>"
            ]
          },
          "metadata": {},
          "output_type": "display_data"
        }
      ],
      "source": [
        "drift_df.iloc[change_points[2] : change_points[3]].cover_type.value_counts()"
      ]
    },
    {
      "cell_type": "code",
      "execution_count": null,
      "id": "78a1834c",
      "metadata": {
        "id": "78a1834c",
        "outputId": "48674d18-bd54-4f4f-cfaf-07e69d49a8a4"
      },
      "outputs": [
        {
          "data": {
            "text/plain": [
              "1.0    70979\n",
              "0.0    52807\n",
              "Name: cover_type, dtype: int64"
            ]
          },
          "execution_count": 31,
          "metadata": {},
          "output_type": "execute_result"
        },
        {
          "data": {
            "application/javascript": "\n            setTimeout(function() {\n                var nbb_cell_id = 31;\n                var nbb_unformatted_code = \"drift_df.iloc[change_points[3] :].cover_type.value_counts()\";\n                var nbb_formatted_code = \"drift_df.iloc[change_points[3] :].cover_type.value_counts()\";\n                var nbb_cells = Jupyter.notebook.get_cells();\n                for (var i = 0; i < nbb_cells.length; ++i) {\n                    if (nbb_cells[i].input_prompt_number == nbb_cell_id) {\n                        if (nbb_cells[i].get_text() == nbb_unformatted_code) {\n                             nbb_cells[i].set_text(nbb_formatted_code);\n                        }\n                        break;\n                    }\n                }\n            }, 500);\n            ",
            "text/plain": [
              "<IPython.core.display.Javascript object>"
            ]
          },
          "metadata": {},
          "output_type": "display_data"
        }
      ],
      "source": [
        "drift_df.iloc[change_points[3] :].cover_type.value_counts()"
      ]
    }
  ],
  "metadata": {
    "kernelspec": {
      "display_name": "Python 3.10.4 ('covertype_eda')",
      "language": "python",
      "name": "python3"
    },
    "language_info": {
      "codemirror_mode": {
        "name": "ipython",
        "version": 3
      },
      "file_extension": ".py",
      "mimetype": "text/x-python",
      "name": "python",
      "nbconvert_exporter": "python",
      "pygments_lexer": "ipython3",
      "version": "3.10.4"
    },
    "vscode": {
      "interpreter": {
        "hash": "5cfb01312b08ccc6dbcd508713ff19bc2f15fdd9ae256ae42bf6675f5e8605b8"
      }
    },
    "colab": {
      "name": "Covertype_EDA.ipynb",
      "provenance": [],
      "include_colab_link": true
    }
  },
  "nbformat": 4,
  "nbformat_minor": 5
}