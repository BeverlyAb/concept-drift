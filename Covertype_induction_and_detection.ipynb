{
  "nbformat": 4,
  "nbformat_minor": 0,
  "metadata": {
    "colab": {
      "name": "Covertype_induction_and_detection.ipynb",
      "provenance": [],
      "collapsed_sections": [],
      "toc_visible": true,
      "authorship_tag": "ABX9TyMMEURRDXr9w2qrmSc2SKG8",
      "include_colab_link": true
    },
    "kernelspec": {
      "name": "python3",
      "display_name": "Python 3"
    },
    "language_info": {
      "name": "python"
    }
  },
  "cells": [
    {
      "cell_type": "markdown",
      "metadata": {
        "id": "view-in-github",
        "colab_type": "text"
      },
      "source": [
        "<a href=\"https://colab.research.google.com/github/BeverlyAb/concept-drift/blob/drift_induction/Covertype_induction_and_detection.ipynb\" target=\"_parent\"><img src=\"https://colab.research.google.com/assets/colab-badge.svg\" alt=\"Open In Colab\"/></a>"
      ]
    },
    {
      "cell_type": "markdown",
      "source": [
        "# Mount the data imports\n"
      ],
      "metadata": {
        "id": "AgSfNfhbQCrA"
      }
    },
    {
      "cell_type": "code",
      "execution_count": 21,
      "metadata": {
        "colab": {
          "base_uri": "https://localhost:8080/"
        },
        "id": "TmVFG-OIP7vZ",
        "outputId": "a72d7b1e-f2b8-4eb4-a771-ef678769e50e"
      },
      "outputs": [
        {
          "output_type": "stream",
          "name": "stdout",
          "text": [
            "Drive already mounted at /content/drive; to attempt to forcibly remount, call drive.mount(\"/content/drive\", force_remount=True).\n"
          ]
        }
      ],
      "source": [
        "from google.colab import drive\n",
        "drive.mount('/content/drive')"
      ]
    },
    {
      "cell_type": "code",
      "source": [
        "!pip install evidently"
      ],
      "metadata": {
        "colab": {
          "base_uri": "https://localhost:8080/"
        },
        "id": "3ZphxFO5Qav2",
        "outputId": "6548541c-a1d2-4636-b902-10799566c5f1"
      },
      "execution_count": 22,
      "outputs": [
        {
          "output_type": "stream",
          "name": "stdout",
          "text": [
            "Looking in indexes: https://pypi.org/simple, https://us-python.pkg.dev/colab-wheels/public/simple/\n",
            "Requirement already satisfied: evidently in /usr/local/lib/python3.7/dist-packages (0.1.56.dev0)\n",
            "Requirement already satisfied: dataclasses>=0.6 in /usr/local/lib/python3.7/dist-packages (from evidently) (0.6)\n",
            "Requirement already satisfied: statsmodels>=0.12.2 in /usr/local/lib/python3.7/dist-packages (from evidently) (0.13.2)\n",
            "Requirement already satisfied: requests>=2.19.0 in /usr/local/lib/python3.7/dist-packages (from evidently) (2.23.0)\n",
            "Requirement already satisfied: scikit-learn>=0.24.0 in /usr/local/lib/python3.7/dist-packages (from evidently) (1.0.2)\n",
            "Requirement already satisfied: numpy>=1.19.5 in /usr/local/lib/python3.7/dist-packages (from evidently) (1.21.6)\n",
            "Requirement already satisfied: scipy>=1.5.4 in /usr/local/lib/python3.7/dist-packages (from evidently) (1.7.3)\n",
            "Requirement already satisfied: pandas>=1.1.5 in /usr/local/lib/python3.7/dist-packages (from evidently) (1.3.5)\n",
            "Requirement already satisfied: plotly>=5.5.0 in /usr/local/lib/python3.7/dist-packages (from evidently) (5.5.0)\n",
            "Requirement already satisfied: PyYAML~=5.1 in /usr/local/lib/python3.7/dist-packages (from evidently) (5.4.1)\n",
            "Requirement already satisfied: pytz>=2017.3 in /usr/local/lib/python3.7/dist-packages (from pandas>=1.1.5->evidently) (2022.1)\n",
            "Requirement already satisfied: python-dateutil>=2.7.3 in /usr/local/lib/python3.7/dist-packages (from pandas>=1.1.5->evidently) (2.8.2)\n",
            "Requirement already satisfied: tenacity>=6.2.0 in /usr/local/lib/python3.7/dist-packages (from plotly>=5.5.0->evidently) (8.0.1)\n",
            "Requirement already satisfied: six in /usr/local/lib/python3.7/dist-packages (from plotly>=5.5.0->evidently) (1.15.0)\n",
            "Requirement already satisfied: idna<3,>=2.5 in /usr/local/lib/python3.7/dist-packages (from requests>=2.19.0->evidently) (2.10)\n",
            "Requirement already satisfied: chardet<4,>=3.0.2 in /usr/local/lib/python3.7/dist-packages (from requests>=2.19.0->evidently) (3.0.4)\n",
            "Requirement already satisfied: urllib3!=1.25.0,!=1.25.1,<1.26,>=1.21.1 in /usr/local/lib/python3.7/dist-packages (from requests>=2.19.0->evidently) (1.24.3)\n",
            "Requirement already satisfied: certifi>=2017.4.17 in /usr/local/lib/python3.7/dist-packages (from requests>=2.19.0->evidently) (2022.6.15)\n",
            "Requirement already satisfied: joblib>=0.11 in /usr/local/lib/python3.7/dist-packages (from scikit-learn>=0.24.0->evidently) (1.1.0)\n",
            "Requirement already satisfied: threadpoolctl>=2.0.0 in /usr/local/lib/python3.7/dist-packages (from scikit-learn>=0.24.0->evidently) (3.1.0)\n",
            "Requirement already satisfied: packaging>=21.3 in /usr/local/lib/python3.7/dist-packages (from statsmodels>=0.12.2->evidently) (21.3)\n",
            "Requirement already satisfied: patsy>=0.5.2 in /usr/local/lib/python3.7/dist-packages (from statsmodels>=0.12.2->evidently) (0.5.2)\n",
            "Requirement already satisfied: pyparsing!=3.0.5,>=2.0.2 in /usr/local/lib/python3.7/dist-packages (from packaging>=21.3->statsmodels>=0.12.2->evidently) (3.0.9)\n"
          ]
        }
      ]
    },
    {
      "cell_type": "code",
      "source": [
        "import pandas as pd\n",
        "import pickle\n",
        "from sklearn import datasets\n",
        "\n",
        "from evidently import ColumnMapping\n",
        "from evidently.dashboard import Dashboard\n",
        "from evidently.dashboard.tabs import DataDriftTab, CatTargetDriftTab\n",
        "\n",
        "from evidently.model_profile import Profile\n",
        "from evidently.model_profile.sections import DataDriftProfileSection, CatTargetDriftProfileSection "
      ],
      "metadata": {
        "id": "RHUE1UdlQfES"
      },
      "execution_count": 23,
      "outputs": []
    },
    {
      "cell_type": "code",
      "source": [
        "import warnings\n",
        "warnings.filterwarnings('ignore')\n",
        "warnings.simplefilter('ignore')"
      ],
      "metadata": {
        "id": "xzWR6MnOQmj2"
      },
      "execution_count": 24,
      "outputs": []
    },
    {
      "cell_type": "markdown",
      "source": [
        "# Covertype Data"
      ],
      "metadata": {
        "id": "7EeUQNutQqzw"
      }
    },
    {
      "cell_type": "markdown",
      "source": [
        "## Drift induction\n",
        "On the Reliable Detection of Concept Drift from Streaming Unlabeled Data (pg 16)- (https://arxiv.org/pdf/1704.00023.pdf)\n",
        "\n",
        "1.   Shuffle all data to remove unwanted concept drift\n",
        "2.   Figure out which features are most/least important to classification using kfold cross validation\n",
        "3. Separate dataset by specified changepoints into chunks to represent differing concepts. In each chunk, select 25% of features (based on highest/lowest feature importance) per class and rotate them to induce drift. \n",
        "4. Features of high importance should impose \"real drift\", while lowest importance features should impose \"virtual drift\"\n"
      ],
      "metadata": {
        "id": "iwL1Q1Q3RIPN"
      }
    },
    {
      "cell_type": "markdown",
      "source": [
        "## Dataset Class"
      ],
      "metadata": {
        "id": "CCJY76FfR8Nt"
      }
    },
    {
      "cell_type": "code",
      "source": [
        "from typing import Dict \n",
        "class Dataset:\n",
        "    def __init__(self, full_df: pd.DataFrame, column_mapping: Dict, window_size: int):\n",
        "\n",
        "        self.full_df = full_df\n",
        "        self.column_mapping = column_mapping\n",
        "        self.window_size = window_size\n",
        "        self.set_splits()\n",
        "    def set_splits(self):\n",
        "        \"\"\"Use the specified window_size to set an attribute that holds corresponding index splits\"\"\"\n",
        "        idx = self.window_size\n",
        "\n",
        "        splits = []\n",
        "        while idx < len(self.full_df):\n",
        "            splits.append(idx)\n",
        "            idx += self.window_size\n",
        "\n",
        "        self.splits = splits\n",
        "\n",
        "    def get_split_idx(self, window_idx):\n",
        "        \"\"\"Given a window_idx from an experiment, lookup the split_idx\"\"\"\n",
        "        return self.splits[window_idx]\n",
        "\n",
        "    def get_window_data(self, window_idx, split_labels=True):\n",
        "        \"\"\"\n",
        "        Given a window_idx corresponding to a split_idx, return the data up to that\n",
        "        split value starting from the split_idx - 1 value.\n",
        "        Args:\n",
        "            window_idx (int) - index corresponding to the end point of the desired data window\n",
        "            split_labels (bool) - return features and labels separately vs. as one dataframe\n",
        "        Returns:\n",
        "            features (pd.DataFrame)\n",
        "            labels (pd.Series)\n",
        "        TO-DO: add test to make sure this function gets the expected window data\n",
        "        \"\"\"\n",
        "\n",
        "        end_idx = self.splits[window_idx]\n",
        "\n",
        "        if window_idx == 0:\n",
        "            window_data = self.full_df[:end_idx]\n",
        "        else:\n",
        "            start_idx = self.splits[window_idx - 1]\n",
        "            window_data = self.full_df[start_idx:end_idx]\n",
        "\n",
        "        if split_labels:\n",
        "            features, labels = self.split_df(window_data, self.column_mapping[\"target\"])\n",
        "            return features, labels\n",
        "        else:\n",
        "            return window_data\n",
        "\n",
        "    def get_data_by_idx(self, start_idx, end_idx, split_labels=True):\n",
        "        \"\"\"\n",
        "        Given an index into the full_df, return all records up to that observation.\n",
        "        Args:\n",
        "            start_idx (int) - index corresponding to the row in full_df\n",
        "            end_idx (int) - index corresponding to the row in full_df\n",
        "            split_labels (bool) - return features and labels separately vs. as one dataframe\n",
        "        Returns:\n",
        "            features (pd.DataFrame)\n",
        "            labels (pd.Series)\n",
        "        TO-DO: should this skip over the first full window that was trained on.. meaning eval data only?\n",
        "        \"\"\"\n",
        "\n",
        "        window_data = self.full_df[start_idx:end_idx]\n",
        "\n",
        "        if split_labels:\n",
        "            features, labels = self.split_df(window_data, self.column_mapping[\"target\"])\n",
        "            return features, labels\n",
        "        else:\n",
        "            return window_data\n",
        "\n",
        "    @staticmethod\n",
        "    def split_df(df, label_col):\n",
        "        \"\"\"Splits the features from labels in a dataframe, returns both\"\"\"\n",
        "        return df.drop(label_col, axis=1), df[label_col]"
      ],
      "metadata": {
        "id": "Nx_63_pNR8A4"
      },
      "execution_count": 27,
      "outputs": []
    },
    {
      "cell_type": "code",
      "source": [
        "with open(\"/content/drive/MyDrive/Grad_School/Research/Concept_drift/Data/covtype_induced_drift_forward_norm.pkl\", \"rb\") as f:\n",
        "    drift_df, change_points = pickle.load(f)"
      ],
      "metadata": {
        "id": "4iCs5iWhQqIF"
      },
      "execution_count": 25,
      "outputs": []
    },
    {
      "cell_type": "code",
      "source": [
        "# specify columns and if categorical\n",
        "col_names = [\n",
        "    (\"elevation\", False),\n",
        "    (\"aspect\", False),\n",
        "    (\"slope\", False),\n",
        "    (\"horizontal_dist_to_hydrology\", False),\n",
        "    (\"vertical_dist_to_hydrology\", False),\n",
        "    (\"horizontal_dist_to_roadways\", False),\n",
        "    (\"hillshade_9am\", False),\n",
        "    (\"hillshade_noon\", False),\n",
        "    (\"hillshade_3pm\", False),\n",
        "    (\"horizontal_dist_to_fire_points\", False),\n",
        "]\n",
        "wilderness_area_cols = [(f\"wilderness_area_{i+1}\", True) for i in range(4)]\n",
        "col_names = col_names + wilderness_area_cols + [(\"cover_type\", True)]"
      ],
      "metadata": {
        "id": "CTgbTA8kQ0TY"
      },
      "execution_count": 26,
      "outputs": []
    },
    {
      "cell_type": "markdown",
      "source": [
        "# Target drift"
      ],
      "metadata": {
        "id": "G-UWI3wBRDMl"
      }
    },
    {
      "cell_type": "code",
      "source": [
        "column_mapping = ColumnMapping()\n",
        "column_mapping.target = 'cover_type'\n",
        "column_mapping.prediction = None\n",
        "column_mapping.numerical_features = [col for col, iscat in col_names if not iscat]\n",
        "column_mapping.categorical_features = [col for col, iscat in col_names if iscat][:-1]"
      ],
      "metadata": {
        "id": "MzZgGyT8SOM4"
      },
      "execution_count": 39,
      "outputs": []
    },
    {
      "cell_type": "code",
      "source": [
        "CT_dataset = Dataset(\n",
        "    full_df=drift_df, column_mapping=column_mapping, window_size=17500 * 2\n",
        ")\n",
        "# changepoints [[0, 123785, 247570, 371355]] "
      ],
      "metadata": {
        "id": "0PPmCoflSKfR"
      },
      "execution_count": 40,
      "outputs": []
    },
    {
      "cell_type": "code",
      "source": [
        "covtype_target_drift_dashboard = Dashboard(tabs=[CatTargetDriftTab(verbose_level=1)])"
      ],
      "metadata": {
        "id": "P2SGS4E0Sg85"
      },
      "execution_count": 60,
      "outputs": []
    },
    {
      "cell_type": "code",
      "source": [
        "# dashboard.calculate(ref_data_sample, prod_data_sample, column_mapping=column_mapping)\n",
        "covtype_target_drift_dashboard.calculate(CT_dataset.get_data_by_idx(start_idx=0,end_idx=change_points[1],split_labels=False)\n",
        ", CT_dataset.get_data_by_idx(start_idx=change_points[1],end_idx=change_points[2],split_labels=False), column_mapping=column_mapping)"
      ],
      "metadata": {
        "id": "i_YxEM_MSWC3"
      },
      "execution_count": 61,
      "outputs": []
    },
    {
      "cell_type": "code",
      "source": [
        "covtype_target_drift_dashboard.show()"
      ],
      "metadata": {
        "id": "mVgsawTCSYBR"
      },
      "execution_count": 55,
      "outputs": []
    },
    {
      "cell_type": "code",
      "source": [
        "# covtype_target_drift_dashboard.save('covtype_target_drift_dashboard.html')"
      ],
      "metadata": {
        "id": "yjut6Rc1SmKI"
      },
      "execution_count": 56,
      "outputs": []
    },
    {
      "cell_type": "markdown",
      "source": [
        "## Target Profile"
      ],
      "metadata": {
        "id": "BbeLXBW4Zh69"
      }
    },
    {
      "cell_type": "code",
      "source": [
        "covtype_target_drift_profile = Profile(sections=[CatTargetDriftProfileSection()])"
      ],
      "metadata": {
        "id": "5dSJAIHeZf7V"
      },
      "execution_count": 69,
      "outputs": []
    },
    {
      "cell_type": "code",
      "source": [
        "covtype_target_drift_profile.calculate(CT_dataset.get_data_by_idx(start_idx=0,end_idx=change_points[1],split_labels=False)\n",
        ", CT_dataset.get_data_by_idx(start_idx=change_points[1],end_idx=change_points[2],split_labels=False), column_mapping=column_mapping)"
      ],
      "metadata": {
        "id": "7Y3so5rzZusQ"
      },
      "execution_count": 70,
      "outputs": []
    },
    {
      "cell_type": "code",
      "source": [
        "covtype_target_drift_profile.json()"
      ],
      "metadata": {
        "colab": {
          "base_uri": "https://localhost:8080/",
          "height": 125
        },
        "id": "RGigNGAIZ3wO",
        "outputId": "4aabb6f7-998e-4cda-846d-06a957c91a6b"
      },
      "execution_count": 71,
      "outputs": [
        {
          "output_type": "execute_result",
          "data": {
            "text/plain": [
              "'{\"cat_target_drift\": {\"name\": \"cat_target_drift\", \"datetime\": \"2022-08-17 06:04:42.997705\", \"data\": {\"utility_columns\": {\"date\": null, \"id\": null, \"target\": \"cover_type\", \"prediction\": null}, \"cat_feature_names\": [\"wilderness_area_1\", \"wilderness_area_2\", \"wilderness_area_3\", \"wilderness_area_4\"], \"num_feature_names\": [\"aspect\", \"elevation\", \"hillshade_3pm\", \"hillshade_9am\", \"hillshade_noon\", \"horizontal_dist_to_fire_points\", \"horizontal_dist_to_hydrology\", \"horizontal_dist_to_roadways\", \"slope\", \"vertical_dist_to_hydrology\"], \"datetime_feature_names\": [], \"target_names\": null, \"metrics\": {\"target_name\": \"cover_type\", \"target_type\": \"cat\", \"target_drift\": 0.0020902063696361713}}}, \"timestamp\": \"2022-08-17 06:04:55.061731\"}'"
            ],
            "application/vnd.google.colaboratory.intrinsic+json": {
              "type": "string"
            }
          },
          "metadata": {},
          "execution_count": 71
        }
      ]
    },
    {
      "cell_type": "markdown",
      "source": [
        "# Data Drift"
      ],
      "metadata": {
        "id": "xvTQD_bfVlcY"
      }
    },
    {
      "cell_type": "code",
      "source": [
        "covtype_data_drift_dashboard = Dashboard(tabs=[DataDriftTab(verbose_level=0)])"
      ],
      "metadata": {
        "id": "NWXOvp6kVoft"
      },
      "execution_count": 79,
      "outputs": []
    },
    {
      "cell_type": "code",
      "source": [
        "covtype_data_drift_dashboard.calculate(CT_dataset.get_data_by_idx(start_idx=0,end_idx=change_points[1],split_labels=False)\n",
        ", CT_dataset.get_data_by_idx(start_idx=change_points[1],end_idx=change_points[2],split_labels=False), column_mapping=column_mapping)"
      ],
      "metadata": {
        "id": "apRN2kLGYJeA"
      },
      "execution_count": 80,
      "outputs": []
    },
    {
      "cell_type": "code",
      "source": [
        "covtype_data_drift_dashboard.show()"
      ],
      "metadata": {
        "id": "_RnFftFSYOVW"
      },
      "execution_count": 82,
      "outputs": []
    },
    {
      "cell_type": "code",
      "source": [
        "# covtype_data_drift_dashboard.save('covtype_data_drift_dashboard.html')"
      ],
      "metadata": {
        "id": "V_LztBRuYdnq"
      },
      "execution_count": 83,
      "outputs": []
    },
    {
      "cell_type": "markdown",
      "source": [
        "## Data Profile"
      ],
      "metadata": {
        "id": "X11nL_IHZ_a-"
      }
    },
    {
      "cell_type": "code",
      "source": [
        "covtype_data_drift_profile = Profile(sections=[DataDriftProfileSection()])"
      ],
      "metadata": {
        "id": "7b_uDyZzaB6X"
      },
      "execution_count": 72,
      "outputs": []
    },
    {
      "cell_type": "code",
      "source": [
        "covtype_data_drift_profile.calculate(CT_dataset.get_data_by_idx(start_idx=0,end_idx=change_points[1],split_labels=False)\n",
        ", CT_dataset.get_data_by_idx(start_idx=change_points[1],end_idx=change_points[2],split_labels=False), column_mapping=column_mapping)"
      ],
      "metadata": {
        "id": "Ml_d3zWQaNNq"
      },
      "execution_count": 73,
      "outputs": []
    },
    {
      "cell_type": "code",
      "source": [
        "covtype_data_drift_profile.json()"
      ],
      "metadata": {
        "colab": {
          "base_uri": "https://localhost:8080/",
          "height": 161
        },
        "id": "c8Gd81RraRED",
        "outputId": "36f58718-f669-4995-d3f6-ccf896da5211"
      },
      "execution_count": 75,
      "outputs": [
        {
          "output_type": "execute_result",
          "data": {
            "text/plain": [
              "'{\"data_drift\": {\"name\": \"data_drift\", \"datetime\": \"2022-08-17 06:06:24.266386\", \"data\": {\"utility_columns\": {\"date\": null, \"id\": null, \"target\": \"cover_type\", \"prediction\": null}, \"cat_feature_names\": [\"wilderness_area_1\", \"wilderness_area_2\", \"wilderness_area_3\", \"wilderness_area_4\", \"cover_type\"], \"num_feature_names\": [\"aspect\", \"elevation\", \"hillshade_3pm\", \"hillshade_9am\", \"hillshade_noon\", \"horizontal_dist_to_fire_points\", \"horizontal_dist_to_hydrology\", \"horizontal_dist_to_roadways\", \"slope\", \"vertical_dist_to_hydrology\"], \"datetime_feature_names\": [], \"target_names\": null, \"options\": {\"confidence\": null, \"drift_share\": 0.5, \"nbinsx\": 10, \"xbins\": null}, \"metrics\": {\"n_features\": 15, \"n_drifted_features\": 4, \"share_drifted_features\": 0.26666666666666666, \"dataset_drift\": false, \"aspect\": {\"current_small_hist\": [[1.5223977056993983, 1.6033445086238236, 1.3869208708648055, 0.9725734135799978, 0.7299753605041, 0.6735872682473638, 0.527850708890415, 0.6119481358807611, 0.8509108534959812, 1.120491174213354], [0.0, 0.1, 0.2, 0.30000000000000004, 0.4, 0.5, 0.6000000000000001, 0.7000000000000001, 0.8, 0.9, 1.0]], \"ref_small_hist\": [[1.5315264369673223, 1.5992244617683888, 1.385870662842832, 0.9911540170456843, 0.724562749929313, 0.6680130872076578, 0.5200145413418429, 0.6238235650523085, 0.8480833703598984, 1.1077271074847521], [0.0, 0.1, 0.2, 0.30000000000000004, 0.4, 0.5, 0.6000000000000001, 0.7000000000000001, 0.8, 0.9, 1.0]], \"feature_type\": \"num\", \"stattest_name\": \"Wasserstein distance (normed)\", \"drift_score\": 0.0032494697293059998, \"drift_detected\": false}, \"elevation\": {\"current_small_hist\": [[1.1555319812065068, 2.4128840448639104, 2.4716357763978274, 1.9676548096297017, 0.8061095115027109, 0.37217556075427566, 0.3112297811547767, 0.26515477177755487, 0.23086261312290327, 0.0656589198885273], [0.0, 0.09941447093266416, 0.19882894186532832, 0.2982434127979925, 0.39765788373065664, 0.4970723546633208, 0.596486825595985, 0.6959012965286491, 0.7953157674613133, 0.8947302383939775, 0.9941447093266416]], \"ref_small_hist\": [[0.004136119860072413, 0.018166487228553345, 0.3138585070290243, 0.907270056365296, 1.6865636982365868, 2.9304814710560105, 2.5840206074828886, 1.4113900769576506, 0.1663368986864415, 0.01678778060852922], [0.0, 0.09961139896373057, 0.19922279792746114, 0.29883419689119173, 0.3984455958549223, 0.49805699481865284, 0.5976683937823835, 0.697279792746114, 0.7968911917098446, 0.8965025906735752, 0.9961139896373057]], \"feature_type\": \"num\", \"stattest_name\": \"Wasserstein distance (normed)\", \"drift_score\": 2.0723239674881504, \"drift_detected\": true}, \"hillshade_3pm\": {\"current_small_hist\": [[0.030132891707395887, 0.07149493072666317, 0.25972452235731297, 0.7647130104616877, 1.9400573575150468, 3.0202367007311035, 2.153088015510765, 1.3078321282869494, 0.38583027022660266, 0.06689017247647132], [0.0, 0.1, 0.2, 0.30000000000000004, 0.4, 0.5, 0.6000000000000001, 0.7000000000000001, 0.8, 0.9, 1.0]], \"ref_small_hist\": [[0.02980975077755786, 0.07206042735387971, 0.2665104818839115, 0.7762652987033971, 1.9394110756553706, 3.003433372379526, 2.1402431635497035, 1.3167992890899547, 0.3938280082400938, 0.0616391323666034], [0.0, 0.1, 0.2, 0.30000000000000004, 0.4, 0.5, 0.6000000000000001, 0.7000000000000001, 0.8, 0.9, 1.0]], \"feature_type\": \"num\", \"stattest_name\": \"Wasserstein distance (normed)\", \"drift_score\": 0.0048482108666487505, \"drift_detected\": false}, \"hillshade_9am\": {\"current_small_hist\": [[0.0002423556973785192, 0.0, 0.0022619865088661785, 0.012683281496142508, 0.05049077028719152, 0.19840853092054755, 0.6228541422627945, 2.009451872197763, 4.147594619703519, 2.9560124409257993], [0.0, 0.1, 0.2, 0.30000000000000004, 0.4, 0.5, 0.6000000000000001, 0.7000000000000001, 0.8, 0.9, 1.0]], \"ref_small_hist\": [[0.0001615704649190128, 0.0, 0.0017772751141091401, 0.013491133820737572, 0.04806721331340632, 0.19743910813103346, 0.6184109544775216, 2.0194692410227417, 4.128852445772914, 2.9723310578826196], [0.0, 0.1, 0.2, 0.30000000000000004, 0.4, 0.5, 0.6000000000000001, 0.7000000000000001, 0.8, 0.9, 1.0]], \"feature_type\": \"num\", \"stattest_name\": \"Wasserstein distance (normed)\", \"drift_score\": 0.003480917139511506, \"drift_detected\": false}, \"hillshade_noon\": {\"current_small_hist\": [[9.160468323533315e-05, 0.00018320936647066633, 0.000549628099411999, 0.0020153030311773294, 0.008794049590591983, 0.06293241738267388, 0.33893732797073267, 1.6600600695907073, 4.897735993860322, 4.36798611071039], [0.11811023622047244, 0.2062992125984252, 0.29448818897637796, 0.3826771653543307, 0.47086614173228347, 0.5590551181102362, 0.647244094488189, 0.7354330708661417, 0.8236220472440945, 0.9118110236220472, 1.0]], \"ref_small_hist\": [[0.0002876558277296443, 0.00019177055181976286, 0.0006711969313691699, 0.0030683288291162058, 0.016012841076950186, 0.08859799494073055, 0.4416475808409132, 1.9406220991400929, 5.083070246534628, 4.294989163831324], [0.15748031496062992, 0.24173228346456693, 0.32598425196850395, 0.41023622047244096, 0.494488188976378, 0.578740157480315, 0.662992125984252, 0.7472440944881891, 0.831496062992126, 0.9157480314960631, 1.0]], \"feature_type\": \"num\", \"stattest_name\": \"Wasserstein distance (normed)\", \"drift_score\": 0.003368822277018578, \"drift_detected\": false}, \"horizontal_dist_to_fire_points\": {\"current_small_hist\": [[3.163973564049758, 2.7697048985200903, 1.7989725745759577, 1.2349313020400015, 0.6070730667556272, 0.2819800402356954, 0.12722796517400928, 0.04798451015816181, 0.014289803363513503, 0.0042219873574017115], [0.0, 0.09949892627057981, 0.19899785254115962, 0.2984967788117394, 0.39799570508231924, 0.49749463135289906, 0.5969935576234788, 0.6964924838940587, 0.7959914101646385, 0.8954903364352182, 0.9949892627057981]], \"ref_small_hist\": [[1.1326532376706913, 2.404717441261876, 2.483349121108767, 1.981209972612833, 0.7916725166008928, 0.3774969810606145, 0.30803493983363955, 0.26462116406678077, 0.23776142616242488, 0.06329485065074784], [0.0, 0.09955388261536317, 0.19910776523072635, 0.2986616478460895, 0.3982155304614527, 0.4977694130768159, 0.597323295692179, 0.6968771783075423, 0.7964310609229054, 0.8959849435382685, 0.9955388261536318]], \"feature_type\": \"num\", \"stattest_name\": \"Wasserstein distance (normed)\", \"drift_score\": 0.5111390285136622, \"drift_detected\": true}, \"horizontal_dist_to_hydrology\": {\"current_small_hist\": [[1.0547319949913156, 1.9880437855959932, 1.8245344750979513, 1.4638284121662561, 1.2074968695722423, 0.797915741002544, 0.6506442622288647, 0.6003958476390517, 0.37589368663408335, 0.0365149250716969], [0.0, 0.1, 0.2, 0.30000000000000004, 0.4, 0.5, 0.6000000000000001, 0.7000000000000001, 0.8, 0.9, 1.0]], \"ref_small_hist\": [[3.167265823807408, 2.7484751787373267, 1.8145171062729726, 1.1696893807811934, 0.6113826392535445, 0.2946237427798196, 0.12642888879912756, 0.049036636102920396, 0.014541341842711155, 0.004039261622975321], [0.0, 0.1, 0.2, 0.30000000000000004, 0.4, 0.5, 0.6000000000000001, 0.7000000000000001, 0.8, 0.9, 1.0]], \"feature_type\": \"num\", \"stattest_name\": \"Wasserstein distance (normed)\", \"drift_score\": 1.0089538859009073, \"drift_detected\": true}, \"horizontal_dist_to_roadways\": {\"current_small_hist\": [[0.005673338482276446, 0.018397826221096477, 0.33205239659838, 0.9452592388398602, 1.7323944294094156, 2.9112331183338545, 2.594255592559812, 1.3312893987124705, 0.14693946669096, 0.014993823131730612], [0.0032383419689119286, 0.10291450777202074, 0.20259067357512955, 0.3022668393782384, 0.4019430051813472, 0.501619170984456, 0.6012953367875649, 0.7009715025906736, 0.8006476683937824, 0.9003238341968912, 1.0]], \"ref_small_hist\": [[1.0549111552371513, 1.968398943349236, 1.84207588982076, 1.4888422099349026, 1.2038846791605142, 0.8085974377529644, 0.6649820896219416, 0.588749861303665, 0.3902538035420185, 0.03872499777190406], [0.0, 0.09950821975551497, 0.19901643951102993, 0.2985246592665449, 0.39803287902205986, 0.4975410987775748, 0.5970493185330898, 0.6965575382886048, 0.7960657580441197, 0.8955739777996347, 0.9950821975551496]], \"feature_type\": \"num\", \"stattest_name\": \"Wasserstein distance (normed)\", \"drift_score\": 0.9731216342126204, \"drift_detected\": true}, \"slope\": {\"current_small_hist\": [[1.63603728238478, 3.5609928505069273, 3.2803222320959735, 1.210241042937351, 0.45562113745607297, 0.14570878943329166, 0.01874469846911983, 0.003915559235771702, 0.000666478167790928, 0.0002499293129215978], [0.0, 0.09696969696969697, 0.19393939393939394, 0.2909090909090909, 0.3878787878787879, 0.48484848484848486, 0.5818181818181818, 0.6787878787878788, 0.7757575757575758, 0.8727272727272727, 0.9696969696969697]], \"ref_small_hist\": [[1.5833905562063255, 4.033929797632993, 2.5904592640465314, 1.3020963767823244, 0.35957506967726305, 0.11560366764955356, 0.012360140566304481, 0.0017772751141091412, 0.0004039261622975321, 0.0004039261622975321], [0.0, 0.1, 0.2, 0.30000000000000004, 0.4, 0.5, 0.6000000000000001, 0.7000000000000001, 0.8, 0.9, 1.0]], \"feature_type\": \"num\", \"stattest_name\": \"Wasserstein distance (normed)\", \"drift_score\": 0.0025424575010995717, \"drift_detected\": false}, \"vertical_dist_to_hydrology\": {\"current_small_hist\": [[0.014576009942468611, 0.3340059551021358, 7.102160844467832, 2.0603521326632612, 0.540803096160909, 0.1457600994246863, 0.04364521158909634, 0.007702096162781706, 0.0010766370980232493, 0.0015735465278801316], [0.009043927648578809, 0.1065891472868217, 0.2041343669250646, 0.30167958656330746, 0.3992248062015504, 0.4967700258397933, 0.594315245478036, 0.691860465116279, 0.7894056847545219, 0.8869509043927648, 0.9844961240310078]], \"ref_small_hist\": [[0.01508452037068791, 0.27346775639763243, 6.917631282682461, 2.102425301557598, 0.5353382740156498, 0.14370844138096234, 0.04030648722705316, 0.007947758044771047, 0.001054294434510445, 0.0019463897252500544], [0.0, 0.09961240310077521, 0.19922480620155042, 0.2988372093023256, 0.39844961240310084, 0.4980620155038761, 0.5976744186046512, 0.6972868217054264, 0.7968992248062017, 0.8965116279069769, 0.996124031007752]], \"feature_type\": \"num\", \"stattest_name\": \"Wasserstein distance (normed)\", \"drift_score\": 0.006174674762372877, \"drift_detected\": false}, \"wilderness_area_1\": {\"current_small_hist\": [[60650, 63135], [0.0, 1.0]], \"ref_small_hist\": [[60956, 62829], [0.0, 1.0]], \"feature_type\": \"cat\", \"stattest_name\": \"Jensen-Shannon distance\", \"drift_score\": 0.0017482596205847189, \"drift_detected\": false}, \"wilderness_area_2\": {\"current_small_hist\": [[116868, 6917], [0.0, 1.0]], \"ref_small_hist\": [[116946, 6839], [0.0, 1.0]], \"feature_type\": \"cat\", \"stattest_name\": \"Jensen-Shannon distance\", \"drift_score\": 0.0009725218434017192, \"drift_detected\": false}, \"wilderness_area_3\": {\"current_small_hist\": [[70802, 52983], [0.0, 1.0]], \"ref_small_hist\": [[70404, 53381], [0.0, 1.0]], \"feature_type\": \"cat\", \"stattest_name\": \"Jensen-Shannon distance\", \"drift_score\": 0.002296384362038185, \"drift_detected\": false}, \"wilderness_area_4\": {\"current_small_hist\": [[123035, 750], [0.0, 1.0]], \"ref_small_hist\": [[123049, 736], [0.0, 1.0]], \"feature_type\": \"cat\", \"stattest_name\": \"Jensen-Shannon distance\", \"drift_score\": 0.0005176844708503918, \"drift_detected\": false}, \"cover_type\": {\"current_small_hist\": [[52690, 71095], [0.0, 1.0]], \"ref_small_hist\": [[53052, 70733], [0.0, 1.0]], \"feature_type\": \"cat\", \"stattest_name\": \"Jensen-Shannon distance\", \"drift_score\": 0.0020902063696361713, \"drift_detected\": false}}}}, \"timestamp\": \"2022-08-17 06:06:50.828754\"}'"
            ],
            "application/vnd.google.colaboratory.intrinsic+json": {
              "type": "string"
            }
          },
          "metadata": {},
          "execution_count": 75
        }
      ]
    },
    {
      "cell_type": "markdown",
      "source": [
        "# Target and Data Drift"
      ],
      "metadata": {
        "id": "0WtrAEO-YnzM"
      }
    },
    {
      "cell_type": "code",
      "source": [
        "covtype_target_and_data_drift_dashboard = Dashboard(tabs=[DataDriftTab(verbose_level=0), \n",
        "                                                       CatTargetDriftTab(verbose_level=0)])"
      ],
      "metadata": {
        "id": "6H_8pBqTYxZO"
      },
      "execution_count": 66,
      "outputs": []
    },
    {
      "cell_type": "code",
      "source": [
        "covtype_target_and_data_drift_dashboard.calculate(CT_dataset.get_data_by_idx(start_idx=0,end_idx=change_points[1],split_labels=False)\n",
        ", CT_dataset.get_data_by_idx(start_idx=change_points[1],end_idx=change_points[2],split_labels=False), column_mapping=column_mapping)"
      ],
      "metadata": {
        "id": "GJYRHNlbY68D"
      },
      "execution_count": 67,
      "outputs": []
    },
    {
      "cell_type": "code",
      "source": [
        "covtype_target_and_data_drift_dashboard.show()"
      ],
      "metadata": {
        "id": "1XKH1-aeZBJk"
      },
      "execution_count": 68,
      "outputs": []
    },
    {
      "cell_type": "code",
      "source": [
        "# covtype_target_and_data_drift_dashboard.save('covtype_target_and_data_drift_dashboard.html')"
      ],
      "metadata": {
        "id": "v6M4d7qTZEF2"
      },
      "execution_count": null,
      "outputs": []
    },
    {
      "cell_type": "markdown",
      "source": [
        "## Target and Drift Profile"
      ],
      "metadata": {
        "id": "j2ZrxQtlSveC"
      }
    },
    {
      "cell_type": "code",
      "source": [
        "covtype_target_and_data_drift_profile = Profile(sections=[DataDriftProfileSection(), CatTargetDriftProfileSection()])"
      ],
      "metadata": {
        "id": "DSqfVxrCSpq5"
      },
      "execution_count": 76,
      "outputs": []
    },
    {
      "cell_type": "code",
      "source": [
        "covtype_target_and_data_drift_profile.calculate(CT_dataset.get_data_by_idx(start_idx=0,end_idx=change_points[1],split_labels=False)\n",
        ", CT_dataset.get_data_by_idx(start_idx=change_points[1],end_idx=change_points[2],split_labels=False), column_mapping=column_mapping)"
      ],
      "metadata": {
        "id": "Hd0m1cfGS1QB"
      },
      "execution_count": 77,
      "outputs": []
    },
    {
      "cell_type": "code",
      "source": [
        "covtype_target_and_data_drift_profile.json()"
      ],
      "metadata": {
        "colab": {
          "base_uri": "https://localhost:8080/",
          "height": 161
        },
        "id": "KcD6G0fDS3Lc",
        "outputId": "34636acb-ae05-4700-a40d-90a8458d4961"
      },
      "execution_count": 78,
      "outputs": [
        {
          "output_type": "execute_result",
          "data": {
            "text/plain": [
              "'{\"data_drift\": {\"name\": \"data_drift\", \"datetime\": \"2022-08-17 06:07:37.147134\", \"data\": {\"utility_columns\": {\"date\": null, \"id\": null, \"target\": \"cover_type\", \"prediction\": null}, \"cat_feature_names\": [\"wilderness_area_1\", \"wilderness_area_2\", \"wilderness_area_3\", \"wilderness_area_4\", \"cover_type\"], \"num_feature_names\": [\"aspect\", \"elevation\", \"hillshade_3pm\", \"hillshade_9am\", \"hillshade_noon\", \"horizontal_dist_to_fire_points\", \"horizontal_dist_to_hydrology\", \"horizontal_dist_to_roadways\", \"slope\", \"vertical_dist_to_hydrology\"], \"datetime_feature_names\": [], \"target_names\": null, \"options\": {\"confidence\": null, \"drift_share\": 0.5, \"nbinsx\": 10, \"xbins\": null}, \"metrics\": {\"n_features\": 15, \"n_drifted_features\": 4, \"share_drifted_features\": 0.26666666666666666, \"dataset_drift\": false, \"aspect\": {\"current_small_hist\": [[1.5223977056993983, 1.6033445086238236, 1.3869208708648055, 0.9725734135799978, 0.7299753605041, 0.6735872682473638, 0.527850708890415, 0.6119481358807611, 0.8509108534959812, 1.120491174213354], [0.0, 0.1, 0.2, 0.30000000000000004, 0.4, 0.5, 0.6000000000000001, 0.7000000000000001, 0.8, 0.9, 1.0]], \"ref_small_hist\": [[1.5315264369673223, 1.5992244617683888, 1.385870662842832, 0.9911540170456843, 0.724562749929313, 0.6680130872076578, 0.5200145413418429, 0.6238235650523085, 0.8480833703598984, 1.1077271074847521], [0.0, 0.1, 0.2, 0.30000000000000004, 0.4, 0.5, 0.6000000000000001, 0.7000000000000001, 0.8, 0.9, 1.0]], \"feature_type\": \"num\", \"stattest_name\": \"Wasserstein distance (normed)\", \"drift_score\": 0.0032494697293059998, \"drift_detected\": false}, \"elevation\": {\"current_small_hist\": [[1.1555319812065068, 2.4128840448639104, 2.4716357763978274, 1.9676548096297017, 0.8061095115027109, 0.37217556075427566, 0.3112297811547767, 0.26515477177755487, 0.23086261312290327, 0.0656589198885273], [0.0, 0.09941447093266416, 0.19882894186532832, 0.2982434127979925, 0.39765788373065664, 0.4970723546633208, 0.596486825595985, 0.6959012965286491, 0.7953157674613133, 0.8947302383939775, 0.9941447093266416]], \"ref_small_hist\": [[0.004136119860072413, 0.018166487228553345, 0.3138585070290243, 0.907270056365296, 1.6865636982365868, 2.9304814710560105, 2.5840206074828886, 1.4113900769576506, 0.1663368986864415, 0.01678778060852922], [0.0, 0.09961139896373057, 0.19922279792746114, 0.29883419689119173, 0.3984455958549223, 0.49805699481865284, 0.5976683937823835, 0.697279792746114, 0.7968911917098446, 0.8965025906735752, 0.9961139896373057]], \"feature_type\": \"num\", \"stattest_name\": \"Wasserstein distance (normed)\", \"drift_score\": 2.0723239674881504, \"drift_detected\": true}, \"hillshade_3pm\": {\"current_small_hist\": [[0.030132891707395887, 0.07149493072666317, 0.25972452235731297, 0.7647130104616877, 1.9400573575150468, 3.0202367007311035, 2.153088015510765, 1.3078321282869494, 0.38583027022660266, 0.06689017247647132], [0.0, 0.1, 0.2, 0.30000000000000004, 0.4, 0.5, 0.6000000000000001, 0.7000000000000001, 0.8, 0.9, 1.0]], \"ref_small_hist\": [[0.02980975077755786, 0.07206042735387971, 0.2665104818839115, 0.7762652987033971, 1.9394110756553706, 3.003433372379526, 2.1402431635497035, 1.3167992890899547, 0.3938280082400938, 0.0616391323666034], [0.0, 0.1, 0.2, 0.30000000000000004, 0.4, 0.5, 0.6000000000000001, 0.7000000000000001, 0.8, 0.9, 1.0]], \"feature_type\": \"num\", \"stattest_name\": \"Wasserstein distance (normed)\", \"drift_score\": 0.0048482108666487505, \"drift_detected\": false}, \"hillshade_9am\": {\"current_small_hist\": [[0.0002423556973785192, 0.0, 0.0022619865088661785, 0.012683281496142508, 0.05049077028719152, 0.19840853092054755, 0.6228541422627945, 2.009451872197763, 4.147594619703519, 2.9560124409257993], [0.0, 0.1, 0.2, 0.30000000000000004, 0.4, 0.5, 0.6000000000000001, 0.7000000000000001, 0.8, 0.9, 1.0]], \"ref_small_hist\": [[0.0001615704649190128, 0.0, 0.0017772751141091401, 0.013491133820737572, 0.04806721331340632, 0.19743910813103346, 0.6184109544775216, 2.0194692410227417, 4.128852445772914, 2.9723310578826196], [0.0, 0.1, 0.2, 0.30000000000000004, 0.4, 0.5, 0.6000000000000001, 0.7000000000000001, 0.8, 0.9, 1.0]], \"feature_type\": \"num\", \"stattest_name\": \"Wasserstein distance (normed)\", \"drift_score\": 0.003480917139511506, \"drift_detected\": false}, \"hillshade_noon\": {\"current_small_hist\": [[9.160468323533315e-05, 0.00018320936647066633, 0.000549628099411999, 0.0020153030311773294, 0.008794049590591983, 0.06293241738267388, 0.33893732797073267, 1.6600600695907073, 4.897735993860322, 4.36798611071039], [0.11811023622047244, 0.2062992125984252, 0.29448818897637796, 0.3826771653543307, 0.47086614173228347, 0.5590551181102362, 0.647244094488189, 0.7354330708661417, 0.8236220472440945, 0.9118110236220472, 1.0]], \"ref_small_hist\": [[0.0002876558277296443, 0.00019177055181976286, 0.0006711969313691699, 0.0030683288291162058, 0.016012841076950186, 0.08859799494073055, 0.4416475808409132, 1.9406220991400929, 5.083070246534628, 4.294989163831324], [0.15748031496062992, 0.24173228346456693, 0.32598425196850395, 0.41023622047244096, 0.494488188976378, 0.578740157480315, 0.662992125984252, 0.7472440944881891, 0.831496062992126, 0.9157480314960631, 1.0]], \"feature_type\": \"num\", \"stattest_name\": \"Wasserstein distance (normed)\", \"drift_score\": 0.003368822277018578, \"drift_detected\": false}, \"horizontal_dist_to_fire_points\": {\"current_small_hist\": [[3.163973564049758, 2.7697048985200903, 1.7989725745759577, 1.2349313020400015, 0.6070730667556272, 0.2819800402356954, 0.12722796517400928, 0.04798451015816181, 0.014289803363513503, 0.0042219873574017115], [0.0, 0.09949892627057981, 0.19899785254115962, 0.2984967788117394, 0.39799570508231924, 0.49749463135289906, 0.5969935576234788, 0.6964924838940587, 0.7959914101646385, 0.8954903364352182, 0.9949892627057981]], \"ref_small_hist\": [[1.1326532376706913, 2.404717441261876, 2.483349121108767, 1.981209972612833, 0.7916725166008928, 0.3774969810606145, 0.30803493983363955, 0.26462116406678077, 0.23776142616242488, 0.06329485065074784], [0.0, 0.09955388261536317, 0.19910776523072635, 0.2986616478460895, 0.3982155304614527, 0.4977694130768159, 0.597323295692179, 0.6968771783075423, 0.7964310609229054, 0.8959849435382685, 0.9955388261536318]], \"feature_type\": \"num\", \"stattest_name\": \"Wasserstein distance (normed)\", \"drift_score\": 0.5111390285136622, \"drift_detected\": true}, \"horizontal_dist_to_hydrology\": {\"current_small_hist\": [[1.0547319949913156, 1.9880437855959932, 1.8245344750979513, 1.4638284121662561, 1.2074968695722423, 0.797915741002544, 0.6506442622288647, 0.6003958476390517, 0.37589368663408335, 0.0365149250716969], [0.0, 0.1, 0.2, 0.30000000000000004, 0.4, 0.5, 0.6000000000000001, 0.7000000000000001, 0.8, 0.9, 1.0]], \"ref_small_hist\": [[3.167265823807408, 2.7484751787373267, 1.8145171062729726, 1.1696893807811934, 0.6113826392535445, 0.2946237427798196, 0.12642888879912756, 0.049036636102920396, 0.014541341842711155, 0.004039261622975321], [0.0, 0.1, 0.2, 0.30000000000000004, 0.4, 0.5, 0.6000000000000001, 0.7000000000000001, 0.8, 0.9, 1.0]], \"feature_type\": \"num\", \"stattest_name\": \"Wasserstein distance (normed)\", \"drift_score\": 1.0089538859009073, \"drift_detected\": true}, \"horizontal_dist_to_roadways\": {\"current_small_hist\": [[0.005673338482276446, 0.018397826221096477, 0.33205239659838, 0.9452592388398602, 1.7323944294094156, 2.9112331183338545, 2.594255592559812, 1.3312893987124705, 0.14693946669096, 0.014993823131730612], [0.0032383419689119286, 0.10291450777202074, 0.20259067357512955, 0.3022668393782384, 0.4019430051813472, 0.501619170984456, 0.6012953367875649, 0.7009715025906736, 0.8006476683937824, 0.9003238341968912, 1.0]], \"ref_small_hist\": [[1.0549111552371513, 1.968398943349236, 1.84207588982076, 1.4888422099349026, 1.2038846791605142, 0.8085974377529644, 0.6649820896219416, 0.588749861303665, 0.3902538035420185, 0.03872499777190406], [0.0, 0.09950821975551497, 0.19901643951102993, 0.2985246592665449, 0.39803287902205986, 0.4975410987775748, 0.5970493185330898, 0.6965575382886048, 0.7960657580441197, 0.8955739777996347, 0.9950821975551496]], \"feature_type\": \"num\", \"stattest_name\": \"Wasserstein distance (normed)\", \"drift_score\": 0.9731216342126204, \"drift_detected\": true}, \"slope\": {\"current_small_hist\": [[1.63603728238478, 3.5609928505069273, 3.2803222320959735, 1.210241042937351, 0.45562113745607297, 0.14570878943329166, 0.01874469846911983, 0.003915559235771702, 0.000666478167790928, 0.0002499293129215978], [0.0, 0.09696969696969697, 0.19393939393939394, 0.2909090909090909, 0.3878787878787879, 0.48484848484848486, 0.5818181818181818, 0.6787878787878788, 0.7757575757575758, 0.8727272727272727, 0.9696969696969697]], \"ref_small_hist\": [[1.5833905562063255, 4.033929797632993, 2.5904592640465314, 1.3020963767823244, 0.35957506967726305, 0.11560366764955356, 0.012360140566304481, 0.0017772751141091412, 0.0004039261622975321, 0.0004039261622975321], [0.0, 0.1, 0.2, 0.30000000000000004, 0.4, 0.5, 0.6000000000000001, 0.7000000000000001, 0.8, 0.9, 1.0]], \"feature_type\": \"num\", \"stattest_name\": \"Wasserstein distance (normed)\", \"drift_score\": 0.0025424575010995717, \"drift_detected\": false}, \"vertical_dist_to_hydrology\": {\"current_small_hist\": [[0.014576009942468611, 0.3340059551021358, 7.102160844467832, 2.0603521326632612, 0.540803096160909, 0.1457600994246863, 0.04364521158909634, 0.007702096162781706, 0.0010766370980232493, 0.0015735465278801316], [0.009043927648578809, 0.1065891472868217, 0.2041343669250646, 0.30167958656330746, 0.3992248062015504, 0.4967700258397933, 0.594315245478036, 0.691860465116279, 0.7894056847545219, 0.8869509043927648, 0.9844961240310078]], \"ref_small_hist\": [[0.01508452037068791, 0.27346775639763243, 6.917631282682461, 2.102425301557598, 0.5353382740156498, 0.14370844138096234, 0.04030648722705316, 0.007947758044771047, 0.001054294434510445, 0.0019463897252500544], [0.0, 0.09961240310077521, 0.19922480620155042, 0.2988372093023256, 0.39844961240310084, 0.4980620155038761, 0.5976744186046512, 0.6972868217054264, 0.7968992248062017, 0.8965116279069769, 0.996124031007752]], \"feature_type\": \"num\", \"stattest_name\": \"Wasserstein distance (normed)\", \"drift_score\": 0.006174674762372877, \"drift_detected\": false}, \"wilderness_area_1\": {\"current_small_hist\": [[60650, 63135], [0.0, 1.0]], \"ref_small_hist\": [[60956, 62829], [0.0, 1.0]], \"feature_type\": \"cat\", \"stattest_name\": \"Jensen-Shannon distance\", \"drift_score\": 0.0017482596205847189, \"drift_detected\": false}, \"wilderness_area_2\": {\"current_small_hist\": [[116868, 6917], [0.0, 1.0]], \"ref_small_hist\": [[116946, 6839], [0.0, 1.0]], \"feature_type\": \"cat\", \"stattest_name\": \"Jensen-Shannon distance\", \"drift_score\": 0.0009725218434017192, \"drift_detected\": false}, \"wilderness_area_3\": {\"current_small_hist\": [[70802, 52983], [0.0, 1.0]], \"ref_small_hist\": [[70404, 53381], [0.0, 1.0]], \"feature_type\": \"cat\", \"stattest_name\": \"Jensen-Shannon distance\", \"drift_score\": 0.002296384362038185, \"drift_detected\": false}, \"wilderness_area_4\": {\"current_small_hist\": [[123035, 750], [0.0, 1.0]], \"ref_small_hist\": [[123049, 736], [0.0, 1.0]], \"feature_type\": \"cat\", \"stattest_name\": \"Jensen-Shannon distance\", \"drift_score\": 0.0005176844708503918, \"drift_detected\": false}, \"cover_type\": {\"current_small_hist\": [[52690, 71095], [0.0, 1.0]], \"ref_small_hist\": [[53052, 70733], [0.0, 1.0]], \"feature_type\": \"cat\", \"stattest_name\": \"Jensen-Shannon distance\", \"drift_score\": 0.0020902063696361713, \"drift_detected\": false}}}}, \"cat_target_drift\": {\"name\": \"cat_target_drift\", \"datetime\": \"2022-08-17 06:07:37.157256\", \"data\": {\"utility_columns\": {\"date\": null, \"id\": null, \"target\": \"cover_type\", \"prediction\": null}, \"cat_feature_names\": [\"wilderness_area_1\", \"wilderness_area_2\", \"wilderness_area_3\", \"wilderness_area_4\"], \"num_feature_names\": [\"aspect\", \"elevation\", \"hillshade_3pm\", \"hillshade_9am\", \"hillshade_noon\", \"horizontal_dist_to_fire_points\", \"horizontal_dist_to_hydrology\", \"horizontal_dist_to_roadways\", \"slope\", \"vertical_dist_to_hydrology\"], \"datetime_feature_names\": [], \"target_names\": null, \"metrics\": {\"target_name\": \"cover_type\", \"target_type\": \"cat\", \"target_drift\": 0.0020902063696361713}}}, \"timestamp\": \"2022-08-17 06:07:40.048249\"}'"
            ],
            "application/vnd.google.colaboratory.intrinsic+json": {
              "type": "string"
            }
          },
          "metadata": {},
          "execution_count": 78
        }
      ]
    },
    {
      "cell_type": "code",
      "source": [
        "# https://jsonformatter.org"
      ],
      "metadata": {
        "id": "MCSzVVIYTJ9E"
      },
      "execution_count": null,
      "outputs": []
    }
  ]
}